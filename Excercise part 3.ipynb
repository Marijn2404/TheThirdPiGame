{
 "cells": [
  {
   "cell_type": "code",
   "execution_count": 135,
   "metadata": {},
   "outputs": [],
   "source": [
    "import scipy.stats as sts\n",
    "import numpy as np\n",
    "import pandas as pd\n",
    "np.random.seed(0)\n",
    "\n",
    "# Estimators\n",
    "def nonParametricOptimalQuantity(distributionData, tau):\n",
    "    optimalQuantity = np.quantile(distributionData,tau)\n",
    "    return optimalQuantity\n",
    "\n",
    "def profit(tau, demand, quantity):\n",
    "    price = 1\n",
    "    cost = 1 - tau\n",
    "    return price * np.minimum(demand,quantity) - cost * quantity\n",
    "\n",
    "def parametricOptimalQuantity(estimators, tau):\n",
    "    optimalQuantity = sts.norm.ppf(tau, loc = estimators[0], scale = estimators[1])\n",
    "    return optimalQuantity\n",
    "\n",
    "# Evaluation of test statistics functions\n",
    "def empericalRootMeanSquaredError(m, optimalQuantities, tau, meanDemand, stdevDemand):\n",
    "    realOptimalQuantity = parametricOptimalQuantity([meanDemand, stdevDemand], tau)\n",
    "    rmse = np.sqrt(1/m * np.sum((optimalQuantities - realOptimalQuantity)**2))\n",
    "    return rmse\n",
    "\n",
    "def empericalRootMeanSquaredErrorRatio(m, parametricOptimalQuantitys, nonParametricOptimalQuantitys, tau, meanDemand, stdevDemand):\n",
    "    return empericalRootMeanSquaredError(m, nonParametricOptimalQuantitys, tau, meanDemand, stdevDemand) / empericalRootMeanSquaredError(m, parametricOptimalQuantitys, tau, meanDemand, stdevDemand)\n",
    "\n",
    "def empericalServiceLevel(m, optimalQuantities, demand):\n",
    "    indicatorFunction = np.where(optimalQuantities.T >= np.array(demand), 1, 0)\n",
    "    return 1 / m * np.sum(indicatorFunction)\n",
    "\n",
    "def empericalProfitLoss(m, optimalQuantities, demand, tau, meanDemand, stdevDemand):\n",
    "    realOptimalQuantity = parametricOptimalQuantity([meanDemand, stdevDemand], tau)\n",
    "    profitReal = profit(tau, meanDemand, realOptimalQuantity)\n",
    "    profitEstimator = profit(tau, demand, optimalQuantities.T)\n",
    "    return 1 / m * np.sum(np.abs((profitReal - profitEstimator) /  profitReal))\n",
    "\n",
    "def empericalProfitLossRatio(m, parametricOptimalQuantitys, nonParametricOptimalQuantitys, demand, tau, meanDemand, stdevDemand):\n",
    "    return empericalProfitLoss(m, nonParametricOptimalQuantitys, demand, tau, meanDemand, stdevDemand) / empericalProfitLoss(m, parametricOptimalQuantitys, demand, tau, meanDemand, stdevDemand)\n",
    "\n",
    "def monteCarlo(m, tau, n, meanDemand, stdevDemand):\n",
    "    # Define arrays\n",
    "    parametricOptimalQuantitys = np.empty((m,1))\n",
    "    nonParametricOptimalQuantitys = np.empty((m,1))\n",
    "    allParameters = np.empty((m,2))\n",
    "\n",
    "    # Compute estimators and optimal quantities\n",
    "    for j in range(m):\n",
    "        distributionData = sts.norm.rvs(loc = meanDemand, scale = stdevDemand, size = n)\n",
    "        allParameters[j] = parameters = sts.norm.fit(distributionData)\n",
    "        parametricOptimalQuantitys[j] = parametricOptimalQuantity(parameters, tau)\n",
    "        nonParametricOptimalQuantitys[j] = nonParametricOptimalQuantity(distributionData, tau)\n",
    "    \n",
    "    demand = allParameters[:,0] # in case of normal\n",
    "\n",
    "    # Compute evaluation statistics\n",
    "    rmse = empericalRootMeanSquaredErrorRatio(m, parametricOptimalQuantitys, nonParametricOptimalQuantitys, tau, meanDemand, stdevDemand)\n",
    "    eslParametric = empericalServiceLevel(m, parametricOptimalQuantitys, demand)\n",
    "    eslNonParametric = empericalServiceLevel(m, nonParametricOptimalQuantitys, demand)\n",
    "    eplr = empericalProfitLossRatio(m, parametricOptimalQuantitys, nonParametricOptimalQuantitys, demand, tau, meanDemand, stdevDemand)\n",
    "    result = {\n",
    "                    'MonteCarlo iterations' : m,\n",
    "                    'Sample Size': n,\n",
    "                    'Target Service Level': tau,\n",
    "                    'Param Values': np.mean(allParameters, axis=0),\n",
    "                    'RMSE Ratio': rmse,\n",
    "                    'SL nonParam': eslParametric,\n",
    "                    'SL Param': eslNonParametric,\n",
    "                    'EPLR': eplr\n",
    "                }\n",
    "    return result\n",
    "\n",
    "\n",
    "\n"
   ]
  },
  {
   "cell_type": "code",
   "execution_count": 136,
   "metadata": {},
   "outputs": [],
   "source": [
    "numberOfMontecarloIterations = 1000\n",
    "stdevDemand = 15\n",
    "meanDemand = 120\n",
    "\n",
    "tauArray = [0.01, 0.05, 0.1, 0.3, 0.5, 0.7, 0.9, 0.95, 0.99]\n",
    "nArray = [10, 50, 100, 200]\n",
    "\n",
    "results = []\n",
    "for tau in tauArray:\n",
    "    for n in nArray:\n",
    "        result = monteCarlo(numberOfMontecarloIterations, tau, n, meanDemand, stdevDemand)\n",
    "        results.append(result)\n"
   ]
  },
  {
   "cell_type": "code",
   "execution_count": 137,
   "metadata": {},
   "outputs": [
    {
     "data": {
      "text/html": [
       "<div>\n",
       "<style scoped>\n",
       "    .dataframe tbody tr th:only-of-type {\n",
       "        vertical-align: middle;\n",
       "    }\n",
       "\n",
       "    .dataframe tbody tr th {\n",
       "        vertical-align: top;\n",
       "    }\n",
       "\n",
       "    .dataframe thead th {\n",
       "        text-align: right;\n",
       "    }\n",
       "</style>\n",
       "<table border=\"1\" class=\"dataframe\">\n",
       "  <thead>\n",
       "    <tr style=\"text-align: right;\">\n",
       "      <th></th>\n",
       "      <th>MonteCarlo iterations</th>\n",
       "      <th>Sample Size</th>\n",
       "      <th>Target Service Level</th>\n",
       "      <th>Param Values</th>\n",
       "      <th>RMSE Ratio</th>\n",
       "      <th>SL nonParam</th>\n",
       "      <th>SL Param</th>\n",
       "      <th>EPLR</th>\n",
       "    </tr>\n",
       "  </thead>\n",
       "  <tbody>\n",
       "    <tr>\n",
       "      <th>0</th>\n",
       "      <td>1000</td>\n",
       "      <td>10</td>\n",
       "      <td>0.01</td>\n",
       "      <td>[119.72349419762591, 13.720362743553597]</td>\n",
       "      <td>1.644325</td>\n",
       "      <td>0.0</td>\n",
       "      <td>0.000</td>\n",
       "      <td>1.771051</td>\n",
       "    </tr>\n",
       "    <tr>\n",
       "      <th>1</th>\n",
       "      <td>1000</td>\n",
       "      <td>50</td>\n",
       "      <td>0.01</td>\n",
       "      <td>[120.0140967807625, 14.740757309842326]</td>\n",
       "      <td>1.640041</td>\n",
       "      <td>0.0</td>\n",
       "      <td>0.000</td>\n",
       "      <td>1.683588</td>\n",
       "    </tr>\n",
       "    <tr>\n",
       "      <th>2</th>\n",
       "      <td>1000</td>\n",
       "      <td>100</td>\n",
       "      <td>0.01</td>\n",
       "      <td>[120.14130607280387, 14.858540982582157]</td>\n",
       "      <td>1.871786</td>\n",
       "      <td>0.0</td>\n",
       "      <td>0.000</td>\n",
       "      <td>1.941332</td>\n",
       "    </tr>\n",
       "    <tr>\n",
       "      <th>3</th>\n",
       "      <td>1000</td>\n",
       "      <td>200</td>\n",
       "      <td>0.01</td>\n",
       "      <td>[119.98878184228278, 14.947526742899928]</td>\n",
       "      <td>1.903595</td>\n",
       "      <td>0.0</td>\n",
       "      <td>0.000</td>\n",
       "      <td>1.944169</td>\n",
       "    </tr>\n",
       "    <tr>\n",
       "      <th>4</th>\n",
       "      <td>1000</td>\n",
       "      <td>10</td>\n",
       "      <td>0.05</td>\n",
       "      <td>[120.11252657015035, 13.742808256866427]</td>\n",
       "      <td>1.207038</td>\n",
       "      <td>0.0</td>\n",
       "      <td>0.000</td>\n",
       "      <td>1.243371</td>\n",
       "    </tr>\n",
       "    <tr>\n",
       "      <th>5</th>\n",
       "      <td>1000</td>\n",
       "      <td>50</td>\n",
       "      <td>0.05</td>\n",
       "      <td>[120.13138641676703, 14.761916927166336]</td>\n",
       "      <td>1.303617</td>\n",
       "      <td>0.0</td>\n",
       "      <td>0.000</td>\n",
       "      <td>1.301021</td>\n",
       "    </tr>\n",
       "    <tr>\n",
       "      <th>6</th>\n",
       "      <td>1000</td>\n",
       "      <td>100</td>\n",
       "      <td>0.05</td>\n",
       "      <td>[120.02817687096912, 14.90756341535131]</td>\n",
       "      <td>1.299937</td>\n",
       "      <td>0.0</td>\n",
       "      <td>0.000</td>\n",
       "      <td>1.305279</td>\n",
       "    </tr>\n",
       "    <tr>\n",
       "      <th>7</th>\n",
       "      <td>1000</td>\n",
       "      <td>200</td>\n",
       "      <td>0.05</td>\n",
       "      <td>[120.0361744493198, 14.940970788928059]</td>\n",
       "      <td>1.360500</td>\n",
       "      <td>0.0</td>\n",
       "      <td>0.000</td>\n",
       "      <td>1.377528</td>\n",
       "    </tr>\n",
       "    <tr>\n",
       "      <th>8</th>\n",
       "      <td>1000</td>\n",
       "      <td>10</td>\n",
       "      <td>0.10</td>\n",
       "      <td>[119.83957962745934, 13.861372332356554]</td>\n",
       "      <td>1.184618</td>\n",
       "      <td>0.0</td>\n",
       "      <td>0.000</td>\n",
       "      <td>1.204583</td>\n",
       "    </tr>\n",
       "    <tr>\n",
       "      <th>9</th>\n",
       "      <td>1000</td>\n",
       "      <td>50</td>\n",
       "      <td>0.10</td>\n",
       "      <td>[119.98330792635866, 14.757411232445705]</td>\n",
       "      <td>1.251779</td>\n",
       "      <td>0.0</td>\n",
       "      <td>0.000</td>\n",
       "      <td>1.261884</td>\n",
       "    </tr>\n",
       "    <tr>\n",
       "      <th>10</th>\n",
       "      <td>1000</td>\n",
       "      <td>100</td>\n",
       "      <td>0.10</td>\n",
       "      <td>[119.98965872193897, 14.879512789143508]</td>\n",
       "      <td>1.252776</td>\n",
       "      <td>0.0</td>\n",
       "      <td>0.000</td>\n",
       "      <td>1.253655</td>\n",
       "    </tr>\n",
       "    <tr>\n",
       "      <th>11</th>\n",
       "      <td>1000</td>\n",
       "      <td>200</td>\n",
       "      <td>0.10</td>\n",
       "      <td>[119.9687723479724, 14.964948391414584]</td>\n",
       "      <td>1.243261</td>\n",
       "      <td>0.0</td>\n",
       "      <td>0.000</td>\n",
       "      <td>1.275132</td>\n",
       "    </tr>\n",
       "    <tr>\n",
       "      <th>12</th>\n",
       "      <td>1000</td>\n",
       "      <td>10</td>\n",
       "      <td>0.30</td>\n",
       "      <td>[119.84959121098824, 13.701508433030748]</td>\n",
       "      <td>1.159709</td>\n",
       "      <td>0.0</td>\n",
       "      <td>0.012</td>\n",
       "      <td>1.185877</td>\n",
       "    </tr>\n",
       "    <tr>\n",
       "      <th>13</th>\n",
       "      <td>1000</td>\n",
       "      <td>50</td>\n",
       "      <td>0.30</td>\n",
       "      <td>[120.05749996063594, 14.7505771592602]</td>\n",
       "      <td>1.186157</td>\n",
       "      <td>0.0</td>\n",
       "      <td>0.000</td>\n",
       "      <td>1.184908</td>\n",
       "    </tr>\n",
       "    <tr>\n",
       "      <th>14</th>\n",
       "      <td>1000</td>\n",
       "      <td>100</td>\n",
       "      <td>0.30</td>\n",
       "      <td>[120.04078095344195, 14.87045024403839]</td>\n",
       "      <td>1.213853</td>\n",
       "      <td>0.0</td>\n",
       "      <td>0.000</td>\n",
       "      <td>1.204119</td>\n",
       "    </tr>\n",
       "    <tr>\n",
       "      <th>15</th>\n",
       "      <td>1000</td>\n",
       "      <td>200</td>\n",
       "      <td>0.30</td>\n",
       "      <td>[120.00097858657574, 14.930700773153655]</td>\n",
       "      <td>1.237644</td>\n",
       "      <td>0.0</td>\n",
       "      <td>0.000</td>\n",
       "      <td>1.241466</td>\n",
       "    </tr>\n",
       "    <tr>\n",
       "      <th>16</th>\n",
       "      <td>1000</td>\n",
       "      <td>10</td>\n",
       "      <td>0.50</td>\n",
       "      <td>[119.92943478919834, 13.488569317960113]</td>\n",
       "      <td>1.174316</td>\n",
       "      <td>1.0</td>\n",
       "      <td>0.480</td>\n",
       "      <td>1.177408</td>\n",
       "    </tr>\n",
       "    <tr>\n",
       "      <th>17</th>\n",
       "      <td>1000</td>\n",
       "      <td>50</td>\n",
       "      <td>0.50</td>\n",
       "      <td>[120.0413166256664, 14.767153291007734]</td>\n",
       "      <td>1.298209</td>\n",
       "      <td>1.0</td>\n",
       "      <td>0.527</td>\n",
       "      <td>1.238853</td>\n",
       "    </tr>\n",
       "    <tr>\n",
       "      <th>18</th>\n",
       "      <td>1000</td>\n",
       "      <td>100</td>\n",
       "      <td>0.50</td>\n",
       "      <td>[119.98822011588769, 14.86065273027922]</td>\n",
       "      <td>1.232634</td>\n",
       "      <td>1.0</td>\n",
       "      <td>0.513</td>\n",
       "      <td>1.244102</td>\n",
       "    </tr>\n",
       "    <tr>\n",
       "      <th>19</th>\n",
       "      <td>1000</td>\n",
       "      <td>200</td>\n",
       "      <td>0.50</td>\n",
       "      <td>[119.95452378529734, 14.943357560552123]</td>\n",
       "      <td>1.243504</td>\n",
       "      <td>1.0</td>\n",
       "      <td>0.486</td>\n",
       "      <td>1.291136</td>\n",
       "    </tr>\n",
       "    <tr>\n",
       "      <th>20</th>\n",
       "      <td>1000</td>\n",
       "      <td>10</td>\n",
       "      <td>0.70</td>\n",
       "      <td>[120.04922549742501, 13.87679430949323]</td>\n",
       "      <td>1.153871</td>\n",
       "      <td>1.0</td>\n",
       "      <td>0.988</td>\n",
       "      <td>1.042597</td>\n",
       "    </tr>\n",
       "    <tr>\n",
       "      <th>21</th>\n",
       "      <td>1000</td>\n",
       "      <td>50</td>\n",
       "      <td>0.70</td>\n",
       "      <td>[120.06860121855223, 14.764585857690614]</td>\n",
       "      <td>1.214927</td>\n",
       "      <td>1.0</td>\n",
       "      <td>1.000</td>\n",
       "      <td>1.062922</td>\n",
       "    </tr>\n",
       "    <tr>\n",
       "      <th>22</th>\n",
       "      <td>1000</td>\n",
       "      <td>100</td>\n",
       "      <td>0.70</td>\n",
       "      <td>[120.08530595683955, 14.896410348827008]</td>\n",
       "      <td>1.228062</td>\n",
       "      <td>1.0</td>\n",
       "      <td>1.000</td>\n",
       "      <td>1.041861</td>\n",
       "    </tr>\n",
       "    <tr>\n",
       "      <th>23</th>\n",
       "      <td>1000</td>\n",
       "      <td>200</td>\n",
       "      <td>0.70</td>\n",
       "      <td>[119.99523774543634, 14.980525213842158]</td>\n",
       "      <td>1.226501</td>\n",
       "      <td>1.0</td>\n",
       "      <td>1.000</td>\n",
       "      <td>1.044873</td>\n",
       "    </tr>\n",
       "    <tr>\n",
       "      <th>24</th>\n",
       "      <td>1000</td>\n",
       "      <td>10</td>\n",
       "      <td>0.90</td>\n",
       "      <td>[119.78409767527008, 13.734437886380496]</td>\n",
       "      <td>1.194252</td>\n",
       "      <td>1.0</td>\n",
       "      <td>1.000</td>\n",
       "      <td>0.993424</td>\n",
       "    </tr>\n",
       "    <tr>\n",
       "      <th>25</th>\n",
       "      <td>1000</td>\n",
       "      <td>50</td>\n",
       "      <td>0.90</td>\n",
       "      <td>[120.0217399828475, 14.842663741233766]</td>\n",
       "      <td>1.235846</td>\n",
       "      <td>1.0</td>\n",
       "      <td>1.000</td>\n",
       "      <td>1.005626</td>\n",
       "    </tr>\n",
       "    <tr>\n",
       "      <th>26</th>\n",
       "      <td>1000</td>\n",
       "      <td>100</td>\n",
       "      <td>0.90</td>\n",
       "      <td>[120.01529244539418, 14.858882098322255]</td>\n",
       "      <td>1.258411</td>\n",
       "      <td>1.0</td>\n",
       "      <td>1.000</td>\n",
       "      <td>1.016055</td>\n",
       "    </tr>\n",
       "    <tr>\n",
       "      <th>27</th>\n",
       "      <td>1000</td>\n",
       "      <td>200</td>\n",
       "      <td>0.90</td>\n",
       "      <td>[119.9206766895904, 14.97471713917474]</td>\n",
       "      <td>1.226835</td>\n",
       "      <td>1.0</td>\n",
       "      <td>1.000</td>\n",
       "      <td>1.005826</td>\n",
       "    </tr>\n",
       "    <tr>\n",
       "      <th>28</th>\n",
       "      <td>1000</td>\n",
       "      <td>10</td>\n",
       "      <td>0.95</td>\n",
       "      <td>[119.96682897421134, 13.615325917961806]</td>\n",
       "      <td>1.200121</td>\n",
       "      <td>1.0</td>\n",
       "      <td>1.000</td>\n",
       "      <td>1.003405</td>\n",
       "    </tr>\n",
       "    <tr>\n",
       "      <th>29</th>\n",
       "      <td>1000</td>\n",
       "      <td>50</td>\n",
       "      <td>0.95</td>\n",
       "      <td>[120.00401846521513, 14.692980819847145]</td>\n",
       "      <td>1.297328</td>\n",
       "      <td>1.0</td>\n",
       "      <td>1.000</td>\n",
       "      <td>1.004954</td>\n",
       "    </tr>\n",
       "    <tr>\n",
       "      <th>30</th>\n",
       "      <td>1000</td>\n",
       "      <td>100</td>\n",
       "      <td>0.95</td>\n",
       "      <td>[119.99048407163224, 14.8597408553566]</td>\n",
       "      <td>1.377953</td>\n",
       "      <td>1.0</td>\n",
       "      <td>1.000</td>\n",
       "      <td>1.006294</td>\n",
       "    </tr>\n",
       "    <tr>\n",
       "      <th>31</th>\n",
       "      <td>1000</td>\n",
       "      <td>200</td>\n",
       "      <td>0.95</td>\n",
       "      <td>[120.01185034959, 14.93851666886047]</td>\n",
       "      <td>1.391247</td>\n",
       "      <td>1.0</td>\n",
       "      <td>1.000</td>\n",
       "      <td>0.999720</td>\n",
       "    </tr>\n",
       "    <tr>\n",
       "      <th>32</th>\n",
       "      <td>1000</td>\n",
       "      <td>10</td>\n",
       "      <td>0.99</td>\n",
       "      <td>[120.05913071081753, 13.864185598083518]</td>\n",
       "      <td>1.591366</td>\n",
       "      <td>1.0</td>\n",
       "      <td>1.000</td>\n",
       "      <td>1.000706</td>\n",
       "    </tr>\n",
       "    <tr>\n",
       "      <th>33</th>\n",
       "      <td>1000</td>\n",
       "      <td>50</td>\n",
       "      <td>0.99</td>\n",
       "      <td>[119.99061399595809, 14.795295840612075]</td>\n",
       "      <td>1.677779</td>\n",
       "      <td>1.0</td>\n",
       "      <td>1.000</td>\n",
       "      <td>1.000730</td>\n",
       "    </tr>\n",
       "    <tr>\n",
       "      <th>34</th>\n",
       "      <td>1000</td>\n",
       "      <td>100</td>\n",
       "      <td>0.99</td>\n",
       "      <td>[119.99875267048328, 14.833330830364352]</td>\n",
       "      <td>1.860122</td>\n",
       "      <td>1.0</td>\n",
       "      <td>1.000</td>\n",
       "      <td>0.999620</td>\n",
       "    </tr>\n",
       "    <tr>\n",
       "      <th>35</th>\n",
       "      <td>1000</td>\n",
       "      <td>200</td>\n",
       "      <td>0.99</td>\n",
       "      <td>[119.99540316363277, 14.915242469522326]</td>\n",
       "      <td>1.977723</td>\n",
       "      <td>1.0</td>\n",
       "      <td>1.000</td>\n",
       "      <td>1.001914</td>\n",
       "    </tr>\n",
       "  </tbody>\n",
       "</table>\n",
       "</div>"
      ],
      "text/plain": [
       "    MonteCarlo iterations  Sample Size  Target Service Level  \\\n",
       "0                    1000           10                  0.01   \n",
       "1                    1000           50                  0.01   \n",
       "2                    1000          100                  0.01   \n",
       "3                    1000          200                  0.01   \n",
       "4                    1000           10                  0.05   \n",
       "5                    1000           50                  0.05   \n",
       "6                    1000          100                  0.05   \n",
       "7                    1000          200                  0.05   \n",
       "8                    1000           10                  0.10   \n",
       "9                    1000           50                  0.10   \n",
       "10                   1000          100                  0.10   \n",
       "11                   1000          200                  0.10   \n",
       "12                   1000           10                  0.30   \n",
       "13                   1000           50                  0.30   \n",
       "14                   1000          100                  0.30   \n",
       "15                   1000          200                  0.30   \n",
       "16                   1000           10                  0.50   \n",
       "17                   1000           50                  0.50   \n",
       "18                   1000          100                  0.50   \n",
       "19                   1000          200                  0.50   \n",
       "20                   1000           10                  0.70   \n",
       "21                   1000           50                  0.70   \n",
       "22                   1000          100                  0.70   \n",
       "23                   1000          200                  0.70   \n",
       "24                   1000           10                  0.90   \n",
       "25                   1000           50                  0.90   \n",
       "26                   1000          100                  0.90   \n",
       "27                   1000          200                  0.90   \n",
       "28                   1000           10                  0.95   \n",
       "29                   1000           50                  0.95   \n",
       "30                   1000          100                  0.95   \n",
       "31                   1000          200                  0.95   \n",
       "32                   1000           10                  0.99   \n",
       "33                   1000           50                  0.99   \n",
       "34                   1000          100                  0.99   \n",
       "35                   1000          200                  0.99   \n",
       "\n",
       "                                Param Values  RMSE Ratio  SL nonParam  \\\n",
       "0   [119.72349419762591, 13.720362743553597]    1.644325          0.0   \n",
       "1    [120.0140967807625, 14.740757309842326]    1.640041          0.0   \n",
       "2   [120.14130607280387, 14.858540982582157]    1.871786          0.0   \n",
       "3   [119.98878184228278, 14.947526742899928]    1.903595          0.0   \n",
       "4   [120.11252657015035, 13.742808256866427]    1.207038          0.0   \n",
       "5   [120.13138641676703, 14.761916927166336]    1.303617          0.0   \n",
       "6    [120.02817687096912, 14.90756341535131]    1.299937          0.0   \n",
       "7    [120.0361744493198, 14.940970788928059]    1.360500          0.0   \n",
       "8   [119.83957962745934, 13.861372332356554]    1.184618          0.0   \n",
       "9   [119.98330792635866, 14.757411232445705]    1.251779          0.0   \n",
       "10  [119.98965872193897, 14.879512789143508]    1.252776          0.0   \n",
       "11   [119.9687723479724, 14.964948391414584]    1.243261          0.0   \n",
       "12  [119.84959121098824, 13.701508433030748]    1.159709          0.0   \n",
       "13    [120.05749996063594, 14.7505771592602]    1.186157          0.0   \n",
       "14   [120.04078095344195, 14.87045024403839]    1.213853          0.0   \n",
       "15  [120.00097858657574, 14.930700773153655]    1.237644          0.0   \n",
       "16  [119.92943478919834, 13.488569317960113]    1.174316          1.0   \n",
       "17   [120.0413166256664, 14.767153291007734]    1.298209          1.0   \n",
       "18   [119.98822011588769, 14.86065273027922]    1.232634          1.0   \n",
       "19  [119.95452378529734, 14.943357560552123]    1.243504          1.0   \n",
       "20   [120.04922549742501, 13.87679430949323]    1.153871          1.0   \n",
       "21  [120.06860121855223, 14.764585857690614]    1.214927          1.0   \n",
       "22  [120.08530595683955, 14.896410348827008]    1.228062          1.0   \n",
       "23  [119.99523774543634, 14.980525213842158]    1.226501          1.0   \n",
       "24  [119.78409767527008, 13.734437886380496]    1.194252          1.0   \n",
       "25   [120.0217399828475, 14.842663741233766]    1.235846          1.0   \n",
       "26  [120.01529244539418, 14.858882098322255]    1.258411          1.0   \n",
       "27    [119.9206766895904, 14.97471713917474]    1.226835          1.0   \n",
       "28  [119.96682897421134, 13.615325917961806]    1.200121          1.0   \n",
       "29  [120.00401846521513, 14.692980819847145]    1.297328          1.0   \n",
       "30    [119.99048407163224, 14.8597408553566]    1.377953          1.0   \n",
       "31      [120.01185034959, 14.93851666886047]    1.391247          1.0   \n",
       "32  [120.05913071081753, 13.864185598083518]    1.591366          1.0   \n",
       "33  [119.99061399595809, 14.795295840612075]    1.677779          1.0   \n",
       "34  [119.99875267048328, 14.833330830364352]    1.860122          1.0   \n",
       "35  [119.99540316363277, 14.915242469522326]    1.977723          1.0   \n",
       "\n",
       "    SL Param      EPLR  \n",
       "0      0.000  1.771051  \n",
       "1      0.000  1.683588  \n",
       "2      0.000  1.941332  \n",
       "3      0.000  1.944169  \n",
       "4      0.000  1.243371  \n",
       "5      0.000  1.301021  \n",
       "6      0.000  1.305279  \n",
       "7      0.000  1.377528  \n",
       "8      0.000  1.204583  \n",
       "9      0.000  1.261884  \n",
       "10     0.000  1.253655  \n",
       "11     0.000  1.275132  \n",
       "12     0.012  1.185877  \n",
       "13     0.000  1.184908  \n",
       "14     0.000  1.204119  \n",
       "15     0.000  1.241466  \n",
       "16     0.480  1.177408  \n",
       "17     0.527  1.238853  \n",
       "18     0.513  1.244102  \n",
       "19     0.486  1.291136  \n",
       "20     0.988  1.042597  \n",
       "21     1.000  1.062922  \n",
       "22     1.000  1.041861  \n",
       "23     1.000  1.044873  \n",
       "24     1.000  0.993424  \n",
       "25     1.000  1.005626  \n",
       "26     1.000  1.016055  \n",
       "27     1.000  1.005826  \n",
       "28     1.000  1.003405  \n",
       "29     1.000  1.004954  \n",
       "30     1.000  1.006294  \n",
       "31     1.000  0.999720  \n",
       "32     1.000  1.000706  \n",
       "33     1.000  1.000730  \n",
       "34     1.000  0.999620  \n",
       "35     1.000  1.001914  "
      ]
     },
     "execution_count": 137,
     "metadata": {},
     "output_type": "execute_result"
    }
   ],
   "source": [
    "df = pd.DataFrame(results)\n",
    "df"
   ]
  },
  {
   "attachments": {},
   "cell_type": "markdown",
   "metadata": {},
   "source": []
  },
  {
   "cell_type": "code",
   "execution_count": 138,
   "metadata": {},
   "outputs": [
    {
     "data": {
      "application/vnd.plotly.v1+json": {
       "config": {
        "plotlyServerURL": "https://plot.ly"
       },
       "data": [
        {
         "hovertemplate": "Target Service Level=%{x}<br>RMSE Ratio=%{y}<br>Sample Size=%{marker.color}<extra></extra>",
         "legendgroup": "",
         "marker": {
          "color": [
           10,
           50,
           100,
           200,
           10,
           50,
           100,
           200,
           10,
           50,
           100,
           200,
           10,
           50,
           100,
           200,
           10,
           50,
           100,
           200,
           10,
           50,
           100,
           200,
           10,
           50,
           100,
           200,
           10,
           50,
           100,
           200,
           10,
           50,
           100,
           200
          ],
          "coloraxis": "coloraxis",
          "symbol": "circle"
         },
         "mode": "markers",
         "name": "",
         "orientation": "v",
         "showlegend": false,
         "type": "scatter",
         "x": [
          0.01,
          0.01,
          0.01,
          0.01,
          0.05,
          0.05,
          0.05,
          0.05,
          0.1,
          0.1,
          0.1,
          0.1,
          0.3,
          0.3,
          0.3,
          0.3,
          0.5,
          0.5,
          0.5,
          0.5,
          0.7,
          0.7,
          0.7,
          0.7,
          0.9,
          0.9,
          0.9,
          0.9,
          0.95,
          0.95,
          0.95,
          0.95,
          0.99,
          0.99,
          0.99,
          0.99
         ],
         "xaxis": "x",
         "y": [
          1.644324937911838,
          1.6400409893874677,
          1.8717863551872493,
          1.9035947920620877,
          1.2070384307636612,
          1.3036174034218189,
          1.299936523137394,
          1.3604999537890345,
          1.1846183549712275,
          1.2517788912662118,
          1.2527762409755483,
          1.2432612800323795,
          1.159709017862049,
          1.1861569726641232,
          1.2138527481167027,
          1.237643765359757,
          1.1743163491968378,
          1.2982085999384252,
          1.2326343930969506,
          1.2435035232307219,
          1.153871122168314,
          1.214927443217577,
          1.2280615458260677,
          1.2265013831461566,
          1.1942516467449864,
          1.2358458709908897,
          1.2584110587291917,
          1.2268350341781893,
          1.2001205349184272,
          1.2973283675577003,
          1.3779531766224427,
          1.3912473761294297,
          1.5913655526114958,
          1.6777789854660445,
          1.8601218764022536,
          1.977723097410946
         ],
         "yaxis": "y"
        }
       ],
       "layout": {
        "coloraxis": {
         "colorbar": {
          "title": {
           "text": "Sample Size"
          }
         },
         "colorscale": [
          [
           0,
           "#0d0887"
          ],
          [
           0.1111111111111111,
           "#46039f"
          ],
          [
           0.2222222222222222,
           "#7201a8"
          ],
          [
           0.3333333333333333,
           "#9c179e"
          ],
          [
           0.4444444444444444,
           "#bd3786"
          ],
          [
           0.5555555555555556,
           "#d8576b"
          ],
          [
           0.6666666666666666,
           "#ed7953"
          ],
          [
           0.7777777777777778,
           "#fb9f3a"
          ],
          [
           0.8888888888888888,
           "#fdca26"
          ],
          [
           1,
           "#f0f921"
          ]
         ]
        },
        "legend": {
         "tracegroupgap": 0
        },
        "template": {
         "data": {
          "bar": [
           {
            "error_x": {
             "color": "#2a3f5f"
            },
            "error_y": {
             "color": "#2a3f5f"
            },
            "marker": {
             "line": {
              "color": "#E5ECF6",
              "width": 0.5
             },
             "pattern": {
              "fillmode": "overlay",
              "size": 10,
              "solidity": 0.2
             }
            },
            "type": "bar"
           }
          ],
          "barpolar": [
           {
            "marker": {
             "line": {
              "color": "#E5ECF6",
              "width": 0.5
             },
             "pattern": {
              "fillmode": "overlay",
              "size": 10,
              "solidity": 0.2
             }
            },
            "type": "barpolar"
           }
          ],
          "carpet": [
           {
            "aaxis": {
             "endlinecolor": "#2a3f5f",
             "gridcolor": "white",
             "linecolor": "white",
             "minorgridcolor": "white",
             "startlinecolor": "#2a3f5f"
            },
            "baxis": {
             "endlinecolor": "#2a3f5f",
             "gridcolor": "white",
             "linecolor": "white",
             "minorgridcolor": "white",
             "startlinecolor": "#2a3f5f"
            },
            "type": "carpet"
           }
          ],
          "choropleth": [
           {
            "colorbar": {
             "outlinewidth": 0,
             "ticks": ""
            },
            "type": "choropleth"
           }
          ],
          "contour": [
           {
            "colorbar": {
             "outlinewidth": 0,
             "ticks": ""
            },
            "colorscale": [
             [
              0,
              "#0d0887"
             ],
             [
              0.1111111111111111,
              "#46039f"
             ],
             [
              0.2222222222222222,
              "#7201a8"
             ],
             [
              0.3333333333333333,
              "#9c179e"
             ],
             [
              0.4444444444444444,
              "#bd3786"
             ],
             [
              0.5555555555555556,
              "#d8576b"
             ],
             [
              0.6666666666666666,
              "#ed7953"
             ],
             [
              0.7777777777777778,
              "#fb9f3a"
             ],
             [
              0.8888888888888888,
              "#fdca26"
             ],
             [
              1,
              "#f0f921"
             ]
            ],
            "type": "contour"
           }
          ],
          "contourcarpet": [
           {
            "colorbar": {
             "outlinewidth": 0,
             "ticks": ""
            },
            "type": "contourcarpet"
           }
          ],
          "heatmap": [
           {
            "colorbar": {
             "outlinewidth": 0,
             "ticks": ""
            },
            "colorscale": [
             [
              0,
              "#0d0887"
             ],
             [
              0.1111111111111111,
              "#46039f"
             ],
             [
              0.2222222222222222,
              "#7201a8"
             ],
             [
              0.3333333333333333,
              "#9c179e"
             ],
             [
              0.4444444444444444,
              "#bd3786"
             ],
             [
              0.5555555555555556,
              "#d8576b"
             ],
             [
              0.6666666666666666,
              "#ed7953"
             ],
             [
              0.7777777777777778,
              "#fb9f3a"
             ],
             [
              0.8888888888888888,
              "#fdca26"
             ],
             [
              1,
              "#f0f921"
             ]
            ],
            "type": "heatmap"
           }
          ],
          "heatmapgl": [
           {
            "colorbar": {
             "outlinewidth": 0,
             "ticks": ""
            },
            "colorscale": [
             [
              0,
              "#0d0887"
             ],
             [
              0.1111111111111111,
              "#46039f"
             ],
             [
              0.2222222222222222,
              "#7201a8"
             ],
             [
              0.3333333333333333,
              "#9c179e"
             ],
             [
              0.4444444444444444,
              "#bd3786"
             ],
             [
              0.5555555555555556,
              "#d8576b"
             ],
             [
              0.6666666666666666,
              "#ed7953"
             ],
             [
              0.7777777777777778,
              "#fb9f3a"
             ],
             [
              0.8888888888888888,
              "#fdca26"
             ],
             [
              1,
              "#f0f921"
             ]
            ],
            "type": "heatmapgl"
           }
          ],
          "histogram": [
           {
            "marker": {
             "pattern": {
              "fillmode": "overlay",
              "size": 10,
              "solidity": 0.2
             }
            },
            "type": "histogram"
           }
          ],
          "histogram2d": [
           {
            "colorbar": {
             "outlinewidth": 0,
             "ticks": ""
            },
            "colorscale": [
             [
              0,
              "#0d0887"
             ],
             [
              0.1111111111111111,
              "#46039f"
             ],
             [
              0.2222222222222222,
              "#7201a8"
             ],
             [
              0.3333333333333333,
              "#9c179e"
             ],
             [
              0.4444444444444444,
              "#bd3786"
             ],
             [
              0.5555555555555556,
              "#d8576b"
             ],
             [
              0.6666666666666666,
              "#ed7953"
             ],
             [
              0.7777777777777778,
              "#fb9f3a"
             ],
             [
              0.8888888888888888,
              "#fdca26"
             ],
             [
              1,
              "#f0f921"
             ]
            ],
            "type": "histogram2d"
           }
          ],
          "histogram2dcontour": [
           {
            "colorbar": {
             "outlinewidth": 0,
             "ticks": ""
            },
            "colorscale": [
             [
              0,
              "#0d0887"
             ],
             [
              0.1111111111111111,
              "#46039f"
             ],
             [
              0.2222222222222222,
              "#7201a8"
             ],
             [
              0.3333333333333333,
              "#9c179e"
             ],
             [
              0.4444444444444444,
              "#bd3786"
             ],
             [
              0.5555555555555556,
              "#d8576b"
             ],
             [
              0.6666666666666666,
              "#ed7953"
             ],
             [
              0.7777777777777778,
              "#fb9f3a"
             ],
             [
              0.8888888888888888,
              "#fdca26"
             ],
             [
              1,
              "#f0f921"
             ]
            ],
            "type": "histogram2dcontour"
           }
          ],
          "mesh3d": [
           {
            "colorbar": {
             "outlinewidth": 0,
             "ticks": ""
            },
            "type": "mesh3d"
           }
          ],
          "parcoords": [
           {
            "line": {
             "colorbar": {
              "outlinewidth": 0,
              "ticks": ""
             }
            },
            "type": "parcoords"
           }
          ],
          "pie": [
           {
            "automargin": true,
            "type": "pie"
           }
          ],
          "scatter": [
           {
            "fillpattern": {
             "fillmode": "overlay",
             "size": 10,
             "solidity": 0.2
            },
            "type": "scatter"
           }
          ],
          "scatter3d": [
           {
            "line": {
             "colorbar": {
              "outlinewidth": 0,
              "ticks": ""
             }
            },
            "marker": {
             "colorbar": {
              "outlinewidth": 0,
              "ticks": ""
             }
            },
            "type": "scatter3d"
           }
          ],
          "scattercarpet": [
           {
            "marker": {
             "colorbar": {
              "outlinewidth": 0,
              "ticks": ""
             }
            },
            "type": "scattercarpet"
           }
          ],
          "scattergeo": [
           {
            "marker": {
             "colorbar": {
              "outlinewidth": 0,
              "ticks": ""
             }
            },
            "type": "scattergeo"
           }
          ],
          "scattergl": [
           {
            "marker": {
             "colorbar": {
              "outlinewidth": 0,
              "ticks": ""
             }
            },
            "type": "scattergl"
           }
          ],
          "scattermapbox": [
           {
            "marker": {
             "colorbar": {
              "outlinewidth": 0,
              "ticks": ""
             }
            },
            "type": "scattermapbox"
           }
          ],
          "scatterpolar": [
           {
            "marker": {
             "colorbar": {
              "outlinewidth": 0,
              "ticks": ""
             }
            },
            "type": "scatterpolar"
           }
          ],
          "scatterpolargl": [
           {
            "marker": {
             "colorbar": {
              "outlinewidth": 0,
              "ticks": ""
             }
            },
            "type": "scatterpolargl"
           }
          ],
          "scatterternary": [
           {
            "marker": {
             "colorbar": {
              "outlinewidth": 0,
              "ticks": ""
             }
            },
            "type": "scatterternary"
           }
          ],
          "surface": [
           {
            "colorbar": {
             "outlinewidth": 0,
             "ticks": ""
            },
            "colorscale": [
             [
              0,
              "#0d0887"
             ],
             [
              0.1111111111111111,
              "#46039f"
             ],
             [
              0.2222222222222222,
              "#7201a8"
             ],
             [
              0.3333333333333333,
              "#9c179e"
             ],
             [
              0.4444444444444444,
              "#bd3786"
             ],
             [
              0.5555555555555556,
              "#d8576b"
             ],
             [
              0.6666666666666666,
              "#ed7953"
             ],
             [
              0.7777777777777778,
              "#fb9f3a"
             ],
             [
              0.8888888888888888,
              "#fdca26"
             ],
             [
              1,
              "#f0f921"
             ]
            ],
            "type": "surface"
           }
          ],
          "table": [
           {
            "cells": {
             "fill": {
              "color": "#EBF0F8"
             },
             "line": {
              "color": "white"
             }
            },
            "header": {
             "fill": {
              "color": "#C8D4E3"
             },
             "line": {
              "color": "white"
             }
            },
            "type": "table"
           }
          ]
         },
         "layout": {
          "annotationdefaults": {
           "arrowcolor": "#2a3f5f",
           "arrowhead": 0,
           "arrowwidth": 1
          },
          "autotypenumbers": "strict",
          "coloraxis": {
           "colorbar": {
            "outlinewidth": 0,
            "ticks": ""
           }
          },
          "colorscale": {
           "diverging": [
            [
             0,
             "#8e0152"
            ],
            [
             0.1,
             "#c51b7d"
            ],
            [
             0.2,
             "#de77ae"
            ],
            [
             0.3,
             "#f1b6da"
            ],
            [
             0.4,
             "#fde0ef"
            ],
            [
             0.5,
             "#f7f7f7"
            ],
            [
             0.6,
             "#e6f5d0"
            ],
            [
             0.7,
             "#b8e186"
            ],
            [
             0.8,
             "#7fbc41"
            ],
            [
             0.9,
             "#4d9221"
            ],
            [
             1,
             "#276419"
            ]
           ],
           "sequential": [
            [
             0,
             "#0d0887"
            ],
            [
             0.1111111111111111,
             "#46039f"
            ],
            [
             0.2222222222222222,
             "#7201a8"
            ],
            [
             0.3333333333333333,
             "#9c179e"
            ],
            [
             0.4444444444444444,
             "#bd3786"
            ],
            [
             0.5555555555555556,
             "#d8576b"
            ],
            [
             0.6666666666666666,
             "#ed7953"
            ],
            [
             0.7777777777777778,
             "#fb9f3a"
            ],
            [
             0.8888888888888888,
             "#fdca26"
            ],
            [
             1,
             "#f0f921"
            ]
           ],
           "sequentialminus": [
            [
             0,
             "#0d0887"
            ],
            [
             0.1111111111111111,
             "#46039f"
            ],
            [
             0.2222222222222222,
             "#7201a8"
            ],
            [
             0.3333333333333333,
             "#9c179e"
            ],
            [
             0.4444444444444444,
             "#bd3786"
            ],
            [
             0.5555555555555556,
             "#d8576b"
            ],
            [
             0.6666666666666666,
             "#ed7953"
            ],
            [
             0.7777777777777778,
             "#fb9f3a"
            ],
            [
             0.8888888888888888,
             "#fdca26"
            ],
            [
             1,
             "#f0f921"
            ]
           ]
          },
          "colorway": [
           "#636efa",
           "#EF553B",
           "#00cc96",
           "#ab63fa",
           "#FFA15A",
           "#19d3f3",
           "#FF6692",
           "#B6E880",
           "#FF97FF",
           "#FECB52"
          ],
          "font": {
           "color": "#2a3f5f"
          },
          "geo": {
           "bgcolor": "white",
           "lakecolor": "white",
           "landcolor": "#E5ECF6",
           "showlakes": true,
           "showland": true,
           "subunitcolor": "white"
          },
          "hoverlabel": {
           "align": "left"
          },
          "hovermode": "closest",
          "mapbox": {
           "style": "light"
          },
          "paper_bgcolor": "white",
          "plot_bgcolor": "#E5ECF6",
          "polar": {
           "angularaxis": {
            "gridcolor": "white",
            "linecolor": "white",
            "ticks": ""
           },
           "bgcolor": "#E5ECF6",
           "radialaxis": {
            "gridcolor": "white",
            "linecolor": "white",
            "ticks": ""
           }
          },
          "scene": {
           "xaxis": {
            "backgroundcolor": "#E5ECF6",
            "gridcolor": "white",
            "gridwidth": 2,
            "linecolor": "white",
            "showbackground": true,
            "ticks": "",
            "zerolinecolor": "white"
           },
           "yaxis": {
            "backgroundcolor": "#E5ECF6",
            "gridcolor": "white",
            "gridwidth": 2,
            "linecolor": "white",
            "showbackground": true,
            "ticks": "",
            "zerolinecolor": "white"
           },
           "zaxis": {
            "backgroundcolor": "#E5ECF6",
            "gridcolor": "white",
            "gridwidth": 2,
            "linecolor": "white",
            "showbackground": true,
            "ticks": "",
            "zerolinecolor": "white"
           }
          },
          "shapedefaults": {
           "line": {
            "color": "#2a3f5f"
           }
          },
          "ternary": {
           "aaxis": {
            "gridcolor": "white",
            "linecolor": "white",
            "ticks": ""
           },
           "baxis": {
            "gridcolor": "white",
            "linecolor": "white",
            "ticks": ""
           },
           "bgcolor": "#E5ECF6",
           "caxis": {
            "gridcolor": "white",
            "linecolor": "white",
            "ticks": ""
           }
          },
          "title": {
           "x": 0.05
          },
          "xaxis": {
           "automargin": true,
           "gridcolor": "white",
           "linecolor": "white",
           "ticks": "",
           "title": {
            "standoff": 15
           },
           "zerolinecolor": "white",
           "zerolinewidth": 2
          },
          "yaxis": {
           "automargin": true,
           "gridcolor": "white",
           "linecolor": "white",
           "ticks": "",
           "title": {
            "standoff": 15
           },
           "zerolinecolor": "white",
           "zerolinewidth": 2
          }
         }
        },
        "title": {
         "text": "TSL vs RMSE, higher RMSE means parametric performs better"
        },
        "xaxis": {
         "anchor": "y",
         "domain": [
          0,
          1
         ],
         "title": {
          "text": "Target Service Level"
         }
        },
        "yaxis": {
         "anchor": "x",
         "domain": [
          0,
          1
         ],
         "title": {
          "text": "RMSE Ratio"
         }
        }
       }
      }
     },
     "metadata": {},
     "output_type": "display_data"
    },
    {
     "data": {
      "application/vnd.plotly.v1+json": {
       "config": {
        "plotlyServerURL": "https://plot.ly"
       },
       "data": [
        {
         "hovertemplate": "Target Service Level=%{x}<br>EPLR=%{y}<br>Sample Size=%{marker.color}<extra></extra>",
         "legendgroup": "",
         "marker": {
          "color": [
           10,
           50,
           100,
           200,
           10,
           50,
           100,
           200,
           10,
           50,
           100,
           200,
           10,
           50,
           100,
           200,
           10,
           50,
           100,
           200,
           10,
           50,
           100,
           200,
           10,
           50,
           100,
           200,
           10,
           50,
           100,
           200,
           10,
           50,
           100,
           200
          ],
          "coloraxis": "coloraxis",
          "symbol": "circle"
         },
         "mode": "markers",
         "name": "",
         "orientation": "v",
         "showlegend": false,
         "type": "scatter",
         "x": [
          0.01,
          0.01,
          0.01,
          0.01,
          0.05,
          0.05,
          0.05,
          0.05,
          0.1,
          0.1,
          0.1,
          0.1,
          0.3,
          0.3,
          0.3,
          0.3,
          0.5,
          0.5,
          0.5,
          0.5,
          0.7,
          0.7,
          0.7,
          0.7,
          0.9,
          0.9,
          0.9,
          0.9,
          0.95,
          0.95,
          0.95,
          0.95,
          0.99,
          0.99,
          0.99,
          0.99
         ],
         "xaxis": "x",
         "y": [
          1.7710512346330303,
          1.6835878513425804,
          1.9413319495034886,
          1.9441693644672606,
          1.2433709202287428,
          1.3010205161271988,
          1.3052792561900184,
          1.3775280631083315,
          1.20458337228591,
          1.2618836297371816,
          1.2536545434900632,
          1.275131942729308,
          1.1858765155382647,
          1.1849076055839003,
          1.2041194968955282,
          1.2414655092607472,
          1.1774077573470791,
          1.238852988334162,
          1.2441021678193451,
          1.2911356501226776,
          1.0425974054867178,
          1.0629216842501208,
          1.041860915000492,
          1.0448727866762524,
          0.9934244043859463,
          1.0056264271483217,
          1.0160546662441625,
          1.005825863645828,
          1.0034049661171294,
          1.004953573070276,
          1.0062943245568894,
          0.9997195044054492,
          1.0007059551275113,
          1.000729561368169,
          0.9996202743404397,
          1.0019140469219232
         ],
         "yaxis": "y"
        }
       ],
       "layout": {
        "coloraxis": {
         "colorbar": {
          "title": {
           "text": "Sample Size"
          }
         },
         "colorscale": [
          [
           0,
           "#0d0887"
          ],
          [
           0.1111111111111111,
           "#46039f"
          ],
          [
           0.2222222222222222,
           "#7201a8"
          ],
          [
           0.3333333333333333,
           "#9c179e"
          ],
          [
           0.4444444444444444,
           "#bd3786"
          ],
          [
           0.5555555555555556,
           "#d8576b"
          ],
          [
           0.6666666666666666,
           "#ed7953"
          ],
          [
           0.7777777777777778,
           "#fb9f3a"
          ],
          [
           0.8888888888888888,
           "#fdca26"
          ],
          [
           1,
           "#f0f921"
          ]
         ]
        },
        "legend": {
         "tracegroupgap": 0
        },
        "template": {
         "data": {
          "bar": [
           {
            "error_x": {
             "color": "#2a3f5f"
            },
            "error_y": {
             "color": "#2a3f5f"
            },
            "marker": {
             "line": {
              "color": "#E5ECF6",
              "width": 0.5
             },
             "pattern": {
              "fillmode": "overlay",
              "size": 10,
              "solidity": 0.2
             }
            },
            "type": "bar"
           }
          ],
          "barpolar": [
           {
            "marker": {
             "line": {
              "color": "#E5ECF6",
              "width": 0.5
             },
             "pattern": {
              "fillmode": "overlay",
              "size": 10,
              "solidity": 0.2
             }
            },
            "type": "barpolar"
           }
          ],
          "carpet": [
           {
            "aaxis": {
             "endlinecolor": "#2a3f5f",
             "gridcolor": "white",
             "linecolor": "white",
             "minorgridcolor": "white",
             "startlinecolor": "#2a3f5f"
            },
            "baxis": {
             "endlinecolor": "#2a3f5f",
             "gridcolor": "white",
             "linecolor": "white",
             "minorgridcolor": "white",
             "startlinecolor": "#2a3f5f"
            },
            "type": "carpet"
           }
          ],
          "choropleth": [
           {
            "colorbar": {
             "outlinewidth": 0,
             "ticks": ""
            },
            "type": "choropleth"
           }
          ],
          "contour": [
           {
            "colorbar": {
             "outlinewidth": 0,
             "ticks": ""
            },
            "colorscale": [
             [
              0,
              "#0d0887"
             ],
             [
              0.1111111111111111,
              "#46039f"
             ],
             [
              0.2222222222222222,
              "#7201a8"
             ],
             [
              0.3333333333333333,
              "#9c179e"
             ],
             [
              0.4444444444444444,
              "#bd3786"
             ],
             [
              0.5555555555555556,
              "#d8576b"
             ],
             [
              0.6666666666666666,
              "#ed7953"
             ],
             [
              0.7777777777777778,
              "#fb9f3a"
             ],
             [
              0.8888888888888888,
              "#fdca26"
             ],
             [
              1,
              "#f0f921"
             ]
            ],
            "type": "contour"
           }
          ],
          "contourcarpet": [
           {
            "colorbar": {
             "outlinewidth": 0,
             "ticks": ""
            },
            "type": "contourcarpet"
           }
          ],
          "heatmap": [
           {
            "colorbar": {
             "outlinewidth": 0,
             "ticks": ""
            },
            "colorscale": [
             [
              0,
              "#0d0887"
             ],
             [
              0.1111111111111111,
              "#46039f"
             ],
             [
              0.2222222222222222,
              "#7201a8"
             ],
             [
              0.3333333333333333,
              "#9c179e"
             ],
             [
              0.4444444444444444,
              "#bd3786"
             ],
             [
              0.5555555555555556,
              "#d8576b"
             ],
             [
              0.6666666666666666,
              "#ed7953"
             ],
             [
              0.7777777777777778,
              "#fb9f3a"
             ],
             [
              0.8888888888888888,
              "#fdca26"
             ],
             [
              1,
              "#f0f921"
             ]
            ],
            "type": "heatmap"
           }
          ],
          "heatmapgl": [
           {
            "colorbar": {
             "outlinewidth": 0,
             "ticks": ""
            },
            "colorscale": [
             [
              0,
              "#0d0887"
             ],
             [
              0.1111111111111111,
              "#46039f"
             ],
             [
              0.2222222222222222,
              "#7201a8"
             ],
             [
              0.3333333333333333,
              "#9c179e"
             ],
             [
              0.4444444444444444,
              "#bd3786"
             ],
             [
              0.5555555555555556,
              "#d8576b"
             ],
             [
              0.6666666666666666,
              "#ed7953"
             ],
             [
              0.7777777777777778,
              "#fb9f3a"
             ],
             [
              0.8888888888888888,
              "#fdca26"
             ],
             [
              1,
              "#f0f921"
             ]
            ],
            "type": "heatmapgl"
           }
          ],
          "histogram": [
           {
            "marker": {
             "pattern": {
              "fillmode": "overlay",
              "size": 10,
              "solidity": 0.2
             }
            },
            "type": "histogram"
           }
          ],
          "histogram2d": [
           {
            "colorbar": {
             "outlinewidth": 0,
             "ticks": ""
            },
            "colorscale": [
             [
              0,
              "#0d0887"
             ],
             [
              0.1111111111111111,
              "#46039f"
             ],
             [
              0.2222222222222222,
              "#7201a8"
             ],
             [
              0.3333333333333333,
              "#9c179e"
             ],
             [
              0.4444444444444444,
              "#bd3786"
             ],
             [
              0.5555555555555556,
              "#d8576b"
             ],
             [
              0.6666666666666666,
              "#ed7953"
             ],
             [
              0.7777777777777778,
              "#fb9f3a"
             ],
             [
              0.8888888888888888,
              "#fdca26"
             ],
             [
              1,
              "#f0f921"
             ]
            ],
            "type": "histogram2d"
           }
          ],
          "histogram2dcontour": [
           {
            "colorbar": {
             "outlinewidth": 0,
             "ticks": ""
            },
            "colorscale": [
             [
              0,
              "#0d0887"
             ],
             [
              0.1111111111111111,
              "#46039f"
             ],
             [
              0.2222222222222222,
              "#7201a8"
             ],
             [
              0.3333333333333333,
              "#9c179e"
             ],
             [
              0.4444444444444444,
              "#bd3786"
             ],
             [
              0.5555555555555556,
              "#d8576b"
             ],
             [
              0.6666666666666666,
              "#ed7953"
             ],
             [
              0.7777777777777778,
              "#fb9f3a"
             ],
             [
              0.8888888888888888,
              "#fdca26"
             ],
             [
              1,
              "#f0f921"
             ]
            ],
            "type": "histogram2dcontour"
           }
          ],
          "mesh3d": [
           {
            "colorbar": {
             "outlinewidth": 0,
             "ticks": ""
            },
            "type": "mesh3d"
           }
          ],
          "parcoords": [
           {
            "line": {
             "colorbar": {
              "outlinewidth": 0,
              "ticks": ""
             }
            },
            "type": "parcoords"
           }
          ],
          "pie": [
           {
            "automargin": true,
            "type": "pie"
           }
          ],
          "scatter": [
           {
            "fillpattern": {
             "fillmode": "overlay",
             "size": 10,
             "solidity": 0.2
            },
            "type": "scatter"
           }
          ],
          "scatter3d": [
           {
            "line": {
             "colorbar": {
              "outlinewidth": 0,
              "ticks": ""
             }
            },
            "marker": {
             "colorbar": {
              "outlinewidth": 0,
              "ticks": ""
             }
            },
            "type": "scatter3d"
           }
          ],
          "scattercarpet": [
           {
            "marker": {
             "colorbar": {
              "outlinewidth": 0,
              "ticks": ""
             }
            },
            "type": "scattercarpet"
           }
          ],
          "scattergeo": [
           {
            "marker": {
             "colorbar": {
              "outlinewidth": 0,
              "ticks": ""
             }
            },
            "type": "scattergeo"
           }
          ],
          "scattergl": [
           {
            "marker": {
             "colorbar": {
              "outlinewidth": 0,
              "ticks": ""
             }
            },
            "type": "scattergl"
           }
          ],
          "scattermapbox": [
           {
            "marker": {
             "colorbar": {
              "outlinewidth": 0,
              "ticks": ""
             }
            },
            "type": "scattermapbox"
           }
          ],
          "scatterpolar": [
           {
            "marker": {
             "colorbar": {
              "outlinewidth": 0,
              "ticks": ""
             }
            },
            "type": "scatterpolar"
           }
          ],
          "scatterpolargl": [
           {
            "marker": {
             "colorbar": {
              "outlinewidth": 0,
              "ticks": ""
             }
            },
            "type": "scatterpolargl"
           }
          ],
          "scatterternary": [
           {
            "marker": {
             "colorbar": {
              "outlinewidth": 0,
              "ticks": ""
             }
            },
            "type": "scatterternary"
           }
          ],
          "surface": [
           {
            "colorbar": {
             "outlinewidth": 0,
             "ticks": ""
            },
            "colorscale": [
             [
              0,
              "#0d0887"
             ],
             [
              0.1111111111111111,
              "#46039f"
             ],
             [
              0.2222222222222222,
              "#7201a8"
             ],
             [
              0.3333333333333333,
              "#9c179e"
             ],
             [
              0.4444444444444444,
              "#bd3786"
             ],
             [
              0.5555555555555556,
              "#d8576b"
             ],
             [
              0.6666666666666666,
              "#ed7953"
             ],
             [
              0.7777777777777778,
              "#fb9f3a"
             ],
             [
              0.8888888888888888,
              "#fdca26"
             ],
             [
              1,
              "#f0f921"
             ]
            ],
            "type": "surface"
           }
          ],
          "table": [
           {
            "cells": {
             "fill": {
              "color": "#EBF0F8"
             },
             "line": {
              "color": "white"
             }
            },
            "header": {
             "fill": {
              "color": "#C8D4E3"
             },
             "line": {
              "color": "white"
             }
            },
            "type": "table"
           }
          ]
         },
         "layout": {
          "annotationdefaults": {
           "arrowcolor": "#2a3f5f",
           "arrowhead": 0,
           "arrowwidth": 1
          },
          "autotypenumbers": "strict",
          "coloraxis": {
           "colorbar": {
            "outlinewidth": 0,
            "ticks": ""
           }
          },
          "colorscale": {
           "diverging": [
            [
             0,
             "#8e0152"
            ],
            [
             0.1,
             "#c51b7d"
            ],
            [
             0.2,
             "#de77ae"
            ],
            [
             0.3,
             "#f1b6da"
            ],
            [
             0.4,
             "#fde0ef"
            ],
            [
             0.5,
             "#f7f7f7"
            ],
            [
             0.6,
             "#e6f5d0"
            ],
            [
             0.7,
             "#b8e186"
            ],
            [
             0.8,
             "#7fbc41"
            ],
            [
             0.9,
             "#4d9221"
            ],
            [
             1,
             "#276419"
            ]
           ],
           "sequential": [
            [
             0,
             "#0d0887"
            ],
            [
             0.1111111111111111,
             "#46039f"
            ],
            [
             0.2222222222222222,
             "#7201a8"
            ],
            [
             0.3333333333333333,
             "#9c179e"
            ],
            [
             0.4444444444444444,
             "#bd3786"
            ],
            [
             0.5555555555555556,
             "#d8576b"
            ],
            [
             0.6666666666666666,
             "#ed7953"
            ],
            [
             0.7777777777777778,
             "#fb9f3a"
            ],
            [
             0.8888888888888888,
             "#fdca26"
            ],
            [
             1,
             "#f0f921"
            ]
           ],
           "sequentialminus": [
            [
             0,
             "#0d0887"
            ],
            [
             0.1111111111111111,
             "#46039f"
            ],
            [
             0.2222222222222222,
             "#7201a8"
            ],
            [
             0.3333333333333333,
             "#9c179e"
            ],
            [
             0.4444444444444444,
             "#bd3786"
            ],
            [
             0.5555555555555556,
             "#d8576b"
            ],
            [
             0.6666666666666666,
             "#ed7953"
            ],
            [
             0.7777777777777778,
             "#fb9f3a"
            ],
            [
             0.8888888888888888,
             "#fdca26"
            ],
            [
             1,
             "#f0f921"
            ]
           ]
          },
          "colorway": [
           "#636efa",
           "#EF553B",
           "#00cc96",
           "#ab63fa",
           "#FFA15A",
           "#19d3f3",
           "#FF6692",
           "#B6E880",
           "#FF97FF",
           "#FECB52"
          ],
          "font": {
           "color": "#2a3f5f"
          },
          "geo": {
           "bgcolor": "white",
           "lakecolor": "white",
           "landcolor": "#E5ECF6",
           "showlakes": true,
           "showland": true,
           "subunitcolor": "white"
          },
          "hoverlabel": {
           "align": "left"
          },
          "hovermode": "closest",
          "mapbox": {
           "style": "light"
          },
          "paper_bgcolor": "white",
          "plot_bgcolor": "#E5ECF6",
          "polar": {
           "angularaxis": {
            "gridcolor": "white",
            "linecolor": "white",
            "ticks": ""
           },
           "bgcolor": "#E5ECF6",
           "radialaxis": {
            "gridcolor": "white",
            "linecolor": "white",
            "ticks": ""
           }
          },
          "scene": {
           "xaxis": {
            "backgroundcolor": "#E5ECF6",
            "gridcolor": "white",
            "gridwidth": 2,
            "linecolor": "white",
            "showbackground": true,
            "ticks": "",
            "zerolinecolor": "white"
           },
           "yaxis": {
            "backgroundcolor": "#E5ECF6",
            "gridcolor": "white",
            "gridwidth": 2,
            "linecolor": "white",
            "showbackground": true,
            "ticks": "",
            "zerolinecolor": "white"
           },
           "zaxis": {
            "backgroundcolor": "#E5ECF6",
            "gridcolor": "white",
            "gridwidth": 2,
            "linecolor": "white",
            "showbackground": true,
            "ticks": "",
            "zerolinecolor": "white"
           }
          },
          "shapedefaults": {
           "line": {
            "color": "#2a3f5f"
           }
          },
          "ternary": {
           "aaxis": {
            "gridcolor": "white",
            "linecolor": "white",
            "ticks": ""
           },
           "baxis": {
            "gridcolor": "white",
            "linecolor": "white",
            "ticks": ""
           },
           "bgcolor": "#E5ECF6",
           "caxis": {
            "gridcolor": "white",
            "linecolor": "white",
            "ticks": ""
           }
          },
          "title": {
           "x": 0.05
          },
          "xaxis": {
           "automargin": true,
           "gridcolor": "white",
           "linecolor": "white",
           "ticks": "",
           "title": {
            "standoff": 15
           },
           "zerolinecolor": "white",
           "zerolinewidth": 2
          },
          "yaxis": {
           "automargin": true,
           "gridcolor": "white",
           "linecolor": "white",
           "ticks": "",
           "title": {
            "standoff": 15
           },
           "zerolinecolor": "white",
           "zerolinewidth": 2
          }
         }
        },
        "title": {
         "text": "TSL vs EPLR, higher EPLR means non parametric has a higher profit loss"
        },
        "xaxis": {
         "anchor": "y",
         "domain": [
          0,
          1
         ],
         "title": {
          "text": "Target Service Level"
         }
        },
        "yaxis": {
         "anchor": "x",
         "domain": [
          0,
          1
         ],
         "title": {
          "text": "EPLR"
         }
        }
       }
      }
     },
     "metadata": {},
     "output_type": "display_data"
    }
   ],
   "source": [
    "import plotly.express as px\n",
    "\n",
    "df_f = df[df[\"Sample Size\"]==200]\n",
    "\n",
    "fig = px.scatter(df, x='Target Service Level', y='RMSE Ratio', color=\"Sample Size\", title=\"TSL vs RMSE, higher RMSE means parametric performs better\")\n",
    "fig.show()\n",
    "\n",
    "fig = px.scatter(df, x='Target Service Level', y='EPLR', color=\"Sample Size\", title=\"TSL vs EPLR, higher EPLR means non parametric has a higher profit loss\")\n",
    "fig.show()\n",
    "\n",
    "#fig = px.scatter(df, x='Target Service Level', y='RMSE Ratio', color=\"Sample Size\", title=\"TSL vs RMSE, higher RMSE means parametric performs better\")\n",
    "#fig.show()\n"
   ]
  }
 ],
 "metadata": {
  "kernelspec": {
   "display_name": "Python 3",
   "language": "python",
   "name": "python3"
  },
  "language_info": {
   "codemirror_mode": {
    "name": "ipython",
    "version": 3
   },
   "file_extension": ".py",
   "mimetype": "text/x-python",
   "name": "python",
   "nbconvert_exporter": "python",
   "pygments_lexer": "ipython3",
   "version": "3.11.4"
  },
  "orig_nbformat": 4
 },
 "nbformat": 4,
 "nbformat_minor": 2
}
