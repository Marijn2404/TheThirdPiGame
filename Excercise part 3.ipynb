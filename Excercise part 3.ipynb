{
 "cells": [
  {
   "cell_type": "code",
   "execution_count": 266,
   "metadata": {},
   "outputs": [],
   "source": [
    "import scipy.stats as sts\n",
    "import numpy as np\n",
    "import pandas as pd\n",
    "import plotly.express as px\n",
    "from scipy.integrate import quad\n",
    "from time import time\n",
    "from numba import njit\n",
    "\n",
    "\n",
    "np.random.seed(0)\n",
    "def timer_func(func):\n",
    "    # This function shows the execution time of \n",
    "    # the function object passed\n",
    "    def wrap_func(*args, **kwargs):\n",
    "        t1 = time()\n",
    "        result = func(*args, **kwargs)\n",
    "        t2 = time()\n",
    "        print(f'Function {func.__name__!r} executed in {(t2-t1):.4f}s')\n",
    "        return result\n",
    "    return wrap_func\n",
    "\n",
    "# Estimators\n",
    "def nonParametricOptimalQuantity(distributionData, tau):\n",
    "    optimalQuantity = np.quantile(distributionData,tau)\n",
    "    return optimalQuantity\n",
    "\n",
    "def parametricOptimalQuantity(tau, dist, parameters):\n",
    "    optimalQuantity = dist.ppf(tau, *parameters)\n",
    "    return optimalQuantity\n",
    "\n",
    "def realParamatricOptimalQuantity(tau, realDist):\n",
    "    optimalQuantity = realDist.ppf(tau)\n",
    "    return optimalQuantity\n",
    "\n",
    "# Optimized code for integrating the normal distribution (very quickly), @njit is compiling the python code to C\n",
    "\n",
    "@njit\n",
    "def normal_pdf(x, mean, std_dev):\n",
    "    coefficient = 1 / (std_dev * np.sqrt(2 * np.pi))\n",
    "    exponent = -((x - mean) ** 2) / (2 * std_dev ** 2)\n",
    "    return x * coefficient * np.exp(exponent)\n",
    "\n",
    "def integrate_normal(Q_star,parameters):\n",
    "    return quad(normal_pdf,0,Q_star,args=(parameters[0], parameters[1]))[0]\n",
    "\n",
    "#################################################################################################################\n",
    "\n",
    "def calculateOptimalProfit(tau,Q_star,dist, paramaters):\n",
    "    price = 1\n",
    "    cost = 1 - tau\n",
    "\n",
    "    integral_value = integrate_normal(Q_star, paramaters)\n",
    "    t1 = price * integral_value\n",
    "    t2 = price * Q_star * dist.sf(Q_star)\n",
    "    t3 = cost * Q_star\n",
    "    return t1 + t2 - t3\n",
    "\n",
    "# Evaluation of test statistics functions\n",
    "def empericalRootMeanSquaredError(m, optimalQuantities, realOptimalQuantity):\n",
    "    rmse = np.sqrt(1/m * np.sum((optimalQuantities - realOptimalQuantity)**2))\n",
    "    return rmse\n",
    "\n",
    "def empericalRootMeanSquaredErrorRatio(m, parametricOptimalQuantitys, nonParametricOptimalQuantitys, realOptimalQuantity):\n",
    "    return empericalRootMeanSquaredError(m, nonParametricOptimalQuantitys, realOptimalQuantity) / empericalRootMeanSquaredError(m, parametricOptimalQuantitys, realOptimalQuantity)\n",
    "\n",
    "def empericalProfitLoss(m, profitEstimator, profitReal):\n",
    "    return 1 / m * np.sum(np.abs((profitReal - profitEstimator) /  profitReal))\n",
    "\n",
    "def empericalProfitLossRatio(m, parametricExpectedProfit, nonParametricExpectedProfit, realExpectedProfit):\n",
    "    return empericalProfitLoss(m, nonParametricExpectedProfit, realExpectedProfit) / empericalProfitLoss(m, parametricExpectedProfit, realExpectedProfit)\n",
    "\n",
    "def empericalServiceLevel(m, optimalQuantities, demand):\n",
    "    indicatorFunction = np.where(optimalQuantities.T >= demand.T, 1, 0)\n",
    "    return 1 / m * np.sum(indicatorFunction)\n",
    "\n",
    "def fit(feature):\n",
    "    return np.mean(feature), np.std(feature)\n",
    "\n",
    "def monteCarlo(m, tau, n, params):\n",
    "    # Distribution that the paramatric estimator will be using\n",
    "    dist = sts.norm\n",
    "    # How the data is really distributed, when changing remember to change the PDF for the precompiled function.\n",
    "    distReal = sts.norm(loc=params[0], scale=params[1])\n",
    "\n",
    "    demand = np.empty((m,1))\n",
    "    realOptimalQuantity = np.empty((m,1))\n",
    "    parametricOptimalQuantitys = np.empty((m,1))\n",
    "    nonParametricOptimalQuantitys = np.empty((m,1))\n",
    "    allParameters = np.empty((m,2))\n",
    "    parametricExpectedProfits = np.empty((m,1))\n",
    "    nonParametricExpectedProfits = np.empty((m,1))\n",
    "\n",
    "    # Compute estimators and optimal quantities\n",
    "    for j in range(m):\n",
    "        distributionData = distReal.rvs(size = n)\n",
    "        allParameters[j] = parameters = fit(distributionData)\n",
    "        demand[j] = parameters[0] # in case of a normal distribution\n",
    "        parametricOptimalQuantitys[j] = parametricOptimalQuantity(tau, dist, parameters)\n",
    "        nonParametricOptimalQuantitys[j] = nonParametricOptimalQuantity(distributionData, tau)\n",
    "    \n",
    "    # We use Numba to compile the python code to C\n",
    "        parametricExpectedProfits[j] = calculateOptimalProfit(tau, parametricOptimalQuantitys[j], distReal, params)\n",
    "        nonParametricExpectedProfits[j] = calculateOptimalProfit(tau, nonParametricOptimalQuantitys[j], distReal, params)\n",
    "    \n",
    "    \n",
    "    realOptimalQuantity = realParamatricOptimalQuantity(tau, distReal)\n",
    "    realExpectedProfit = calculateOptimalProfit(tau, realOptimalQuantity, distReal, params)\n",
    "\n",
    "    eplr = empericalProfitLossRatio(m, parametricExpectedProfits, nonParametricExpectedProfits, realExpectedProfit)\n",
    "\n",
    "    # Compute evaluation statistics\n",
    "    rmse = empericalRootMeanSquaredErrorRatio(m, parametricOptimalQuantitys, nonParametricOptimalQuantitys, realOptimalQuantity)\n",
    "    eslParametric = empericalServiceLevel(m, parametricOptimalQuantitys, demand)\n",
    "    eslNonParametric = empericalServiceLevel(m, nonParametricOptimalQuantitys, demand)\n",
    "    \n",
    "    result = {\n",
    "                    'MonteCarlo iterations' : m,\n",
    "                    'Sample Size': n,\n",
    "                    'Target Service Level': tau,\n",
    "                    'Param Values': np.mean(allParameters, axis=0),\n",
    "                    #'real optimal quantity' : realOptimalQuantity,\n",
    "                    #'Parm optimal quantity': np.mean(parametricOptimalQuantitys),\n",
    "                    #'nonParm optimal quantity': np.mean(nonParametricOptimalQuantitys),\n",
    "                    #'real optimal profit' : realExpectedProfit,\n",
    "                    #'Parm optimal profit': np.mean(parametricExpectedProfits),\n",
    "                    #'nonParm optimal profit': np.mean(nonParametricExpectedProfits),\n",
    "                    'RMSE Ratio': rmse,\n",
    "                    'SL nonParam': eslParametric,\n",
    "                    'SL Param': eslNonParametric,\n",
    "                    'EPLR': eplr\n",
    "                }\n",
    "    return result"
   ]
  },
  {
   "cell_type": "code",
   "execution_count": 267,
   "metadata": {},
   "outputs": [],
   "source": [
    "numberOfMontecarloIterations = 1000\n",
    "stdevDemand = 15\n",
    "meanDemand = 120\n",
    "\n",
    "tauArray = [0.01, 0.05, 0.1, 0.3, 0.5, 0.7, 0.9, 0.95, 0.99]\n",
    "nArray = [10, 50, 100, 200]\n",
    "\n",
    "results = []\n",
    "for tau in tauArray:\n",
    "    for n in nArray:\n",
    "        result = monteCarlo(numberOfMontecarloIterations, tau, n, [meanDemand, stdevDemand])\n",
    "        results.append(result)\n"
   ]
  },
  {
   "cell_type": "code",
   "execution_count": 268,
   "metadata": {},
   "outputs": [
    {
     "data": {
      "text/html": [
       "<div>\n",
       "<style scoped>\n",
       "    .dataframe tbody tr th:only-of-type {\n",
       "        vertical-align: middle;\n",
       "    }\n",
       "\n",
       "    .dataframe tbody tr th {\n",
       "        vertical-align: top;\n",
       "    }\n",
       "\n",
       "    .dataframe thead th {\n",
       "        text-align: right;\n",
       "    }\n",
       "</style>\n",
       "<table border=\"1\" class=\"dataframe\">\n",
       "  <thead>\n",
       "    <tr style=\"text-align: right;\">\n",
       "      <th></th>\n",
       "      <th>MonteCarlo iterations</th>\n",
       "      <th>Sample Size</th>\n",
       "      <th>Target Service Level</th>\n",
       "      <th>Param Values</th>\n",
       "      <th>RMSE Ratio</th>\n",
       "      <th>SL nonParam</th>\n",
       "      <th>SL Param</th>\n",
       "      <th>EPLR</th>\n",
       "    </tr>\n",
       "  </thead>\n",
       "  <tbody>\n",
       "    <tr>\n",
       "      <th>0</th>\n",
       "      <td>1000</td>\n",
       "      <td>10</td>\n",
       "      <td>0.01</td>\n",
       "      <td>[119.72349419762591, 13.720362743553597]</td>\n",
       "      <td>1.644325</td>\n",
       "      <td>0.0</td>\n",
       "      <td>0.000</td>\n",
       "      <td>4.257576</td>\n",
       "    </tr>\n",
       "    <tr>\n",
       "      <th>1</th>\n",
       "      <td>1000</td>\n",
       "      <td>50</td>\n",
       "      <td>0.01</td>\n",
       "      <td>[120.0140967807625, 14.740757309842326]</td>\n",
       "      <td>1.640041</td>\n",
       "      <td>0.0</td>\n",
       "      <td>0.000</td>\n",
       "      <td>3.872835</td>\n",
       "    </tr>\n",
       "    <tr>\n",
       "      <th>2</th>\n",
       "      <td>1000</td>\n",
       "      <td>100</td>\n",
       "      <td>0.01</td>\n",
       "      <td>[120.14130607280387, 14.858540982582157]</td>\n",
       "      <td>1.871786</td>\n",
       "      <td>0.0</td>\n",
       "      <td>0.000</td>\n",
       "      <td>4.532355</td>\n",
       "    </tr>\n",
       "    <tr>\n",
       "      <th>3</th>\n",
       "      <td>1000</td>\n",
       "      <td>200</td>\n",
       "      <td>0.01</td>\n",
       "      <td>[119.98878184228278, 14.947526742899928]</td>\n",
       "      <td>1.903595</td>\n",
       "      <td>0.0</td>\n",
       "      <td>0.000</td>\n",
       "      <td>4.060870</td>\n",
       "    </tr>\n",
       "    <tr>\n",
       "      <th>4</th>\n",
       "      <td>1000</td>\n",
       "      <td>10</td>\n",
       "      <td>0.05</td>\n",
       "      <td>[120.11252657015035, 13.742808256866427]</td>\n",
       "      <td>1.207038</td>\n",
       "      <td>0.0</td>\n",
       "      <td>0.000</td>\n",
       "      <td>1.737075</td>\n",
       "    </tr>\n",
       "    <tr>\n",
       "      <th>5</th>\n",
       "      <td>1000</td>\n",
       "      <td>50</td>\n",
       "      <td>0.05</td>\n",
       "      <td>[120.13138641676703, 14.761916927166336]</td>\n",
       "      <td>1.303617</td>\n",
       "      <td>0.0</td>\n",
       "      <td>0.000</td>\n",
       "      <td>1.864352</td>\n",
       "    </tr>\n",
       "    <tr>\n",
       "      <th>6</th>\n",
       "      <td>1000</td>\n",
       "      <td>100</td>\n",
       "      <td>0.05</td>\n",
       "      <td>[120.02817687096912, 14.90756341535131]</td>\n",
       "      <td>1.299937</td>\n",
       "      <td>0.0</td>\n",
       "      <td>0.000</td>\n",
       "      <td>1.792269</td>\n",
       "    </tr>\n",
       "    <tr>\n",
       "      <th>7</th>\n",
       "      <td>1000</td>\n",
       "      <td>200</td>\n",
       "      <td>0.05</td>\n",
       "      <td>[120.0361744493198, 14.940970788928059]</td>\n",
       "      <td>1.360500</td>\n",
       "      <td>0.0</td>\n",
       "      <td>0.000</td>\n",
       "      <td>1.864932</td>\n",
       "    </tr>\n",
       "    <tr>\n",
       "      <th>8</th>\n",
       "      <td>1000</td>\n",
       "      <td>10</td>\n",
       "      <td>0.10</td>\n",
       "      <td>[119.83957962745934, 13.861372332356554]</td>\n",
       "      <td>1.184618</td>\n",
       "      <td>0.0</td>\n",
       "      <td>0.000</td>\n",
       "      <td>1.530542</td>\n",
       "    </tr>\n",
       "    <tr>\n",
       "      <th>9</th>\n",
       "      <td>1000</td>\n",
       "      <td>50</td>\n",
       "      <td>0.10</td>\n",
       "      <td>[119.98330792635866, 14.757411232445705]</td>\n",
       "      <td>1.251779</td>\n",
       "      <td>0.0</td>\n",
       "      <td>0.000</td>\n",
       "      <td>1.614967</td>\n",
       "    </tr>\n",
       "    <tr>\n",
       "      <th>10</th>\n",
       "      <td>1000</td>\n",
       "      <td>100</td>\n",
       "      <td>0.10</td>\n",
       "      <td>[119.98965872193897, 14.879512789143508]</td>\n",
       "      <td>1.252776</td>\n",
       "      <td>0.0</td>\n",
       "      <td>0.000</td>\n",
       "      <td>1.591111</td>\n",
       "    </tr>\n",
       "    <tr>\n",
       "      <th>11</th>\n",
       "      <td>1000</td>\n",
       "      <td>200</td>\n",
       "      <td>0.10</td>\n",
       "      <td>[119.9687723479724, 14.964948391414584]</td>\n",
       "      <td>1.243261</td>\n",
       "      <td>0.0</td>\n",
       "      <td>0.000</td>\n",
       "      <td>1.566665</td>\n",
       "    </tr>\n",
       "    <tr>\n",
       "      <th>12</th>\n",
       "      <td>1000</td>\n",
       "      <td>10</td>\n",
       "      <td>0.30</td>\n",
       "      <td>[119.84959121098824, 13.701508433030748]</td>\n",
       "      <td>1.159709</td>\n",
       "      <td>0.0</td>\n",
       "      <td>0.012</td>\n",
       "      <td>1.345357</td>\n",
       "    </tr>\n",
       "    <tr>\n",
       "      <th>13</th>\n",
       "      <td>1000</td>\n",
       "      <td>50</td>\n",
       "      <td>0.30</td>\n",
       "      <td>[120.05749996063594, 14.7505771592602]</td>\n",
       "      <td>1.186157</td>\n",
       "      <td>0.0</td>\n",
       "      <td>0.000</td>\n",
       "      <td>1.405337</td>\n",
       "    </tr>\n",
       "    <tr>\n",
       "      <th>14</th>\n",
       "      <td>1000</td>\n",
       "      <td>100</td>\n",
       "      <td>0.30</td>\n",
       "      <td>[120.04078095344195, 14.87045024403839]</td>\n",
       "      <td>1.213853</td>\n",
       "      <td>0.0</td>\n",
       "      <td>0.000</td>\n",
       "      <td>1.473726</td>\n",
       "    </tr>\n",
       "    <tr>\n",
       "      <th>15</th>\n",
       "      <td>1000</td>\n",
       "      <td>200</td>\n",
       "      <td>0.30</td>\n",
       "      <td>[120.00097858657574, 14.930700773153655]</td>\n",
       "      <td>1.237644</td>\n",
       "      <td>0.0</td>\n",
       "      <td>0.000</td>\n",
       "      <td>1.528383</td>\n",
       "    </tr>\n",
       "    <tr>\n",
       "      <th>16</th>\n",
       "      <td>1000</td>\n",
       "      <td>10</td>\n",
       "      <td>0.50</td>\n",
       "      <td>[119.92943478919834, 13.488569317960113]</td>\n",
       "      <td>1.174316</td>\n",
       "      <td>1.0</td>\n",
       "      <td>0.480</td>\n",
       "      <td>1.367251</td>\n",
       "    </tr>\n",
       "    <tr>\n",
       "      <th>17</th>\n",
       "      <td>1000</td>\n",
       "      <td>50</td>\n",
       "      <td>0.50</td>\n",
       "      <td>[120.0413166256664, 14.767153291007734]</td>\n",
       "      <td>1.298209</td>\n",
       "      <td>1.0</td>\n",
       "      <td>0.527</td>\n",
       "      <td>1.679889</td>\n",
       "    </tr>\n",
       "    <tr>\n",
       "      <th>18</th>\n",
       "      <td>1000</td>\n",
       "      <td>100</td>\n",
       "      <td>0.50</td>\n",
       "      <td>[119.98822011588769, 14.86065273027922]</td>\n",
       "      <td>1.232634</td>\n",
       "      <td>1.0</td>\n",
       "      <td>0.513</td>\n",
       "      <td>1.517589</td>\n",
       "    </tr>\n",
       "    <tr>\n",
       "      <th>19</th>\n",
       "      <td>1000</td>\n",
       "      <td>200</td>\n",
       "      <td>0.50</td>\n",
       "      <td>[119.95452378529734, 14.943357560552123]</td>\n",
       "      <td>1.243504</td>\n",
       "      <td>1.0</td>\n",
       "      <td>0.486</td>\n",
       "      <td>1.545315</td>\n",
       "    </tr>\n",
       "    <tr>\n",
       "      <th>20</th>\n",
       "      <td>1000</td>\n",
       "      <td>10</td>\n",
       "      <td>0.70</td>\n",
       "      <td>[120.04922549742501, 13.87679430949323]</td>\n",
       "      <td>1.153871</td>\n",
       "      <td>1.0</td>\n",
       "      <td>0.988</td>\n",
       "      <td>1.335145</td>\n",
       "    </tr>\n",
       "    <tr>\n",
       "      <th>21</th>\n",
       "      <td>1000</td>\n",
       "      <td>50</td>\n",
       "      <td>0.70</td>\n",
       "      <td>[120.06860121855223, 14.764585857690614]</td>\n",
       "      <td>1.214927</td>\n",
       "      <td>1.0</td>\n",
       "      <td>1.000</td>\n",
       "      <td>1.475692</td>\n",
       "    </tr>\n",
       "    <tr>\n",
       "      <th>22</th>\n",
       "      <td>1000</td>\n",
       "      <td>100</td>\n",
       "      <td>0.70</td>\n",
       "      <td>[120.08530595683955, 14.896410348827008]</td>\n",
       "      <td>1.228062</td>\n",
       "      <td>1.0</td>\n",
       "      <td>1.000</td>\n",
       "      <td>1.506695</td>\n",
       "    </tr>\n",
       "    <tr>\n",
       "      <th>23</th>\n",
       "      <td>1000</td>\n",
       "      <td>200</td>\n",
       "      <td>0.70</td>\n",
       "      <td>[119.99523774543634, 14.980525213842158]</td>\n",
       "      <td>1.226501</td>\n",
       "      <td>1.0</td>\n",
       "      <td>1.000</td>\n",
       "      <td>1.505280</td>\n",
       "    </tr>\n",
       "    <tr>\n",
       "      <th>24</th>\n",
       "      <td>1000</td>\n",
       "      <td>10</td>\n",
       "      <td>0.90</td>\n",
       "      <td>[119.78409767527008, 13.734437886380496]</td>\n",
       "      <td>1.194252</td>\n",
       "      <td>1.0</td>\n",
       "      <td>1.000</td>\n",
       "      <td>1.551575</td>\n",
       "    </tr>\n",
       "    <tr>\n",
       "      <th>25</th>\n",
       "      <td>1000</td>\n",
       "      <td>50</td>\n",
       "      <td>0.90</td>\n",
       "      <td>[120.0217399828475, 14.842663741233766]</td>\n",
       "      <td>1.235846</td>\n",
       "      <td>1.0</td>\n",
       "      <td>1.000</td>\n",
       "      <td>1.587082</td>\n",
       "    </tr>\n",
       "    <tr>\n",
       "      <th>26</th>\n",
       "      <td>1000</td>\n",
       "      <td>100</td>\n",
       "      <td>0.90</td>\n",
       "      <td>[120.01529244539418, 14.858882098322255]</td>\n",
       "      <td>1.258411</td>\n",
       "      <td>1.0</td>\n",
       "      <td>1.000</td>\n",
       "      <td>1.605199</td>\n",
       "    </tr>\n",
       "    <tr>\n",
       "      <th>27</th>\n",
       "      <td>1000</td>\n",
       "      <td>200</td>\n",
       "      <td>0.90</td>\n",
       "      <td>[119.9206766895904, 14.97471713917474]</td>\n",
       "      <td>1.226835</td>\n",
       "      <td>1.0</td>\n",
       "      <td>1.000</td>\n",
       "      <td>1.513910</td>\n",
       "    </tr>\n",
       "    <tr>\n",
       "      <th>28</th>\n",
       "      <td>1000</td>\n",
       "      <td>10</td>\n",
       "      <td>0.95</td>\n",
       "      <td>[119.96682897421134, 13.615325917961806]</td>\n",
       "      <td>1.200121</td>\n",
       "      <td>1.0</td>\n",
       "      <td>1.000</td>\n",
       "      <td>1.685063</td>\n",
       "    </tr>\n",
       "    <tr>\n",
       "      <th>29</th>\n",
       "      <td>1000</td>\n",
       "      <td>50</td>\n",
       "      <td>0.95</td>\n",
       "      <td>[120.00401846521513, 14.692980819847145]</td>\n",
       "      <td>1.297328</td>\n",
       "      <td>1.0</td>\n",
       "      <td>1.000</td>\n",
       "      <td>1.799170</td>\n",
       "    </tr>\n",
       "    <tr>\n",
       "      <th>30</th>\n",
       "      <td>1000</td>\n",
       "      <td>100</td>\n",
       "      <td>0.95</td>\n",
       "      <td>[119.99048407163224, 14.8597408553566]</td>\n",
       "      <td>1.377953</td>\n",
       "      <td>1.0</td>\n",
       "      <td>1.000</td>\n",
       "      <td>1.998736</td>\n",
       "    </tr>\n",
       "    <tr>\n",
       "      <th>31</th>\n",
       "      <td>1000</td>\n",
       "      <td>200</td>\n",
       "      <td>0.95</td>\n",
       "      <td>[120.01185034959, 14.93851666886047]</td>\n",
       "      <td>1.391247</td>\n",
       "      <td>1.0</td>\n",
       "      <td>1.000</td>\n",
       "      <td>1.962726</td>\n",
       "    </tr>\n",
       "    <tr>\n",
       "      <th>32</th>\n",
       "      <td>1000</td>\n",
       "      <td>10</td>\n",
       "      <td>0.99</td>\n",
       "      <td>[120.05913071081753, 13.864185598083518]</td>\n",
       "      <td>1.591366</td>\n",
       "      <td>1.0</td>\n",
       "      <td>1.000</td>\n",
       "      <td>4.131746</td>\n",
       "    </tr>\n",
       "    <tr>\n",
       "      <th>33</th>\n",
       "      <td>1000</td>\n",
       "      <td>50</td>\n",
       "      <td>0.99</td>\n",
       "      <td>[119.99061399595809, 14.795295840612075]</td>\n",
       "      <td>1.677779</td>\n",
       "      <td>1.0</td>\n",
       "      <td>1.000</td>\n",
       "      <td>3.971741</td>\n",
       "    </tr>\n",
       "    <tr>\n",
       "      <th>34</th>\n",
       "      <td>1000</td>\n",
       "      <td>100</td>\n",
       "      <td>0.99</td>\n",
       "      <td>[119.99875267048328, 14.833330830364352]</td>\n",
       "      <td>1.860122</td>\n",
       "      <td>1.0</td>\n",
       "      <td>1.000</td>\n",
       "      <td>4.489914</td>\n",
       "    </tr>\n",
       "    <tr>\n",
       "      <th>35</th>\n",
       "      <td>1000</td>\n",
       "      <td>200</td>\n",
       "      <td>0.99</td>\n",
       "      <td>[119.99540316363277, 14.915242469522326]</td>\n",
       "      <td>1.977723</td>\n",
       "      <td>1.0</td>\n",
       "      <td>1.000</td>\n",
       "      <td>4.494604</td>\n",
       "    </tr>\n",
       "  </tbody>\n",
       "</table>\n",
       "</div>"
      ],
      "text/plain": [
       "    MonteCarlo iterations  Sample Size  Target Service Level  \\\n",
       "0                    1000           10                  0.01   \n",
       "1                    1000           50                  0.01   \n",
       "2                    1000          100                  0.01   \n",
       "3                    1000          200                  0.01   \n",
       "4                    1000           10                  0.05   \n",
       "5                    1000           50                  0.05   \n",
       "6                    1000          100                  0.05   \n",
       "7                    1000          200                  0.05   \n",
       "8                    1000           10                  0.10   \n",
       "9                    1000           50                  0.10   \n",
       "10                   1000          100                  0.10   \n",
       "11                   1000          200                  0.10   \n",
       "12                   1000           10                  0.30   \n",
       "13                   1000           50                  0.30   \n",
       "14                   1000          100                  0.30   \n",
       "15                   1000          200                  0.30   \n",
       "16                   1000           10                  0.50   \n",
       "17                   1000           50                  0.50   \n",
       "18                   1000          100                  0.50   \n",
       "19                   1000          200                  0.50   \n",
       "20                   1000           10                  0.70   \n",
       "21                   1000           50                  0.70   \n",
       "22                   1000          100                  0.70   \n",
       "23                   1000          200                  0.70   \n",
       "24                   1000           10                  0.90   \n",
       "25                   1000           50                  0.90   \n",
       "26                   1000          100                  0.90   \n",
       "27                   1000          200                  0.90   \n",
       "28                   1000           10                  0.95   \n",
       "29                   1000           50                  0.95   \n",
       "30                   1000          100                  0.95   \n",
       "31                   1000          200                  0.95   \n",
       "32                   1000           10                  0.99   \n",
       "33                   1000           50                  0.99   \n",
       "34                   1000          100                  0.99   \n",
       "35                   1000          200                  0.99   \n",
       "\n",
       "                                Param Values  RMSE Ratio  SL nonParam  \\\n",
       "0   [119.72349419762591, 13.720362743553597]    1.644325          0.0   \n",
       "1    [120.0140967807625, 14.740757309842326]    1.640041          0.0   \n",
       "2   [120.14130607280387, 14.858540982582157]    1.871786          0.0   \n",
       "3   [119.98878184228278, 14.947526742899928]    1.903595          0.0   \n",
       "4   [120.11252657015035, 13.742808256866427]    1.207038          0.0   \n",
       "5   [120.13138641676703, 14.761916927166336]    1.303617          0.0   \n",
       "6    [120.02817687096912, 14.90756341535131]    1.299937          0.0   \n",
       "7    [120.0361744493198, 14.940970788928059]    1.360500          0.0   \n",
       "8   [119.83957962745934, 13.861372332356554]    1.184618          0.0   \n",
       "9   [119.98330792635866, 14.757411232445705]    1.251779          0.0   \n",
       "10  [119.98965872193897, 14.879512789143508]    1.252776          0.0   \n",
       "11   [119.9687723479724, 14.964948391414584]    1.243261          0.0   \n",
       "12  [119.84959121098824, 13.701508433030748]    1.159709          0.0   \n",
       "13    [120.05749996063594, 14.7505771592602]    1.186157          0.0   \n",
       "14   [120.04078095344195, 14.87045024403839]    1.213853          0.0   \n",
       "15  [120.00097858657574, 14.930700773153655]    1.237644          0.0   \n",
       "16  [119.92943478919834, 13.488569317960113]    1.174316          1.0   \n",
       "17   [120.0413166256664, 14.767153291007734]    1.298209          1.0   \n",
       "18   [119.98822011588769, 14.86065273027922]    1.232634          1.0   \n",
       "19  [119.95452378529734, 14.943357560552123]    1.243504          1.0   \n",
       "20   [120.04922549742501, 13.87679430949323]    1.153871          1.0   \n",
       "21  [120.06860121855223, 14.764585857690614]    1.214927          1.0   \n",
       "22  [120.08530595683955, 14.896410348827008]    1.228062          1.0   \n",
       "23  [119.99523774543634, 14.980525213842158]    1.226501          1.0   \n",
       "24  [119.78409767527008, 13.734437886380496]    1.194252          1.0   \n",
       "25   [120.0217399828475, 14.842663741233766]    1.235846          1.0   \n",
       "26  [120.01529244539418, 14.858882098322255]    1.258411          1.0   \n",
       "27    [119.9206766895904, 14.97471713917474]    1.226835          1.0   \n",
       "28  [119.96682897421134, 13.615325917961806]    1.200121          1.0   \n",
       "29  [120.00401846521513, 14.692980819847145]    1.297328          1.0   \n",
       "30    [119.99048407163224, 14.8597408553566]    1.377953          1.0   \n",
       "31      [120.01185034959, 14.93851666886047]    1.391247          1.0   \n",
       "32  [120.05913071081753, 13.864185598083518]    1.591366          1.0   \n",
       "33  [119.99061399595809, 14.795295840612075]    1.677779          1.0   \n",
       "34  [119.99875267048328, 14.833330830364352]    1.860122          1.0   \n",
       "35  [119.99540316363277, 14.915242469522326]    1.977723          1.0   \n",
       "\n",
       "    SL Param      EPLR  \n",
       "0      0.000  4.257576  \n",
       "1      0.000  3.872835  \n",
       "2      0.000  4.532355  \n",
       "3      0.000  4.060870  \n",
       "4      0.000  1.737075  \n",
       "5      0.000  1.864352  \n",
       "6      0.000  1.792269  \n",
       "7      0.000  1.864932  \n",
       "8      0.000  1.530542  \n",
       "9      0.000  1.614967  \n",
       "10     0.000  1.591111  \n",
       "11     0.000  1.566665  \n",
       "12     0.012  1.345357  \n",
       "13     0.000  1.405337  \n",
       "14     0.000  1.473726  \n",
       "15     0.000  1.528383  \n",
       "16     0.480  1.367251  \n",
       "17     0.527  1.679889  \n",
       "18     0.513  1.517589  \n",
       "19     0.486  1.545315  \n",
       "20     0.988  1.335145  \n",
       "21     1.000  1.475692  \n",
       "22     1.000  1.506695  \n",
       "23     1.000  1.505280  \n",
       "24     1.000  1.551575  \n",
       "25     1.000  1.587082  \n",
       "26     1.000  1.605199  \n",
       "27     1.000  1.513910  \n",
       "28     1.000  1.685063  \n",
       "29     1.000  1.799170  \n",
       "30     1.000  1.998736  \n",
       "31     1.000  1.962726  \n",
       "32     1.000  4.131746  \n",
       "33     1.000  3.971741  \n",
       "34     1.000  4.489914  \n",
       "35     1.000  4.494604  "
      ]
     },
     "execution_count": 268,
     "metadata": {},
     "output_type": "execute_result"
    }
   ],
   "source": [
    "df = pd.DataFrame(results)\n",
    "df"
   ]
  },
  {
   "attachments": {},
   "cell_type": "markdown",
   "metadata": {},
   "source": []
  },
  {
   "cell_type": "code",
   "execution_count": 269,
   "metadata": {},
   "outputs": [
    {
     "data": {
      "application/vnd.plotly.v1+json": {
       "config": {
        "plotlyServerURL": "https://plot.ly"
       },
       "data": [
        {
         "hovertemplate": "Target Service Level=%{x}<br>RMSE Ratio=%{y}<br>Sample Size=%{marker.color}<extra></extra>",
         "legendgroup": "",
         "marker": {
          "color": [
           10,
           50,
           100,
           200,
           10,
           50,
           100,
           200,
           10,
           50,
           100,
           200,
           10,
           50,
           100,
           200,
           10,
           50,
           100,
           200,
           10,
           50,
           100,
           200,
           10,
           50,
           100,
           200,
           10,
           50,
           100,
           200,
           10,
           50,
           100,
           200
          ],
          "coloraxis": "coloraxis",
          "symbol": "circle"
         },
         "mode": "markers",
         "name": "",
         "orientation": "v",
         "showlegend": false,
         "type": "scatter",
         "x": [
          0.01,
          0.01,
          0.01,
          0.01,
          0.05,
          0.05,
          0.05,
          0.05,
          0.1,
          0.1,
          0.1,
          0.1,
          0.3,
          0.3,
          0.3,
          0.3,
          0.5,
          0.5,
          0.5,
          0.5,
          0.7,
          0.7,
          0.7,
          0.7,
          0.9,
          0.9,
          0.9,
          0.9,
          0.95,
          0.95,
          0.95,
          0.95,
          0.99,
          0.99,
          0.99,
          0.99
         ],
         "xaxis": "x",
         "y": [
          1.644324937911838,
          1.6400409893874677,
          1.8717863551872493,
          1.9035947920620877,
          1.2070384307636612,
          1.3036174034218189,
          1.299936523137394,
          1.3604999537890345,
          1.1846183549712275,
          1.2517788912662118,
          1.2527762409755483,
          1.2432612800323795,
          1.159709017862049,
          1.1861569726641232,
          1.2138527481167027,
          1.237643765359757,
          1.1743163491968378,
          1.2982085999384252,
          1.2326343930969506,
          1.2435035232307219,
          1.153871122168314,
          1.214927443217577,
          1.2280615458260677,
          1.2265013831461566,
          1.1942516467449864,
          1.2358458709908897,
          1.2584110587291917,
          1.2268350341781893,
          1.2001205349184272,
          1.2973283675577003,
          1.3779531766224427,
          1.3912473761294297,
          1.5913655526114958,
          1.6777789854660445,
          1.8601218764022536,
          1.977723097410946
         ],
         "yaxis": "y"
        }
       ],
       "layout": {
        "coloraxis": {
         "colorbar": {
          "title": {
           "text": "Sample Size"
          }
         },
         "colorscale": [
          [
           0,
           "#0d0887"
          ],
          [
           0.1111111111111111,
           "#46039f"
          ],
          [
           0.2222222222222222,
           "#7201a8"
          ],
          [
           0.3333333333333333,
           "#9c179e"
          ],
          [
           0.4444444444444444,
           "#bd3786"
          ],
          [
           0.5555555555555556,
           "#d8576b"
          ],
          [
           0.6666666666666666,
           "#ed7953"
          ],
          [
           0.7777777777777778,
           "#fb9f3a"
          ],
          [
           0.8888888888888888,
           "#fdca26"
          ],
          [
           1,
           "#f0f921"
          ]
         ]
        },
        "font": {
         "size": 15
        },
        "legend": {
         "tracegroupgap": 0
        },
        "template": {
         "data": {
          "bar": [
           {
            "error_x": {
             "color": "#2a3f5f"
            },
            "error_y": {
             "color": "#2a3f5f"
            },
            "marker": {
             "line": {
              "color": "#E5ECF6",
              "width": 0.5
             },
             "pattern": {
              "fillmode": "overlay",
              "size": 10,
              "solidity": 0.2
             }
            },
            "type": "bar"
           }
          ],
          "barpolar": [
           {
            "marker": {
             "line": {
              "color": "#E5ECF6",
              "width": 0.5
             },
             "pattern": {
              "fillmode": "overlay",
              "size": 10,
              "solidity": 0.2
             }
            },
            "type": "barpolar"
           }
          ],
          "carpet": [
           {
            "aaxis": {
             "endlinecolor": "#2a3f5f",
             "gridcolor": "white",
             "linecolor": "white",
             "minorgridcolor": "white",
             "startlinecolor": "#2a3f5f"
            },
            "baxis": {
             "endlinecolor": "#2a3f5f",
             "gridcolor": "white",
             "linecolor": "white",
             "minorgridcolor": "white",
             "startlinecolor": "#2a3f5f"
            },
            "type": "carpet"
           }
          ],
          "choropleth": [
           {
            "colorbar": {
             "outlinewidth": 0,
             "ticks": ""
            },
            "type": "choropleth"
           }
          ],
          "contour": [
           {
            "colorbar": {
             "outlinewidth": 0,
             "ticks": ""
            },
            "colorscale": [
             [
              0,
              "#0d0887"
             ],
             [
              0.1111111111111111,
              "#46039f"
             ],
             [
              0.2222222222222222,
              "#7201a8"
             ],
             [
              0.3333333333333333,
              "#9c179e"
             ],
             [
              0.4444444444444444,
              "#bd3786"
             ],
             [
              0.5555555555555556,
              "#d8576b"
             ],
             [
              0.6666666666666666,
              "#ed7953"
             ],
             [
              0.7777777777777778,
              "#fb9f3a"
             ],
             [
              0.8888888888888888,
              "#fdca26"
             ],
             [
              1,
              "#f0f921"
             ]
            ],
            "type": "contour"
           }
          ],
          "contourcarpet": [
           {
            "colorbar": {
             "outlinewidth": 0,
             "ticks": ""
            },
            "type": "contourcarpet"
           }
          ],
          "heatmap": [
           {
            "colorbar": {
             "outlinewidth": 0,
             "ticks": ""
            },
            "colorscale": [
             [
              0,
              "#0d0887"
             ],
             [
              0.1111111111111111,
              "#46039f"
             ],
             [
              0.2222222222222222,
              "#7201a8"
             ],
             [
              0.3333333333333333,
              "#9c179e"
             ],
             [
              0.4444444444444444,
              "#bd3786"
             ],
             [
              0.5555555555555556,
              "#d8576b"
             ],
             [
              0.6666666666666666,
              "#ed7953"
             ],
             [
              0.7777777777777778,
              "#fb9f3a"
             ],
             [
              0.8888888888888888,
              "#fdca26"
             ],
             [
              1,
              "#f0f921"
             ]
            ],
            "type": "heatmap"
           }
          ],
          "heatmapgl": [
           {
            "colorbar": {
             "outlinewidth": 0,
             "ticks": ""
            },
            "colorscale": [
             [
              0,
              "#0d0887"
             ],
             [
              0.1111111111111111,
              "#46039f"
             ],
             [
              0.2222222222222222,
              "#7201a8"
             ],
             [
              0.3333333333333333,
              "#9c179e"
             ],
             [
              0.4444444444444444,
              "#bd3786"
             ],
             [
              0.5555555555555556,
              "#d8576b"
             ],
             [
              0.6666666666666666,
              "#ed7953"
             ],
             [
              0.7777777777777778,
              "#fb9f3a"
             ],
             [
              0.8888888888888888,
              "#fdca26"
             ],
             [
              1,
              "#f0f921"
             ]
            ],
            "type": "heatmapgl"
           }
          ],
          "histogram": [
           {
            "marker": {
             "pattern": {
              "fillmode": "overlay",
              "size": 10,
              "solidity": 0.2
             }
            },
            "type": "histogram"
           }
          ],
          "histogram2d": [
           {
            "colorbar": {
             "outlinewidth": 0,
             "ticks": ""
            },
            "colorscale": [
             [
              0,
              "#0d0887"
             ],
             [
              0.1111111111111111,
              "#46039f"
             ],
             [
              0.2222222222222222,
              "#7201a8"
             ],
             [
              0.3333333333333333,
              "#9c179e"
             ],
             [
              0.4444444444444444,
              "#bd3786"
             ],
             [
              0.5555555555555556,
              "#d8576b"
             ],
             [
              0.6666666666666666,
              "#ed7953"
             ],
             [
              0.7777777777777778,
              "#fb9f3a"
             ],
             [
              0.8888888888888888,
              "#fdca26"
             ],
             [
              1,
              "#f0f921"
             ]
            ],
            "type": "histogram2d"
           }
          ],
          "histogram2dcontour": [
           {
            "colorbar": {
             "outlinewidth": 0,
             "ticks": ""
            },
            "colorscale": [
             [
              0,
              "#0d0887"
             ],
             [
              0.1111111111111111,
              "#46039f"
             ],
             [
              0.2222222222222222,
              "#7201a8"
             ],
             [
              0.3333333333333333,
              "#9c179e"
             ],
             [
              0.4444444444444444,
              "#bd3786"
             ],
             [
              0.5555555555555556,
              "#d8576b"
             ],
             [
              0.6666666666666666,
              "#ed7953"
             ],
             [
              0.7777777777777778,
              "#fb9f3a"
             ],
             [
              0.8888888888888888,
              "#fdca26"
             ],
             [
              1,
              "#f0f921"
             ]
            ],
            "type": "histogram2dcontour"
           }
          ],
          "mesh3d": [
           {
            "colorbar": {
             "outlinewidth": 0,
             "ticks": ""
            },
            "type": "mesh3d"
           }
          ],
          "parcoords": [
           {
            "line": {
             "colorbar": {
              "outlinewidth": 0,
              "ticks": ""
             }
            },
            "type": "parcoords"
           }
          ],
          "pie": [
           {
            "automargin": true,
            "type": "pie"
           }
          ],
          "scatter": [
           {
            "fillpattern": {
             "fillmode": "overlay",
             "size": 10,
             "solidity": 0.2
            },
            "type": "scatter"
           }
          ],
          "scatter3d": [
           {
            "line": {
             "colorbar": {
              "outlinewidth": 0,
              "ticks": ""
             }
            },
            "marker": {
             "colorbar": {
              "outlinewidth": 0,
              "ticks": ""
             }
            },
            "type": "scatter3d"
           }
          ],
          "scattercarpet": [
           {
            "marker": {
             "colorbar": {
              "outlinewidth": 0,
              "ticks": ""
             }
            },
            "type": "scattercarpet"
           }
          ],
          "scattergeo": [
           {
            "marker": {
             "colorbar": {
              "outlinewidth": 0,
              "ticks": ""
             }
            },
            "type": "scattergeo"
           }
          ],
          "scattergl": [
           {
            "marker": {
             "colorbar": {
              "outlinewidth": 0,
              "ticks": ""
             }
            },
            "type": "scattergl"
           }
          ],
          "scattermapbox": [
           {
            "marker": {
             "colorbar": {
              "outlinewidth": 0,
              "ticks": ""
             }
            },
            "type": "scattermapbox"
           }
          ],
          "scatterpolar": [
           {
            "marker": {
             "colorbar": {
              "outlinewidth": 0,
              "ticks": ""
             }
            },
            "type": "scatterpolar"
           }
          ],
          "scatterpolargl": [
           {
            "marker": {
             "colorbar": {
              "outlinewidth": 0,
              "ticks": ""
             }
            },
            "type": "scatterpolargl"
           }
          ],
          "scatterternary": [
           {
            "marker": {
             "colorbar": {
              "outlinewidth": 0,
              "ticks": ""
             }
            },
            "type": "scatterternary"
           }
          ],
          "surface": [
           {
            "colorbar": {
             "outlinewidth": 0,
             "ticks": ""
            },
            "colorscale": [
             [
              0,
              "#0d0887"
             ],
             [
              0.1111111111111111,
              "#46039f"
             ],
             [
              0.2222222222222222,
              "#7201a8"
             ],
             [
              0.3333333333333333,
              "#9c179e"
             ],
             [
              0.4444444444444444,
              "#bd3786"
             ],
             [
              0.5555555555555556,
              "#d8576b"
             ],
             [
              0.6666666666666666,
              "#ed7953"
             ],
             [
              0.7777777777777778,
              "#fb9f3a"
             ],
             [
              0.8888888888888888,
              "#fdca26"
             ],
             [
              1,
              "#f0f921"
             ]
            ],
            "type": "surface"
           }
          ],
          "table": [
           {
            "cells": {
             "fill": {
              "color": "#EBF0F8"
             },
             "line": {
              "color": "white"
             }
            },
            "header": {
             "fill": {
              "color": "#C8D4E3"
             },
             "line": {
              "color": "white"
             }
            },
            "type": "table"
           }
          ]
         },
         "layout": {
          "annotationdefaults": {
           "arrowcolor": "#2a3f5f",
           "arrowhead": 0,
           "arrowwidth": 1
          },
          "autotypenumbers": "strict",
          "coloraxis": {
           "colorbar": {
            "outlinewidth": 0,
            "ticks": ""
           }
          },
          "colorscale": {
           "diverging": [
            [
             0,
             "#8e0152"
            ],
            [
             0.1,
             "#c51b7d"
            ],
            [
             0.2,
             "#de77ae"
            ],
            [
             0.3,
             "#f1b6da"
            ],
            [
             0.4,
             "#fde0ef"
            ],
            [
             0.5,
             "#f7f7f7"
            ],
            [
             0.6,
             "#e6f5d0"
            ],
            [
             0.7,
             "#b8e186"
            ],
            [
             0.8,
             "#7fbc41"
            ],
            [
             0.9,
             "#4d9221"
            ],
            [
             1,
             "#276419"
            ]
           ],
           "sequential": [
            [
             0,
             "#0d0887"
            ],
            [
             0.1111111111111111,
             "#46039f"
            ],
            [
             0.2222222222222222,
             "#7201a8"
            ],
            [
             0.3333333333333333,
             "#9c179e"
            ],
            [
             0.4444444444444444,
             "#bd3786"
            ],
            [
             0.5555555555555556,
             "#d8576b"
            ],
            [
             0.6666666666666666,
             "#ed7953"
            ],
            [
             0.7777777777777778,
             "#fb9f3a"
            ],
            [
             0.8888888888888888,
             "#fdca26"
            ],
            [
             1,
             "#f0f921"
            ]
           ],
           "sequentialminus": [
            [
             0,
             "#0d0887"
            ],
            [
             0.1111111111111111,
             "#46039f"
            ],
            [
             0.2222222222222222,
             "#7201a8"
            ],
            [
             0.3333333333333333,
             "#9c179e"
            ],
            [
             0.4444444444444444,
             "#bd3786"
            ],
            [
             0.5555555555555556,
             "#d8576b"
            ],
            [
             0.6666666666666666,
             "#ed7953"
            ],
            [
             0.7777777777777778,
             "#fb9f3a"
            ],
            [
             0.8888888888888888,
             "#fdca26"
            ],
            [
             1,
             "#f0f921"
            ]
           ]
          },
          "colorway": [
           "#636efa",
           "#EF553B",
           "#00cc96",
           "#ab63fa",
           "#FFA15A",
           "#19d3f3",
           "#FF6692",
           "#B6E880",
           "#FF97FF",
           "#FECB52"
          ],
          "font": {
           "color": "#2a3f5f"
          },
          "geo": {
           "bgcolor": "white",
           "lakecolor": "white",
           "landcolor": "#E5ECF6",
           "showlakes": true,
           "showland": true,
           "subunitcolor": "white"
          },
          "hoverlabel": {
           "align": "left"
          },
          "hovermode": "closest",
          "mapbox": {
           "style": "light"
          },
          "paper_bgcolor": "white",
          "plot_bgcolor": "#E5ECF6",
          "polar": {
           "angularaxis": {
            "gridcolor": "white",
            "linecolor": "white",
            "ticks": ""
           },
           "bgcolor": "#E5ECF6",
           "radialaxis": {
            "gridcolor": "white",
            "linecolor": "white",
            "ticks": ""
           }
          },
          "scene": {
           "xaxis": {
            "backgroundcolor": "#E5ECF6",
            "gridcolor": "white",
            "gridwidth": 2,
            "linecolor": "white",
            "showbackground": true,
            "ticks": "",
            "zerolinecolor": "white"
           },
           "yaxis": {
            "backgroundcolor": "#E5ECF6",
            "gridcolor": "white",
            "gridwidth": 2,
            "linecolor": "white",
            "showbackground": true,
            "ticks": "",
            "zerolinecolor": "white"
           },
           "zaxis": {
            "backgroundcolor": "#E5ECF6",
            "gridcolor": "white",
            "gridwidth": 2,
            "linecolor": "white",
            "showbackground": true,
            "ticks": "",
            "zerolinecolor": "white"
           }
          },
          "shapedefaults": {
           "line": {
            "color": "#2a3f5f"
           }
          },
          "ternary": {
           "aaxis": {
            "gridcolor": "white",
            "linecolor": "white",
            "ticks": ""
           },
           "baxis": {
            "gridcolor": "white",
            "linecolor": "white",
            "ticks": ""
           },
           "bgcolor": "#E5ECF6",
           "caxis": {
            "gridcolor": "white",
            "linecolor": "white",
            "ticks": ""
           }
          },
          "title": {
           "x": 0.05
          },
          "xaxis": {
           "automargin": true,
           "gridcolor": "white",
           "linecolor": "white",
           "ticks": "",
           "title": {
            "standoff": 15
           },
           "zerolinecolor": "white",
           "zerolinewidth": 2
          },
          "yaxis": {
           "automargin": true,
           "gridcolor": "white",
           "linecolor": "white",
           "ticks": "",
           "title": {
            "standoff": 15
           },
           "zerolinecolor": "white",
           "zerolinewidth": 2
          }
         }
        },
        "title": {
         "text": "TSL vs RMSE, mean: 120 | stddev: 15 | m = 1000<br><sup>higher RMSE means parametric performs better</sup>"
        },
        "xaxis": {
         "anchor": "y",
         "domain": [
          0,
          1
         ],
         "title": {
          "text": "Target Service Level"
         }
        },
        "yaxis": {
         "anchor": "x",
         "domain": [
          0,
          1
         ],
         "title": {
          "text": "RMSE Ratio"
         }
        }
       }
      }
     },
     "metadata": {},
     "output_type": "display_data"
    },
    {
     "data": {
      "application/vnd.plotly.v1+json": {
       "config": {
        "plotlyServerURL": "https://plot.ly"
       },
       "data": [
        {
         "hovertemplate": "Target Service Level=%{x}<br>EPLR=%{y}<br>Sample Size=%{marker.color}<extra></extra>",
         "legendgroup": "",
         "marker": {
          "color": [
           10,
           50,
           100,
           200,
           10,
           50,
           100,
           200,
           10,
           50,
           100,
           200,
           10,
           50,
           100,
           200,
           10,
           50,
           100,
           200,
           10,
           50,
           100,
           200,
           10,
           50,
           100,
           200,
           10,
           50,
           100,
           200,
           10,
           50,
           100,
           200
          ],
          "coloraxis": "coloraxis",
          "symbol": "circle"
         },
         "mode": "markers",
         "name": "",
         "orientation": "v",
         "showlegend": false,
         "type": "scatter",
         "x": [
          0.01,
          0.01,
          0.01,
          0.01,
          0.05,
          0.05,
          0.05,
          0.05,
          0.1,
          0.1,
          0.1,
          0.1,
          0.3,
          0.3,
          0.3,
          0.3,
          0.5,
          0.5,
          0.5,
          0.5,
          0.7,
          0.7,
          0.7,
          0.7,
          0.9,
          0.9,
          0.9,
          0.9,
          0.95,
          0.95,
          0.95,
          0.95,
          0.99,
          0.99,
          0.99,
          0.99
         ],
         "xaxis": "x",
         "y": [
          4.25757617628994,
          3.8728346222362413,
          4.532355197540505,
          4.060869768183951,
          1.7370753281665425,
          1.8643517462731962,
          1.7922689838863413,
          1.864931660234436,
          1.5305423788134134,
          1.614967470761553,
          1.5911108962837817,
          1.5666651647216436,
          1.3453566849522889,
          1.4053371904902572,
          1.4737261272884208,
          1.5283831106842538,
          1.3672508622331443,
          1.6798892510860706,
          1.5175888710946086,
          1.5453152544959066,
          1.3351450173509554,
          1.4756922036164153,
          1.5066948874235746,
          1.5052801210755689,
          1.5515749089756614,
          1.5870818801375126,
          1.6051986796171327,
          1.5139101499226149,
          1.685063031864907,
          1.7991702908823757,
          1.9987364910780485,
          1.9627264496077161,
          4.131746093114249,
          3.9717411076775844,
          4.489913635904581,
          4.494604366777367
         ],
         "yaxis": "y"
        }
       ],
       "layout": {
        "coloraxis": {
         "colorbar": {
          "title": {
           "text": "Sample Size"
          }
         },
         "colorscale": [
          [
           0,
           "#0d0887"
          ],
          [
           0.1111111111111111,
           "#46039f"
          ],
          [
           0.2222222222222222,
           "#7201a8"
          ],
          [
           0.3333333333333333,
           "#9c179e"
          ],
          [
           0.4444444444444444,
           "#bd3786"
          ],
          [
           0.5555555555555556,
           "#d8576b"
          ],
          [
           0.6666666666666666,
           "#ed7953"
          ],
          [
           0.7777777777777778,
           "#fb9f3a"
          ],
          [
           0.8888888888888888,
           "#fdca26"
          ],
          [
           1,
           "#f0f921"
          ]
         ]
        },
        "font": {
         "size": 15
        },
        "legend": {
         "tracegroupgap": 0
        },
        "template": {
         "data": {
          "bar": [
           {
            "error_x": {
             "color": "#2a3f5f"
            },
            "error_y": {
             "color": "#2a3f5f"
            },
            "marker": {
             "line": {
              "color": "#E5ECF6",
              "width": 0.5
             },
             "pattern": {
              "fillmode": "overlay",
              "size": 10,
              "solidity": 0.2
             }
            },
            "type": "bar"
           }
          ],
          "barpolar": [
           {
            "marker": {
             "line": {
              "color": "#E5ECF6",
              "width": 0.5
             },
             "pattern": {
              "fillmode": "overlay",
              "size": 10,
              "solidity": 0.2
             }
            },
            "type": "barpolar"
           }
          ],
          "carpet": [
           {
            "aaxis": {
             "endlinecolor": "#2a3f5f",
             "gridcolor": "white",
             "linecolor": "white",
             "minorgridcolor": "white",
             "startlinecolor": "#2a3f5f"
            },
            "baxis": {
             "endlinecolor": "#2a3f5f",
             "gridcolor": "white",
             "linecolor": "white",
             "minorgridcolor": "white",
             "startlinecolor": "#2a3f5f"
            },
            "type": "carpet"
           }
          ],
          "choropleth": [
           {
            "colorbar": {
             "outlinewidth": 0,
             "ticks": ""
            },
            "type": "choropleth"
           }
          ],
          "contour": [
           {
            "colorbar": {
             "outlinewidth": 0,
             "ticks": ""
            },
            "colorscale": [
             [
              0,
              "#0d0887"
             ],
             [
              0.1111111111111111,
              "#46039f"
             ],
             [
              0.2222222222222222,
              "#7201a8"
             ],
             [
              0.3333333333333333,
              "#9c179e"
             ],
             [
              0.4444444444444444,
              "#bd3786"
             ],
             [
              0.5555555555555556,
              "#d8576b"
             ],
             [
              0.6666666666666666,
              "#ed7953"
             ],
             [
              0.7777777777777778,
              "#fb9f3a"
             ],
             [
              0.8888888888888888,
              "#fdca26"
             ],
             [
              1,
              "#f0f921"
             ]
            ],
            "type": "contour"
           }
          ],
          "contourcarpet": [
           {
            "colorbar": {
             "outlinewidth": 0,
             "ticks": ""
            },
            "type": "contourcarpet"
           }
          ],
          "heatmap": [
           {
            "colorbar": {
             "outlinewidth": 0,
             "ticks": ""
            },
            "colorscale": [
             [
              0,
              "#0d0887"
             ],
             [
              0.1111111111111111,
              "#46039f"
             ],
             [
              0.2222222222222222,
              "#7201a8"
             ],
             [
              0.3333333333333333,
              "#9c179e"
             ],
             [
              0.4444444444444444,
              "#bd3786"
             ],
             [
              0.5555555555555556,
              "#d8576b"
             ],
             [
              0.6666666666666666,
              "#ed7953"
             ],
             [
              0.7777777777777778,
              "#fb9f3a"
             ],
             [
              0.8888888888888888,
              "#fdca26"
             ],
             [
              1,
              "#f0f921"
             ]
            ],
            "type": "heatmap"
           }
          ],
          "heatmapgl": [
           {
            "colorbar": {
             "outlinewidth": 0,
             "ticks": ""
            },
            "colorscale": [
             [
              0,
              "#0d0887"
             ],
             [
              0.1111111111111111,
              "#46039f"
             ],
             [
              0.2222222222222222,
              "#7201a8"
             ],
             [
              0.3333333333333333,
              "#9c179e"
             ],
             [
              0.4444444444444444,
              "#bd3786"
             ],
             [
              0.5555555555555556,
              "#d8576b"
             ],
             [
              0.6666666666666666,
              "#ed7953"
             ],
             [
              0.7777777777777778,
              "#fb9f3a"
             ],
             [
              0.8888888888888888,
              "#fdca26"
             ],
             [
              1,
              "#f0f921"
             ]
            ],
            "type": "heatmapgl"
           }
          ],
          "histogram": [
           {
            "marker": {
             "pattern": {
              "fillmode": "overlay",
              "size": 10,
              "solidity": 0.2
             }
            },
            "type": "histogram"
           }
          ],
          "histogram2d": [
           {
            "colorbar": {
             "outlinewidth": 0,
             "ticks": ""
            },
            "colorscale": [
             [
              0,
              "#0d0887"
             ],
             [
              0.1111111111111111,
              "#46039f"
             ],
             [
              0.2222222222222222,
              "#7201a8"
             ],
             [
              0.3333333333333333,
              "#9c179e"
             ],
             [
              0.4444444444444444,
              "#bd3786"
             ],
             [
              0.5555555555555556,
              "#d8576b"
             ],
             [
              0.6666666666666666,
              "#ed7953"
             ],
             [
              0.7777777777777778,
              "#fb9f3a"
             ],
             [
              0.8888888888888888,
              "#fdca26"
             ],
             [
              1,
              "#f0f921"
             ]
            ],
            "type": "histogram2d"
           }
          ],
          "histogram2dcontour": [
           {
            "colorbar": {
             "outlinewidth": 0,
             "ticks": ""
            },
            "colorscale": [
             [
              0,
              "#0d0887"
             ],
             [
              0.1111111111111111,
              "#46039f"
             ],
             [
              0.2222222222222222,
              "#7201a8"
             ],
             [
              0.3333333333333333,
              "#9c179e"
             ],
             [
              0.4444444444444444,
              "#bd3786"
             ],
             [
              0.5555555555555556,
              "#d8576b"
             ],
             [
              0.6666666666666666,
              "#ed7953"
             ],
             [
              0.7777777777777778,
              "#fb9f3a"
             ],
             [
              0.8888888888888888,
              "#fdca26"
             ],
             [
              1,
              "#f0f921"
             ]
            ],
            "type": "histogram2dcontour"
           }
          ],
          "mesh3d": [
           {
            "colorbar": {
             "outlinewidth": 0,
             "ticks": ""
            },
            "type": "mesh3d"
           }
          ],
          "parcoords": [
           {
            "line": {
             "colorbar": {
              "outlinewidth": 0,
              "ticks": ""
             }
            },
            "type": "parcoords"
           }
          ],
          "pie": [
           {
            "automargin": true,
            "type": "pie"
           }
          ],
          "scatter": [
           {
            "fillpattern": {
             "fillmode": "overlay",
             "size": 10,
             "solidity": 0.2
            },
            "type": "scatter"
           }
          ],
          "scatter3d": [
           {
            "line": {
             "colorbar": {
              "outlinewidth": 0,
              "ticks": ""
             }
            },
            "marker": {
             "colorbar": {
              "outlinewidth": 0,
              "ticks": ""
             }
            },
            "type": "scatter3d"
           }
          ],
          "scattercarpet": [
           {
            "marker": {
             "colorbar": {
              "outlinewidth": 0,
              "ticks": ""
             }
            },
            "type": "scattercarpet"
           }
          ],
          "scattergeo": [
           {
            "marker": {
             "colorbar": {
              "outlinewidth": 0,
              "ticks": ""
             }
            },
            "type": "scattergeo"
           }
          ],
          "scattergl": [
           {
            "marker": {
             "colorbar": {
              "outlinewidth": 0,
              "ticks": ""
             }
            },
            "type": "scattergl"
           }
          ],
          "scattermapbox": [
           {
            "marker": {
             "colorbar": {
              "outlinewidth": 0,
              "ticks": ""
             }
            },
            "type": "scattermapbox"
           }
          ],
          "scatterpolar": [
           {
            "marker": {
             "colorbar": {
              "outlinewidth": 0,
              "ticks": ""
             }
            },
            "type": "scatterpolar"
           }
          ],
          "scatterpolargl": [
           {
            "marker": {
             "colorbar": {
              "outlinewidth": 0,
              "ticks": ""
             }
            },
            "type": "scatterpolargl"
           }
          ],
          "scatterternary": [
           {
            "marker": {
             "colorbar": {
              "outlinewidth": 0,
              "ticks": ""
             }
            },
            "type": "scatterternary"
           }
          ],
          "surface": [
           {
            "colorbar": {
             "outlinewidth": 0,
             "ticks": ""
            },
            "colorscale": [
             [
              0,
              "#0d0887"
             ],
             [
              0.1111111111111111,
              "#46039f"
             ],
             [
              0.2222222222222222,
              "#7201a8"
             ],
             [
              0.3333333333333333,
              "#9c179e"
             ],
             [
              0.4444444444444444,
              "#bd3786"
             ],
             [
              0.5555555555555556,
              "#d8576b"
             ],
             [
              0.6666666666666666,
              "#ed7953"
             ],
             [
              0.7777777777777778,
              "#fb9f3a"
             ],
             [
              0.8888888888888888,
              "#fdca26"
             ],
             [
              1,
              "#f0f921"
             ]
            ],
            "type": "surface"
           }
          ],
          "table": [
           {
            "cells": {
             "fill": {
              "color": "#EBF0F8"
             },
             "line": {
              "color": "white"
             }
            },
            "header": {
             "fill": {
              "color": "#C8D4E3"
             },
             "line": {
              "color": "white"
             }
            },
            "type": "table"
           }
          ]
         },
         "layout": {
          "annotationdefaults": {
           "arrowcolor": "#2a3f5f",
           "arrowhead": 0,
           "arrowwidth": 1
          },
          "autotypenumbers": "strict",
          "coloraxis": {
           "colorbar": {
            "outlinewidth": 0,
            "ticks": ""
           }
          },
          "colorscale": {
           "diverging": [
            [
             0,
             "#8e0152"
            ],
            [
             0.1,
             "#c51b7d"
            ],
            [
             0.2,
             "#de77ae"
            ],
            [
             0.3,
             "#f1b6da"
            ],
            [
             0.4,
             "#fde0ef"
            ],
            [
             0.5,
             "#f7f7f7"
            ],
            [
             0.6,
             "#e6f5d0"
            ],
            [
             0.7,
             "#b8e186"
            ],
            [
             0.8,
             "#7fbc41"
            ],
            [
             0.9,
             "#4d9221"
            ],
            [
             1,
             "#276419"
            ]
           ],
           "sequential": [
            [
             0,
             "#0d0887"
            ],
            [
             0.1111111111111111,
             "#46039f"
            ],
            [
             0.2222222222222222,
             "#7201a8"
            ],
            [
             0.3333333333333333,
             "#9c179e"
            ],
            [
             0.4444444444444444,
             "#bd3786"
            ],
            [
             0.5555555555555556,
             "#d8576b"
            ],
            [
             0.6666666666666666,
             "#ed7953"
            ],
            [
             0.7777777777777778,
             "#fb9f3a"
            ],
            [
             0.8888888888888888,
             "#fdca26"
            ],
            [
             1,
             "#f0f921"
            ]
           ],
           "sequentialminus": [
            [
             0,
             "#0d0887"
            ],
            [
             0.1111111111111111,
             "#46039f"
            ],
            [
             0.2222222222222222,
             "#7201a8"
            ],
            [
             0.3333333333333333,
             "#9c179e"
            ],
            [
             0.4444444444444444,
             "#bd3786"
            ],
            [
             0.5555555555555556,
             "#d8576b"
            ],
            [
             0.6666666666666666,
             "#ed7953"
            ],
            [
             0.7777777777777778,
             "#fb9f3a"
            ],
            [
             0.8888888888888888,
             "#fdca26"
            ],
            [
             1,
             "#f0f921"
            ]
           ]
          },
          "colorway": [
           "#636efa",
           "#EF553B",
           "#00cc96",
           "#ab63fa",
           "#FFA15A",
           "#19d3f3",
           "#FF6692",
           "#B6E880",
           "#FF97FF",
           "#FECB52"
          ],
          "font": {
           "color": "#2a3f5f"
          },
          "geo": {
           "bgcolor": "white",
           "lakecolor": "white",
           "landcolor": "#E5ECF6",
           "showlakes": true,
           "showland": true,
           "subunitcolor": "white"
          },
          "hoverlabel": {
           "align": "left"
          },
          "hovermode": "closest",
          "mapbox": {
           "style": "light"
          },
          "paper_bgcolor": "white",
          "plot_bgcolor": "#E5ECF6",
          "polar": {
           "angularaxis": {
            "gridcolor": "white",
            "linecolor": "white",
            "ticks": ""
           },
           "bgcolor": "#E5ECF6",
           "radialaxis": {
            "gridcolor": "white",
            "linecolor": "white",
            "ticks": ""
           }
          },
          "scene": {
           "xaxis": {
            "backgroundcolor": "#E5ECF6",
            "gridcolor": "white",
            "gridwidth": 2,
            "linecolor": "white",
            "showbackground": true,
            "ticks": "",
            "zerolinecolor": "white"
           },
           "yaxis": {
            "backgroundcolor": "#E5ECF6",
            "gridcolor": "white",
            "gridwidth": 2,
            "linecolor": "white",
            "showbackground": true,
            "ticks": "",
            "zerolinecolor": "white"
           },
           "zaxis": {
            "backgroundcolor": "#E5ECF6",
            "gridcolor": "white",
            "gridwidth": 2,
            "linecolor": "white",
            "showbackground": true,
            "ticks": "",
            "zerolinecolor": "white"
           }
          },
          "shapedefaults": {
           "line": {
            "color": "#2a3f5f"
           }
          },
          "ternary": {
           "aaxis": {
            "gridcolor": "white",
            "linecolor": "white",
            "ticks": ""
           },
           "baxis": {
            "gridcolor": "white",
            "linecolor": "white",
            "ticks": ""
           },
           "bgcolor": "#E5ECF6",
           "caxis": {
            "gridcolor": "white",
            "linecolor": "white",
            "ticks": ""
           }
          },
          "title": {
           "x": 0.05
          },
          "xaxis": {
           "automargin": true,
           "gridcolor": "white",
           "linecolor": "white",
           "ticks": "",
           "title": {
            "standoff": 15
           },
           "zerolinecolor": "white",
           "zerolinewidth": 2
          },
          "yaxis": {
           "automargin": true,
           "gridcolor": "white",
           "linecolor": "white",
           "ticks": "",
           "title": {
            "standoff": 15
           },
           "zerolinecolor": "white",
           "zerolinewidth": 2
          }
         }
        },
        "title": {
         "text": "TSL vs EPLR, mean: 120 | stddev: 15 | m = 1000<br><sup>higher EPLR means parametric performs better</sup>"
        },
        "xaxis": {
         "anchor": "y",
         "domain": [
          0,
          1
         ],
         "title": {
          "text": "Target Service Level"
         }
        },
        "yaxis": {
         "anchor": "x",
         "domain": [
          0,
          1
         ],
         "title": {
          "text": "EPLR"
         }
        }
       }
      }
     },
     "metadata": {},
     "output_type": "display_data"
    }
   ],
   "source": [
    "fig = px.scatter(df, x='Target Service Level', y='RMSE Ratio', color=\"Sample Size\", title=\"TSL vs RMSE, mean: {0} | stddev: {1} | m = {2}<br><sup>higher RMSE means parametric performs better</sup>\".format(meanDemand, stdevDemand, numberOfMontecarloIterations))\n",
    "fig.update_layout(font_size = 15)\n",
    "#fig.write_image(\"Excercise part 3/RMSE-{0}-{1}.pdf\".format(meanDemand, stdevDemand))\n",
    "fig.show()\n",
    "\n",
    "fig = px.scatter(df, x='Target Service Level', y='EPLR', color=\"Sample Size\", title=\"TSL vs EPLR, mean: {0} | stddev: {1} | m = {2}<br><sup>higher EPLR means parametric performs better</sup>\".format(meanDemand, stdevDemand, numberOfMontecarloIterations))\n",
    "fig.update_layout(font_size = 15)\n",
    "#fig.write_image(\"Excercise part 3/EPLR-{0}-{1}.pdf\".format(meanDemand, stdevDemand))\n",
    "fig.show()"
   ]
  },
  {
   "cell_type": "code",
   "execution_count": 270,
   "metadata": {},
   "outputs": [],
   "source": [
    "numberOfMontecarloIterations = 1000\n",
    "stdevDemand = 20\n",
    "meanDemand = 100\n",
    "\n",
    "tauArray = [0.01, 0.05, 0.1, 0.3, 0.5, 0.7, 0.9, 0.95, 0.99]\n",
    "nArray = [10, 50, 100, 200]\n",
    "\n",
    "results = []\n",
    "for tau in tauArray:\n",
    "    for n in nArray:\n",
    "        result = monteCarlo(numberOfMontecarloIterations, tau, n, [meanDemand, stdevDemand])\n",
    "        results.append(result)\n"
   ]
  },
  {
   "cell_type": "code",
   "execution_count": 272,
   "metadata": {},
   "outputs": [
    {
     "data": {
      "text/html": [
       "<div>\n",
       "<style scoped>\n",
       "    .dataframe tbody tr th:only-of-type {\n",
       "        vertical-align: middle;\n",
       "    }\n",
       "\n",
       "    .dataframe tbody tr th {\n",
       "        vertical-align: top;\n",
       "    }\n",
       "\n",
       "    .dataframe thead th {\n",
       "        text-align: right;\n",
       "    }\n",
       "</style>\n",
       "<table border=\"1\" class=\"dataframe\">\n",
       "  <thead>\n",
       "    <tr style=\"text-align: right;\">\n",
       "      <th></th>\n",
       "      <th>MonteCarlo iterations</th>\n",
       "      <th>Sample Size</th>\n",
       "      <th>Target Service Level</th>\n",
       "      <th>Param Values</th>\n",
       "      <th>RMSE Ratio</th>\n",
       "      <th>SL nonParam</th>\n",
       "      <th>SL Param</th>\n",
       "      <th>EPLR</th>\n",
       "    </tr>\n",
       "  </thead>\n",
       "  <tbody>\n",
       "    <tr>\n",
       "      <th>0</th>\n",
       "      <td>1000</td>\n",
       "      <td>10</td>\n",
       "      <td>0.01</td>\n",
       "      <td>[100.05276221108602, 18.322430190433316]</td>\n",
       "      <td>1.612756</td>\n",
       "      <td>0.0</td>\n",
       "      <td>0.000</td>\n",
       "      <td>4.256410</td>\n",
       "    </tr>\n",
       "    <tr>\n",
       "      <th>1</th>\n",
       "      <td>1000</td>\n",
       "      <td>50</td>\n",
       "      <td>0.01</td>\n",
       "      <td>[99.86599774239826, 19.625352516938257]</td>\n",
       "      <td>1.620333</td>\n",
       "      <td>0.0</td>\n",
       "      <td>0.000</td>\n",
       "      <td>3.703326</td>\n",
       "    </tr>\n",
       "    <tr>\n",
       "      <th>2</th>\n",
       "      <td>1000</td>\n",
       "      <td>100</td>\n",
       "      <td>0.01</td>\n",
       "      <td>[99.98793184995574, 19.825710639774723]</td>\n",
       "      <td>1.855067</td>\n",
       "      <td>0.0</td>\n",
       "      <td>0.000</td>\n",
       "      <td>4.501664</td>\n",
       "    </tr>\n",
       "    <tr>\n",
       "      <th>3</th>\n",
       "      <td>1000</td>\n",
       "      <td>200</td>\n",
       "      <td>0.01</td>\n",
       "      <td>[100.01753715293296, 19.93699120840811]</td>\n",
       "      <td>1.876973</td>\n",
       "      <td>0.0</td>\n",
       "      <td>0.000</td>\n",
       "      <td>4.083639</td>\n",
       "    </tr>\n",
       "    <tr>\n",
       "      <th>4</th>\n",
       "      <td>1000</td>\n",
       "      <td>10</td>\n",
       "      <td>0.05</td>\n",
       "      <td>[100.17412834628907, 18.583272451373194]</td>\n",
       "      <td>1.181105</td>\n",
       "      <td>0.0</td>\n",
       "      <td>0.000</td>\n",
       "      <td>1.662403</td>\n",
       "    </tr>\n",
       "    <tr>\n",
       "      <th>5</th>\n",
       "      <td>1000</td>\n",
       "      <td>50</td>\n",
       "      <td>0.05</td>\n",
       "      <td>[100.01290058587084, 19.74449497854405]</td>\n",
       "      <td>1.301301</td>\n",
       "      <td>0.0</td>\n",
       "      <td>0.000</td>\n",
       "      <td>1.832646</td>\n",
       "    </tr>\n",
       "    <tr>\n",
       "      <th>6</th>\n",
       "      <td>1000</td>\n",
       "      <td>100</td>\n",
       "      <td>0.05</td>\n",
       "      <td>[100.13613182339489, 19.7881913695077]</td>\n",
       "      <td>1.318215</td>\n",
       "      <td>0.0</td>\n",
       "      <td>0.000</td>\n",
       "      <td>1.826419</td>\n",
       "    </tr>\n",
       "    <tr>\n",
       "      <th>7</th>\n",
       "      <td>1000</td>\n",
       "      <td>200</td>\n",
       "      <td>0.05</td>\n",
       "      <td>[100.05332981205532, 19.88140049309111]</td>\n",
       "      <td>1.303488</td>\n",
       "      <td>0.0</td>\n",
       "      <td>0.000</td>\n",
       "      <td>1.754196</td>\n",
       "    </tr>\n",
       "    <tr>\n",
       "      <th>8</th>\n",
       "      <td>1000</td>\n",
       "      <td>10</td>\n",
       "      <td>0.10</td>\n",
       "      <td>[100.23942617137259, 18.565601623716454]</td>\n",
       "      <td>1.183254</td>\n",
       "      <td>0.0</td>\n",
       "      <td>0.000</td>\n",
       "      <td>1.509112</td>\n",
       "    </tr>\n",
       "    <tr>\n",
       "      <th>9</th>\n",
       "      <td>1000</td>\n",
       "      <td>50</td>\n",
       "      <td>0.10</td>\n",
       "      <td>[100.04874979208519, 19.739044117267085]</td>\n",
       "      <td>1.272098</td>\n",
       "      <td>0.0</td>\n",
       "      <td>0.000</td>\n",
       "      <td>1.686979</td>\n",
       "    </tr>\n",
       "    <tr>\n",
       "      <th>10</th>\n",
       "      <td>1000</td>\n",
       "      <td>100</td>\n",
       "      <td>0.10</td>\n",
       "      <td>[99.99181912249705, 19.862057809594308]</td>\n",
       "      <td>1.255063</td>\n",
       "      <td>0.0</td>\n",
       "      <td>0.000</td>\n",
       "      <td>1.595650</td>\n",
       "    </tr>\n",
       "    <tr>\n",
       "      <th>11</th>\n",
       "      <td>1000</td>\n",
       "      <td>200</td>\n",
       "      <td>0.10</td>\n",
       "      <td>[99.94557376606845, 19.93626653521018]</td>\n",
       "      <td>1.275211</td>\n",
       "      <td>0.0</td>\n",
       "      <td>0.000</td>\n",
       "      <td>1.633746</td>\n",
       "    </tr>\n",
       "    <tr>\n",
       "      <th>12</th>\n",
       "      <td>1000</td>\n",
       "      <td>10</td>\n",
       "      <td>0.30</td>\n",
       "      <td>[100.01234057271553, 18.40167409402248]</td>\n",
       "      <td>1.150979</td>\n",
       "      <td>0.0</td>\n",
       "      <td>0.009</td>\n",
       "      <td>1.326165</td>\n",
       "    </tr>\n",
       "    <tr>\n",
       "      <th>13</th>\n",
       "      <td>1000</td>\n",
       "      <td>50</td>\n",
       "      <td>0.30</td>\n",
       "      <td>[100.045476359628, 19.59994796413029]</td>\n",
       "      <td>1.159586</td>\n",
       "      <td>0.0</td>\n",
       "      <td>0.000</td>\n",
       "      <td>1.349605</td>\n",
       "    </tr>\n",
       "    <tr>\n",
       "      <th>14</th>\n",
       "      <td>1000</td>\n",
       "      <td>100</td>\n",
       "      <td>0.30</td>\n",
       "      <td>[99.95553857868616, 19.87172111463957]</td>\n",
       "      <td>1.230857</td>\n",
       "      <td>0.0</td>\n",
       "      <td>0.000</td>\n",
       "      <td>1.518233</td>\n",
       "    </tr>\n",
       "    <tr>\n",
       "      <th>15</th>\n",
       "      <td>1000</td>\n",
       "      <td>200</td>\n",
       "      <td>0.30</td>\n",
       "      <td>[99.98969354766454, 19.97795144562914]</td>\n",
       "      <td>1.253047</td>\n",
       "      <td>0.0</td>\n",
       "      <td>0.000</td>\n",
       "      <td>1.568950</td>\n",
       "    </tr>\n",
       "    <tr>\n",
       "      <th>16</th>\n",
       "      <td>1000</td>\n",
       "      <td>10</td>\n",
       "      <td>0.50</td>\n",
       "      <td>[99.88111367497952, 18.416370186536284]</td>\n",
       "      <td>1.204958</td>\n",
       "      <td>1.0</td>\n",
       "      <td>0.463</td>\n",
       "      <td>1.439471</td>\n",
       "    </tr>\n",
       "    <tr>\n",
       "      <th>17</th>\n",
       "      <td>1000</td>\n",
       "      <td>50</td>\n",
       "      <td>0.50</td>\n",
       "      <td>[100.01183584158314, 19.801637964016248]</td>\n",
       "      <td>1.229986</td>\n",
       "      <td>1.0</td>\n",
       "      <td>0.504</td>\n",
       "      <td>1.508549</td>\n",
       "    </tr>\n",
       "    <tr>\n",
       "      <th>18</th>\n",
       "      <td>1000</td>\n",
       "      <td>100</td>\n",
       "      <td>0.50</td>\n",
       "      <td>[99.94858764815986, 19.88816937504093]</td>\n",
       "      <td>1.247259</td>\n",
       "      <td>1.0</td>\n",
       "      <td>0.520</td>\n",
       "      <td>1.553596</td>\n",
       "    </tr>\n",
       "    <tr>\n",
       "      <th>19</th>\n",
       "      <td>1000</td>\n",
       "      <td>200</td>\n",
       "      <td>0.50</td>\n",
       "      <td>[99.98533922335635, 19.850357389312308]</td>\n",
       "      <td>1.233462</td>\n",
       "      <td>1.0</td>\n",
       "      <td>0.521</td>\n",
       "      <td>1.520564</td>\n",
       "    </tr>\n",
       "    <tr>\n",
       "      <th>20</th>\n",
       "      <td>1000</td>\n",
       "      <td>10</td>\n",
       "      <td>0.70</td>\n",
       "      <td>[99.95163186631038, 18.48645781982922]</td>\n",
       "      <td>1.144310</td>\n",
       "      <td>1.0</td>\n",
       "      <td>0.990</td>\n",
       "      <td>1.302319</td>\n",
       "    </tr>\n",
       "    <tr>\n",
       "      <th>21</th>\n",
       "      <td>1000</td>\n",
       "      <td>50</td>\n",
       "      <td>0.70</td>\n",
       "      <td>[99.92966205483107, 19.78819242496816]</td>\n",
       "      <td>1.181925</td>\n",
       "      <td>1.0</td>\n",
       "      <td>1.000</td>\n",
       "      <td>1.389667</td>\n",
       "    </tr>\n",
       "    <tr>\n",
       "      <th>22</th>\n",
       "      <td>1000</td>\n",
       "      <td>100</td>\n",
       "      <td>0.70</td>\n",
       "      <td>[100.05885869177334, 19.89212016844916]</td>\n",
       "      <td>1.227415</td>\n",
       "      <td>1.0</td>\n",
       "      <td>1.000</td>\n",
       "      <td>1.506517</td>\n",
       "    </tr>\n",
       "    <tr>\n",
       "      <th>23</th>\n",
       "      <td>1000</td>\n",
       "      <td>200</td>\n",
       "      <td>0.70</td>\n",
       "      <td>[100.09099045459278, 19.9095949857671]</td>\n",
       "      <td>1.217081</td>\n",
       "      <td>1.0</td>\n",
       "      <td>1.000</td>\n",
       "      <td>1.477477</td>\n",
       "    </tr>\n",
       "    <tr>\n",
       "      <th>24</th>\n",
       "      <td>1000</td>\n",
       "      <td>10</td>\n",
       "      <td>0.90</td>\n",
       "      <td>[99.99175822432173, 18.330235582417735]</td>\n",
       "      <td>1.170670</td>\n",
       "      <td>1.0</td>\n",
       "      <td>1.000</td>\n",
       "      <td>1.513564</td>\n",
       "    </tr>\n",
       "    <tr>\n",
       "      <th>25</th>\n",
       "      <td>1000</td>\n",
       "      <td>50</td>\n",
       "      <td>0.90</td>\n",
       "      <td>[100.04929185986862, 19.614134109858355]</td>\n",
       "      <td>1.203873</td>\n",
       "      <td>1.0</td>\n",
       "      <td>1.000</td>\n",
       "      <td>1.498429</td>\n",
       "    </tr>\n",
       "    <tr>\n",
       "      <th>26</th>\n",
       "      <td>1000</td>\n",
       "      <td>100</td>\n",
       "      <td>0.90</td>\n",
       "      <td>[99.93283580937752, 19.793062106897438]</td>\n",
       "      <td>1.240967</td>\n",
       "      <td>1.0</td>\n",
       "      <td>1.000</td>\n",
       "      <td>1.559730</td>\n",
       "    </tr>\n",
       "    <tr>\n",
       "      <th>27</th>\n",
       "      <td>1000</td>\n",
       "      <td>200</td>\n",
       "      <td>0.90</td>\n",
       "      <td>[99.97426365945776, 19.967659008387397]</td>\n",
       "      <td>1.291577</td>\n",
       "      <td>1.0</td>\n",
       "      <td>1.000</td>\n",
       "      <td>1.677140</td>\n",
       "    </tr>\n",
       "    <tr>\n",
       "      <th>28</th>\n",
       "      <td>1000</td>\n",
       "      <td>10</td>\n",
       "      <td>0.95</td>\n",
       "      <td>[100.15922258459838, 18.417619247968968]</td>\n",
       "      <td>1.205343</td>\n",
       "      <td>1.0</td>\n",
       "      <td>1.000</td>\n",
       "      <td>1.736016</td>\n",
       "    </tr>\n",
       "    <tr>\n",
       "      <th>29</th>\n",
       "      <td>1000</td>\n",
       "      <td>50</td>\n",
       "      <td>0.95</td>\n",
       "      <td>[100.0120621579543, 19.54437794422472]</td>\n",
       "      <td>1.322000</td>\n",
       "      <td>1.0</td>\n",
       "      <td>1.000</td>\n",
       "      <td>1.875367</td>\n",
       "    </tr>\n",
       "    <tr>\n",
       "      <th>30</th>\n",
       "      <td>1000</td>\n",
       "      <td>100</td>\n",
       "      <td>0.95</td>\n",
       "      <td>[99.98663317960646, 19.821387000400826]</td>\n",
       "      <td>1.335717</td>\n",
       "      <td>1.0</td>\n",
       "      <td>1.000</td>\n",
       "      <td>1.846396</td>\n",
       "    </tr>\n",
       "    <tr>\n",
       "      <th>31</th>\n",
       "      <td>1000</td>\n",
       "      <td>200</td>\n",
       "      <td>0.95</td>\n",
       "      <td>[99.98704667711361, 19.94703288522752]</td>\n",
       "      <td>1.386484</td>\n",
       "      <td>1.0</td>\n",
       "      <td>1.000</td>\n",
       "      <td>1.969322</td>\n",
       "    </tr>\n",
       "    <tr>\n",
       "      <th>32</th>\n",
       "      <td>1000</td>\n",
       "      <td>10</td>\n",
       "      <td>0.99</td>\n",
       "      <td>[99.99228644197399, 18.641930986456476]</td>\n",
       "      <td>1.632042</td>\n",
       "      <td>1.0</td>\n",
       "      <td>1.000</td>\n",
       "      <td>4.385936</td>\n",
       "    </tr>\n",
       "    <tr>\n",
       "      <th>33</th>\n",
       "      <td>1000</td>\n",
       "      <td>50</td>\n",
       "      <td>0.99</td>\n",
       "      <td>[99.8516401161555, 19.66965882579644]</td>\n",
       "      <td>1.696450</td>\n",
       "      <td>1.0</td>\n",
       "      <td>1.000</td>\n",
       "      <td>4.052441</td>\n",
       "    </tr>\n",
       "    <tr>\n",
       "      <th>34</th>\n",
       "      <td>1000</td>\n",
       "      <td>100</td>\n",
       "      <td>0.99</td>\n",
       "      <td>[100.11800788073796, 19.873618858905875]</td>\n",
       "      <td>1.828024</td>\n",
       "      <td>1.0</td>\n",
       "      <td>1.000</td>\n",
       "      <td>4.283967</td>\n",
       "    </tr>\n",
       "    <tr>\n",
       "      <th>35</th>\n",
       "      <td>1000</td>\n",
       "      <td>200</td>\n",
       "      <td>0.99</td>\n",
       "      <td>[100.10604694501536, 19.922720068462223]</td>\n",
       "      <td>1.856061</td>\n",
       "      <td>1.0</td>\n",
       "      <td>1.000</td>\n",
       "      <td>4.077844</td>\n",
       "    </tr>\n",
       "  </tbody>\n",
       "</table>\n",
       "</div>"
      ],
      "text/plain": [
       "    MonteCarlo iterations  Sample Size  Target Service Level  \\\n",
       "0                    1000           10                  0.01   \n",
       "1                    1000           50                  0.01   \n",
       "2                    1000          100                  0.01   \n",
       "3                    1000          200                  0.01   \n",
       "4                    1000           10                  0.05   \n",
       "5                    1000           50                  0.05   \n",
       "6                    1000          100                  0.05   \n",
       "7                    1000          200                  0.05   \n",
       "8                    1000           10                  0.10   \n",
       "9                    1000           50                  0.10   \n",
       "10                   1000          100                  0.10   \n",
       "11                   1000          200                  0.10   \n",
       "12                   1000           10                  0.30   \n",
       "13                   1000           50                  0.30   \n",
       "14                   1000          100                  0.30   \n",
       "15                   1000          200                  0.30   \n",
       "16                   1000           10                  0.50   \n",
       "17                   1000           50                  0.50   \n",
       "18                   1000          100                  0.50   \n",
       "19                   1000          200                  0.50   \n",
       "20                   1000           10                  0.70   \n",
       "21                   1000           50                  0.70   \n",
       "22                   1000          100                  0.70   \n",
       "23                   1000          200                  0.70   \n",
       "24                   1000           10                  0.90   \n",
       "25                   1000           50                  0.90   \n",
       "26                   1000          100                  0.90   \n",
       "27                   1000          200                  0.90   \n",
       "28                   1000           10                  0.95   \n",
       "29                   1000           50                  0.95   \n",
       "30                   1000          100                  0.95   \n",
       "31                   1000          200                  0.95   \n",
       "32                   1000           10                  0.99   \n",
       "33                   1000           50                  0.99   \n",
       "34                   1000          100                  0.99   \n",
       "35                   1000          200                  0.99   \n",
       "\n",
       "                                Param Values  RMSE Ratio  SL nonParam  \\\n",
       "0   [100.05276221108602, 18.322430190433316]    1.612756          0.0   \n",
       "1    [99.86599774239826, 19.625352516938257]    1.620333          0.0   \n",
       "2    [99.98793184995574, 19.825710639774723]    1.855067          0.0   \n",
       "3    [100.01753715293296, 19.93699120840811]    1.876973          0.0   \n",
       "4   [100.17412834628907, 18.583272451373194]    1.181105          0.0   \n",
       "5    [100.01290058587084, 19.74449497854405]    1.301301          0.0   \n",
       "6     [100.13613182339489, 19.7881913695077]    1.318215          0.0   \n",
       "7    [100.05332981205532, 19.88140049309111]    1.303488          0.0   \n",
       "8   [100.23942617137259, 18.565601623716454]    1.183254          0.0   \n",
       "9   [100.04874979208519, 19.739044117267085]    1.272098          0.0   \n",
       "10   [99.99181912249705, 19.862057809594308]    1.255063          0.0   \n",
       "11    [99.94557376606845, 19.93626653521018]    1.275211          0.0   \n",
       "12   [100.01234057271553, 18.40167409402248]    1.150979          0.0   \n",
       "13     [100.045476359628, 19.59994796413029]    1.159586          0.0   \n",
       "14    [99.95553857868616, 19.87172111463957]    1.230857          0.0   \n",
       "15    [99.98969354766454, 19.97795144562914]    1.253047          0.0   \n",
       "16   [99.88111367497952, 18.416370186536284]    1.204958          1.0   \n",
       "17  [100.01183584158314, 19.801637964016248]    1.229986          1.0   \n",
       "18    [99.94858764815986, 19.88816937504093]    1.247259          1.0   \n",
       "19   [99.98533922335635, 19.850357389312308]    1.233462          1.0   \n",
       "20    [99.95163186631038, 18.48645781982922]    1.144310          1.0   \n",
       "21    [99.92966205483107, 19.78819242496816]    1.181925          1.0   \n",
       "22   [100.05885869177334, 19.89212016844916]    1.227415          1.0   \n",
       "23    [100.09099045459278, 19.9095949857671]    1.217081          1.0   \n",
       "24   [99.99175822432173, 18.330235582417735]    1.170670          1.0   \n",
       "25  [100.04929185986862, 19.614134109858355]    1.203873          1.0   \n",
       "26   [99.93283580937752, 19.793062106897438]    1.240967          1.0   \n",
       "27   [99.97426365945776, 19.967659008387397]    1.291577          1.0   \n",
       "28  [100.15922258459838, 18.417619247968968]    1.205343          1.0   \n",
       "29    [100.0120621579543, 19.54437794422472]    1.322000          1.0   \n",
       "30   [99.98663317960646, 19.821387000400826]    1.335717          1.0   \n",
       "31    [99.98704667711361, 19.94703288522752]    1.386484          1.0   \n",
       "32   [99.99228644197399, 18.641930986456476]    1.632042          1.0   \n",
       "33     [99.8516401161555, 19.66965882579644]    1.696450          1.0   \n",
       "34  [100.11800788073796, 19.873618858905875]    1.828024          1.0   \n",
       "35  [100.10604694501536, 19.922720068462223]    1.856061          1.0   \n",
       "\n",
       "    SL Param      EPLR  \n",
       "0      0.000  4.256410  \n",
       "1      0.000  3.703326  \n",
       "2      0.000  4.501664  \n",
       "3      0.000  4.083639  \n",
       "4      0.000  1.662403  \n",
       "5      0.000  1.832646  \n",
       "6      0.000  1.826419  \n",
       "7      0.000  1.754196  \n",
       "8      0.000  1.509112  \n",
       "9      0.000  1.686979  \n",
       "10     0.000  1.595650  \n",
       "11     0.000  1.633746  \n",
       "12     0.009  1.326165  \n",
       "13     0.000  1.349605  \n",
       "14     0.000  1.518233  \n",
       "15     0.000  1.568950  \n",
       "16     0.463  1.439471  \n",
       "17     0.504  1.508549  \n",
       "18     0.520  1.553596  \n",
       "19     0.521  1.520564  \n",
       "20     0.990  1.302319  \n",
       "21     1.000  1.389667  \n",
       "22     1.000  1.506517  \n",
       "23     1.000  1.477477  \n",
       "24     1.000  1.513564  \n",
       "25     1.000  1.498429  \n",
       "26     1.000  1.559730  \n",
       "27     1.000  1.677140  \n",
       "28     1.000  1.736016  \n",
       "29     1.000  1.875367  \n",
       "30     1.000  1.846396  \n",
       "31     1.000  1.969322  \n",
       "32     1.000  4.385936  \n",
       "33     1.000  4.052441  \n",
       "34     1.000  4.283967  \n",
       "35     1.000  4.077844  "
      ]
     },
     "execution_count": 272,
     "metadata": {},
     "output_type": "execute_result"
    }
   ],
   "source": [
    "df = pd.DataFrame(results)\n",
    "df"
   ]
  },
  {
   "cell_type": "code",
   "execution_count": 273,
   "metadata": {},
   "outputs": [
    {
     "data": {
      "application/vnd.plotly.v1+json": {
       "config": {
        "plotlyServerURL": "https://plot.ly"
       },
       "data": [
        {
         "hovertemplate": "Target Service Level=%{x}<br>RMSE Ratio=%{y}<br>Sample Size=%{marker.color}<extra></extra>",
         "legendgroup": "",
         "marker": {
          "color": [
           10,
           50,
           100,
           200,
           10,
           50,
           100,
           200,
           10,
           50,
           100,
           200,
           10,
           50,
           100,
           200,
           10,
           50,
           100,
           200,
           10,
           50,
           100,
           200,
           10,
           50,
           100,
           200,
           10,
           50,
           100,
           200,
           10,
           50,
           100,
           200
          ],
          "coloraxis": "coloraxis",
          "symbol": "circle"
         },
         "mode": "markers",
         "name": "",
         "orientation": "v",
         "showlegend": false,
         "type": "scatter",
         "x": [
          0.01,
          0.01,
          0.01,
          0.01,
          0.05,
          0.05,
          0.05,
          0.05,
          0.1,
          0.1,
          0.1,
          0.1,
          0.3,
          0.3,
          0.3,
          0.3,
          0.5,
          0.5,
          0.5,
          0.5,
          0.7,
          0.7,
          0.7,
          0.7,
          0.9,
          0.9,
          0.9,
          0.9,
          0.95,
          0.95,
          0.95,
          0.95,
          0.99,
          0.99,
          0.99,
          0.99
         ],
         "xaxis": "x",
         "y": [
          1.612755916353954,
          1.6203331696197267,
          1.8550667761944382,
          1.8769727216598535,
          1.1811054307964042,
          1.3013005631189065,
          1.3182152691575029,
          1.3034882164969794,
          1.1832538303772995,
          1.2720976599253815,
          1.2550628700941227,
          1.2752112921158238,
          1.1509794386790047,
          1.159586220422557,
          1.2308568150733419,
          1.2530467061893564,
          1.2049584541186356,
          1.2299857878298666,
          1.2472591459829776,
          1.2334622845950207,
          1.1443097789199357,
          1.1819246045340976,
          1.2274145979989735,
          1.2170813320150928,
          1.1706701409774383,
          1.2038725479642274,
          1.2409671439480756,
          1.2915774376319749,
          1.2053433567210783,
          1.3220004249517185,
          1.33571697113665,
          1.3864840665832598,
          1.6320422320976282,
          1.696449597432343,
          1.828023503906472,
          1.856060760926012
         ],
         "yaxis": "y"
        }
       ],
       "layout": {
        "coloraxis": {
         "colorbar": {
          "title": {
           "text": "Sample Size"
          }
         },
         "colorscale": [
          [
           0,
           "#0d0887"
          ],
          [
           0.1111111111111111,
           "#46039f"
          ],
          [
           0.2222222222222222,
           "#7201a8"
          ],
          [
           0.3333333333333333,
           "#9c179e"
          ],
          [
           0.4444444444444444,
           "#bd3786"
          ],
          [
           0.5555555555555556,
           "#d8576b"
          ],
          [
           0.6666666666666666,
           "#ed7953"
          ],
          [
           0.7777777777777778,
           "#fb9f3a"
          ],
          [
           0.8888888888888888,
           "#fdca26"
          ],
          [
           1,
           "#f0f921"
          ]
         ]
        },
        "font": {
         "size": 15
        },
        "legend": {
         "tracegroupgap": 0
        },
        "template": {
         "data": {
          "bar": [
           {
            "error_x": {
             "color": "#2a3f5f"
            },
            "error_y": {
             "color": "#2a3f5f"
            },
            "marker": {
             "line": {
              "color": "#E5ECF6",
              "width": 0.5
             },
             "pattern": {
              "fillmode": "overlay",
              "size": 10,
              "solidity": 0.2
             }
            },
            "type": "bar"
           }
          ],
          "barpolar": [
           {
            "marker": {
             "line": {
              "color": "#E5ECF6",
              "width": 0.5
             },
             "pattern": {
              "fillmode": "overlay",
              "size": 10,
              "solidity": 0.2
             }
            },
            "type": "barpolar"
           }
          ],
          "carpet": [
           {
            "aaxis": {
             "endlinecolor": "#2a3f5f",
             "gridcolor": "white",
             "linecolor": "white",
             "minorgridcolor": "white",
             "startlinecolor": "#2a3f5f"
            },
            "baxis": {
             "endlinecolor": "#2a3f5f",
             "gridcolor": "white",
             "linecolor": "white",
             "minorgridcolor": "white",
             "startlinecolor": "#2a3f5f"
            },
            "type": "carpet"
           }
          ],
          "choropleth": [
           {
            "colorbar": {
             "outlinewidth": 0,
             "ticks": ""
            },
            "type": "choropleth"
           }
          ],
          "contour": [
           {
            "colorbar": {
             "outlinewidth": 0,
             "ticks": ""
            },
            "colorscale": [
             [
              0,
              "#0d0887"
             ],
             [
              0.1111111111111111,
              "#46039f"
             ],
             [
              0.2222222222222222,
              "#7201a8"
             ],
             [
              0.3333333333333333,
              "#9c179e"
             ],
             [
              0.4444444444444444,
              "#bd3786"
             ],
             [
              0.5555555555555556,
              "#d8576b"
             ],
             [
              0.6666666666666666,
              "#ed7953"
             ],
             [
              0.7777777777777778,
              "#fb9f3a"
             ],
             [
              0.8888888888888888,
              "#fdca26"
             ],
             [
              1,
              "#f0f921"
             ]
            ],
            "type": "contour"
           }
          ],
          "contourcarpet": [
           {
            "colorbar": {
             "outlinewidth": 0,
             "ticks": ""
            },
            "type": "contourcarpet"
           }
          ],
          "heatmap": [
           {
            "colorbar": {
             "outlinewidth": 0,
             "ticks": ""
            },
            "colorscale": [
             [
              0,
              "#0d0887"
             ],
             [
              0.1111111111111111,
              "#46039f"
             ],
             [
              0.2222222222222222,
              "#7201a8"
             ],
             [
              0.3333333333333333,
              "#9c179e"
             ],
             [
              0.4444444444444444,
              "#bd3786"
             ],
             [
              0.5555555555555556,
              "#d8576b"
             ],
             [
              0.6666666666666666,
              "#ed7953"
             ],
             [
              0.7777777777777778,
              "#fb9f3a"
             ],
             [
              0.8888888888888888,
              "#fdca26"
             ],
             [
              1,
              "#f0f921"
             ]
            ],
            "type": "heatmap"
           }
          ],
          "heatmapgl": [
           {
            "colorbar": {
             "outlinewidth": 0,
             "ticks": ""
            },
            "colorscale": [
             [
              0,
              "#0d0887"
             ],
             [
              0.1111111111111111,
              "#46039f"
             ],
             [
              0.2222222222222222,
              "#7201a8"
             ],
             [
              0.3333333333333333,
              "#9c179e"
             ],
             [
              0.4444444444444444,
              "#bd3786"
             ],
             [
              0.5555555555555556,
              "#d8576b"
             ],
             [
              0.6666666666666666,
              "#ed7953"
             ],
             [
              0.7777777777777778,
              "#fb9f3a"
             ],
             [
              0.8888888888888888,
              "#fdca26"
             ],
             [
              1,
              "#f0f921"
             ]
            ],
            "type": "heatmapgl"
           }
          ],
          "histogram": [
           {
            "marker": {
             "pattern": {
              "fillmode": "overlay",
              "size": 10,
              "solidity": 0.2
             }
            },
            "type": "histogram"
           }
          ],
          "histogram2d": [
           {
            "colorbar": {
             "outlinewidth": 0,
             "ticks": ""
            },
            "colorscale": [
             [
              0,
              "#0d0887"
             ],
             [
              0.1111111111111111,
              "#46039f"
             ],
             [
              0.2222222222222222,
              "#7201a8"
             ],
             [
              0.3333333333333333,
              "#9c179e"
             ],
             [
              0.4444444444444444,
              "#bd3786"
             ],
             [
              0.5555555555555556,
              "#d8576b"
             ],
             [
              0.6666666666666666,
              "#ed7953"
             ],
             [
              0.7777777777777778,
              "#fb9f3a"
             ],
             [
              0.8888888888888888,
              "#fdca26"
             ],
             [
              1,
              "#f0f921"
             ]
            ],
            "type": "histogram2d"
           }
          ],
          "histogram2dcontour": [
           {
            "colorbar": {
             "outlinewidth": 0,
             "ticks": ""
            },
            "colorscale": [
             [
              0,
              "#0d0887"
             ],
             [
              0.1111111111111111,
              "#46039f"
             ],
             [
              0.2222222222222222,
              "#7201a8"
             ],
             [
              0.3333333333333333,
              "#9c179e"
             ],
             [
              0.4444444444444444,
              "#bd3786"
             ],
             [
              0.5555555555555556,
              "#d8576b"
             ],
             [
              0.6666666666666666,
              "#ed7953"
             ],
             [
              0.7777777777777778,
              "#fb9f3a"
             ],
             [
              0.8888888888888888,
              "#fdca26"
             ],
             [
              1,
              "#f0f921"
             ]
            ],
            "type": "histogram2dcontour"
           }
          ],
          "mesh3d": [
           {
            "colorbar": {
             "outlinewidth": 0,
             "ticks": ""
            },
            "type": "mesh3d"
           }
          ],
          "parcoords": [
           {
            "line": {
             "colorbar": {
              "outlinewidth": 0,
              "ticks": ""
             }
            },
            "type": "parcoords"
           }
          ],
          "pie": [
           {
            "automargin": true,
            "type": "pie"
           }
          ],
          "scatter": [
           {
            "fillpattern": {
             "fillmode": "overlay",
             "size": 10,
             "solidity": 0.2
            },
            "type": "scatter"
           }
          ],
          "scatter3d": [
           {
            "line": {
             "colorbar": {
              "outlinewidth": 0,
              "ticks": ""
             }
            },
            "marker": {
             "colorbar": {
              "outlinewidth": 0,
              "ticks": ""
             }
            },
            "type": "scatter3d"
           }
          ],
          "scattercarpet": [
           {
            "marker": {
             "colorbar": {
              "outlinewidth": 0,
              "ticks": ""
             }
            },
            "type": "scattercarpet"
           }
          ],
          "scattergeo": [
           {
            "marker": {
             "colorbar": {
              "outlinewidth": 0,
              "ticks": ""
             }
            },
            "type": "scattergeo"
           }
          ],
          "scattergl": [
           {
            "marker": {
             "colorbar": {
              "outlinewidth": 0,
              "ticks": ""
             }
            },
            "type": "scattergl"
           }
          ],
          "scattermapbox": [
           {
            "marker": {
             "colorbar": {
              "outlinewidth": 0,
              "ticks": ""
             }
            },
            "type": "scattermapbox"
           }
          ],
          "scatterpolar": [
           {
            "marker": {
             "colorbar": {
              "outlinewidth": 0,
              "ticks": ""
             }
            },
            "type": "scatterpolar"
           }
          ],
          "scatterpolargl": [
           {
            "marker": {
             "colorbar": {
              "outlinewidth": 0,
              "ticks": ""
             }
            },
            "type": "scatterpolargl"
           }
          ],
          "scatterternary": [
           {
            "marker": {
             "colorbar": {
              "outlinewidth": 0,
              "ticks": ""
             }
            },
            "type": "scatterternary"
           }
          ],
          "surface": [
           {
            "colorbar": {
             "outlinewidth": 0,
             "ticks": ""
            },
            "colorscale": [
             [
              0,
              "#0d0887"
             ],
             [
              0.1111111111111111,
              "#46039f"
             ],
             [
              0.2222222222222222,
              "#7201a8"
             ],
             [
              0.3333333333333333,
              "#9c179e"
             ],
             [
              0.4444444444444444,
              "#bd3786"
             ],
             [
              0.5555555555555556,
              "#d8576b"
             ],
             [
              0.6666666666666666,
              "#ed7953"
             ],
             [
              0.7777777777777778,
              "#fb9f3a"
             ],
             [
              0.8888888888888888,
              "#fdca26"
             ],
             [
              1,
              "#f0f921"
             ]
            ],
            "type": "surface"
           }
          ],
          "table": [
           {
            "cells": {
             "fill": {
              "color": "#EBF0F8"
             },
             "line": {
              "color": "white"
             }
            },
            "header": {
             "fill": {
              "color": "#C8D4E3"
             },
             "line": {
              "color": "white"
             }
            },
            "type": "table"
           }
          ]
         },
         "layout": {
          "annotationdefaults": {
           "arrowcolor": "#2a3f5f",
           "arrowhead": 0,
           "arrowwidth": 1
          },
          "autotypenumbers": "strict",
          "coloraxis": {
           "colorbar": {
            "outlinewidth": 0,
            "ticks": ""
           }
          },
          "colorscale": {
           "diverging": [
            [
             0,
             "#8e0152"
            ],
            [
             0.1,
             "#c51b7d"
            ],
            [
             0.2,
             "#de77ae"
            ],
            [
             0.3,
             "#f1b6da"
            ],
            [
             0.4,
             "#fde0ef"
            ],
            [
             0.5,
             "#f7f7f7"
            ],
            [
             0.6,
             "#e6f5d0"
            ],
            [
             0.7,
             "#b8e186"
            ],
            [
             0.8,
             "#7fbc41"
            ],
            [
             0.9,
             "#4d9221"
            ],
            [
             1,
             "#276419"
            ]
           ],
           "sequential": [
            [
             0,
             "#0d0887"
            ],
            [
             0.1111111111111111,
             "#46039f"
            ],
            [
             0.2222222222222222,
             "#7201a8"
            ],
            [
             0.3333333333333333,
             "#9c179e"
            ],
            [
             0.4444444444444444,
             "#bd3786"
            ],
            [
             0.5555555555555556,
             "#d8576b"
            ],
            [
             0.6666666666666666,
             "#ed7953"
            ],
            [
             0.7777777777777778,
             "#fb9f3a"
            ],
            [
             0.8888888888888888,
             "#fdca26"
            ],
            [
             1,
             "#f0f921"
            ]
           ],
           "sequentialminus": [
            [
             0,
             "#0d0887"
            ],
            [
             0.1111111111111111,
             "#46039f"
            ],
            [
             0.2222222222222222,
             "#7201a8"
            ],
            [
             0.3333333333333333,
             "#9c179e"
            ],
            [
             0.4444444444444444,
             "#bd3786"
            ],
            [
             0.5555555555555556,
             "#d8576b"
            ],
            [
             0.6666666666666666,
             "#ed7953"
            ],
            [
             0.7777777777777778,
             "#fb9f3a"
            ],
            [
             0.8888888888888888,
             "#fdca26"
            ],
            [
             1,
             "#f0f921"
            ]
           ]
          },
          "colorway": [
           "#636efa",
           "#EF553B",
           "#00cc96",
           "#ab63fa",
           "#FFA15A",
           "#19d3f3",
           "#FF6692",
           "#B6E880",
           "#FF97FF",
           "#FECB52"
          ],
          "font": {
           "color": "#2a3f5f"
          },
          "geo": {
           "bgcolor": "white",
           "lakecolor": "white",
           "landcolor": "#E5ECF6",
           "showlakes": true,
           "showland": true,
           "subunitcolor": "white"
          },
          "hoverlabel": {
           "align": "left"
          },
          "hovermode": "closest",
          "mapbox": {
           "style": "light"
          },
          "paper_bgcolor": "white",
          "plot_bgcolor": "#E5ECF6",
          "polar": {
           "angularaxis": {
            "gridcolor": "white",
            "linecolor": "white",
            "ticks": ""
           },
           "bgcolor": "#E5ECF6",
           "radialaxis": {
            "gridcolor": "white",
            "linecolor": "white",
            "ticks": ""
           }
          },
          "scene": {
           "xaxis": {
            "backgroundcolor": "#E5ECF6",
            "gridcolor": "white",
            "gridwidth": 2,
            "linecolor": "white",
            "showbackground": true,
            "ticks": "",
            "zerolinecolor": "white"
           },
           "yaxis": {
            "backgroundcolor": "#E5ECF6",
            "gridcolor": "white",
            "gridwidth": 2,
            "linecolor": "white",
            "showbackground": true,
            "ticks": "",
            "zerolinecolor": "white"
           },
           "zaxis": {
            "backgroundcolor": "#E5ECF6",
            "gridcolor": "white",
            "gridwidth": 2,
            "linecolor": "white",
            "showbackground": true,
            "ticks": "",
            "zerolinecolor": "white"
           }
          },
          "shapedefaults": {
           "line": {
            "color": "#2a3f5f"
           }
          },
          "ternary": {
           "aaxis": {
            "gridcolor": "white",
            "linecolor": "white",
            "ticks": ""
           },
           "baxis": {
            "gridcolor": "white",
            "linecolor": "white",
            "ticks": ""
           },
           "bgcolor": "#E5ECF6",
           "caxis": {
            "gridcolor": "white",
            "linecolor": "white",
            "ticks": ""
           }
          },
          "title": {
           "x": 0.05
          },
          "xaxis": {
           "automargin": true,
           "gridcolor": "white",
           "linecolor": "white",
           "ticks": "",
           "title": {
            "standoff": 15
           },
           "zerolinecolor": "white",
           "zerolinewidth": 2
          },
          "yaxis": {
           "automargin": true,
           "gridcolor": "white",
           "linecolor": "white",
           "ticks": "",
           "title": {
            "standoff": 15
           },
           "zerolinecolor": "white",
           "zerolinewidth": 2
          }
         }
        },
        "title": {
         "text": "TSL vs RMSE, mean: 100 | stddev: 20 | m = 1000<br><sup>higher RMSE means parametric performs better</sup>"
        },
        "xaxis": {
         "anchor": "y",
         "domain": [
          0,
          1
         ],
         "title": {
          "text": "Target Service Level"
         }
        },
        "yaxis": {
         "anchor": "x",
         "domain": [
          0,
          1
         ],
         "title": {
          "text": "RMSE Ratio"
         }
        }
       }
      }
     },
     "metadata": {},
     "output_type": "display_data"
    },
    {
     "data": {
      "application/vnd.plotly.v1+json": {
       "config": {
        "plotlyServerURL": "https://plot.ly"
       },
       "data": [
        {
         "hovertemplate": "Target Service Level=%{x}<br>EPLR=%{y}<br>Sample Size=%{marker.color}<extra></extra>",
         "legendgroup": "",
         "marker": {
          "color": [
           10,
           50,
           100,
           200,
           10,
           50,
           100,
           200,
           10,
           50,
           100,
           200,
           10,
           50,
           100,
           200,
           10,
           50,
           100,
           200,
           10,
           50,
           100,
           200,
           10,
           50,
           100,
           200,
           10,
           50,
           100,
           200,
           10,
           50,
           100,
           200
          ],
          "coloraxis": "coloraxis",
          "symbol": "circle"
         },
         "mode": "markers",
         "name": "",
         "orientation": "v",
         "showlegend": false,
         "type": "scatter",
         "x": [
          0.01,
          0.01,
          0.01,
          0.01,
          0.05,
          0.05,
          0.05,
          0.05,
          0.1,
          0.1,
          0.1,
          0.1,
          0.3,
          0.3,
          0.3,
          0.3,
          0.5,
          0.5,
          0.5,
          0.5,
          0.7,
          0.7,
          0.7,
          0.7,
          0.9,
          0.9,
          0.9,
          0.9,
          0.95,
          0.95,
          0.95,
          0.95,
          0.99,
          0.99,
          0.99,
          0.99
         ],
         "xaxis": "x",
         "y": [
          4.256410474623582,
          3.7033257914493563,
          4.501664022740858,
          4.083638858889171,
          1.662403399078833,
          1.8326463176941217,
          1.8264189097689427,
          1.7541961768875571,
          1.5091121283957432,
          1.6869792087921498,
          1.5956496627822905,
          1.6337456974418028,
          1.3261651229880314,
          1.3496047779656208,
          1.518232690939653,
          1.5689495450508912,
          1.43947087058985,
          1.5085493325680794,
          1.5535956636336479,
          1.5205642439790097,
          1.3023187469173299,
          1.3896672231779448,
          1.5065172323350204,
          1.4774765055209496,
          1.5135637621999884,
          1.4984288767863754,
          1.5597297290851178,
          1.67713978510105,
          1.7360163218796945,
          1.875366857929213,
          1.8463956307839342,
          1.9693216021914952,
          4.385935625003167,
          4.052440775100212,
          4.2839672316390836,
          4.0778439703493605
         ],
         "yaxis": "y"
        }
       ],
       "layout": {
        "coloraxis": {
         "colorbar": {
          "title": {
           "text": "Sample Size"
          }
         },
         "colorscale": [
          [
           0,
           "#0d0887"
          ],
          [
           0.1111111111111111,
           "#46039f"
          ],
          [
           0.2222222222222222,
           "#7201a8"
          ],
          [
           0.3333333333333333,
           "#9c179e"
          ],
          [
           0.4444444444444444,
           "#bd3786"
          ],
          [
           0.5555555555555556,
           "#d8576b"
          ],
          [
           0.6666666666666666,
           "#ed7953"
          ],
          [
           0.7777777777777778,
           "#fb9f3a"
          ],
          [
           0.8888888888888888,
           "#fdca26"
          ],
          [
           1,
           "#f0f921"
          ]
         ]
        },
        "font": {
         "size": 15
        },
        "legend": {
         "tracegroupgap": 0
        },
        "template": {
         "data": {
          "bar": [
           {
            "error_x": {
             "color": "#2a3f5f"
            },
            "error_y": {
             "color": "#2a3f5f"
            },
            "marker": {
             "line": {
              "color": "#E5ECF6",
              "width": 0.5
             },
             "pattern": {
              "fillmode": "overlay",
              "size": 10,
              "solidity": 0.2
             }
            },
            "type": "bar"
           }
          ],
          "barpolar": [
           {
            "marker": {
             "line": {
              "color": "#E5ECF6",
              "width": 0.5
             },
             "pattern": {
              "fillmode": "overlay",
              "size": 10,
              "solidity": 0.2
             }
            },
            "type": "barpolar"
           }
          ],
          "carpet": [
           {
            "aaxis": {
             "endlinecolor": "#2a3f5f",
             "gridcolor": "white",
             "linecolor": "white",
             "minorgridcolor": "white",
             "startlinecolor": "#2a3f5f"
            },
            "baxis": {
             "endlinecolor": "#2a3f5f",
             "gridcolor": "white",
             "linecolor": "white",
             "minorgridcolor": "white",
             "startlinecolor": "#2a3f5f"
            },
            "type": "carpet"
           }
          ],
          "choropleth": [
           {
            "colorbar": {
             "outlinewidth": 0,
             "ticks": ""
            },
            "type": "choropleth"
           }
          ],
          "contour": [
           {
            "colorbar": {
             "outlinewidth": 0,
             "ticks": ""
            },
            "colorscale": [
             [
              0,
              "#0d0887"
             ],
             [
              0.1111111111111111,
              "#46039f"
             ],
             [
              0.2222222222222222,
              "#7201a8"
             ],
             [
              0.3333333333333333,
              "#9c179e"
             ],
             [
              0.4444444444444444,
              "#bd3786"
             ],
             [
              0.5555555555555556,
              "#d8576b"
             ],
             [
              0.6666666666666666,
              "#ed7953"
             ],
             [
              0.7777777777777778,
              "#fb9f3a"
             ],
             [
              0.8888888888888888,
              "#fdca26"
             ],
             [
              1,
              "#f0f921"
             ]
            ],
            "type": "contour"
           }
          ],
          "contourcarpet": [
           {
            "colorbar": {
             "outlinewidth": 0,
             "ticks": ""
            },
            "type": "contourcarpet"
           }
          ],
          "heatmap": [
           {
            "colorbar": {
             "outlinewidth": 0,
             "ticks": ""
            },
            "colorscale": [
             [
              0,
              "#0d0887"
             ],
             [
              0.1111111111111111,
              "#46039f"
             ],
             [
              0.2222222222222222,
              "#7201a8"
             ],
             [
              0.3333333333333333,
              "#9c179e"
             ],
             [
              0.4444444444444444,
              "#bd3786"
             ],
             [
              0.5555555555555556,
              "#d8576b"
             ],
             [
              0.6666666666666666,
              "#ed7953"
             ],
             [
              0.7777777777777778,
              "#fb9f3a"
             ],
             [
              0.8888888888888888,
              "#fdca26"
             ],
             [
              1,
              "#f0f921"
             ]
            ],
            "type": "heatmap"
           }
          ],
          "heatmapgl": [
           {
            "colorbar": {
             "outlinewidth": 0,
             "ticks": ""
            },
            "colorscale": [
             [
              0,
              "#0d0887"
             ],
             [
              0.1111111111111111,
              "#46039f"
             ],
             [
              0.2222222222222222,
              "#7201a8"
             ],
             [
              0.3333333333333333,
              "#9c179e"
             ],
             [
              0.4444444444444444,
              "#bd3786"
             ],
             [
              0.5555555555555556,
              "#d8576b"
             ],
             [
              0.6666666666666666,
              "#ed7953"
             ],
             [
              0.7777777777777778,
              "#fb9f3a"
             ],
             [
              0.8888888888888888,
              "#fdca26"
             ],
             [
              1,
              "#f0f921"
             ]
            ],
            "type": "heatmapgl"
           }
          ],
          "histogram": [
           {
            "marker": {
             "pattern": {
              "fillmode": "overlay",
              "size": 10,
              "solidity": 0.2
             }
            },
            "type": "histogram"
           }
          ],
          "histogram2d": [
           {
            "colorbar": {
             "outlinewidth": 0,
             "ticks": ""
            },
            "colorscale": [
             [
              0,
              "#0d0887"
             ],
             [
              0.1111111111111111,
              "#46039f"
             ],
             [
              0.2222222222222222,
              "#7201a8"
             ],
             [
              0.3333333333333333,
              "#9c179e"
             ],
             [
              0.4444444444444444,
              "#bd3786"
             ],
             [
              0.5555555555555556,
              "#d8576b"
             ],
             [
              0.6666666666666666,
              "#ed7953"
             ],
             [
              0.7777777777777778,
              "#fb9f3a"
             ],
             [
              0.8888888888888888,
              "#fdca26"
             ],
             [
              1,
              "#f0f921"
             ]
            ],
            "type": "histogram2d"
           }
          ],
          "histogram2dcontour": [
           {
            "colorbar": {
             "outlinewidth": 0,
             "ticks": ""
            },
            "colorscale": [
             [
              0,
              "#0d0887"
             ],
             [
              0.1111111111111111,
              "#46039f"
             ],
             [
              0.2222222222222222,
              "#7201a8"
             ],
             [
              0.3333333333333333,
              "#9c179e"
             ],
             [
              0.4444444444444444,
              "#bd3786"
             ],
             [
              0.5555555555555556,
              "#d8576b"
             ],
             [
              0.6666666666666666,
              "#ed7953"
             ],
             [
              0.7777777777777778,
              "#fb9f3a"
             ],
             [
              0.8888888888888888,
              "#fdca26"
             ],
             [
              1,
              "#f0f921"
             ]
            ],
            "type": "histogram2dcontour"
           }
          ],
          "mesh3d": [
           {
            "colorbar": {
             "outlinewidth": 0,
             "ticks": ""
            },
            "type": "mesh3d"
           }
          ],
          "parcoords": [
           {
            "line": {
             "colorbar": {
              "outlinewidth": 0,
              "ticks": ""
             }
            },
            "type": "parcoords"
           }
          ],
          "pie": [
           {
            "automargin": true,
            "type": "pie"
           }
          ],
          "scatter": [
           {
            "fillpattern": {
             "fillmode": "overlay",
             "size": 10,
             "solidity": 0.2
            },
            "type": "scatter"
           }
          ],
          "scatter3d": [
           {
            "line": {
             "colorbar": {
              "outlinewidth": 0,
              "ticks": ""
             }
            },
            "marker": {
             "colorbar": {
              "outlinewidth": 0,
              "ticks": ""
             }
            },
            "type": "scatter3d"
           }
          ],
          "scattercarpet": [
           {
            "marker": {
             "colorbar": {
              "outlinewidth": 0,
              "ticks": ""
             }
            },
            "type": "scattercarpet"
           }
          ],
          "scattergeo": [
           {
            "marker": {
             "colorbar": {
              "outlinewidth": 0,
              "ticks": ""
             }
            },
            "type": "scattergeo"
           }
          ],
          "scattergl": [
           {
            "marker": {
             "colorbar": {
              "outlinewidth": 0,
              "ticks": ""
             }
            },
            "type": "scattergl"
           }
          ],
          "scattermapbox": [
           {
            "marker": {
             "colorbar": {
              "outlinewidth": 0,
              "ticks": ""
             }
            },
            "type": "scattermapbox"
           }
          ],
          "scatterpolar": [
           {
            "marker": {
             "colorbar": {
              "outlinewidth": 0,
              "ticks": ""
             }
            },
            "type": "scatterpolar"
           }
          ],
          "scatterpolargl": [
           {
            "marker": {
             "colorbar": {
              "outlinewidth": 0,
              "ticks": ""
             }
            },
            "type": "scatterpolargl"
           }
          ],
          "scatterternary": [
           {
            "marker": {
             "colorbar": {
              "outlinewidth": 0,
              "ticks": ""
             }
            },
            "type": "scatterternary"
           }
          ],
          "surface": [
           {
            "colorbar": {
             "outlinewidth": 0,
             "ticks": ""
            },
            "colorscale": [
             [
              0,
              "#0d0887"
             ],
             [
              0.1111111111111111,
              "#46039f"
             ],
             [
              0.2222222222222222,
              "#7201a8"
             ],
             [
              0.3333333333333333,
              "#9c179e"
             ],
             [
              0.4444444444444444,
              "#bd3786"
             ],
             [
              0.5555555555555556,
              "#d8576b"
             ],
             [
              0.6666666666666666,
              "#ed7953"
             ],
             [
              0.7777777777777778,
              "#fb9f3a"
             ],
             [
              0.8888888888888888,
              "#fdca26"
             ],
             [
              1,
              "#f0f921"
             ]
            ],
            "type": "surface"
           }
          ],
          "table": [
           {
            "cells": {
             "fill": {
              "color": "#EBF0F8"
             },
             "line": {
              "color": "white"
             }
            },
            "header": {
             "fill": {
              "color": "#C8D4E3"
             },
             "line": {
              "color": "white"
             }
            },
            "type": "table"
           }
          ]
         },
         "layout": {
          "annotationdefaults": {
           "arrowcolor": "#2a3f5f",
           "arrowhead": 0,
           "arrowwidth": 1
          },
          "autotypenumbers": "strict",
          "coloraxis": {
           "colorbar": {
            "outlinewidth": 0,
            "ticks": ""
           }
          },
          "colorscale": {
           "diverging": [
            [
             0,
             "#8e0152"
            ],
            [
             0.1,
             "#c51b7d"
            ],
            [
             0.2,
             "#de77ae"
            ],
            [
             0.3,
             "#f1b6da"
            ],
            [
             0.4,
             "#fde0ef"
            ],
            [
             0.5,
             "#f7f7f7"
            ],
            [
             0.6,
             "#e6f5d0"
            ],
            [
             0.7,
             "#b8e186"
            ],
            [
             0.8,
             "#7fbc41"
            ],
            [
             0.9,
             "#4d9221"
            ],
            [
             1,
             "#276419"
            ]
           ],
           "sequential": [
            [
             0,
             "#0d0887"
            ],
            [
             0.1111111111111111,
             "#46039f"
            ],
            [
             0.2222222222222222,
             "#7201a8"
            ],
            [
             0.3333333333333333,
             "#9c179e"
            ],
            [
             0.4444444444444444,
             "#bd3786"
            ],
            [
             0.5555555555555556,
             "#d8576b"
            ],
            [
             0.6666666666666666,
             "#ed7953"
            ],
            [
             0.7777777777777778,
             "#fb9f3a"
            ],
            [
             0.8888888888888888,
             "#fdca26"
            ],
            [
             1,
             "#f0f921"
            ]
           ],
           "sequentialminus": [
            [
             0,
             "#0d0887"
            ],
            [
             0.1111111111111111,
             "#46039f"
            ],
            [
             0.2222222222222222,
             "#7201a8"
            ],
            [
             0.3333333333333333,
             "#9c179e"
            ],
            [
             0.4444444444444444,
             "#bd3786"
            ],
            [
             0.5555555555555556,
             "#d8576b"
            ],
            [
             0.6666666666666666,
             "#ed7953"
            ],
            [
             0.7777777777777778,
             "#fb9f3a"
            ],
            [
             0.8888888888888888,
             "#fdca26"
            ],
            [
             1,
             "#f0f921"
            ]
           ]
          },
          "colorway": [
           "#636efa",
           "#EF553B",
           "#00cc96",
           "#ab63fa",
           "#FFA15A",
           "#19d3f3",
           "#FF6692",
           "#B6E880",
           "#FF97FF",
           "#FECB52"
          ],
          "font": {
           "color": "#2a3f5f"
          },
          "geo": {
           "bgcolor": "white",
           "lakecolor": "white",
           "landcolor": "#E5ECF6",
           "showlakes": true,
           "showland": true,
           "subunitcolor": "white"
          },
          "hoverlabel": {
           "align": "left"
          },
          "hovermode": "closest",
          "mapbox": {
           "style": "light"
          },
          "paper_bgcolor": "white",
          "plot_bgcolor": "#E5ECF6",
          "polar": {
           "angularaxis": {
            "gridcolor": "white",
            "linecolor": "white",
            "ticks": ""
           },
           "bgcolor": "#E5ECF6",
           "radialaxis": {
            "gridcolor": "white",
            "linecolor": "white",
            "ticks": ""
           }
          },
          "scene": {
           "xaxis": {
            "backgroundcolor": "#E5ECF6",
            "gridcolor": "white",
            "gridwidth": 2,
            "linecolor": "white",
            "showbackground": true,
            "ticks": "",
            "zerolinecolor": "white"
           },
           "yaxis": {
            "backgroundcolor": "#E5ECF6",
            "gridcolor": "white",
            "gridwidth": 2,
            "linecolor": "white",
            "showbackground": true,
            "ticks": "",
            "zerolinecolor": "white"
           },
           "zaxis": {
            "backgroundcolor": "#E5ECF6",
            "gridcolor": "white",
            "gridwidth": 2,
            "linecolor": "white",
            "showbackground": true,
            "ticks": "",
            "zerolinecolor": "white"
           }
          },
          "shapedefaults": {
           "line": {
            "color": "#2a3f5f"
           }
          },
          "ternary": {
           "aaxis": {
            "gridcolor": "white",
            "linecolor": "white",
            "ticks": ""
           },
           "baxis": {
            "gridcolor": "white",
            "linecolor": "white",
            "ticks": ""
           },
           "bgcolor": "#E5ECF6",
           "caxis": {
            "gridcolor": "white",
            "linecolor": "white",
            "ticks": ""
           }
          },
          "title": {
           "x": 0.05
          },
          "xaxis": {
           "automargin": true,
           "gridcolor": "white",
           "linecolor": "white",
           "ticks": "",
           "title": {
            "standoff": 15
           },
           "zerolinecolor": "white",
           "zerolinewidth": 2
          },
          "yaxis": {
           "automargin": true,
           "gridcolor": "white",
           "linecolor": "white",
           "ticks": "",
           "title": {
            "standoff": 15
           },
           "zerolinecolor": "white",
           "zerolinewidth": 2
          }
         }
        },
        "title": {
         "text": "TSL vs EPLR, mean: 100 | stddev: 20 | m = 1000<br><sup>higher EPLR means parametric performs better</sup>"
        },
        "xaxis": {
         "anchor": "y",
         "domain": [
          0,
          1
         ],
         "title": {
          "text": "Target Service Level"
         }
        },
        "yaxis": {
         "anchor": "x",
         "domain": [
          0,
          1
         ],
         "title": {
          "text": "EPLR"
         }
        }
       }
      }
     },
     "metadata": {},
     "output_type": "display_data"
    }
   ],
   "source": [
    "fig = px.scatter(df, x='Target Service Level', y='RMSE Ratio', color=\"Sample Size\", title=\"TSL vs RMSE, mean: {0} | stddev: {1} | m = {2}<br><sup>higher RMSE means parametric performs better</sup>\".format(meanDemand, stdevDemand, numberOfMontecarloIterations))\n",
    "fig.update_layout(font_size = 15)\n",
    "#fig.write_image(\"Excercise part 3/RMSE-{0}-{1}.pdf\".format(meanDemand, stdevDemand))\n",
    "fig.show()\n",
    "\n",
    "fig = px.scatter(df, x='Target Service Level', y='EPLR', color=\"Sample Size\", title=\"TSL vs EPLR, mean: {0} | stddev: {1} | m = {2}<br><sup>higher EPLR means parametric performs better</sup>\".format(meanDemand, stdevDemand, numberOfMontecarloIterations))\n",
    "fig.update_layout(font_size = 15)\n",
    "#fig.write_image(\"Excercise part 3/EPLR-{0}-{1}.pdf\".format(meanDemand, stdevDemand))\n",
    "fig.show()"
   ]
  }
 ],
 "metadata": {
  "kernelspec": {
   "display_name": "Python 3",
   "language": "python",
   "name": "python3"
  },
  "language_info": {
   "codemirror_mode": {
    "name": "ipython",
    "version": 3
   },
   "file_extension": ".py",
   "mimetype": "text/x-python",
   "name": "python",
   "nbconvert_exporter": "python",
   "pygments_lexer": "ipython3",
   "version": "3.11.4"
  },
  "orig_nbformat": 4
 },
 "nbformat": 4,
 "nbformat_minor": 2
}
