{
 "cells": [
  {
   "cell_type": "code",
   "execution_count": 51,
   "metadata": {},
   "outputs": [],
   "source": [
    "import scipy.stats as sts\n",
    "import numpy as np\n",
    "import pandas as pd\n",
    "import plotly.express as px\n",
    "from scipy.integrate import quad\n",
    "from functools import lru_cache\n",
    "from time import time\n",
    "\n",
    "np.random.seed(0)\n",
    "def timer_func(func):\n",
    "    # This function shows the execution time of \n",
    "    # the function object passed\n",
    "    def wrap_func(*args, **kwargs):\n",
    "        t1 = time()\n",
    "        result = func(*args, **kwargs)\n",
    "        t2 = time()\n",
    "        print(f'Function {func.__name__!r} executed in {(t2-t1):.4f}s')\n",
    "        return result\n",
    "    return wrap_func\n",
    "  \n",
    "  \n",
    "\n",
    "\n",
    "# Estimators\n",
    "def nonParametricOptimalQuantity(distributionData, tau):\n",
    "    optimalQuantity = np.quantile(distributionData,tau)\n",
    "    return optimalQuantity\n",
    "\n",
    "def parametricOptimalQuantity(tau, dist, parameters):\n",
    "    optimalQuantity = dist.ppf(tau, *parameters)\n",
    "    return optimalQuantity\n",
    "\n",
    "# Expected profit\n",
    "\n",
    "\n",
    "\n",
    "def int_dist(y,dist):\n",
    "    f = dist.pdf(y)\n",
    "    return y * f\n",
    "@timer_func\n",
    "def integrate(Q_star,dist):\n",
    "    return quad(int_dist,0,Q_star,args=(dist,))[0]\n",
    "\n",
    "def calculateOptimalProfit(tau,Q_star,dist):\n",
    "    price = 1\n",
    "    cost = 1 - tau\n",
    "\n",
    "    integral_value = integrate(Q_star, dist)\n",
    "    t1 = price * integral_value\n",
    "    t2 = price * Q_star * dist.sf(Q_star)\n",
    "    t3 = cost * Q_star\n",
    "    return t1 + t2 - t3\n",
    "\n",
    "# Evaluation of test statistics functions\n",
    "def empericalRootMeanSquaredError(m, optimalQuantities, realOptimalQuantity):\n",
    "    rmse = np.sqrt(1/m * np.sum((optimalQuantities - realOptimalQuantity)**2))\n",
    "    return rmse\n",
    "\n",
    "def empericalRootMeanSquaredErrorRatio(m, parametricOptimalQuantitys, nonParametricOptimalQuantitys, realOptimalQuantity):\n",
    "    return empericalRootMeanSquaredError(m, nonParametricOptimalQuantitys, realOptimalQuantity) / empericalRootMeanSquaredError(m, parametricOptimalQuantitys, realOptimalQuantity)\n",
    "\n",
    "def empericalProfitLoss(m, profitEstimator, profitReal):\n",
    "    return 1 / m * np.sum(np.abs((profitReal - profitEstimator) /  profitReal))\n",
    "\n",
    "def empericalProfitLossRatio(m, parametricExpectedProfit, nonParametricExpectedProfit, realExpectedProfit):\n",
    "    return empericalProfitLoss(m, nonParametricExpectedProfit, realExpectedProfit) / empericalProfitLoss(m, parametricExpectedProfit, realExpectedProfit)\n",
    "\n",
    "def empericalServiceLevel(m, optimalQuantities, demand):\n",
    "    indicatorFunction = np.where(optimalQuantities.T >= np.array(demand), 1, 0)\n",
    "    return 1 / m * np.sum(indicatorFunction)\n",
    "\n",
    "def fit(feature):\n",
    "    return np.mean(feature), np.std(feature)\n",
    "\n",
    "\n",
    "def monteCarlo(m, tau, n, meanDemand, stdevDemand):\n",
    "    # Define arrays\n",
    "    dist = sts.norm\n",
    "    distReal = sts.norm(loc=meanDemand, scale=stdevDemand)\n",
    "\n",
    "    realOptimalQuantity = np.empty((m,1))\n",
    "    parametricOptimalQuantitys = np.empty((m,1))\n",
    "    nonParametricOptimalQuantitys = np.empty((m,1))\n",
    "    allParameters = np.empty((m,2))\n",
    "    parametricExpectedProfits = np.empty((m,1))\n",
    "    nonParametricExpectedProfits = np.empty((m,1))\n",
    "\n",
    "\n",
    "    # Compute estimators and optimal quantities\n",
    "    for j in range(m):\n",
    "        distributionData = sts.norm.rvs(loc = meanDemand, scale = stdevDemand, size = n)\n",
    "        allParameters[j] = parameters = fit(distributionData)\n",
    "\n",
    "        parametricOptimalQuantitys[j] = parametricOptimalQuantity(tau, dist, parameters)\n",
    "        nonParametricOptimalQuantitys[j] = nonParametricOptimalQuantity(distributionData, tau)\n",
    "        \n",
    "        parametricExpectedProfits[j] = calculateOptimalProfit(tau, parametricOptimalQuantitys[j], distReal)\n",
    "        nonParametricExpectedProfits[j] = calculateOptimalProfit(tau, nonParametricOptimalQuantitys[j], distReal)\n",
    "        \n",
    "    realOptimalQuantity = parametricOptimalQuantity(tau, dist, [meanDemand,stdevDemand])\n",
    "    realExpectedProfit = calculateOptimalProfit(tau, realOptimalQuantity, distReal)\n",
    "\n",
    "    eplr = empericalProfitLossRatio(m, parametricExpectedProfits, nonParametricExpectedProfits, realExpectedProfit)\n",
    "\n",
    "    # Compute evaluation statistics\n",
    "    rmse = empericalRootMeanSquaredErrorRatio(m, parametricOptimalQuantitys, nonParametricOptimalQuantitys, realOptimalQuantity)\n",
    "\n",
    "    #eslParametric = empericalServiceLevel(m, parametricOptimalQuantitys, demand)\n",
    "    #eslNonParametric = empericalServiceLevel(m, nonParametricOptimalQuantitys, demand)\n",
    "    #eplr = empericalProfitLossRatio(m, parametricOptimalQuantitys, nonParametricOptimalQuantitys, demand, tau, meanDemand, stdevDemand)\n",
    "    result = {\n",
    "                    'MonteCarlo iterations' : m,\n",
    "                    'Sample Size': n,\n",
    "                    'Target Service Level': tau,\n",
    "                    'Param Values': np.mean(allParameters, axis=0),\n",
    "                    'real optimal quantity' : np.mean(realOptimalQuantity),\n",
    "                    'Parm optimal quantity': np.mean(parametricOptimalQuantitys),\n",
    "                    'nonParm optimal quantity': np.mean(nonParametricOptimalQuantitys),\n",
    "                    'RMSE Ratio': rmse,\n",
    "                    'SL nonParam': 0,\n",
    "                    'SL Param': 0,\n",
    "                    'EPLR': eplr\n",
    "                }\n",
    "    return result\n",
    "\n",
    "\n",
    "\n"
   ]
  },
  {
   "cell_type": "code",
   "execution_count": 52,
   "metadata": {},
   "outputs": [
    {
     "name": "stdout",
     "output_type": "stream",
     "text": [
      "Function 'integrate' executed in 0.0130s\n",
      "Function 'integrate' executed in 0.0140s\n",
      "Function 'integrate' executed in 0.0130s\n",
      "Function 'integrate' executed in 0.0130s\n",
      "Function 'integrate' executed in 0.0040s\n",
      "Function 'integrate' executed in 0.0130s\n",
      "Function 'integrate' executed in 0.0050s\n",
      "Function 'integrate' executed in 0.0160s\n",
      "Function 'integrate' executed in 0.0040s\n",
      "Function 'integrate' executed in 0.0120s\n",
      "Function 'integrate' executed in 0.0140s\n",
      "Function 'integrate' executed in 0.0140s\n",
      "Function 'integrate' executed in 0.0060s\n",
      "Function 'integrate' executed in 0.0130s\n",
      "Function 'integrate' executed in 0.0120s\n",
      "Function 'integrate' executed in 0.0130s\n",
      "Function 'integrate' executed in 0.0140s\n",
      "Function 'integrate' executed in 0.0130s\n",
      "Function 'integrate' executed in 0.0130s\n",
      "Function 'integrate' executed in 0.0130s\n",
      "Function 'integrate' executed in 0.0130s\n",
      "Function 'integrate' executed in 0.0040s\n",
      "Function 'integrate' executed in 0.0130s\n",
      "Function 'integrate' executed in 0.0140s\n",
      "Function 'integrate' executed in 0.0140s\n",
      "Function 'integrate' executed in 0.0060s\n",
      "Function 'integrate' executed in 0.0140s\n",
      "Function 'integrate' executed in 0.0130s\n",
      "Function 'integrate' executed in 0.0130s\n",
      "Function 'integrate' executed in 0.0150s\n",
      "Function 'integrate' executed in 0.0040s\n",
      "Function 'integrate' executed in 0.0130s\n",
      "Function 'integrate' executed in 0.0040s\n",
      "Function 'integrate' executed in 0.0040s\n",
      "Function 'integrate' executed in 0.0120s\n",
      "Function 'integrate' executed in 0.0040s\n",
      "Function 'integrate' executed in 0.0040s\n",
      "Function 'integrate' executed in 0.0050s\n",
      "Function 'integrate' executed in 0.0120s\n",
      "Function 'integrate' executed in 0.0130s\n",
      "Function 'integrate' executed in 0.0050s\n",
      "Function 'integrate' executed in 0.0130s\n",
      "Function 'integrate' executed in 0.0140s\n",
      "Function 'integrate' executed in 0.0130s\n",
      "Function 'integrate' executed in 0.0130s\n",
      "Function 'integrate' executed in 0.0140s\n",
      "Function 'integrate' executed in 0.0050s\n",
      "Function 'integrate' executed in 0.0140s\n",
      "Function 'integrate' executed in 0.0050s\n",
      "Function 'integrate' executed in 0.0150s\n",
      "Function 'integrate' executed in 0.0060s\n",
      "Function 'integrate' executed in 0.0180s\n",
      "Function 'integrate' executed in 0.0130s\n",
      "Function 'integrate' executed in 0.0130s\n",
      "Function 'integrate' executed in 0.0140s\n",
      "Function 'integrate' executed in 0.0050s\n",
      "Function 'integrate' executed in 0.0050s\n",
      "Function 'integrate' executed in 0.0140s\n",
      "Function 'integrate' executed in 0.0130s\n",
      "Function 'integrate' executed in 0.0050s\n",
      "Function 'integrate' executed in 0.0040s\n",
      "Function 'integrate' executed in 0.0130s\n",
      "Function 'integrate' executed in 0.0120s\n",
      "Function 'integrate' executed in 0.0150s\n",
      "Function 'integrate' executed in 0.0130s\n",
      "Function 'integrate' executed in 0.0040s\n",
      "Function 'integrate' executed in 0.0050s\n",
      "Function 'integrate' executed in 0.0130s\n",
      "Function 'integrate' executed in 0.0130s\n",
      "Function 'integrate' executed in 0.0130s\n",
      "Function 'integrate' executed in 0.0060s\n",
      "Function 'integrate' executed in 0.0050s\n",
      "Function 'integrate' executed in 0.0150s\n",
      "Function 'integrate' executed in 0.0130s\n",
      "Function 'integrate' executed in 0.0040s\n",
      "Function 'integrate' executed in 0.0040s\n",
      "Function 'integrate' executed in 0.0040s\n",
      "Function 'integrate' executed in 0.0120s\n",
      "Function 'integrate' executed in 0.0130s\n",
      "Function 'integrate' executed in 0.0110s\n",
      "Function 'integrate' executed in 0.0030s\n",
      "Function 'integrate' executed in 0.0129s\n",
      "Function 'integrate' executed in 0.0120s\n",
      "Function 'integrate' executed in 0.0120s\n",
      "Function 'integrate' executed in 0.0160s\n",
      "Function 'integrate' executed in 0.0120s\n",
      "Function 'integrate' executed in 0.0130s\n",
      "Function 'integrate' executed in 0.0130s\n",
      "Function 'integrate' executed in 0.0120s\n",
      "Function 'integrate' executed in 0.0120s\n",
      "Function 'integrate' executed in 0.0120s\n",
      "Function 'integrate' executed in 0.0130s\n",
      "Function 'integrate' executed in 0.0130s\n",
      "Function 'integrate' executed in 0.0130s\n",
      "Function 'integrate' executed in 0.0130s\n",
      "Function 'integrate' executed in 0.0140s\n",
      "Function 'integrate' executed in 0.0140s\n",
      "Function 'integrate' executed in 0.0160s\n",
      "Function 'integrate' executed in 0.0050s\n",
      "Function 'integrate' executed in 0.0130s\n",
      "Function 'integrate' executed in 0.0125s\n",
      "Function 'integrate' executed in 0.0130s\n",
      "Function 'integrate' executed in 0.0140s\n",
      "Function 'integrate' executed in 0.0150s\n",
      "Function 'integrate' executed in 0.0120s\n",
      "Function 'integrate' executed in 0.0120s\n",
      "Function 'integrate' executed in 0.0130s\n",
      "Function 'integrate' executed in 0.0120s\n",
      "Function 'integrate' executed in 0.0120s\n",
      "Function 'integrate' executed in 0.0110s\n",
      "Function 'integrate' executed in 0.0110s\n",
      "Function 'integrate' executed in 0.0120s\n",
      "Function 'integrate' executed in 0.0120s\n",
      "Function 'integrate' executed in 0.0130s\n",
      "Function 'integrate' executed in 0.0120s\n",
      "Function 'integrate' executed in 0.0120s\n",
      "Function 'integrate' executed in 0.0120s\n",
      "Function 'integrate' executed in 0.0120s\n",
      "Function 'integrate' executed in 0.0120s\n",
      "Function 'integrate' executed in 0.0130s\n",
      "Function 'integrate' executed in 0.0130s\n",
      "Function 'integrate' executed in 0.0130s\n",
      "Function 'integrate' executed in 0.0120s\n",
      "Function 'integrate' executed in 0.0130s\n",
      "Function 'integrate' executed in 0.0130s\n",
      "Function 'integrate' executed in 0.0110s\n",
      "Function 'integrate' executed in 0.0120s\n",
      "Function 'integrate' executed in 0.0110s\n",
      "Function 'integrate' executed in 0.0120s\n",
      "Function 'integrate' executed in 0.0130s\n",
      "Function 'integrate' executed in 0.0120s\n",
      "Function 'integrate' executed in 0.0110s\n",
      "Function 'integrate' executed in 0.0110s\n",
      "Function 'integrate' executed in 0.0120s\n",
      "Function 'integrate' executed in 0.0120s\n",
      "Function 'integrate' executed in 0.0120s\n",
      "Function 'integrate' executed in 0.0120s\n",
      "Function 'integrate' executed in 0.0130s\n",
      "Function 'integrate' executed in 0.0130s\n",
      "Function 'integrate' executed in 0.0130s\n",
      "Function 'integrate' executed in 0.0130s\n",
      "Function 'integrate' executed in 0.0140s\n",
      "Function 'integrate' executed in 0.0130s\n",
      "Function 'integrate' executed in 0.0130s\n",
      "Function 'integrate' executed in 0.0150s\n",
      "Function 'integrate' executed in 0.0140s\n",
      "Function 'integrate' executed in 0.0121s\n",
      "Function 'integrate' executed in 0.0140s\n",
      "Function 'integrate' executed in 0.0130s\n",
      "Function 'integrate' executed in 0.0120s\n",
      "Function 'integrate' executed in 0.0150s\n",
      "Function 'integrate' executed in 0.0130s\n",
      "Function 'integrate' executed in 0.0130s\n",
      "Function 'integrate' executed in 0.0123s\n",
      "Function 'integrate' executed in 0.0130s\n",
      "Function 'integrate' executed in 0.0130s\n",
      "Function 'integrate' executed in 0.0120s\n",
      "Function 'integrate' executed in 0.0170s\n",
      "Function 'integrate' executed in 0.0140s\n",
      "Function 'integrate' executed in 0.0130s\n",
      "Function 'integrate' executed in 0.0040s\n",
      "Function 'integrate' executed in 0.0170s\n",
      "Function 'integrate' executed in 0.0120s\n",
      "Function 'integrate' executed in 0.0130s\n",
      "Function 'integrate' executed in 0.0150s\n",
      "Function 'integrate' executed in 0.0140s\n",
      "Function 'integrate' executed in 0.0140s\n",
      "Function 'integrate' executed in 0.0130s\n",
      "Function 'integrate' executed in 0.0150s\n",
      "Function 'integrate' executed in 0.0140s\n",
      "Function 'integrate' executed in 0.0040s\n",
      "Function 'integrate' executed in 0.0130s\n",
      "Function 'integrate' executed in 0.0130s\n",
      "Function 'integrate' executed in 0.0120s\n",
      "Function 'integrate' executed in 0.0150s\n",
      "Function 'integrate' executed in 0.0150s\n",
      "Function 'integrate' executed in 0.0130s\n",
      "Function 'integrate' executed in 0.0140s\n",
      "Function 'integrate' executed in 0.0140s\n",
      "Function 'integrate' executed in 0.0140s\n",
      "Function 'integrate' executed in 0.0130s\n",
      "Function 'integrate' executed in 0.0130s\n",
      "Function 'integrate' executed in 0.0130s\n",
      "Function 'integrate' executed in 0.0130s\n",
      "Function 'integrate' executed in 0.0130s\n",
      "Function 'integrate' executed in 0.0140s\n",
      "Function 'integrate' executed in 0.0130s\n",
      "Function 'integrate' executed in 0.0140s\n",
      "Function 'integrate' executed in 0.0140s\n",
      "Function 'integrate' executed in 0.0137s\n",
      "Function 'integrate' executed in 0.0120s\n",
      "Function 'integrate' executed in 0.0120s\n",
      "Function 'integrate' executed in 0.0140s\n",
      "Function 'integrate' executed in 0.0120s\n",
      "Function 'integrate' executed in 0.0120s\n",
      "Function 'integrate' executed in 0.0130s\n",
      "Function 'integrate' executed in 0.0120s\n",
      "Function 'integrate' executed in 0.0130s\n",
      "Function 'integrate' executed in 0.0130s\n",
      "Function 'integrate' executed in 0.0160s\n",
      "Function 'integrate' executed in 0.0140s\n",
      "Function 'integrate' executed in 0.0140s\n",
      "Function 'integrate' executed in 0.0130s\n",
      "Function 'integrate' executed in 0.0120s\n",
      "Function 'integrate' executed in 0.0130s\n",
      "Function 'integrate' executed in 0.0120s\n",
      "Function 'integrate' executed in 0.0130s\n",
      "Function 'integrate' executed in 0.0140s\n",
      "Function 'integrate' executed in 0.0140s\n",
      "Function 'integrate' executed in 0.0140s\n",
      "Function 'integrate' executed in 0.0140s\n",
      "Function 'integrate' executed in 0.0130s\n",
      "Function 'integrate' executed in 0.0120s\n",
      "Function 'integrate' executed in 0.0130s\n",
      "Function 'integrate' executed in 0.0120s\n",
      "Function 'integrate' executed in 0.0140s\n",
      "Function 'integrate' executed in 0.0130s\n",
      "Function 'integrate' executed in 0.0120s\n",
      "Function 'integrate' executed in 0.0130s\n",
      "Function 'integrate' executed in 0.0130s\n",
      "Function 'integrate' executed in 0.0120s\n",
      "Function 'integrate' executed in 0.0130s\n",
      "Function 'integrate' executed in 0.0120s\n",
      "Function 'integrate' executed in 0.0120s\n",
      "Function 'integrate' executed in 0.0130s\n",
      "Function 'integrate' executed in 0.0130s\n",
      "Function 'integrate' executed in 0.0130s\n",
      "Function 'integrate' executed in 0.0140s\n",
      "Function 'integrate' executed in 0.0120s\n",
      "Function 'integrate' executed in 0.0120s\n",
      "Function 'integrate' executed in 0.0130s\n",
      "Function 'integrate' executed in 0.0130s\n",
      "Function 'integrate' executed in 0.0130s\n",
      "Function 'integrate' executed in 0.0120s\n",
      "Function 'integrate' executed in 0.0120s\n",
      "Function 'integrate' executed in 0.0120s\n",
      "Function 'integrate' executed in 0.0130s\n",
      "Function 'integrate' executed in 0.0120s\n",
      "Function 'integrate' executed in 0.0120s\n",
      "Function 'integrate' executed in 0.0150s\n"
     ]
    },
    {
     "ename": "KeyboardInterrupt",
     "evalue": "",
     "output_type": "error",
     "traceback": [
      "\u001b[1;31m---------------------------------------------------------------------------\u001b[0m",
      "\u001b[1;31mKeyboardInterrupt\u001b[0m                         Traceback (most recent call last)",
      "Cell \u001b[1;32mIn[52], line 11\u001b[0m\n\u001b[0;32m      9\u001b[0m \u001b[39mfor\u001b[39;00m tau \u001b[39min\u001b[39;00m tauArray:\n\u001b[0;32m     10\u001b[0m     \u001b[39mfor\u001b[39;00m n \u001b[39min\u001b[39;00m nArray:\n\u001b[1;32m---> 11\u001b[0m         result \u001b[39m=\u001b[39m monteCarlo(numberOfMontecarloIterations, tau, n, meanDemand, stdevDemand)\n\u001b[0;32m     12\u001b[0m         results\u001b[39m.\u001b[39mappend(result)\n",
      "Cell \u001b[1;32mIn[51], line 98\u001b[0m, in \u001b[0;36mmonteCarlo\u001b[1;34m(m, tau, n, meanDemand, stdevDemand)\u001b[0m\n\u001b[0;32m     95\u001b[0m     nonParametricOptimalQuantitys[j] \u001b[39m=\u001b[39m nonParametricOptimalQuantity(distributionData, tau)\n\u001b[0;32m     97\u001b[0m     parametricExpectedProfits[j] \u001b[39m=\u001b[39m calculateOptimalProfit(tau, parametricOptimalQuantitys[j], distReal)\n\u001b[1;32m---> 98\u001b[0m     nonParametricExpectedProfits[j] \u001b[39m=\u001b[39m calculateOptimalProfit(tau, nonParametricOptimalQuantitys[j], distReal)\n\u001b[0;32m    100\u001b[0m realOptimalQuantity \u001b[39m=\u001b[39m parametricOptimalQuantity(tau, dist, [meanDemand,stdevDemand])\n\u001b[0;32m    101\u001b[0m realExpectedProfit \u001b[39m=\u001b[39m calculateOptimalProfit(tau, realOptimalQuantity, distReal)\n",
      "Cell \u001b[1;32mIn[51], line 48\u001b[0m, in \u001b[0;36mcalculateOptimalProfit\u001b[1;34m(tau, Q_star, dist)\u001b[0m\n\u001b[0;32m     45\u001b[0m price \u001b[39m=\u001b[39m \u001b[39m1\u001b[39m\n\u001b[0;32m     46\u001b[0m cost \u001b[39m=\u001b[39m \u001b[39m1\u001b[39m \u001b[39m-\u001b[39m tau\n\u001b[1;32m---> 48\u001b[0m integral_value \u001b[39m=\u001b[39m integrate(Q_star, dist)\n\u001b[0;32m     49\u001b[0m t1 \u001b[39m=\u001b[39m price \u001b[39m*\u001b[39m integral_value\n\u001b[0;32m     50\u001b[0m t2 \u001b[39m=\u001b[39m price \u001b[39m*\u001b[39m Q_star \u001b[39m*\u001b[39m dist\u001b[39m.\u001b[39msf(Q_star)\n",
      "Cell \u001b[1;32mIn[51], line 15\u001b[0m, in \u001b[0;36mtimer_func.<locals>.wrap_func\u001b[1;34m(*args, **kwargs)\u001b[0m\n\u001b[0;32m     13\u001b[0m \u001b[39mdef\u001b[39;00m \u001b[39mwrap_func\u001b[39m(\u001b[39m*\u001b[39margs, \u001b[39m*\u001b[39m\u001b[39m*\u001b[39mkwargs):\n\u001b[0;32m     14\u001b[0m     t1 \u001b[39m=\u001b[39m time()\n\u001b[1;32m---> 15\u001b[0m     result \u001b[39m=\u001b[39m func(\u001b[39m*\u001b[39;49margs, \u001b[39m*\u001b[39;49m\u001b[39m*\u001b[39;49mkwargs)\n\u001b[0;32m     16\u001b[0m     t2 \u001b[39m=\u001b[39m time()\n\u001b[0;32m     17\u001b[0m     \u001b[39mprint\u001b[39m(\u001b[39mf\u001b[39m\u001b[39m'\u001b[39m\u001b[39mFunction \u001b[39m\u001b[39m{\u001b[39;00mfunc\u001b[39m.\u001b[39m\u001b[39m__name__\u001b[39m\u001b[39m!r}\u001b[39;00m\u001b[39m executed in \u001b[39m\u001b[39m{\u001b[39;00m(t2\u001b[39m-\u001b[39mt1)\u001b[39m:\u001b[39;00m\u001b[39m.4f\u001b[39m\u001b[39m}\u001b[39;00m\u001b[39ms\u001b[39m\u001b[39m'\u001b[39m)\n",
      "Cell \u001b[1;32mIn[51], line 42\u001b[0m, in \u001b[0;36mintegrate\u001b[1;34m(Q_star, dist)\u001b[0m\n\u001b[0;32m     40\u001b[0m \u001b[39m@timer_func\u001b[39m\n\u001b[0;32m     41\u001b[0m \u001b[39mdef\u001b[39;00m \u001b[39mintegrate\u001b[39m(Q_star,dist):\n\u001b[1;32m---> 42\u001b[0m     \u001b[39mreturn\u001b[39;00m quad(int_dist,\u001b[39m0\u001b[39;49m,Q_star,args\u001b[39m=\u001b[39;49m(dist,))[\u001b[39m0\u001b[39m]\n",
      "File \u001b[1;32mc:\\Users\\Marijn Korthouwer\\AppData\\Local\\Programs\\Python\\Python311\\Lib\\site-packages\\scipy\\integrate\\_quadpack_py.py:463\u001b[0m, in \u001b[0;36mquad\u001b[1;34m(func, a, b, args, full_output, epsabs, epsrel, limit, points, weight, wvar, wopts, maxp1, limlst, complex_func)\u001b[0m\n\u001b[0;32m    460\u001b[0m     \u001b[39mreturn\u001b[39;00m retval\n\u001b[0;32m    462\u001b[0m \u001b[39mif\u001b[39;00m weight \u001b[39mis\u001b[39;00m \u001b[39mNone\u001b[39;00m:\n\u001b[1;32m--> 463\u001b[0m     retval \u001b[39m=\u001b[39m _quad(func, a, b, args, full_output, epsabs, epsrel, limit,\n\u001b[0;32m    464\u001b[0m                    points)\n\u001b[0;32m    465\u001b[0m \u001b[39melse\u001b[39;00m:\n\u001b[0;32m    466\u001b[0m     \u001b[39mif\u001b[39;00m points \u001b[39mis\u001b[39;00m \u001b[39mnot\u001b[39;00m \u001b[39mNone\u001b[39;00m:\n",
      "File \u001b[1;32mc:\\Users\\Marijn Korthouwer\\AppData\\Local\\Programs\\Python\\Python311\\Lib\\site-packages\\scipy\\integrate\\_quadpack_py.py:575\u001b[0m, in \u001b[0;36m_quad\u001b[1;34m(func, a, b, args, full_output, epsabs, epsrel, limit, points)\u001b[0m\n\u001b[0;32m    573\u001b[0m \u001b[39mif\u001b[39;00m points \u001b[39mis\u001b[39;00m \u001b[39mNone\u001b[39;00m:\n\u001b[0;32m    574\u001b[0m     \u001b[39mif\u001b[39;00m infbounds \u001b[39m==\u001b[39m \u001b[39m0\u001b[39m:\n\u001b[1;32m--> 575\u001b[0m         \u001b[39mreturn\u001b[39;00m _quadpack\u001b[39m.\u001b[39;49m_qagse(func,a,b,args,full_output,epsabs,epsrel,limit)\n\u001b[0;32m    576\u001b[0m     \u001b[39melse\u001b[39;00m:\n\u001b[0;32m    577\u001b[0m         \u001b[39mreturn\u001b[39;00m _quadpack\u001b[39m.\u001b[39m_qagie(func,bound,infbounds,args,full_output,epsabs,epsrel,limit)\n",
      "Cell \u001b[1;32mIn[51], line 38\u001b[0m, in \u001b[0;36mint_dist\u001b[1;34m(y, dist)\u001b[0m\n\u001b[0;32m     37\u001b[0m \u001b[39mdef\u001b[39;00m \u001b[39mint_dist\u001b[39m(y,dist):\n\u001b[1;32m---> 38\u001b[0m     f \u001b[39m=\u001b[39m dist\u001b[39m.\u001b[39;49mpdf(y)\n\u001b[0;32m     39\u001b[0m     \u001b[39mreturn\u001b[39;00m y \u001b[39m*\u001b[39m f\n",
      "File \u001b[1;32mc:\\Users\\Marijn Korthouwer\\AppData\\Local\\Programs\\Python\\Python311\\Lib\\site-packages\\scipy\\stats\\_distn_infrastructure.py:530\u001b[0m, in \u001b[0;36mrv_continuous_frozen.pdf\u001b[1;34m(self, x)\u001b[0m\n\u001b[0;32m    529\u001b[0m \u001b[39mdef\u001b[39;00m \u001b[39mpdf\u001b[39m(\u001b[39mself\u001b[39m, x):\n\u001b[1;32m--> 530\u001b[0m     \u001b[39mreturn\u001b[39;00m \u001b[39mself\u001b[39;49m\u001b[39m.\u001b[39;49mdist\u001b[39m.\u001b[39;49mpdf(x, \u001b[39m*\u001b[39;49m\u001b[39mself\u001b[39;49m\u001b[39m.\u001b[39;49margs, \u001b[39m*\u001b[39;49m\u001b[39m*\u001b[39;49m\u001b[39mself\u001b[39;49m\u001b[39m.\u001b[39;49mkwds)\n",
      "File \u001b[1;32mc:\\Users\\Marijn Korthouwer\\AppData\\Local\\Programs\\Python\\Python311\\Lib\\site-packages\\scipy\\stats\\_distn_infrastructure.py:2102\u001b[0m, in \u001b[0;36mrv_continuous.pdf\u001b[1;34m(self, x, *args, **kwds)\u001b[0m\n\u001b[0;32m   2100\u001b[0m     goodargs \u001b[39m=\u001b[39m argsreduce(cond, \u001b[39m*\u001b[39m((x,)\u001b[39m+\u001b[39margs\u001b[39m+\u001b[39m(scale,)))\n\u001b[0;32m   2101\u001b[0m     scale, goodargs \u001b[39m=\u001b[39m goodargs[\u001b[39m-\u001b[39m\u001b[39m1\u001b[39m], goodargs[:\u001b[39m-\u001b[39m\u001b[39m1\u001b[39m]\n\u001b[1;32m-> 2102\u001b[0m     place(output, cond, \u001b[39mself\u001b[39;49m\u001b[39m.\u001b[39;49m_pdf(\u001b[39m*\u001b[39;49mgoodargs) \u001b[39m/\u001b[39;49m scale)\n\u001b[0;32m   2103\u001b[0m \u001b[39mif\u001b[39;00m output\u001b[39m.\u001b[39mndim \u001b[39m==\u001b[39m \u001b[39m0\u001b[39m:\n\u001b[0;32m   2104\u001b[0m     \u001b[39mreturn\u001b[39;00m output[()]\n",
      "File \u001b[1;32m<__array_function__ internals>:177\u001b[0m, in \u001b[0;36mplace\u001b[1;34m(*args, **kwargs)\u001b[0m\n",
      "\u001b[1;31mKeyboardInterrupt\u001b[0m: "
     ]
    }
   ],
   "source": [
    "numberOfMontecarloIterations = 10\n",
    "stdevDemand = 15\n",
    "meanDemand = 120\n",
    "\n",
    "tauArray = [0.01, 0.05, 0.1, 0.3, 0.5, 0.7, 0.9, 0.95, 0.99]\n",
    "nArray = [10, 50, 100, 200]\n",
    "\n",
    "results = []\n",
    "for tau in tauArray:\n",
    "    for n in nArray:\n",
    "        result = monteCarlo(numberOfMontecarloIterations, tau, n, meanDemand, stdevDemand)\n",
    "        results.append(result)\n"
   ]
  },
  {
   "cell_type": "code",
   "execution_count": null,
   "metadata": {},
   "outputs": [
    {
     "data": {
      "text/html": [
       "<div>\n",
       "<style scoped>\n",
       "    .dataframe tbody tr th:only-of-type {\n",
       "        vertical-align: middle;\n",
       "    }\n",
       "\n",
       "    .dataframe tbody tr th {\n",
       "        vertical-align: top;\n",
       "    }\n",
       "\n",
       "    .dataframe thead th {\n",
       "        text-align: right;\n",
       "    }\n",
       "</style>\n",
       "<table border=\"1\" class=\"dataframe\">\n",
       "  <thead>\n",
       "    <tr style=\"text-align: right;\">\n",
       "      <th></th>\n",
       "      <th>MonteCarlo iterations</th>\n",
       "      <th>Sample Size</th>\n",
       "      <th>Target Service Level</th>\n",
       "      <th>Param Values</th>\n",
       "      <th>real optimal quantity</th>\n",
       "      <th>Parm optimal quantity</th>\n",
       "      <th>nonParm optimal quantity</th>\n",
       "      <th>RMSE Ratio</th>\n",
       "      <th>SL nonParam</th>\n",
       "      <th>SL Param</th>\n",
       "      <th>EPLR</th>\n",
       "    </tr>\n",
       "  </thead>\n",
       "  <tbody>\n",
       "    <tr>\n",
       "      <th>0</th>\n",
       "      <td>10</td>\n",
       "      <td>10</td>\n",
       "      <td>0.01</td>\n",
       "      <td>[120.89712023301729, 13.11512523315869]</td>\n",
       "      <td>85.104782</td>\n",
       "      <td>90.386777</td>\n",
       "      <td>99.485116</td>\n",
       "      <td>1.405798</td>\n",
       "      <td>0</td>\n",
       "      <td>0</td>\n",
       "      <td>2.900732</td>\n",
       "    </tr>\n",
       "    <tr>\n",
       "      <th>1</th>\n",
       "      <td>10</td>\n",
       "      <td>50</td>\n",
       "      <td>0.01</td>\n",
       "      <td>[118.83146642374027, 14.823948673780814]</td>\n",
       "      <td>85.104782</td>\n",
       "      <td>84.345805</td>\n",
       "      <td>87.039712</td>\n",
       "      <td>2.039607</td>\n",
       "      <td>0</td>\n",
       "      <td>0</td>\n",
       "      <td>7.996710</td>\n",
       "    </tr>\n",
       "    <tr>\n",
       "      <th>2</th>\n",
       "      <td>10</td>\n",
       "      <td>100</td>\n",
       "      <td>0.01</td>\n",
       "      <td>[120.12169789617522, 14.370987797631816]</td>\n",
       "      <td>85.104782</td>\n",
       "      <td>86.689781</td>\n",
       "      <td>90.314428</td>\n",
       "      <td>2.385692</td>\n",
       "      <td>0</td>\n",
       "      <td>0</td>\n",
       "      <td>7.255617</td>\n",
       "    </tr>\n",
       "    <tr>\n",
       "      <th>3</th>\n",
       "      <td>10</td>\n",
       "      <td>200</td>\n",
       "      <td>0.01</td>\n",
       "      <td>[119.49463038004853, 14.656430425316287]</td>\n",
       "      <td>85.104782</td>\n",
       "      <td>85.398675</td>\n",
       "      <td>87.790502</td>\n",
       "      <td>2.799706</td>\n",
       "      <td>0</td>\n",
       "      <td>0</td>\n",
       "      <td>10.106098</td>\n",
       "    </tr>\n",
       "    <tr>\n",
       "      <th>4</th>\n",
       "      <td>10</td>\n",
       "      <td>10</td>\n",
       "      <td>0.05</td>\n",
       "      <td>[119.88595711946206, 13.89606530514327]</td>\n",
       "      <td>95.327196</td>\n",
       "      <td>97.028964</td>\n",
       "      <td>100.259467</td>\n",
       "      <td>1.386976</td>\n",
       "      <td>0</td>\n",
       "      <td>0</td>\n",
       "      <td>2.529137</td>\n",
       "    </tr>\n",
       "    <tr>\n",
       "      <th>5</th>\n",
       "      <td>10</td>\n",
       "      <td>50</td>\n",
       "      <td>0.05</td>\n",
       "      <td>[119.42070034933556, 15.038049227954877]</td>\n",
       "      <td>95.327196</td>\n",
       "      <td>94.685311</td>\n",
       "      <td>97.148857</td>\n",
       "      <td>1.608551</td>\n",
       "      <td>0</td>\n",
       "      <td>0</td>\n",
       "      <td>3.256070</td>\n",
       "    </tr>\n",
       "    <tr>\n",
       "      <th>6</th>\n",
       "      <td>10</td>\n",
       "      <td>100</td>\n",
       "      <td>0.05</td>\n",
       "      <td>[120.29040004397397, 14.923954723116172]</td>\n",
       "      <td>95.327196</td>\n",
       "      <td>95.742679</td>\n",
       "      <td>95.797080</td>\n",
       "      <td>1.352277</td>\n",
       "      <td>0</td>\n",
       "      <td>0</td>\n",
       "      <td>1.774276</td>\n",
       "    </tr>\n",
       "    <tr>\n",
       "      <th>7</th>\n",
       "      <td>10</td>\n",
       "      <td>200</td>\n",
       "      <td>0.05</td>\n",
       "      <td>[119.93274389875894, 14.667436046751032]</td>\n",
       "      <td>95.327196</td>\n",
       "      <td>95.806959</td>\n",
       "      <td>95.740496</td>\n",
       "      <td>1.693983</td>\n",
       "      <td>0</td>\n",
       "      <td>0</td>\n",
       "      <td>2.734982</td>\n",
       "    </tr>\n",
       "    <tr>\n",
       "      <th>8</th>\n",
       "      <td>10</td>\n",
       "      <td>10</td>\n",
       "      <td>0.10</td>\n",
       "      <td>[119.07005882896412, 13.993392417389074]</td>\n",
       "      <td>100.776727</td>\n",
       "      <td>101.136805</td>\n",
       "      <td>105.332131</td>\n",
       "      <td>1.217600</td>\n",
       "      <td>0</td>\n",
       "      <td>0</td>\n",
       "      <td>1.966337</td>\n",
       "    </tr>\n",
       "    <tr>\n",
       "      <th>9</th>\n",
       "      <td>10</td>\n",
       "      <td>50</td>\n",
       "      <td>0.10</td>\n",
       "      <td>[120.54032256185899, 14.994120727370213]</td>\n",
       "      <td>100.776727</td>\n",
       "      <td>101.324584</td>\n",
       "      <td>101.996587</td>\n",
       "      <td>1.253104</td>\n",
       "      <td>0</td>\n",
       "      <td>0</td>\n",
       "      <td>1.745455</td>\n",
       "    </tr>\n",
       "    <tr>\n",
       "      <th>10</th>\n",
       "      <td>10</td>\n",
       "      <td>100</td>\n",
       "      <td>0.10</td>\n",
       "      <td>[119.17244487414607, 14.252987171041038]</td>\n",
       "      <td>100.776727</td>\n",
       "      <td>100.906507</td>\n",
       "      <td>100.988293</td>\n",
       "      <td>1.251863</td>\n",
       "      <td>0</td>\n",
       "      <td>0</td>\n",
       "      <td>1.507394</td>\n",
       "    </tr>\n",
       "    <tr>\n",
       "      <th>11</th>\n",
       "      <td>10</td>\n",
       "      <td>200</td>\n",
       "      <td>0.10</td>\n",
       "      <td>[120.04746011375592, 14.971573581277406]</td>\n",
       "      <td>100.776727</td>\n",
       "      <td>100.860617</td>\n",
       "      <td>100.703716</td>\n",
       "      <td>1.310469</td>\n",
       "      <td>0</td>\n",
       "      <td>0</td>\n",
       "      <td>1.822011</td>\n",
       "    </tr>\n",
       "    <tr>\n",
       "      <th>12</th>\n",
       "      <td>10</td>\n",
       "      <td>10</td>\n",
       "      <td>0.30</td>\n",
       "      <td>[120.04323853541698, 13.434202469998775]</td>\n",
       "      <td>112.133992</td>\n",
       "      <td>112.998336</td>\n",
       "      <td>112.064783</td>\n",
       "      <td>0.942396</td>\n",
       "      <td>0</td>\n",
       "      <td>0</td>\n",
       "      <td>0.872814</td>\n",
       "    </tr>\n",
       "    <tr>\n",
       "      <th>13</th>\n",
       "      <td>10</td>\n",
       "      <td>50</td>\n",
       "      <td>0.30</td>\n",
       "      <td>[119.10161488907222, 14.875347945967842]</td>\n",
       "      <td>112.133992</td>\n",
       "      <td>111.300975</td>\n",
       "      <td>111.923389</td>\n",
       "      <td>1.063371</td>\n",
       "      <td>0</td>\n",
       "      <td>0</td>\n",
       "      <td>1.155209</td>\n",
       "    </tr>\n",
       "    <tr>\n",
       "      <th>14</th>\n",
       "      <td>10</td>\n",
       "      <td>100</td>\n",
       "      <td>0.30</td>\n",
       "      <td>[119.35281244237667, 15.447912722819023]</td>\n",
       "      <td>112.133992</td>\n",
       "      <td>111.251919</td>\n",
       "      <td>111.473819</td>\n",
       "      <td>1.227461</td>\n",
       "      <td>0</td>\n",
       "      <td>0</td>\n",
       "      <td>1.519934</td>\n",
       "    </tr>\n",
       "    <tr>\n",
       "      <th>15</th>\n",
       "      <td>10</td>\n",
       "      <td>200</td>\n",
       "      <td>0.30</td>\n",
       "      <td>[120.39710884515664, 14.572272487805085]</td>\n",
       "      <td>112.133992</td>\n",
       "      <td>112.755402</td>\n",
       "      <td>113.169989</td>\n",
       "      <td>1.383577</td>\n",
       "      <td>0</td>\n",
       "      <td>0</td>\n",
       "      <td>1.926519</td>\n",
       "    </tr>\n",
       "    <tr>\n",
       "      <th>16</th>\n",
       "      <td>10</td>\n",
       "      <td>10</td>\n",
       "      <td>0.50</td>\n",
       "      <td>[118.01643551614521, 13.279838317722525]</td>\n",
       "      <td>120.000000</td>\n",
       "      <td>118.016436</td>\n",
       "      <td>117.679220</td>\n",
       "      <td>0.936341</td>\n",
       "      <td>0</td>\n",
       "      <td>0</td>\n",
       "      <td>0.881092</td>\n",
       "    </tr>\n",
       "    <tr>\n",
       "      <th>17</th>\n",
       "      <td>10</td>\n",
       "      <td>50</td>\n",
       "      <td>0.50</td>\n",
       "      <td>[120.44289634888722, 13.827478862449675]</td>\n",
       "      <td>120.000000</td>\n",
       "      <td>120.442896</td>\n",
       "      <td>120.383802</td>\n",
       "      <td>1.261628</td>\n",
       "      <td>0</td>\n",
       "      <td>0</td>\n",
       "      <td>1.583719</td>\n",
       "    </tr>\n",
       "    <tr>\n",
       "      <th>18</th>\n",
       "      <td>10</td>\n",
       "      <td>100</td>\n",
       "      <td>0.50</td>\n",
       "      <td>[120.12384258035217, 14.870369853870262]</td>\n",
       "      <td>120.000000</td>\n",
       "      <td>120.123843</td>\n",
       "      <td>120.127815</td>\n",
       "      <td>2.245470</td>\n",
       "      <td>0</td>\n",
       "      <td>0</td>\n",
       "      <td>5.026372</td>\n",
       "    </tr>\n",
       "    <tr>\n",
       "      <th>19</th>\n",
       "      <td>10</td>\n",
       "      <td>200</td>\n",
       "      <td>0.50</td>\n",
       "      <td>[120.4243634789254, 14.808023277802741]</td>\n",
       "      <td>120.000000</td>\n",
       "      <td>120.424363</td>\n",
       "      <td>120.591112</td>\n",
       "      <td>1.085212</td>\n",
       "      <td>0</td>\n",
       "      <td>0</td>\n",
       "      <td>1.177197</td>\n",
       "    </tr>\n",
       "    <tr>\n",
       "      <th>20</th>\n",
       "      <td>10</td>\n",
       "      <td>10</td>\n",
       "      <td>0.70</td>\n",
       "      <td>[118.47074183199888, 14.676221190181042]</td>\n",
       "      <td>127.866008</td>\n",
       "      <td>126.166960</td>\n",
       "      <td>124.882399</td>\n",
       "      <td>1.218062</td>\n",
       "      <td>0</td>\n",
       "      <td>0</td>\n",
       "      <td>1.514724</td>\n",
       "    </tr>\n",
       "    <tr>\n",
       "      <th>21</th>\n",
       "      <td>10</td>\n",
       "      <td>50</td>\n",
       "      <td>0.70</td>\n",
       "      <td>[119.33037704471344, 13.627917121269183]</td>\n",
       "      <td>127.866008</td>\n",
       "      <td>126.476864</td>\n",
       "      <td>126.512655</td>\n",
       "      <td>1.151326</td>\n",
       "      <td>0</td>\n",
       "      <td>0</td>\n",
       "      <td>1.334845</td>\n",
       "    </tr>\n",
       "    <tr>\n",
       "      <th>22</th>\n",
       "      <td>10</td>\n",
       "      <td>100</td>\n",
       "      <td>0.70</td>\n",
       "      <td>[120.75472651765055, 15.151002004391723]</td>\n",
       "      <td>127.866008</td>\n",
       "      <td>128.699920</td>\n",
       "      <td>128.413044</td>\n",
       "      <td>0.981049</td>\n",
       "      <td>0</td>\n",
       "      <td>0</td>\n",
       "      <td>0.970099</td>\n",
       "    </tr>\n",
       "    <tr>\n",
       "      <th>23</th>\n",
       "      <td>10</td>\n",
       "      <td>200</td>\n",
       "      <td>0.70</td>\n",
       "      <td>[120.16165126155644, 14.796184821333373]</td>\n",
       "      <td>127.866008</td>\n",
       "      <td>127.920778</td>\n",
       "      <td>127.771287</td>\n",
       "      <td>1.261655</td>\n",
       "      <td>0</td>\n",
       "      <td>0</td>\n",
       "      <td>1.612949</td>\n",
       "    </tr>\n",
       "    <tr>\n",
       "      <th>24</th>\n",
       "      <td>10</td>\n",
       "      <td>10</td>\n",
       "      <td>0.90</td>\n",
       "      <td>[120.13392585082786, 12.497282047111755]</td>\n",
       "      <td>139.223273</td>\n",
       "      <td>136.149837</td>\n",
       "      <td>136.309608</td>\n",
       "      <td>0.945142</td>\n",
       "      <td>0</td>\n",
       "      <td>0</td>\n",
       "      <td>0.898557</td>\n",
       "    </tr>\n",
       "    <tr>\n",
       "      <th>25</th>\n",
       "      <td>10</td>\n",
       "      <td>50</td>\n",
       "      <td>0.90</td>\n",
       "      <td>[120.88914627538293, 14.876636342561005]</td>\n",
       "      <td>139.223273</td>\n",
       "      <td>139.954323</td>\n",
       "      <td>139.477041</td>\n",
       "      <td>0.979696</td>\n",
       "      <td>0</td>\n",
       "      <td>0</td>\n",
       "      <td>1.014204</td>\n",
       "    </tr>\n",
       "    <tr>\n",
       "      <th>26</th>\n",
       "      <td>10</td>\n",
       "      <td>100</td>\n",
       "      <td>0.90</td>\n",
       "      <td>[120.10659866663025, 15.0808262199679]</td>\n",
       "      <td>139.223273</td>\n",
       "      <td>139.433455</td>\n",
       "      <td>138.733786</td>\n",
       "      <td>1.057503</td>\n",
       "      <td>0</td>\n",
       "      <td>0</td>\n",
       "      <td>1.196555</td>\n",
       "    </tr>\n",
       "    <tr>\n",
       "      <th>27</th>\n",
       "      <td>10</td>\n",
       "      <td>200</td>\n",
       "      <td>0.90</td>\n",
       "      <td>[119.54323036817905, 14.755639626106552]</td>\n",
       "      <td>139.223273</td>\n",
       "      <td>138.453343</td>\n",
       "      <td>138.257930</td>\n",
       "      <td>1.059689</td>\n",
       "      <td>0</td>\n",
       "      <td>0</td>\n",
       "      <td>1.148321</td>\n",
       "    </tr>\n",
       "    <tr>\n",
       "      <th>28</th>\n",
       "      <td>10</td>\n",
       "      <td>10</td>\n",
       "      <td>0.95</td>\n",
       "      <td>[120.2201445308403, 13.509868183787926]</td>\n",
       "      <td>144.672804</td>\n",
       "      <td>142.441900</td>\n",
       "      <td>139.081948</td>\n",
       "      <td>1.123523</td>\n",
       "      <td>0</td>\n",
       "      <td>0</td>\n",
       "      <td>1.442674</td>\n",
       "    </tr>\n",
       "    <tr>\n",
       "      <th>29</th>\n",
       "      <td>10</td>\n",
       "      <td>50</td>\n",
       "      <td>0.95</td>\n",
       "      <td>[120.14329496459891, 14.762248827031607]</td>\n",
       "      <td>144.672804</td>\n",
       "      <td>144.425033</td>\n",
       "      <td>143.740861</td>\n",
       "      <td>1.099178</td>\n",
       "      <td>0</td>\n",
       "      <td>0</td>\n",
       "      <td>1.323453</td>\n",
       "    </tr>\n",
       "    <tr>\n",
       "      <th>30</th>\n",
       "      <td>10</td>\n",
       "      <td>100</td>\n",
       "      <td>0.95</td>\n",
       "      <td>[119.6893041767726, 14.865554466240946]</td>\n",
       "      <td>144.672804</td>\n",
       "      <td>144.140965</td>\n",
       "      <td>143.126400</td>\n",
       "      <td>1.510342</td>\n",
       "      <td>0</td>\n",
       "      <td>0</td>\n",
       "      <td>2.439509</td>\n",
       "    </tr>\n",
       "    <tr>\n",
       "      <th>31</th>\n",
       "      <td>10</td>\n",
       "      <td>200</td>\n",
       "      <td>0.95</td>\n",
       "      <td>[119.95280103901992, 15.19696038999454]</td>\n",
       "      <td>144.672804</td>\n",
       "      <td>144.949576</td>\n",
       "      <td>143.703796</td>\n",
       "      <td>1.284311</td>\n",
       "      <td>0</td>\n",
       "      <td>0</td>\n",
       "      <td>1.789547</td>\n",
       "    </tr>\n",
       "    <tr>\n",
       "      <th>32</th>\n",
       "      <td>10</td>\n",
       "      <td>10</td>\n",
       "      <td>0.99</td>\n",
       "      <td>[119.8164360935211, 12.903380440254967]</td>\n",
       "      <td>154.895218</td>\n",
       "      <td>149.834188</td>\n",
       "      <td>138.706508</td>\n",
       "      <td>1.763723</td>\n",
       "      <td>0</td>\n",
       "      <td>0</td>\n",
       "      <td>5.748459</td>\n",
       "    </tr>\n",
       "    <tr>\n",
       "      <th>33</th>\n",
       "      <td>10</td>\n",
       "      <td>50</td>\n",
       "      <td>0.99</td>\n",
       "      <td>[119.2767422293256, 14.101294873011915]</td>\n",
       "      <td>154.895218</td>\n",
       "      <td>152.081260</td>\n",
       "      <td>149.021400</td>\n",
       "      <td>1.516173</td>\n",
       "      <td>0</td>\n",
       "      <td>0</td>\n",
       "      <td>2.916916</td>\n",
       "    </tr>\n",
       "    <tr>\n",
       "      <th>34</th>\n",
       "      <td>10</td>\n",
       "      <td>100</td>\n",
       "      <td>0.99</td>\n",
       "      <td>[119.86228285242741, 15.164674844934876]</td>\n",
       "      <td>154.895218</td>\n",
       "      <td>155.140592</td>\n",
       "      <td>152.338146</td>\n",
       "      <td>0.954322</td>\n",
       "      <td>0</td>\n",
       "      <td>0</td>\n",
       "      <td>1.129630</td>\n",
       "    </tr>\n",
       "    <tr>\n",
       "      <th>35</th>\n",
       "      <td>10</td>\n",
       "      <td>200</td>\n",
       "      <td>0.99</td>\n",
       "      <td>[120.05713128590972, 15.076468646343164]</td>\n",
       "      <td>154.895218</td>\n",
       "      <td>155.130242</td>\n",
       "      <td>153.022521</td>\n",
       "      <td>2.146484</td>\n",
       "      <td>0</td>\n",
       "      <td>0</td>\n",
       "      <td>5.971548</td>\n",
       "    </tr>\n",
       "  </tbody>\n",
       "</table>\n",
       "</div>"
      ],
      "text/plain": [
       "    MonteCarlo iterations  Sample Size  Target Service Level  \\\n",
       "0                      10           10                  0.01   \n",
       "1                      10           50                  0.01   \n",
       "2                      10          100                  0.01   \n",
       "3                      10          200                  0.01   \n",
       "4                      10           10                  0.05   \n",
       "5                      10           50                  0.05   \n",
       "6                      10          100                  0.05   \n",
       "7                      10          200                  0.05   \n",
       "8                      10           10                  0.10   \n",
       "9                      10           50                  0.10   \n",
       "10                     10          100                  0.10   \n",
       "11                     10          200                  0.10   \n",
       "12                     10           10                  0.30   \n",
       "13                     10           50                  0.30   \n",
       "14                     10          100                  0.30   \n",
       "15                     10          200                  0.30   \n",
       "16                     10           10                  0.50   \n",
       "17                     10           50                  0.50   \n",
       "18                     10          100                  0.50   \n",
       "19                     10          200                  0.50   \n",
       "20                     10           10                  0.70   \n",
       "21                     10           50                  0.70   \n",
       "22                     10          100                  0.70   \n",
       "23                     10          200                  0.70   \n",
       "24                     10           10                  0.90   \n",
       "25                     10           50                  0.90   \n",
       "26                     10          100                  0.90   \n",
       "27                     10          200                  0.90   \n",
       "28                     10           10                  0.95   \n",
       "29                     10           50                  0.95   \n",
       "30                     10          100                  0.95   \n",
       "31                     10          200                  0.95   \n",
       "32                     10           10                  0.99   \n",
       "33                     10           50                  0.99   \n",
       "34                     10          100                  0.99   \n",
       "35                     10          200                  0.99   \n",
       "\n",
       "                                Param Values  real optimal quantity  \\\n",
       "0    [120.89712023301729, 13.11512523315869]              85.104782   \n",
       "1   [118.83146642374027, 14.823948673780814]              85.104782   \n",
       "2   [120.12169789617522, 14.370987797631816]              85.104782   \n",
       "3   [119.49463038004853, 14.656430425316287]              85.104782   \n",
       "4    [119.88595711946206, 13.89606530514327]              95.327196   \n",
       "5   [119.42070034933556, 15.038049227954877]              95.327196   \n",
       "6   [120.29040004397397, 14.923954723116172]              95.327196   \n",
       "7   [119.93274389875894, 14.667436046751032]              95.327196   \n",
       "8   [119.07005882896412, 13.993392417389074]             100.776727   \n",
       "9   [120.54032256185899, 14.994120727370213]             100.776727   \n",
       "10  [119.17244487414607, 14.252987171041038]             100.776727   \n",
       "11  [120.04746011375592, 14.971573581277406]             100.776727   \n",
       "12  [120.04323853541698, 13.434202469998775]             112.133992   \n",
       "13  [119.10161488907222, 14.875347945967842]             112.133992   \n",
       "14  [119.35281244237667, 15.447912722819023]             112.133992   \n",
       "15  [120.39710884515664, 14.572272487805085]             112.133992   \n",
       "16  [118.01643551614521, 13.279838317722525]             120.000000   \n",
       "17  [120.44289634888722, 13.827478862449675]             120.000000   \n",
       "18  [120.12384258035217, 14.870369853870262]             120.000000   \n",
       "19   [120.4243634789254, 14.808023277802741]             120.000000   \n",
       "20  [118.47074183199888, 14.676221190181042]             127.866008   \n",
       "21  [119.33037704471344, 13.627917121269183]             127.866008   \n",
       "22  [120.75472651765055, 15.151002004391723]             127.866008   \n",
       "23  [120.16165126155644, 14.796184821333373]             127.866008   \n",
       "24  [120.13392585082786, 12.497282047111755]             139.223273   \n",
       "25  [120.88914627538293, 14.876636342561005]             139.223273   \n",
       "26    [120.10659866663025, 15.0808262199679]             139.223273   \n",
       "27  [119.54323036817905, 14.755639626106552]             139.223273   \n",
       "28   [120.2201445308403, 13.509868183787926]             144.672804   \n",
       "29  [120.14329496459891, 14.762248827031607]             144.672804   \n",
       "30   [119.6893041767726, 14.865554466240946]             144.672804   \n",
       "31   [119.95280103901992, 15.19696038999454]             144.672804   \n",
       "32   [119.8164360935211, 12.903380440254967]             154.895218   \n",
       "33   [119.2767422293256, 14.101294873011915]             154.895218   \n",
       "34  [119.86228285242741, 15.164674844934876]             154.895218   \n",
       "35  [120.05713128590972, 15.076468646343164]             154.895218   \n",
       "\n",
       "    Parm optimal quantity  nonParm optimal quantity  RMSE Ratio  SL nonParam  \\\n",
       "0               90.386777                 99.485116    1.405798            0   \n",
       "1               84.345805                 87.039712    2.039607            0   \n",
       "2               86.689781                 90.314428    2.385692            0   \n",
       "3               85.398675                 87.790502    2.799706            0   \n",
       "4               97.028964                100.259467    1.386976            0   \n",
       "5               94.685311                 97.148857    1.608551            0   \n",
       "6               95.742679                 95.797080    1.352277            0   \n",
       "7               95.806959                 95.740496    1.693983            0   \n",
       "8              101.136805                105.332131    1.217600            0   \n",
       "9              101.324584                101.996587    1.253104            0   \n",
       "10             100.906507                100.988293    1.251863            0   \n",
       "11             100.860617                100.703716    1.310469            0   \n",
       "12             112.998336                112.064783    0.942396            0   \n",
       "13             111.300975                111.923389    1.063371            0   \n",
       "14             111.251919                111.473819    1.227461            0   \n",
       "15             112.755402                113.169989    1.383577            0   \n",
       "16             118.016436                117.679220    0.936341            0   \n",
       "17             120.442896                120.383802    1.261628            0   \n",
       "18             120.123843                120.127815    2.245470            0   \n",
       "19             120.424363                120.591112    1.085212            0   \n",
       "20             126.166960                124.882399    1.218062            0   \n",
       "21             126.476864                126.512655    1.151326            0   \n",
       "22             128.699920                128.413044    0.981049            0   \n",
       "23             127.920778                127.771287    1.261655            0   \n",
       "24             136.149837                136.309608    0.945142            0   \n",
       "25             139.954323                139.477041    0.979696            0   \n",
       "26             139.433455                138.733786    1.057503            0   \n",
       "27             138.453343                138.257930    1.059689            0   \n",
       "28             142.441900                139.081948    1.123523            0   \n",
       "29             144.425033                143.740861    1.099178            0   \n",
       "30             144.140965                143.126400    1.510342            0   \n",
       "31             144.949576                143.703796    1.284311            0   \n",
       "32             149.834188                138.706508    1.763723            0   \n",
       "33             152.081260                149.021400    1.516173            0   \n",
       "34             155.140592                152.338146    0.954322            0   \n",
       "35             155.130242                153.022521    2.146484            0   \n",
       "\n",
       "    SL Param       EPLR  \n",
       "0          0   2.900732  \n",
       "1          0   7.996710  \n",
       "2          0   7.255617  \n",
       "3          0  10.106098  \n",
       "4          0   2.529137  \n",
       "5          0   3.256070  \n",
       "6          0   1.774276  \n",
       "7          0   2.734982  \n",
       "8          0   1.966337  \n",
       "9          0   1.745455  \n",
       "10         0   1.507394  \n",
       "11         0   1.822011  \n",
       "12         0   0.872814  \n",
       "13         0   1.155209  \n",
       "14         0   1.519934  \n",
       "15         0   1.926519  \n",
       "16         0   0.881092  \n",
       "17         0   1.583719  \n",
       "18         0   5.026372  \n",
       "19         0   1.177197  \n",
       "20         0   1.514724  \n",
       "21         0   1.334845  \n",
       "22         0   0.970099  \n",
       "23         0   1.612949  \n",
       "24         0   0.898557  \n",
       "25         0   1.014204  \n",
       "26         0   1.196555  \n",
       "27         0   1.148321  \n",
       "28         0   1.442674  \n",
       "29         0   1.323453  \n",
       "30         0   2.439509  \n",
       "31         0   1.789547  \n",
       "32         0   5.748459  \n",
       "33         0   2.916916  \n",
       "34         0   1.129630  \n",
       "35         0   5.971548  "
      ]
     },
     "execution_count": 33,
     "metadata": {},
     "output_type": "execute_result"
    }
   ],
   "source": [
    "df = pd.DataFrame(results)\n",
    "df"
   ]
  },
  {
   "attachments": {},
   "cell_type": "markdown",
   "metadata": {},
   "source": []
  },
  {
   "cell_type": "code",
   "execution_count": null,
   "metadata": {},
   "outputs": [
    {
     "data": {
      "application/vnd.plotly.v1+json": {
       "config": {
        "plotlyServerURL": "https://plot.ly"
       },
       "data": [
        {
         "hovertemplate": "Target Service Level=%{x}<br>RMSE Ratio=%{y}<br>Sample Size=%{marker.color}<extra></extra>",
         "legendgroup": "",
         "marker": {
          "color": [
           10,
           50,
           100,
           200,
           10,
           50,
           100,
           200,
           10,
           50,
           100,
           200,
           10,
           50,
           100,
           200,
           10,
           50,
           100,
           200,
           10,
           50,
           100,
           200,
           10,
           50,
           100,
           200,
           10,
           50,
           100,
           200,
           10,
           50,
           100,
           200
          ],
          "coloraxis": "coloraxis",
          "symbol": "circle"
         },
         "mode": "markers",
         "name": "",
         "orientation": "v",
         "showlegend": false,
         "type": "scatter",
         "x": [
          0.01,
          0.01,
          0.01,
          0.01,
          0.05,
          0.05,
          0.05,
          0.05,
          0.1,
          0.1,
          0.1,
          0.1,
          0.3,
          0.3,
          0.3,
          0.3,
          0.5,
          0.5,
          0.5,
          0.5,
          0.7,
          0.7,
          0.7,
          0.7,
          0.9,
          0.9,
          0.9,
          0.9,
          0.95,
          0.95,
          0.95,
          0.95,
          0.99,
          0.99,
          0.99,
          0.99
         ],
         "xaxis": "x",
         "y": [
          1.4057977314865462,
          2.0396066372277244,
          2.385692498006794,
          2.7997060566262975,
          1.3869764122133919,
          1.6085508321044057,
          1.3522772183277096,
          1.6939827587548697,
          1.2176004835922956,
          1.2531041714391398,
          1.2518625465810265,
          1.3104688781973783,
          0.9423960479073715,
          1.0633710565690753,
          1.2274611413376286,
          1.3835773542518084,
          0.9363405574887419,
          1.2616282258976834,
          2.245469950466302,
          1.0852116154194145,
          1.2180619285901628,
          1.151326037371269,
          0.9810491582697312,
          1.2616549196341265,
          0.94514185030461,
          0.9796959829207263,
          1.0575033051497718,
          1.059688798325135,
          1.1235227544112816,
          1.0991781403493335,
          1.5103422680744272,
          1.2843110920164509,
          1.7637233196910052,
          1.5161732566342125,
          0.9543219626446602,
          2.1464843289364532
         ],
         "yaxis": "y"
        }
       ],
       "layout": {
        "coloraxis": {
         "colorbar": {
          "title": {
           "text": "Sample Size"
          }
         },
         "colorscale": [
          [
           0,
           "#0d0887"
          ],
          [
           0.1111111111111111,
           "#46039f"
          ],
          [
           0.2222222222222222,
           "#7201a8"
          ],
          [
           0.3333333333333333,
           "#9c179e"
          ],
          [
           0.4444444444444444,
           "#bd3786"
          ],
          [
           0.5555555555555556,
           "#d8576b"
          ],
          [
           0.6666666666666666,
           "#ed7953"
          ],
          [
           0.7777777777777778,
           "#fb9f3a"
          ],
          [
           0.8888888888888888,
           "#fdca26"
          ],
          [
           1,
           "#f0f921"
          ]
         ]
        },
        "font": {
         "size": 15
        },
        "legend": {
         "tracegroupgap": 0
        },
        "template": {
         "data": {
          "bar": [
           {
            "error_x": {
             "color": "#2a3f5f"
            },
            "error_y": {
             "color": "#2a3f5f"
            },
            "marker": {
             "line": {
              "color": "#E5ECF6",
              "width": 0.5
             },
             "pattern": {
              "fillmode": "overlay",
              "size": 10,
              "solidity": 0.2
             }
            },
            "type": "bar"
           }
          ],
          "barpolar": [
           {
            "marker": {
             "line": {
              "color": "#E5ECF6",
              "width": 0.5
             },
             "pattern": {
              "fillmode": "overlay",
              "size": 10,
              "solidity": 0.2
             }
            },
            "type": "barpolar"
           }
          ],
          "carpet": [
           {
            "aaxis": {
             "endlinecolor": "#2a3f5f",
             "gridcolor": "white",
             "linecolor": "white",
             "minorgridcolor": "white",
             "startlinecolor": "#2a3f5f"
            },
            "baxis": {
             "endlinecolor": "#2a3f5f",
             "gridcolor": "white",
             "linecolor": "white",
             "minorgridcolor": "white",
             "startlinecolor": "#2a3f5f"
            },
            "type": "carpet"
           }
          ],
          "choropleth": [
           {
            "colorbar": {
             "outlinewidth": 0,
             "ticks": ""
            },
            "type": "choropleth"
           }
          ],
          "contour": [
           {
            "colorbar": {
             "outlinewidth": 0,
             "ticks": ""
            },
            "colorscale": [
             [
              0,
              "#0d0887"
             ],
             [
              0.1111111111111111,
              "#46039f"
             ],
             [
              0.2222222222222222,
              "#7201a8"
             ],
             [
              0.3333333333333333,
              "#9c179e"
             ],
             [
              0.4444444444444444,
              "#bd3786"
             ],
             [
              0.5555555555555556,
              "#d8576b"
             ],
             [
              0.6666666666666666,
              "#ed7953"
             ],
             [
              0.7777777777777778,
              "#fb9f3a"
             ],
             [
              0.8888888888888888,
              "#fdca26"
             ],
             [
              1,
              "#f0f921"
             ]
            ],
            "type": "contour"
           }
          ],
          "contourcarpet": [
           {
            "colorbar": {
             "outlinewidth": 0,
             "ticks": ""
            },
            "type": "contourcarpet"
           }
          ],
          "heatmap": [
           {
            "colorbar": {
             "outlinewidth": 0,
             "ticks": ""
            },
            "colorscale": [
             [
              0,
              "#0d0887"
             ],
             [
              0.1111111111111111,
              "#46039f"
             ],
             [
              0.2222222222222222,
              "#7201a8"
             ],
             [
              0.3333333333333333,
              "#9c179e"
             ],
             [
              0.4444444444444444,
              "#bd3786"
             ],
             [
              0.5555555555555556,
              "#d8576b"
             ],
             [
              0.6666666666666666,
              "#ed7953"
             ],
             [
              0.7777777777777778,
              "#fb9f3a"
             ],
             [
              0.8888888888888888,
              "#fdca26"
             ],
             [
              1,
              "#f0f921"
             ]
            ],
            "type": "heatmap"
           }
          ],
          "heatmapgl": [
           {
            "colorbar": {
             "outlinewidth": 0,
             "ticks": ""
            },
            "colorscale": [
             [
              0,
              "#0d0887"
             ],
             [
              0.1111111111111111,
              "#46039f"
             ],
             [
              0.2222222222222222,
              "#7201a8"
             ],
             [
              0.3333333333333333,
              "#9c179e"
             ],
             [
              0.4444444444444444,
              "#bd3786"
             ],
             [
              0.5555555555555556,
              "#d8576b"
             ],
             [
              0.6666666666666666,
              "#ed7953"
             ],
             [
              0.7777777777777778,
              "#fb9f3a"
             ],
             [
              0.8888888888888888,
              "#fdca26"
             ],
             [
              1,
              "#f0f921"
             ]
            ],
            "type": "heatmapgl"
           }
          ],
          "histogram": [
           {
            "marker": {
             "pattern": {
              "fillmode": "overlay",
              "size": 10,
              "solidity": 0.2
             }
            },
            "type": "histogram"
           }
          ],
          "histogram2d": [
           {
            "colorbar": {
             "outlinewidth": 0,
             "ticks": ""
            },
            "colorscale": [
             [
              0,
              "#0d0887"
             ],
             [
              0.1111111111111111,
              "#46039f"
             ],
             [
              0.2222222222222222,
              "#7201a8"
             ],
             [
              0.3333333333333333,
              "#9c179e"
             ],
             [
              0.4444444444444444,
              "#bd3786"
             ],
             [
              0.5555555555555556,
              "#d8576b"
             ],
             [
              0.6666666666666666,
              "#ed7953"
             ],
             [
              0.7777777777777778,
              "#fb9f3a"
             ],
             [
              0.8888888888888888,
              "#fdca26"
             ],
             [
              1,
              "#f0f921"
             ]
            ],
            "type": "histogram2d"
           }
          ],
          "histogram2dcontour": [
           {
            "colorbar": {
             "outlinewidth": 0,
             "ticks": ""
            },
            "colorscale": [
             [
              0,
              "#0d0887"
             ],
             [
              0.1111111111111111,
              "#46039f"
             ],
             [
              0.2222222222222222,
              "#7201a8"
             ],
             [
              0.3333333333333333,
              "#9c179e"
             ],
             [
              0.4444444444444444,
              "#bd3786"
             ],
             [
              0.5555555555555556,
              "#d8576b"
             ],
             [
              0.6666666666666666,
              "#ed7953"
             ],
             [
              0.7777777777777778,
              "#fb9f3a"
             ],
             [
              0.8888888888888888,
              "#fdca26"
             ],
             [
              1,
              "#f0f921"
             ]
            ],
            "type": "histogram2dcontour"
           }
          ],
          "mesh3d": [
           {
            "colorbar": {
             "outlinewidth": 0,
             "ticks": ""
            },
            "type": "mesh3d"
           }
          ],
          "parcoords": [
           {
            "line": {
             "colorbar": {
              "outlinewidth": 0,
              "ticks": ""
             }
            },
            "type": "parcoords"
           }
          ],
          "pie": [
           {
            "automargin": true,
            "type": "pie"
           }
          ],
          "scatter": [
           {
            "fillpattern": {
             "fillmode": "overlay",
             "size": 10,
             "solidity": 0.2
            },
            "type": "scatter"
           }
          ],
          "scatter3d": [
           {
            "line": {
             "colorbar": {
              "outlinewidth": 0,
              "ticks": ""
             }
            },
            "marker": {
             "colorbar": {
              "outlinewidth": 0,
              "ticks": ""
             }
            },
            "type": "scatter3d"
           }
          ],
          "scattercarpet": [
           {
            "marker": {
             "colorbar": {
              "outlinewidth": 0,
              "ticks": ""
             }
            },
            "type": "scattercarpet"
           }
          ],
          "scattergeo": [
           {
            "marker": {
             "colorbar": {
              "outlinewidth": 0,
              "ticks": ""
             }
            },
            "type": "scattergeo"
           }
          ],
          "scattergl": [
           {
            "marker": {
             "colorbar": {
              "outlinewidth": 0,
              "ticks": ""
             }
            },
            "type": "scattergl"
           }
          ],
          "scattermapbox": [
           {
            "marker": {
             "colorbar": {
              "outlinewidth": 0,
              "ticks": ""
             }
            },
            "type": "scattermapbox"
           }
          ],
          "scatterpolar": [
           {
            "marker": {
             "colorbar": {
              "outlinewidth": 0,
              "ticks": ""
             }
            },
            "type": "scatterpolar"
           }
          ],
          "scatterpolargl": [
           {
            "marker": {
             "colorbar": {
              "outlinewidth": 0,
              "ticks": ""
             }
            },
            "type": "scatterpolargl"
           }
          ],
          "scatterternary": [
           {
            "marker": {
             "colorbar": {
              "outlinewidth": 0,
              "ticks": ""
             }
            },
            "type": "scatterternary"
           }
          ],
          "surface": [
           {
            "colorbar": {
             "outlinewidth": 0,
             "ticks": ""
            },
            "colorscale": [
             [
              0,
              "#0d0887"
             ],
             [
              0.1111111111111111,
              "#46039f"
             ],
             [
              0.2222222222222222,
              "#7201a8"
             ],
             [
              0.3333333333333333,
              "#9c179e"
             ],
             [
              0.4444444444444444,
              "#bd3786"
             ],
             [
              0.5555555555555556,
              "#d8576b"
             ],
             [
              0.6666666666666666,
              "#ed7953"
             ],
             [
              0.7777777777777778,
              "#fb9f3a"
             ],
             [
              0.8888888888888888,
              "#fdca26"
             ],
             [
              1,
              "#f0f921"
             ]
            ],
            "type": "surface"
           }
          ],
          "table": [
           {
            "cells": {
             "fill": {
              "color": "#EBF0F8"
             },
             "line": {
              "color": "white"
             }
            },
            "header": {
             "fill": {
              "color": "#C8D4E3"
             },
             "line": {
              "color": "white"
             }
            },
            "type": "table"
           }
          ]
         },
         "layout": {
          "annotationdefaults": {
           "arrowcolor": "#2a3f5f",
           "arrowhead": 0,
           "arrowwidth": 1
          },
          "autotypenumbers": "strict",
          "coloraxis": {
           "colorbar": {
            "outlinewidth": 0,
            "ticks": ""
           }
          },
          "colorscale": {
           "diverging": [
            [
             0,
             "#8e0152"
            ],
            [
             0.1,
             "#c51b7d"
            ],
            [
             0.2,
             "#de77ae"
            ],
            [
             0.3,
             "#f1b6da"
            ],
            [
             0.4,
             "#fde0ef"
            ],
            [
             0.5,
             "#f7f7f7"
            ],
            [
             0.6,
             "#e6f5d0"
            ],
            [
             0.7,
             "#b8e186"
            ],
            [
             0.8,
             "#7fbc41"
            ],
            [
             0.9,
             "#4d9221"
            ],
            [
             1,
             "#276419"
            ]
           ],
           "sequential": [
            [
             0,
             "#0d0887"
            ],
            [
             0.1111111111111111,
             "#46039f"
            ],
            [
             0.2222222222222222,
             "#7201a8"
            ],
            [
             0.3333333333333333,
             "#9c179e"
            ],
            [
             0.4444444444444444,
             "#bd3786"
            ],
            [
             0.5555555555555556,
             "#d8576b"
            ],
            [
             0.6666666666666666,
             "#ed7953"
            ],
            [
             0.7777777777777778,
             "#fb9f3a"
            ],
            [
             0.8888888888888888,
             "#fdca26"
            ],
            [
             1,
             "#f0f921"
            ]
           ],
           "sequentialminus": [
            [
             0,
             "#0d0887"
            ],
            [
             0.1111111111111111,
             "#46039f"
            ],
            [
             0.2222222222222222,
             "#7201a8"
            ],
            [
             0.3333333333333333,
             "#9c179e"
            ],
            [
             0.4444444444444444,
             "#bd3786"
            ],
            [
             0.5555555555555556,
             "#d8576b"
            ],
            [
             0.6666666666666666,
             "#ed7953"
            ],
            [
             0.7777777777777778,
             "#fb9f3a"
            ],
            [
             0.8888888888888888,
             "#fdca26"
            ],
            [
             1,
             "#f0f921"
            ]
           ]
          },
          "colorway": [
           "#636efa",
           "#EF553B",
           "#00cc96",
           "#ab63fa",
           "#FFA15A",
           "#19d3f3",
           "#FF6692",
           "#B6E880",
           "#FF97FF",
           "#FECB52"
          ],
          "font": {
           "color": "#2a3f5f"
          },
          "geo": {
           "bgcolor": "white",
           "lakecolor": "white",
           "landcolor": "#E5ECF6",
           "showlakes": true,
           "showland": true,
           "subunitcolor": "white"
          },
          "hoverlabel": {
           "align": "left"
          },
          "hovermode": "closest",
          "mapbox": {
           "style": "light"
          },
          "paper_bgcolor": "white",
          "plot_bgcolor": "#E5ECF6",
          "polar": {
           "angularaxis": {
            "gridcolor": "white",
            "linecolor": "white",
            "ticks": ""
           },
           "bgcolor": "#E5ECF6",
           "radialaxis": {
            "gridcolor": "white",
            "linecolor": "white",
            "ticks": ""
           }
          },
          "scene": {
           "xaxis": {
            "backgroundcolor": "#E5ECF6",
            "gridcolor": "white",
            "gridwidth": 2,
            "linecolor": "white",
            "showbackground": true,
            "ticks": "",
            "zerolinecolor": "white"
           },
           "yaxis": {
            "backgroundcolor": "#E5ECF6",
            "gridcolor": "white",
            "gridwidth": 2,
            "linecolor": "white",
            "showbackground": true,
            "ticks": "",
            "zerolinecolor": "white"
           },
           "zaxis": {
            "backgroundcolor": "#E5ECF6",
            "gridcolor": "white",
            "gridwidth": 2,
            "linecolor": "white",
            "showbackground": true,
            "ticks": "",
            "zerolinecolor": "white"
           }
          },
          "shapedefaults": {
           "line": {
            "color": "#2a3f5f"
           }
          },
          "ternary": {
           "aaxis": {
            "gridcolor": "white",
            "linecolor": "white",
            "ticks": ""
           },
           "baxis": {
            "gridcolor": "white",
            "linecolor": "white",
            "ticks": ""
           },
           "bgcolor": "#E5ECF6",
           "caxis": {
            "gridcolor": "white",
            "linecolor": "white",
            "ticks": ""
           }
          },
          "title": {
           "x": 0.05
          },
          "xaxis": {
           "automargin": true,
           "gridcolor": "white",
           "linecolor": "white",
           "ticks": "",
           "title": {
            "standoff": 15
           },
           "zerolinecolor": "white",
           "zerolinewidth": 2
          },
          "yaxis": {
           "automargin": true,
           "gridcolor": "white",
           "linecolor": "white",
           "ticks": "",
           "title": {
            "standoff": 15
           },
           "zerolinecolor": "white",
           "zerolinewidth": 2
          }
         }
        },
        "title": {
         "text": "TSL vs RMSE, mean: 120 | stddev: 15 | iter. 10<br><sup>higher RMSE means parametric performs better</sup>"
        },
        "xaxis": {
         "anchor": "y",
         "domain": [
          0,
          1
         ],
         "title": {
          "text": "Target Service Level"
         }
        },
        "yaxis": {
         "anchor": "x",
         "domain": [
          0,
          1
         ],
         "title": {
          "text": "RMSE Ratio"
         }
        }
       }
      }
     },
     "metadata": {},
     "output_type": "display_data"
    },
    {
     "data": {
      "application/vnd.plotly.v1+json": {
       "config": {
        "plotlyServerURL": "https://plot.ly"
       },
       "data": [
        {
         "hovertemplate": "Target Service Level=%{x}<br>EPLR=%{y}<br>Sample Size=%{marker.color}<extra></extra>",
         "legendgroup": "",
         "marker": {
          "color": [
           10,
           50,
           100,
           200,
           10,
           50,
           100,
           200,
           10,
           50,
           100,
           200,
           10,
           50,
           100,
           200,
           10,
           50,
           100,
           200,
           10,
           50,
           100,
           200,
           10,
           50,
           100,
           200,
           10,
           50,
           100,
           200,
           10,
           50,
           100,
           200
          ],
          "coloraxis": "coloraxis",
          "symbol": "circle"
         },
         "mode": "markers",
         "name": "",
         "orientation": "v",
         "showlegend": false,
         "type": "scatter",
         "x": [
          0.01,
          0.01,
          0.01,
          0.01,
          0.05,
          0.05,
          0.05,
          0.05,
          0.1,
          0.1,
          0.1,
          0.1,
          0.3,
          0.3,
          0.3,
          0.3,
          0.5,
          0.5,
          0.5,
          0.5,
          0.7,
          0.7,
          0.7,
          0.7,
          0.9,
          0.9,
          0.9,
          0.9,
          0.95,
          0.95,
          0.95,
          0.95,
          0.99,
          0.99,
          0.99,
          0.99
         ],
         "xaxis": "x",
         "y": [
          2.900731551163474,
          7.996709795537771,
          7.255617142405859,
          10.106098001028068,
          2.529136780033266,
          3.2560703781713056,
          1.7742760007859188,
          2.734981809159355,
          1.9663370823989752,
          1.7454554001429665,
          1.507394086754493,
          1.822010662199128,
          0.8728143801099494,
          1.155208508096002,
          1.5199339116590251,
          1.926518630377117,
          0.8810924553383762,
          1.5837185163753893,
          5.026372017225011,
          1.1771970959377656,
          1.5147236356105307,
          1.3348454745282803,
          0.9700988264257315,
          1.6129488121238778,
          0.8985574343224619,
          1.014204472189863,
          1.1965545422476593,
          1.148320883636725,
          1.4426741578909026,
          1.323453031986685,
          2.4395090448188417,
          1.7895468910736172,
          5.748459398634822,
          2.916916047339194,
          1.129630341207813,
          5.971548374374551
         ],
         "yaxis": "y"
        }
       ],
       "layout": {
        "coloraxis": {
         "colorbar": {
          "title": {
           "text": "Sample Size"
          }
         },
         "colorscale": [
          [
           0,
           "#0d0887"
          ],
          [
           0.1111111111111111,
           "#46039f"
          ],
          [
           0.2222222222222222,
           "#7201a8"
          ],
          [
           0.3333333333333333,
           "#9c179e"
          ],
          [
           0.4444444444444444,
           "#bd3786"
          ],
          [
           0.5555555555555556,
           "#d8576b"
          ],
          [
           0.6666666666666666,
           "#ed7953"
          ],
          [
           0.7777777777777778,
           "#fb9f3a"
          ],
          [
           0.8888888888888888,
           "#fdca26"
          ],
          [
           1,
           "#f0f921"
          ]
         ]
        },
        "font": {
         "size": 15
        },
        "legend": {
         "tracegroupgap": 0
        },
        "template": {
         "data": {
          "bar": [
           {
            "error_x": {
             "color": "#2a3f5f"
            },
            "error_y": {
             "color": "#2a3f5f"
            },
            "marker": {
             "line": {
              "color": "#E5ECF6",
              "width": 0.5
             },
             "pattern": {
              "fillmode": "overlay",
              "size": 10,
              "solidity": 0.2
             }
            },
            "type": "bar"
           }
          ],
          "barpolar": [
           {
            "marker": {
             "line": {
              "color": "#E5ECF6",
              "width": 0.5
             },
             "pattern": {
              "fillmode": "overlay",
              "size": 10,
              "solidity": 0.2
             }
            },
            "type": "barpolar"
           }
          ],
          "carpet": [
           {
            "aaxis": {
             "endlinecolor": "#2a3f5f",
             "gridcolor": "white",
             "linecolor": "white",
             "minorgridcolor": "white",
             "startlinecolor": "#2a3f5f"
            },
            "baxis": {
             "endlinecolor": "#2a3f5f",
             "gridcolor": "white",
             "linecolor": "white",
             "minorgridcolor": "white",
             "startlinecolor": "#2a3f5f"
            },
            "type": "carpet"
           }
          ],
          "choropleth": [
           {
            "colorbar": {
             "outlinewidth": 0,
             "ticks": ""
            },
            "type": "choropleth"
           }
          ],
          "contour": [
           {
            "colorbar": {
             "outlinewidth": 0,
             "ticks": ""
            },
            "colorscale": [
             [
              0,
              "#0d0887"
             ],
             [
              0.1111111111111111,
              "#46039f"
             ],
             [
              0.2222222222222222,
              "#7201a8"
             ],
             [
              0.3333333333333333,
              "#9c179e"
             ],
             [
              0.4444444444444444,
              "#bd3786"
             ],
             [
              0.5555555555555556,
              "#d8576b"
             ],
             [
              0.6666666666666666,
              "#ed7953"
             ],
             [
              0.7777777777777778,
              "#fb9f3a"
             ],
             [
              0.8888888888888888,
              "#fdca26"
             ],
             [
              1,
              "#f0f921"
             ]
            ],
            "type": "contour"
           }
          ],
          "contourcarpet": [
           {
            "colorbar": {
             "outlinewidth": 0,
             "ticks": ""
            },
            "type": "contourcarpet"
           }
          ],
          "heatmap": [
           {
            "colorbar": {
             "outlinewidth": 0,
             "ticks": ""
            },
            "colorscale": [
             [
              0,
              "#0d0887"
             ],
             [
              0.1111111111111111,
              "#46039f"
             ],
             [
              0.2222222222222222,
              "#7201a8"
             ],
             [
              0.3333333333333333,
              "#9c179e"
             ],
             [
              0.4444444444444444,
              "#bd3786"
             ],
             [
              0.5555555555555556,
              "#d8576b"
             ],
             [
              0.6666666666666666,
              "#ed7953"
             ],
             [
              0.7777777777777778,
              "#fb9f3a"
             ],
             [
              0.8888888888888888,
              "#fdca26"
             ],
             [
              1,
              "#f0f921"
             ]
            ],
            "type": "heatmap"
           }
          ],
          "heatmapgl": [
           {
            "colorbar": {
             "outlinewidth": 0,
             "ticks": ""
            },
            "colorscale": [
             [
              0,
              "#0d0887"
             ],
             [
              0.1111111111111111,
              "#46039f"
             ],
             [
              0.2222222222222222,
              "#7201a8"
             ],
             [
              0.3333333333333333,
              "#9c179e"
             ],
             [
              0.4444444444444444,
              "#bd3786"
             ],
             [
              0.5555555555555556,
              "#d8576b"
             ],
             [
              0.6666666666666666,
              "#ed7953"
             ],
             [
              0.7777777777777778,
              "#fb9f3a"
             ],
             [
              0.8888888888888888,
              "#fdca26"
             ],
             [
              1,
              "#f0f921"
             ]
            ],
            "type": "heatmapgl"
           }
          ],
          "histogram": [
           {
            "marker": {
             "pattern": {
              "fillmode": "overlay",
              "size": 10,
              "solidity": 0.2
             }
            },
            "type": "histogram"
           }
          ],
          "histogram2d": [
           {
            "colorbar": {
             "outlinewidth": 0,
             "ticks": ""
            },
            "colorscale": [
             [
              0,
              "#0d0887"
             ],
             [
              0.1111111111111111,
              "#46039f"
             ],
             [
              0.2222222222222222,
              "#7201a8"
             ],
             [
              0.3333333333333333,
              "#9c179e"
             ],
             [
              0.4444444444444444,
              "#bd3786"
             ],
             [
              0.5555555555555556,
              "#d8576b"
             ],
             [
              0.6666666666666666,
              "#ed7953"
             ],
             [
              0.7777777777777778,
              "#fb9f3a"
             ],
             [
              0.8888888888888888,
              "#fdca26"
             ],
             [
              1,
              "#f0f921"
             ]
            ],
            "type": "histogram2d"
           }
          ],
          "histogram2dcontour": [
           {
            "colorbar": {
             "outlinewidth": 0,
             "ticks": ""
            },
            "colorscale": [
             [
              0,
              "#0d0887"
             ],
             [
              0.1111111111111111,
              "#46039f"
             ],
             [
              0.2222222222222222,
              "#7201a8"
             ],
             [
              0.3333333333333333,
              "#9c179e"
             ],
             [
              0.4444444444444444,
              "#bd3786"
             ],
             [
              0.5555555555555556,
              "#d8576b"
             ],
             [
              0.6666666666666666,
              "#ed7953"
             ],
             [
              0.7777777777777778,
              "#fb9f3a"
             ],
             [
              0.8888888888888888,
              "#fdca26"
             ],
             [
              1,
              "#f0f921"
             ]
            ],
            "type": "histogram2dcontour"
           }
          ],
          "mesh3d": [
           {
            "colorbar": {
             "outlinewidth": 0,
             "ticks": ""
            },
            "type": "mesh3d"
           }
          ],
          "parcoords": [
           {
            "line": {
             "colorbar": {
              "outlinewidth": 0,
              "ticks": ""
             }
            },
            "type": "parcoords"
           }
          ],
          "pie": [
           {
            "automargin": true,
            "type": "pie"
           }
          ],
          "scatter": [
           {
            "fillpattern": {
             "fillmode": "overlay",
             "size": 10,
             "solidity": 0.2
            },
            "type": "scatter"
           }
          ],
          "scatter3d": [
           {
            "line": {
             "colorbar": {
              "outlinewidth": 0,
              "ticks": ""
             }
            },
            "marker": {
             "colorbar": {
              "outlinewidth": 0,
              "ticks": ""
             }
            },
            "type": "scatter3d"
           }
          ],
          "scattercarpet": [
           {
            "marker": {
             "colorbar": {
              "outlinewidth": 0,
              "ticks": ""
             }
            },
            "type": "scattercarpet"
           }
          ],
          "scattergeo": [
           {
            "marker": {
             "colorbar": {
              "outlinewidth": 0,
              "ticks": ""
             }
            },
            "type": "scattergeo"
           }
          ],
          "scattergl": [
           {
            "marker": {
             "colorbar": {
              "outlinewidth": 0,
              "ticks": ""
             }
            },
            "type": "scattergl"
           }
          ],
          "scattermapbox": [
           {
            "marker": {
             "colorbar": {
              "outlinewidth": 0,
              "ticks": ""
             }
            },
            "type": "scattermapbox"
           }
          ],
          "scatterpolar": [
           {
            "marker": {
             "colorbar": {
              "outlinewidth": 0,
              "ticks": ""
             }
            },
            "type": "scatterpolar"
           }
          ],
          "scatterpolargl": [
           {
            "marker": {
             "colorbar": {
              "outlinewidth": 0,
              "ticks": ""
             }
            },
            "type": "scatterpolargl"
           }
          ],
          "scatterternary": [
           {
            "marker": {
             "colorbar": {
              "outlinewidth": 0,
              "ticks": ""
             }
            },
            "type": "scatterternary"
           }
          ],
          "surface": [
           {
            "colorbar": {
             "outlinewidth": 0,
             "ticks": ""
            },
            "colorscale": [
             [
              0,
              "#0d0887"
             ],
             [
              0.1111111111111111,
              "#46039f"
             ],
             [
              0.2222222222222222,
              "#7201a8"
             ],
             [
              0.3333333333333333,
              "#9c179e"
             ],
             [
              0.4444444444444444,
              "#bd3786"
             ],
             [
              0.5555555555555556,
              "#d8576b"
             ],
             [
              0.6666666666666666,
              "#ed7953"
             ],
             [
              0.7777777777777778,
              "#fb9f3a"
             ],
             [
              0.8888888888888888,
              "#fdca26"
             ],
             [
              1,
              "#f0f921"
             ]
            ],
            "type": "surface"
           }
          ],
          "table": [
           {
            "cells": {
             "fill": {
              "color": "#EBF0F8"
             },
             "line": {
              "color": "white"
             }
            },
            "header": {
             "fill": {
              "color": "#C8D4E3"
             },
             "line": {
              "color": "white"
             }
            },
            "type": "table"
           }
          ]
         },
         "layout": {
          "annotationdefaults": {
           "arrowcolor": "#2a3f5f",
           "arrowhead": 0,
           "arrowwidth": 1
          },
          "autotypenumbers": "strict",
          "coloraxis": {
           "colorbar": {
            "outlinewidth": 0,
            "ticks": ""
           }
          },
          "colorscale": {
           "diverging": [
            [
             0,
             "#8e0152"
            ],
            [
             0.1,
             "#c51b7d"
            ],
            [
             0.2,
             "#de77ae"
            ],
            [
             0.3,
             "#f1b6da"
            ],
            [
             0.4,
             "#fde0ef"
            ],
            [
             0.5,
             "#f7f7f7"
            ],
            [
             0.6,
             "#e6f5d0"
            ],
            [
             0.7,
             "#b8e186"
            ],
            [
             0.8,
             "#7fbc41"
            ],
            [
             0.9,
             "#4d9221"
            ],
            [
             1,
             "#276419"
            ]
           ],
           "sequential": [
            [
             0,
             "#0d0887"
            ],
            [
             0.1111111111111111,
             "#46039f"
            ],
            [
             0.2222222222222222,
             "#7201a8"
            ],
            [
             0.3333333333333333,
             "#9c179e"
            ],
            [
             0.4444444444444444,
             "#bd3786"
            ],
            [
             0.5555555555555556,
             "#d8576b"
            ],
            [
             0.6666666666666666,
             "#ed7953"
            ],
            [
             0.7777777777777778,
             "#fb9f3a"
            ],
            [
             0.8888888888888888,
             "#fdca26"
            ],
            [
             1,
             "#f0f921"
            ]
           ],
           "sequentialminus": [
            [
             0,
             "#0d0887"
            ],
            [
             0.1111111111111111,
             "#46039f"
            ],
            [
             0.2222222222222222,
             "#7201a8"
            ],
            [
             0.3333333333333333,
             "#9c179e"
            ],
            [
             0.4444444444444444,
             "#bd3786"
            ],
            [
             0.5555555555555556,
             "#d8576b"
            ],
            [
             0.6666666666666666,
             "#ed7953"
            ],
            [
             0.7777777777777778,
             "#fb9f3a"
            ],
            [
             0.8888888888888888,
             "#fdca26"
            ],
            [
             1,
             "#f0f921"
            ]
           ]
          },
          "colorway": [
           "#636efa",
           "#EF553B",
           "#00cc96",
           "#ab63fa",
           "#FFA15A",
           "#19d3f3",
           "#FF6692",
           "#B6E880",
           "#FF97FF",
           "#FECB52"
          ],
          "font": {
           "color": "#2a3f5f"
          },
          "geo": {
           "bgcolor": "white",
           "lakecolor": "white",
           "landcolor": "#E5ECF6",
           "showlakes": true,
           "showland": true,
           "subunitcolor": "white"
          },
          "hoverlabel": {
           "align": "left"
          },
          "hovermode": "closest",
          "mapbox": {
           "style": "light"
          },
          "paper_bgcolor": "white",
          "plot_bgcolor": "#E5ECF6",
          "polar": {
           "angularaxis": {
            "gridcolor": "white",
            "linecolor": "white",
            "ticks": ""
           },
           "bgcolor": "#E5ECF6",
           "radialaxis": {
            "gridcolor": "white",
            "linecolor": "white",
            "ticks": ""
           }
          },
          "scene": {
           "xaxis": {
            "backgroundcolor": "#E5ECF6",
            "gridcolor": "white",
            "gridwidth": 2,
            "linecolor": "white",
            "showbackground": true,
            "ticks": "",
            "zerolinecolor": "white"
           },
           "yaxis": {
            "backgroundcolor": "#E5ECF6",
            "gridcolor": "white",
            "gridwidth": 2,
            "linecolor": "white",
            "showbackground": true,
            "ticks": "",
            "zerolinecolor": "white"
           },
           "zaxis": {
            "backgroundcolor": "#E5ECF6",
            "gridcolor": "white",
            "gridwidth": 2,
            "linecolor": "white",
            "showbackground": true,
            "ticks": "",
            "zerolinecolor": "white"
           }
          },
          "shapedefaults": {
           "line": {
            "color": "#2a3f5f"
           }
          },
          "ternary": {
           "aaxis": {
            "gridcolor": "white",
            "linecolor": "white",
            "ticks": ""
           },
           "baxis": {
            "gridcolor": "white",
            "linecolor": "white",
            "ticks": ""
           },
           "bgcolor": "#E5ECF6",
           "caxis": {
            "gridcolor": "white",
            "linecolor": "white",
            "ticks": ""
           }
          },
          "title": {
           "x": 0.05
          },
          "xaxis": {
           "automargin": true,
           "gridcolor": "white",
           "linecolor": "white",
           "ticks": "",
           "title": {
            "standoff": 15
           },
           "zerolinecolor": "white",
           "zerolinewidth": 2
          },
          "yaxis": {
           "automargin": true,
           "gridcolor": "white",
           "linecolor": "white",
           "ticks": "",
           "title": {
            "standoff": 15
           },
           "zerolinecolor": "white",
           "zerolinewidth": 2
          }
         }
        },
        "title": {
         "text": "TSL vs EPLR, mean: 120 | stddev: 15 | iter. 10<br><sup>higher EPLR means parametric performs better</sup>"
        },
        "xaxis": {
         "anchor": "y",
         "domain": [
          0,
          1
         ],
         "title": {
          "text": "Target Service Level"
         }
        },
        "yaxis": {
         "anchor": "x",
         "domain": [
          0,
          1
         ],
         "title": {
          "text": "EPLR"
         }
        }
       }
      }
     },
     "metadata": {},
     "output_type": "display_data"
    }
   ],
   "source": [
    "fig = px.scatter(df, x='Target Service Level', y='RMSE Ratio', color=\"Sample Size\", title=\"TSL vs RMSE, mean: {0} | stddev: {1} | iter. {2}<br><sup>higher RMSE means parametric performs better</sup>\".format(meanDemand, stdevDemand, numberOfMontecarloIterations))\n",
    "fig.update_layout(font_size = 15)\n",
    "#fig.write_image(\"Excercise part 3/RMSE-{0}-{1}.pdf\".format(meanDemand, stdevDemand))\n",
    "fig.show()\n",
    "\n",
    "fig = px.scatter(df, x='Target Service Level', y='EPLR', color=\"Sample Size\", title=\"TSL vs EPLR, mean: {0} | stddev: {1} | iter. {2}<br><sup>higher EPLR means parametric performs better</sup>\".format(meanDemand, stdevDemand, numberOfMontecarloIterations))\n",
    "fig.update_layout(font_size = 15)\n",
    "#fig.write_image(\"Excercise part 3/EPLR-{0}-{1}.pdf\".format(meanDemand, stdevDemand))\n",
    "fig.show()\n",
    "\n",
    "#fig = px.scatter(df, x='Target Service Level', y='RMSE Ratio', color=\"Sample Size\", title=\"TSL vs RMSE, higher RMSE means parametric performs better\")\n",
    "#fig.show()\n"
   ]
  },
  {
   "cell_type": "code",
   "execution_count": null,
   "metadata": {},
   "outputs": [
    {
     "ename": "KeyboardInterrupt",
     "evalue": "",
     "output_type": "error",
     "traceback": [
      "\u001b[1;31m---------------------------------------------------------------------------\u001b[0m",
      "\u001b[1;31mKeyboardInterrupt\u001b[0m                         Traceback (most recent call last)",
      "Cell \u001b[1;32mIn[35], line 11\u001b[0m\n\u001b[0;32m      9\u001b[0m \u001b[39mfor\u001b[39;00m tau \u001b[39min\u001b[39;00m tauArray:\n\u001b[0;32m     10\u001b[0m     \u001b[39mfor\u001b[39;00m n \u001b[39min\u001b[39;00m nArray:\n\u001b[1;32m---> 11\u001b[0m         result \u001b[39m=\u001b[39m monteCarlo(numberOfMontecarloIterations, tau, n, meanDemand, stdevDemand)\n\u001b[0;32m     12\u001b[0m         results\u001b[39m.\u001b[39mappend(result)\n",
      "Cell \u001b[1;32mIn[31], line 75\u001b[0m, in \u001b[0;36mmonteCarlo\u001b[1;34m(m, tau, n, meanDemand, stdevDemand)\u001b[0m\n\u001b[0;32m     72\u001b[0m allParameters[j] \u001b[39m=\u001b[39m parameters \u001b[39m=\u001b[39m fit(distributionData)\n\u001b[0;32m     74\u001b[0m parametricOptimalQuantitys[j] \u001b[39m=\u001b[39m parametricOptimalQuantity(tau, dist, parameters)\n\u001b[1;32m---> 75\u001b[0m nonParametricOptimalQuantitys[j] \u001b[39m=\u001b[39m nonParametricOptimalQuantity(distributionData, tau)\n\u001b[0;32m     78\u001b[0m parametricExpectedProfits[j] \u001b[39m=\u001b[39m calculateOptimalProfit(tau, parametricOptimalQuantitys[j], distReal)\n\u001b[0;32m     79\u001b[0m nonParametricExpectedProfits[j] \u001b[39m=\u001b[39m calculateOptimalProfit(tau, nonParametricOptimalQuantitys[j], distReal)\n",
      "Cell \u001b[1;32mIn[31], line 12\u001b[0m, in \u001b[0;36mnonParametricOptimalQuantity\u001b[1;34m(distributionData, tau)\u001b[0m\n\u001b[0;32m     11\u001b[0m \u001b[39mdef\u001b[39;00m \u001b[39mnonParametricOptimalQuantity\u001b[39m(distributionData, tau):\n\u001b[1;32m---> 12\u001b[0m     optimalQuantity \u001b[39m=\u001b[39m np\u001b[39m.\u001b[39;49mquantile(distributionData,tau)\n\u001b[0;32m     13\u001b[0m     \u001b[39mreturn\u001b[39;00m optimalQuantity\n",
      "File \u001b[1;32m<__array_function__ internals>:200\u001b[0m, in \u001b[0;36mquantile\u001b[1;34m(*args, **kwargs)\u001b[0m\n",
      "File \u001b[1;32mc:\\Users\\Marijn Korthouwer\\AppData\\Local\\Programs\\Python\\Python311\\Lib\\site-packages\\numpy\\lib\\function_base.py:4461\u001b[0m, in \u001b[0;36mquantile\u001b[1;34m(a, q, axis, out, overwrite_input, method, keepdims, interpolation)\u001b[0m\n\u001b[0;32m   4459\u001b[0m \u001b[39mif\u001b[39;00m \u001b[39mnot\u001b[39;00m _quantile_is_valid(q):\n\u001b[0;32m   4460\u001b[0m     \u001b[39mraise\u001b[39;00m \u001b[39mValueError\u001b[39;00m(\u001b[39m\"\u001b[39m\u001b[39mQuantiles must be in the range [0, 1]\u001b[39m\u001b[39m\"\u001b[39m)\n\u001b[1;32m-> 4461\u001b[0m \u001b[39mreturn\u001b[39;00m _quantile_unchecked(\n\u001b[0;32m   4462\u001b[0m     a, q, axis, out, overwrite_input, method, keepdims)\n",
      "File \u001b[1;32mc:\\Users\\Marijn Korthouwer\\AppData\\Local\\Programs\\Python\\Python311\\Lib\\site-packages\\numpy\\lib\\function_base.py:4473\u001b[0m, in \u001b[0;36m_quantile_unchecked\u001b[1;34m(a, q, axis, out, overwrite_input, method, keepdims)\u001b[0m\n\u001b[0;32m   4465\u001b[0m \u001b[39mdef\u001b[39;00m \u001b[39m_quantile_unchecked\u001b[39m(a,\n\u001b[0;32m   4466\u001b[0m                         q,\n\u001b[0;32m   4467\u001b[0m                         axis\u001b[39m=\u001b[39m\u001b[39mNone\u001b[39;00m,\n\u001b[1;32m   (...)\u001b[0m\n\u001b[0;32m   4470\u001b[0m                         method\u001b[39m=\u001b[39m\u001b[39m\"\u001b[39m\u001b[39mlinear\u001b[39m\u001b[39m\"\u001b[39m,\n\u001b[0;32m   4471\u001b[0m                         keepdims\u001b[39m=\u001b[39m\u001b[39mFalse\u001b[39;00m):\n\u001b[0;32m   4472\u001b[0m \u001b[39m    \u001b[39m\u001b[39m\"\"\"Assumes that q is in [0, 1], and is an ndarray\"\"\"\u001b[39;00m\n\u001b[1;32m-> 4473\u001b[0m     \u001b[39mreturn\u001b[39;00m _ureduce(a,\n\u001b[0;32m   4474\u001b[0m                     func\u001b[39m=\u001b[39;49m_quantile_ureduce_func,\n\u001b[0;32m   4475\u001b[0m                     q\u001b[39m=\u001b[39;49mq,\n\u001b[0;32m   4476\u001b[0m                     keepdims\u001b[39m=\u001b[39;49mkeepdims,\n\u001b[0;32m   4477\u001b[0m                     axis\u001b[39m=\u001b[39;49maxis,\n\u001b[0;32m   4478\u001b[0m                     out\u001b[39m=\u001b[39;49mout,\n\u001b[0;32m   4479\u001b[0m                     overwrite_input\u001b[39m=\u001b[39;49moverwrite_input,\n\u001b[0;32m   4480\u001b[0m                     method\u001b[39m=\u001b[39;49mmethod)\n",
      "File \u001b[1;32mc:\\Users\\Marijn Korthouwer\\AppData\\Local\\Programs\\Python\\Python311\\Lib\\site-packages\\numpy\\lib\\function_base.py:3752\u001b[0m, in \u001b[0;36m_ureduce\u001b[1;34m(a, func, keepdims, **kwargs)\u001b[0m\n\u001b[0;32m   3749\u001b[0m             index_out \u001b[39m=\u001b[39m (\u001b[39m0\u001b[39m, ) \u001b[39m*\u001b[39m nd\n\u001b[0;32m   3750\u001b[0m             kwargs[\u001b[39m'\u001b[39m\u001b[39mout\u001b[39m\u001b[39m'\u001b[39m] \u001b[39m=\u001b[39m out[(\u001b[39mEllipsis\u001b[39m, ) \u001b[39m+\u001b[39m index_out]\n\u001b[1;32m-> 3752\u001b[0m r \u001b[39m=\u001b[39m func(a, \u001b[39m*\u001b[39;49m\u001b[39m*\u001b[39;49mkwargs)\n\u001b[0;32m   3754\u001b[0m \u001b[39mif\u001b[39;00m out \u001b[39mis\u001b[39;00m \u001b[39mnot\u001b[39;00m \u001b[39mNone\u001b[39;00m:\n\u001b[0;32m   3755\u001b[0m     \u001b[39mreturn\u001b[39;00m out\n",
      "File \u001b[1;32mc:\\Users\\Marijn Korthouwer\\AppData\\Local\\Programs\\Python\\Python311\\Lib\\site-packages\\numpy\\lib\\function_base.py:4639\u001b[0m, in \u001b[0;36m_quantile_ureduce_func\u001b[1;34m(a, q, axis, out, overwrite_input, method)\u001b[0m\n\u001b[0;32m   4637\u001b[0m     \u001b[39melse\u001b[39;00m:\n\u001b[0;32m   4638\u001b[0m         arr \u001b[39m=\u001b[39m a\u001b[39m.\u001b[39mcopy()\n\u001b[1;32m-> 4639\u001b[0m result \u001b[39m=\u001b[39m _quantile(arr,\n\u001b[0;32m   4640\u001b[0m                    quantiles\u001b[39m=\u001b[39;49mq,\n\u001b[0;32m   4641\u001b[0m                    axis\u001b[39m=\u001b[39;49maxis,\n\u001b[0;32m   4642\u001b[0m                    method\u001b[39m=\u001b[39;49mmethod,\n\u001b[0;32m   4643\u001b[0m                    out\u001b[39m=\u001b[39;49mout)\n\u001b[0;32m   4644\u001b[0m \u001b[39mreturn\u001b[39;00m result\n",
      "File \u001b[1;32mc:\\Users\\Marijn Korthouwer\\AppData\\Local\\Programs\\Python\\Python311\\Lib\\site-packages\\numpy\\lib\\function_base.py:4738\u001b[0m, in \u001b[0;36m_quantile\u001b[1;34m(arr, quantiles, axis, method, out)\u001b[0m\n\u001b[0;32m   4733\u001b[0m previous_indexes, next_indexes \u001b[39m=\u001b[39m _get_indexes(arr,\n\u001b[0;32m   4734\u001b[0m                                               virtual_indexes,\n\u001b[0;32m   4735\u001b[0m                                               values_count)\n\u001b[0;32m   4736\u001b[0m \u001b[39m# --- Sorting\u001b[39;00m\n\u001b[0;32m   4737\u001b[0m arr\u001b[39m.\u001b[39mpartition(\n\u001b[1;32m-> 4738\u001b[0m     np\u001b[39m.\u001b[39;49munique(np\u001b[39m.\u001b[39;49mconcatenate(([\u001b[39m0\u001b[39;49m, \u001b[39m-\u001b[39;49m\u001b[39m1\u001b[39;49m],\n\u001b[0;32m   4739\u001b[0m                               previous_indexes\u001b[39m.\u001b[39;49mravel(),\n\u001b[0;32m   4740\u001b[0m                               next_indexes\u001b[39m.\u001b[39;49mravel(),\n\u001b[0;32m   4741\u001b[0m                               ))),\n\u001b[0;32m   4742\u001b[0m     axis\u001b[39m=\u001b[39mDATA_AXIS)\n\u001b[0;32m   4743\u001b[0m \u001b[39mif\u001b[39;00m np\u001b[39m.\u001b[39missubdtype(arr\u001b[39m.\u001b[39mdtype, np\u001b[39m.\u001b[39minexact):\n\u001b[0;32m   4744\u001b[0m     slices_having_nans \u001b[39m=\u001b[39m np\u001b[39m.\u001b[39misnan(\n\u001b[0;32m   4745\u001b[0m         take(arr, indices\u001b[39m=\u001b[39m\u001b[39m-\u001b[39m\u001b[39m1\u001b[39m, axis\u001b[39m=\u001b[39mDATA_AXIS)\n\u001b[0;32m   4746\u001b[0m     )\n",
      "File \u001b[1;32m<__array_function__ internals>:200\u001b[0m, in \u001b[0;36munique\u001b[1;34m(*args, **kwargs)\u001b[0m\n",
      "File \u001b[1;32mc:\\Users\\Marijn Korthouwer\\AppData\\Local\\Programs\\Python\\Python311\\Lib\\site-packages\\numpy\\lib\\arraysetops.py:274\u001b[0m, in \u001b[0;36munique\u001b[1;34m(ar, return_index, return_inverse, return_counts, axis, equal_nan)\u001b[0m\n\u001b[0;32m    272\u001b[0m ar \u001b[39m=\u001b[39m np\u001b[39m.\u001b[39masanyarray(ar)\n\u001b[0;32m    273\u001b[0m \u001b[39mif\u001b[39;00m axis \u001b[39mis\u001b[39;00m \u001b[39mNone\u001b[39;00m:\n\u001b[1;32m--> 274\u001b[0m     ret \u001b[39m=\u001b[39m _unique1d(ar, return_index, return_inverse, return_counts, \n\u001b[0;32m    275\u001b[0m                     equal_nan\u001b[39m=\u001b[39;49mequal_nan)\n\u001b[0;32m    276\u001b[0m     \u001b[39mreturn\u001b[39;00m _unpack_tuple(ret)\n\u001b[0;32m    278\u001b[0m \u001b[39m# axis was specified and not None\u001b[39;00m\n",
      "File \u001b[1;32mc:\\Users\\Marijn Korthouwer\\AppData\\Local\\Programs\\Python\\Python311\\Lib\\site-packages\\numpy\\lib\\arraysetops.py:336\u001b[0m, in \u001b[0;36m_unique1d\u001b[1;34m(ar, return_index, return_inverse, return_counts, equal_nan)\u001b[0m\n\u001b[0;32m    334\u001b[0m     aux \u001b[39m=\u001b[39m ar[perm]\n\u001b[0;32m    335\u001b[0m \u001b[39melse\u001b[39;00m:\n\u001b[1;32m--> 336\u001b[0m     ar\u001b[39m.\u001b[39msort()\n\u001b[0;32m    337\u001b[0m     aux \u001b[39m=\u001b[39m ar\n\u001b[0;32m    338\u001b[0m mask \u001b[39m=\u001b[39m np\u001b[39m.\u001b[39mempty(aux\u001b[39m.\u001b[39mshape, dtype\u001b[39m=\u001b[39mnp\u001b[39m.\u001b[39mbool_)\n",
      "\u001b[1;31mKeyboardInterrupt\u001b[0m: "
     ]
    }
   ],
   "source": [
    "numberOfMontecarloIterations = 10\n",
    "stdevDemand = 20\n",
    "meanDemand = 100\n",
    "\n",
    "tauArray = [0.01, 0.05, 0.1, 0.3, 0.5, 0.7, 0.9, 0.95, 0.99]\n",
    "nArray = [10, 50, 100, 200]\n",
    "\n",
    "results = []\n",
    "for tau in tauArray:\n",
    "    for n in nArray:\n",
    "        result = monteCarlo(numberOfMontecarloIterations, tau, n, meanDemand, stdevDemand)\n",
    "        results.append(result)\n"
   ]
  },
  {
   "cell_type": "code",
   "execution_count": null,
   "metadata": {},
   "outputs": [
    {
     "data": {
      "text/html": [
       "<div>\n",
       "<style scoped>\n",
       "    .dataframe tbody tr th:only-of-type {\n",
       "        vertical-align: middle;\n",
       "    }\n",
       "\n",
       "    .dataframe tbody tr th {\n",
       "        vertical-align: top;\n",
       "    }\n",
       "\n",
       "    .dataframe thead th {\n",
       "        text-align: right;\n",
       "    }\n",
       "</style>\n",
       "<table border=\"1\" class=\"dataframe\">\n",
       "  <thead>\n",
       "    <tr style=\"text-align: right;\">\n",
       "      <th></th>\n",
       "      <th>MonteCarlo iterations</th>\n",
       "      <th>Sample Size</th>\n",
       "      <th>Target Service Level</th>\n",
       "      <th>Param Values</th>\n",
       "      <th>real optimal quantity</th>\n",
       "      <th>Parm optimal quantity</th>\n",
       "      <th>nonParm optimal quantity</th>\n",
       "      <th>RMSE Ratio</th>\n",
       "      <th>SL nonParam</th>\n",
       "      <th>SL Param</th>\n",
       "      <th>EPLR</th>\n",
       "    </tr>\n",
       "  </thead>\n",
       "  <tbody>\n",
       "    <tr>\n",
       "      <th>0</th>\n",
       "      <td>1000</td>\n",
       "      <td>10</td>\n",
       "      <td>0.01</td>\n",
       "      <td>[100.05276221108602, 18.322430190433316]</td>\n",
       "      <td>53.473043</td>\n",
       "      <td>57.428416</td>\n",
       "      <td>70.081064</td>\n",
       "      <td>1.612756</td>\n",
       "      <td>0.0</td>\n",
       "      <td>0.000</td>\n",
       "      <td>1.746746</td>\n",
       "    </tr>\n",
       "    <tr>\n",
       "      <th>1</th>\n",
       "      <td>1000</td>\n",
       "      <td>50</td>\n",
       "      <td>0.01</td>\n",
       "      <td>[99.86599774239826, 19.625352516938257]</td>\n",
       "      <td>53.473043</td>\n",
       "      <td>54.210601</td>\n",
       "      <td>58.687906</td>\n",
       "      <td>1.620333</td>\n",
       "      <td>0.0</td>\n",
       "      <td>0.000</td>\n",
       "      <td>1.697920</td>\n",
       "    </tr>\n",
       "    <tr>\n",
       "      <th>2</th>\n",
       "      <td>1000</td>\n",
       "      <td>100</td>\n",
       "      <td>0.01</td>\n",
       "      <td>[99.98793184995574, 19.825710639774723]</td>\n",
       "      <td>53.473043</td>\n",
       "      <td>53.866432</td>\n",
       "      <td>56.936919</td>\n",
       "      <td>1.855067</td>\n",
       "      <td>0.0</td>\n",
       "      <td>0.000</td>\n",
       "      <td>1.909708</td>\n",
       "    </tr>\n",
       "    <tr>\n",
       "      <th>3</th>\n",
       "      <td>1000</td>\n",
       "      <td>200</td>\n",
       "      <td>0.01</td>\n",
       "      <td>[100.01753715293296, 19.93699120840811]</td>\n",
       "      <td>53.473043</td>\n",
       "      <td>53.637160</td>\n",
       "      <td>55.492622</td>\n",
       "      <td>1.876973</td>\n",
       "      <td>0.0</td>\n",
       "      <td>0.000</td>\n",
       "      <td>1.934502</td>\n",
       "    </tr>\n",
       "    <tr>\n",
       "      <th>4</th>\n",
       "      <td>1000</td>\n",
       "      <td>10</td>\n",
       "      <td>0.05</td>\n",
       "      <td>[100.17412834628907, 18.583272451373194]</td>\n",
       "      <td>67.102927</td>\n",
       "      <td>69.607365</td>\n",
       "      <td>74.013078</td>\n",
       "      <td>1.181105</td>\n",
       "      <td>0.0</td>\n",
       "      <td>0.000</td>\n",
       "      <td>1.212582</td>\n",
       "    </tr>\n",
       "    <tr>\n",
       "      <th>5</th>\n",
       "      <td>1000</td>\n",
       "      <td>50</td>\n",
       "      <td>0.05</td>\n",
       "      <td>[100.01290058587084, 19.74449497854405]</td>\n",
       "      <td>67.102927</td>\n",
       "      <td>67.536096</td>\n",
       "      <td>68.846935</td>\n",
       "      <td>1.301301</td>\n",
       "      <td>0.0</td>\n",
       "      <td>0.000</td>\n",
       "      <td>1.307192</td>\n",
       "    </tr>\n",
       "    <tr>\n",
       "      <th>6</th>\n",
       "      <td>1000</td>\n",
       "      <td>100</td>\n",
       "      <td>0.05</td>\n",
       "      <td>[100.13613182339489, 19.7881913695077]</td>\n",
       "      <td>67.102927</td>\n",
       "      <td>67.587453</td>\n",
       "      <td>68.364898</td>\n",
       "      <td>1.318215</td>\n",
       "      <td>0.0</td>\n",
       "      <td>0.000</td>\n",
       "      <td>1.319447</td>\n",
       "    </tr>\n",
       "    <tr>\n",
       "      <th>7</th>\n",
       "      <td>1000</td>\n",
       "      <td>200</td>\n",
       "      <td>0.05</td>\n",
       "      <td>[100.05332981205532, 19.88140049309111]</td>\n",
       "      <td>67.102927</td>\n",
       "      <td>67.351336</td>\n",
       "      <td>67.659238</td>\n",
       "      <td>1.303488</td>\n",
       "      <td>0.0</td>\n",
       "      <td>0.000</td>\n",
       "      <td>1.289564</td>\n",
       "    </tr>\n",
       "    <tr>\n",
       "      <th>8</th>\n",
       "      <td>1000</td>\n",
       "      <td>10</td>\n",
       "      <td>0.10</td>\n",
       "      <td>[100.23942617137259, 18.565601623716454]</td>\n",
       "      <td>74.368969</td>\n",
       "      <td>76.446650</td>\n",
       "      <td>78.927581</td>\n",
       "      <td>1.183254</td>\n",
       "      <td>0.0</td>\n",
       "      <td>0.000</td>\n",
       "      <td>1.187543</td>\n",
       "    </tr>\n",
       "    <tr>\n",
       "      <th>9</th>\n",
       "      <td>1000</td>\n",
       "      <td>50</td>\n",
       "      <td>0.10</td>\n",
       "      <td>[100.04874979208519, 19.739044117267085]</td>\n",
       "      <td>74.368969</td>\n",
       "      <td>74.752147</td>\n",
       "      <td>75.468564</td>\n",
       "      <td>1.272098</td>\n",
       "      <td>0.0</td>\n",
       "      <td>0.000</td>\n",
       "      <td>1.274230</td>\n",
       "    </tr>\n",
       "    <tr>\n",
       "      <th>10</th>\n",
       "      <td>1000</td>\n",
       "      <td>100</td>\n",
       "      <td>0.10</td>\n",
       "      <td>[99.99181912249705, 19.862057809594308]</td>\n",
       "      <td>74.368969</td>\n",
       "      <td>74.537568</td>\n",
       "      <td>74.926249</td>\n",
       "      <td>1.255063</td>\n",
       "      <td>0.0</td>\n",
       "      <td>0.000</td>\n",
       "      <td>1.270548</td>\n",
       "    </tr>\n",
       "    <tr>\n",
       "      <th>11</th>\n",
       "      <td>1000</td>\n",
       "      <td>200</td>\n",
       "      <td>0.10</td>\n",
       "      <td>[99.94557376606845, 19.93626653521018]</td>\n",
       "      <td>74.368969</td>\n",
       "      <td>74.396220</td>\n",
       "      <td>74.511577</td>\n",
       "      <td>1.275211</td>\n",
       "      <td>0.0</td>\n",
       "      <td>0.000</td>\n",
       "      <td>1.272805</td>\n",
       "    </tr>\n",
       "    <tr>\n",
       "      <th>12</th>\n",
       "      <td>1000</td>\n",
       "      <td>10</td>\n",
       "      <td>0.30</td>\n",
       "      <td>[100.01234057271553, 18.40167409402248]</td>\n",
       "      <td>89.511990</td>\n",
       "      <td>90.362493</td>\n",
       "      <td>90.841614</td>\n",
       "      <td>1.150979</td>\n",
       "      <td>0.0</td>\n",
       "      <td>0.009</td>\n",
       "      <td>1.158139</td>\n",
       "    </tr>\n",
       "    <tr>\n",
       "      <th>13</th>\n",
       "      <td>1000</td>\n",
       "      <td>50</td>\n",
       "      <td>0.30</td>\n",
       "      <td>[100.045476359628, 19.59994796413029]</td>\n",
       "      <td>89.511990</td>\n",
       "      <td>89.767254</td>\n",
       "      <td>89.902936</td>\n",
       "      <td>1.159586</td>\n",
       "      <td>0.0</td>\n",
       "      <td>0.000</td>\n",
       "      <td>1.152214</td>\n",
       "    </tr>\n",
       "    <tr>\n",
       "      <th>14</th>\n",
       "      <td>1000</td>\n",
       "      <td>100</td>\n",
       "      <td>0.30</td>\n",
       "      <td>[99.95553857868616, 19.87172111463957]</td>\n",
       "      <td>89.511990</td>\n",
       "      <td>89.534798</td>\n",
       "      <td>89.606389</td>\n",
       "      <td>1.230857</td>\n",
       "      <td>0.0</td>\n",
       "      <td>0.000</td>\n",
       "      <td>1.234043</td>\n",
       "    </tr>\n",
       "    <tr>\n",
       "      <th>15</th>\n",
       "      <td>1000</td>\n",
       "      <td>200</td>\n",
       "      <td>0.30</td>\n",
       "      <td>[99.98969354766454, 19.97795144562914]</td>\n",
       "      <td>89.511990</td>\n",
       "      <td>89.513246</td>\n",
       "      <td>89.590907</td>\n",
       "      <td>1.253047</td>\n",
       "      <td>0.0</td>\n",
       "      <td>0.000</td>\n",
       "      <td>1.274814</td>\n",
       "    </tr>\n",
       "    <tr>\n",
       "      <th>16</th>\n",
       "      <td>1000</td>\n",
       "      <td>10</td>\n",
       "      <td>0.50</td>\n",
       "      <td>[99.88111367497952, 18.416370186536284]</td>\n",
       "      <td>100.000000</td>\n",
       "      <td>99.881114</td>\n",
       "      <td>99.693106</td>\n",
       "      <td>1.204958</td>\n",
       "      <td>1.0</td>\n",
       "      <td>0.463</td>\n",
       "      <td>1.183612</td>\n",
       "    </tr>\n",
       "    <tr>\n",
       "      <th>17</th>\n",
       "      <td>1000</td>\n",
       "      <td>50</td>\n",
       "      <td>0.50</td>\n",
       "      <td>[100.01183584158314, 19.801637964016248]</td>\n",
       "      <td>100.000000</td>\n",
       "      <td>100.011836</td>\n",
       "      <td>100.069013</td>\n",
       "      <td>1.229986</td>\n",
       "      <td>1.0</td>\n",
       "      <td>0.504</td>\n",
       "      <td>1.243275</td>\n",
       "    </tr>\n",
       "    <tr>\n",
       "      <th>18</th>\n",
       "      <td>1000</td>\n",
       "      <td>100</td>\n",
       "      <td>0.50</td>\n",
       "      <td>[99.94858764815986, 19.88816937504093]</td>\n",
       "      <td>100.000000</td>\n",
       "      <td>99.948588</td>\n",
       "      <td>99.985369</td>\n",
       "      <td>1.247259</td>\n",
       "      <td>1.0</td>\n",
       "      <td>0.520</td>\n",
       "      <td>1.274547</td>\n",
       "    </tr>\n",
       "    <tr>\n",
       "      <th>19</th>\n",
       "      <td>1000</td>\n",
       "      <td>200</td>\n",
       "      <td>0.50</td>\n",
       "      <td>[99.98533922335635, 19.850357389312308]</td>\n",
       "      <td>100.000000</td>\n",
       "      <td>99.985339</td>\n",
       "      <td>100.065875</td>\n",
       "      <td>1.233462</td>\n",
       "      <td>1.0</td>\n",
       "      <td>0.521</td>\n",
       "      <td>1.242734</td>\n",
       "    </tr>\n",
       "    <tr>\n",
       "      <th>20</th>\n",
       "      <td>1000</td>\n",
       "      <td>10</td>\n",
       "      <td>0.70</td>\n",
       "      <td>[99.95163186631038, 18.48645781982922]</td>\n",
       "      <td>110.488010</td>\n",
       "      <td>109.645940</td>\n",
       "      <td>109.378809</td>\n",
       "      <td>1.144310</td>\n",
       "      <td>1.0</td>\n",
       "      <td>0.990</td>\n",
       "      <td>1.029313</td>\n",
       "    </tr>\n",
       "    <tr>\n",
       "      <th>21</th>\n",
       "      <td>1000</td>\n",
       "      <td>50</td>\n",
       "      <td>0.70</td>\n",
       "      <td>[99.92966205483107, 19.78819242496816]</td>\n",
       "      <td>110.488010</td>\n",
       "      <td>110.306600</td>\n",
       "      <td>110.234089</td>\n",
       "      <td>1.181925</td>\n",
       "      <td>1.0</td>\n",
       "      <td>1.000</td>\n",
       "      <td>1.051403</td>\n",
       "    </tr>\n",
       "    <tr>\n",
       "      <th>22</th>\n",
       "      <td>1000</td>\n",
       "      <td>100</td>\n",
       "      <td>0.70</td>\n",
       "      <td>[100.05885869177334, 19.89212016844916]</td>\n",
       "      <td>110.488010</td>\n",
       "      <td>110.490297</td>\n",
       "      <td>110.421582</td>\n",
       "      <td>1.227415</td>\n",
       "      <td>1.0</td>\n",
       "      <td>1.000</td>\n",
       "      <td>1.044649</td>\n",
       "    </tr>\n",
       "    <tr>\n",
       "      <th>23</th>\n",
       "      <td>1000</td>\n",
       "      <td>200</td>\n",
       "      <td>0.70</td>\n",
       "      <td>[100.09099045459278, 19.9095949857671]</td>\n",
       "      <td>110.488010</td>\n",
       "      <td>110.531592</td>\n",
       "      <td>110.543124</td>\n",
       "      <td>1.217081</td>\n",
       "      <td>1.0</td>\n",
       "      <td>1.000</td>\n",
       "      <td>1.043859</td>\n",
       "    </tr>\n",
       "    <tr>\n",
       "      <th>24</th>\n",
       "      <td>1000</td>\n",
       "      <td>10</td>\n",
       "      <td>0.90</td>\n",
       "      <td>[99.99175822432173, 18.330235582417735]</td>\n",
       "      <td>125.631031</td>\n",
       "      <td>123.482900</td>\n",
       "      <td>120.941839</td>\n",
       "      <td>1.170670</td>\n",
       "      <td>1.0</td>\n",
       "      <td>1.000</td>\n",
       "      <td>1.006531</td>\n",
       "    </tr>\n",
       "    <tr>\n",
       "      <th>25</th>\n",
       "      <td>1000</td>\n",
       "      <td>50</td>\n",
       "      <td>0.90</td>\n",
       "      <td>[100.04929185986862, 19.614134109858355]</td>\n",
       "      <td>125.631031</td>\n",
       "      <td>125.185816</td>\n",
       "      <td>124.578189</td>\n",
       "      <td>1.203873</td>\n",
       "      <td>1.0</td>\n",
       "      <td>1.000</td>\n",
       "      <td>1.011563</td>\n",
       "    </tr>\n",
       "    <tr>\n",
       "      <th>26</th>\n",
       "      <td>1000</td>\n",
       "      <td>100</td>\n",
       "      <td>0.90</td>\n",
       "      <td>[99.93283580937752, 19.793062106897438]</td>\n",
       "      <td>125.631031</td>\n",
       "      <td>125.298666</td>\n",
       "      <td>124.967724</td>\n",
       "      <td>1.240967</td>\n",
       "      <td>1.0</td>\n",
       "      <td>1.000</td>\n",
       "      <td>1.005165</td>\n",
       "    </tr>\n",
       "    <tr>\n",
       "      <th>27</th>\n",
       "      <td>1000</td>\n",
       "      <td>200</td>\n",
       "      <td>0.90</td>\n",
       "      <td>[99.97426365945776, 19.967659008387397]</td>\n",
       "      <td>125.631031</td>\n",
       "      <td>125.563848</td>\n",
       "      <td>125.433033</td>\n",
       "      <td>1.291577</td>\n",
       "      <td>1.0</td>\n",
       "      <td>1.000</td>\n",
       "      <td>1.007132</td>\n",
       "    </tr>\n",
       "    <tr>\n",
       "      <th>28</th>\n",
       "      <td>1000</td>\n",
       "      <td>10</td>\n",
       "      <td>0.95</td>\n",
       "      <td>[100.15922258459838, 18.417619247968968]</td>\n",
       "      <td>132.897073</td>\n",
       "      <td>130.453510</td>\n",
       "      <td>125.908121</td>\n",
       "      <td>1.205343</td>\n",
       "      <td>1.0</td>\n",
       "      <td>1.000</td>\n",
       "      <td>1.001282</td>\n",
       "    </tr>\n",
       "    <tr>\n",
       "      <th>29</th>\n",
       "      <td>1000</td>\n",
       "      <td>50</td>\n",
       "      <td>0.95</td>\n",
       "      <td>[100.0120621579543, 19.54437794422472]</td>\n",
       "      <td>132.897073</td>\n",
       "      <td>132.159703</td>\n",
       "      <td>130.856383</td>\n",
       "      <td>1.322000</td>\n",
       "      <td>1.0</td>\n",
       "      <td>1.000</td>\n",
       "      <td>1.003135</td>\n",
       "    </tr>\n",
       "    <tr>\n",
       "      <th>30</th>\n",
       "      <td>1000</td>\n",
       "      <td>100</td>\n",
       "      <td>0.95</td>\n",
       "      <td>[99.98663317960646, 19.821387000400826]</td>\n",
       "      <td>132.897073</td>\n",
       "      <td>132.589913</td>\n",
       "      <td>132.041531</td>\n",
       "      <td>1.335717</td>\n",
       "      <td>1.0</td>\n",
       "      <td>1.000</td>\n",
       "      <td>1.006690</td>\n",
       "    </tr>\n",
       "    <tr>\n",
       "      <th>31</th>\n",
       "      <td>1000</td>\n",
       "      <td>200</td>\n",
       "      <td>0.95</td>\n",
       "      <td>[99.98704667711361, 19.94703288522752]</td>\n",
       "      <td>132.897073</td>\n",
       "      <td>132.796996</td>\n",
       "      <td>132.400155</td>\n",
       "      <td>1.386484</td>\n",
       "      <td>1.0</td>\n",
       "      <td>1.000</td>\n",
       "      <td>1.002100</td>\n",
       "    </tr>\n",
       "    <tr>\n",
       "      <th>32</th>\n",
       "      <td>1000</td>\n",
       "      <td>10</td>\n",
       "      <td>0.99</td>\n",
       "      <td>[99.99228644197399, 18.641930986456476]</td>\n",
       "      <td>146.526957</td>\n",
       "      <td>143.359903</td>\n",
       "      <td>129.904126</td>\n",
       "      <td>1.632042</td>\n",
       "      <td>1.0</td>\n",
       "      <td>1.000</td>\n",
       "      <td>0.999355</td>\n",
       "    </tr>\n",
       "    <tr>\n",
       "      <th>33</th>\n",
       "      <td>1000</td>\n",
       "      <td>50</td>\n",
       "      <td>0.99</td>\n",
       "      <td>[99.8516401161555, 19.66965882579644]</td>\n",
       "      <td>146.526957</td>\n",
       "      <td>145.610109</td>\n",
       "      <td>140.987195</td>\n",
       "      <td>1.696450</td>\n",
       "      <td>1.0</td>\n",
       "      <td>1.000</td>\n",
       "      <td>0.999388</td>\n",
       "    </tr>\n",
       "    <tr>\n",
       "      <th>34</th>\n",
       "      <td>1000</td>\n",
       "      <td>100</td>\n",
       "      <td>0.99</td>\n",
       "      <td>[100.11800788073796, 19.873618858905875]</td>\n",
       "      <td>146.526957</td>\n",
       "      <td>146.350959</td>\n",
       "      <td>143.375601</td>\n",
       "      <td>1.828024</td>\n",
       "      <td>1.0</td>\n",
       "      <td>1.000</td>\n",
       "      <td>0.999510</td>\n",
       "    </tr>\n",
       "    <tr>\n",
       "      <th>35</th>\n",
       "      <td>1000</td>\n",
       "      <td>200</td>\n",
       "      <td>0.99</td>\n",
       "      <td>[100.10604694501536, 19.922720068462223]</td>\n",
       "      <td>146.526957</td>\n",
       "      <td>146.453224</td>\n",
       "      <td>144.742849</td>\n",
       "      <td>1.856061</td>\n",
       "      <td>1.0</td>\n",
       "      <td>1.000</td>\n",
       "      <td>1.002899</td>\n",
       "    </tr>\n",
       "  </tbody>\n",
       "</table>\n",
       "</div>"
      ],
      "text/plain": [
       "    MonteCarlo iterations  Sample Size  Target Service Level  \\\n",
       "0                    1000           10                  0.01   \n",
       "1                    1000           50                  0.01   \n",
       "2                    1000          100                  0.01   \n",
       "3                    1000          200                  0.01   \n",
       "4                    1000           10                  0.05   \n",
       "5                    1000           50                  0.05   \n",
       "6                    1000          100                  0.05   \n",
       "7                    1000          200                  0.05   \n",
       "8                    1000           10                  0.10   \n",
       "9                    1000           50                  0.10   \n",
       "10                   1000          100                  0.10   \n",
       "11                   1000          200                  0.10   \n",
       "12                   1000           10                  0.30   \n",
       "13                   1000           50                  0.30   \n",
       "14                   1000          100                  0.30   \n",
       "15                   1000          200                  0.30   \n",
       "16                   1000           10                  0.50   \n",
       "17                   1000           50                  0.50   \n",
       "18                   1000          100                  0.50   \n",
       "19                   1000          200                  0.50   \n",
       "20                   1000           10                  0.70   \n",
       "21                   1000           50                  0.70   \n",
       "22                   1000          100                  0.70   \n",
       "23                   1000          200                  0.70   \n",
       "24                   1000           10                  0.90   \n",
       "25                   1000           50                  0.90   \n",
       "26                   1000          100                  0.90   \n",
       "27                   1000          200                  0.90   \n",
       "28                   1000           10                  0.95   \n",
       "29                   1000           50                  0.95   \n",
       "30                   1000          100                  0.95   \n",
       "31                   1000          200                  0.95   \n",
       "32                   1000           10                  0.99   \n",
       "33                   1000           50                  0.99   \n",
       "34                   1000          100                  0.99   \n",
       "35                   1000          200                  0.99   \n",
       "\n",
       "                                Param Values  real optimal quantity  \\\n",
       "0   [100.05276221108602, 18.322430190433316]              53.473043   \n",
       "1    [99.86599774239826, 19.625352516938257]              53.473043   \n",
       "2    [99.98793184995574, 19.825710639774723]              53.473043   \n",
       "3    [100.01753715293296, 19.93699120840811]              53.473043   \n",
       "4   [100.17412834628907, 18.583272451373194]              67.102927   \n",
       "5    [100.01290058587084, 19.74449497854405]              67.102927   \n",
       "6     [100.13613182339489, 19.7881913695077]              67.102927   \n",
       "7    [100.05332981205532, 19.88140049309111]              67.102927   \n",
       "8   [100.23942617137259, 18.565601623716454]              74.368969   \n",
       "9   [100.04874979208519, 19.739044117267085]              74.368969   \n",
       "10   [99.99181912249705, 19.862057809594308]              74.368969   \n",
       "11    [99.94557376606845, 19.93626653521018]              74.368969   \n",
       "12   [100.01234057271553, 18.40167409402248]              89.511990   \n",
       "13     [100.045476359628, 19.59994796413029]              89.511990   \n",
       "14    [99.95553857868616, 19.87172111463957]              89.511990   \n",
       "15    [99.98969354766454, 19.97795144562914]              89.511990   \n",
       "16   [99.88111367497952, 18.416370186536284]             100.000000   \n",
       "17  [100.01183584158314, 19.801637964016248]             100.000000   \n",
       "18    [99.94858764815986, 19.88816937504093]             100.000000   \n",
       "19   [99.98533922335635, 19.850357389312308]             100.000000   \n",
       "20    [99.95163186631038, 18.48645781982922]             110.488010   \n",
       "21    [99.92966205483107, 19.78819242496816]             110.488010   \n",
       "22   [100.05885869177334, 19.89212016844916]             110.488010   \n",
       "23    [100.09099045459278, 19.9095949857671]             110.488010   \n",
       "24   [99.99175822432173, 18.330235582417735]             125.631031   \n",
       "25  [100.04929185986862, 19.614134109858355]             125.631031   \n",
       "26   [99.93283580937752, 19.793062106897438]             125.631031   \n",
       "27   [99.97426365945776, 19.967659008387397]             125.631031   \n",
       "28  [100.15922258459838, 18.417619247968968]             132.897073   \n",
       "29    [100.0120621579543, 19.54437794422472]             132.897073   \n",
       "30   [99.98663317960646, 19.821387000400826]             132.897073   \n",
       "31    [99.98704667711361, 19.94703288522752]             132.897073   \n",
       "32   [99.99228644197399, 18.641930986456476]             146.526957   \n",
       "33     [99.8516401161555, 19.66965882579644]             146.526957   \n",
       "34  [100.11800788073796, 19.873618858905875]             146.526957   \n",
       "35  [100.10604694501536, 19.922720068462223]             146.526957   \n",
       "\n",
       "    Parm optimal quantity  nonParm optimal quantity  RMSE Ratio  SL nonParam  \\\n",
       "0               57.428416                 70.081064    1.612756          0.0   \n",
       "1               54.210601                 58.687906    1.620333          0.0   \n",
       "2               53.866432                 56.936919    1.855067          0.0   \n",
       "3               53.637160                 55.492622    1.876973          0.0   \n",
       "4               69.607365                 74.013078    1.181105          0.0   \n",
       "5               67.536096                 68.846935    1.301301          0.0   \n",
       "6               67.587453                 68.364898    1.318215          0.0   \n",
       "7               67.351336                 67.659238    1.303488          0.0   \n",
       "8               76.446650                 78.927581    1.183254          0.0   \n",
       "9               74.752147                 75.468564    1.272098          0.0   \n",
       "10              74.537568                 74.926249    1.255063          0.0   \n",
       "11              74.396220                 74.511577    1.275211          0.0   \n",
       "12              90.362493                 90.841614    1.150979          0.0   \n",
       "13              89.767254                 89.902936    1.159586          0.0   \n",
       "14              89.534798                 89.606389    1.230857          0.0   \n",
       "15              89.513246                 89.590907    1.253047          0.0   \n",
       "16              99.881114                 99.693106    1.204958          1.0   \n",
       "17             100.011836                100.069013    1.229986          1.0   \n",
       "18              99.948588                 99.985369    1.247259          1.0   \n",
       "19              99.985339                100.065875    1.233462          1.0   \n",
       "20             109.645940                109.378809    1.144310          1.0   \n",
       "21             110.306600                110.234089    1.181925          1.0   \n",
       "22             110.490297                110.421582    1.227415          1.0   \n",
       "23             110.531592                110.543124    1.217081          1.0   \n",
       "24             123.482900                120.941839    1.170670          1.0   \n",
       "25             125.185816                124.578189    1.203873          1.0   \n",
       "26             125.298666                124.967724    1.240967          1.0   \n",
       "27             125.563848                125.433033    1.291577          1.0   \n",
       "28             130.453510                125.908121    1.205343          1.0   \n",
       "29             132.159703                130.856383    1.322000          1.0   \n",
       "30             132.589913                132.041531    1.335717          1.0   \n",
       "31             132.796996                132.400155    1.386484          1.0   \n",
       "32             143.359903                129.904126    1.632042          1.0   \n",
       "33             145.610109                140.987195    1.696450          1.0   \n",
       "34             146.350959                143.375601    1.828024          1.0   \n",
       "35             146.453224                144.742849    1.856061          1.0   \n",
       "\n",
       "    SL Param      EPLR  \n",
       "0      0.000  1.746746  \n",
       "1      0.000  1.697920  \n",
       "2      0.000  1.909708  \n",
       "3      0.000  1.934502  \n",
       "4      0.000  1.212582  \n",
       "5      0.000  1.307192  \n",
       "6      0.000  1.319447  \n",
       "7      0.000  1.289564  \n",
       "8      0.000  1.187543  \n",
       "9      0.000  1.274230  \n",
       "10     0.000  1.270548  \n",
       "11     0.000  1.272805  \n",
       "12     0.009  1.158139  \n",
       "13     0.000  1.152214  \n",
       "14     0.000  1.234043  \n",
       "15     0.000  1.274814  \n",
       "16     0.463  1.183612  \n",
       "17     0.504  1.243275  \n",
       "18     0.520  1.274547  \n",
       "19     0.521  1.242734  \n",
       "20     0.990  1.029313  \n",
       "21     1.000  1.051403  \n",
       "22     1.000  1.044649  \n",
       "23     1.000  1.043859  \n",
       "24     1.000  1.006531  \n",
       "25     1.000  1.011563  \n",
       "26     1.000  1.005165  \n",
       "27     1.000  1.007132  \n",
       "28     1.000  1.001282  \n",
       "29     1.000  1.003135  \n",
       "30     1.000  1.006690  \n",
       "31     1.000  1.002100  \n",
       "32     1.000  0.999355  \n",
       "33     1.000  0.999388  \n",
       "34     1.000  0.999510  \n",
       "35     1.000  1.002899  "
      ]
     },
     "execution_count": 64,
     "metadata": {},
     "output_type": "execute_result"
    }
   ],
   "source": [
    "df = pd.DataFrame(results)\n",
    "df"
   ]
  },
  {
   "cell_type": "code",
   "execution_count": null,
   "metadata": {},
   "outputs": [
    {
     "data": {
      "application/vnd.plotly.v1+json": {
       "config": {
        "plotlyServerURL": "https://plot.ly"
       },
       "data": [
        {
         "hovertemplate": "Target Service Level=%{x}<br>RMSE Ratio=%{y}<br>Sample Size=%{marker.color}<extra></extra>",
         "legendgroup": "",
         "marker": {
          "color": [
           10,
           50,
           100,
           200,
           10,
           50,
           100,
           200,
           10,
           50,
           100,
           200,
           10,
           50,
           100,
           200,
           10,
           50,
           100,
           200,
           10,
           50,
           100,
           200,
           10,
           50,
           100,
           200,
           10,
           50,
           100,
           200,
           10,
           50,
           100,
           200
          ],
          "coloraxis": "coloraxis",
          "symbol": "circle"
         },
         "mode": "markers",
         "name": "",
         "orientation": "v",
         "showlegend": false,
         "type": "scatter",
         "x": [
          0.01,
          0.01,
          0.01,
          0.01,
          0.05,
          0.05,
          0.05,
          0.05,
          0.1,
          0.1,
          0.1,
          0.1,
          0.3,
          0.3,
          0.3,
          0.3,
          0.5,
          0.5,
          0.5,
          0.5,
          0.7,
          0.7,
          0.7,
          0.7,
          0.9,
          0.9,
          0.9,
          0.9,
          0.95,
          0.95,
          0.95,
          0.95,
          0.99,
          0.99,
          0.99,
          0.99
         ],
         "xaxis": "x",
         "y": [
          1.612755916353954,
          1.6203331696197267,
          1.8550667761944382,
          1.8769727216598535,
          1.1811054307964042,
          1.3013005631189065,
          1.3182152691575029,
          1.3034882164969794,
          1.1832538303772995,
          1.2720976599253815,
          1.2550628700941227,
          1.2752112921158238,
          1.1509794386790047,
          1.159586220422557,
          1.2308568150733419,
          1.2530467061893564,
          1.2049584541186356,
          1.2299857878298666,
          1.2472591459829776,
          1.2334622845950207,
          1.1443097789199357,
          1.1819246045340976,
          1.2274145979989735,
          1.2170813320150928,
          1.1706701409774383,
          1.2038725479642274,
          1.2409671439480756,
          1.2915774376319749,
          1.2053433567210783,
          1.3220004249517185,
          1.33571697113665,
          1.3864840665832598,
          1.6320422320976282,
          1.696449597432343,
          1.828023503906472,
          1.856060760926012
         ],
         "yaxis": "y"
        }
       ],
       "layout": {
        "coloraxis": {
         "colorbar": {
          "title": {
           "text": "Sample Size"
          }
         },
         "colorscale": [
          [
           0,
           "#0d0887"
          ],
          [
           0.1111111111111111,
           "#46039f"
          ],
          [
           0.2222222222222222,
           "#7201a8"
          ],
          [
           0.3333333333333333,
           "#9c179e"
          ],
          [
           0.4444444444444444,
           "#bd3786"
          ],
          [
           0.5555555555555556,
           "#d8576b"
          ],
          [
           0.6666666666666666,
           "#ed7953"
          ],
          [
           0.7777777777777778,
           "#fb9f3a"
          ],
          [
           0.8888888888888888,
           "#fdca26"
          ],
          [
           1,
           "#f0f921"
          ]
         ]
        },
        "font": {
         "size": 15
        },
        "legend": {
         "tracegroupgap": 0
        },
        "template": {
         "data": {
          "bar": [
           {
            "error_x": {
             "color": "#2a3f5f"
            },
            "error_y": {
             "color": "#2a3f5f"
            },
            "marker": {
             "line": {
              "color": "#E5ECF6",
              "width": 0.5
             },
             "pattern": {
              "fillmode": "overlay",
              "size": 10,
              "solidity": 0.2
             }
            },
            "type": "bar"
           }
          ],
          "barpolar": [
           {
            "marker": {
             "line": {
              "color": "#E5ECF6",
              "width": 0.5
             },
             "pattern": {
              "fillmode": "overlay",
              "size": 10,
              "solidity": 0.2
             }
            },
            "type": "barpolar"
           }
          ],
          "carpet": [
           {
            "aaxis": {
             "endlinecolor": "#2a3f5f",
             "gridcolor": "white",
             "linecolor": "white",
             "minorgridcolor": "white",
             "startlinecolor": "#2a3f5f"
            },
            "baxis": {
             "endlinecolor": "#2a3f5f",
             "gridcolor": "white",
             "linecolor": "white",
             "minorgridcolor": "white",
             "startlinecolor": "#2a3f5f"
            },
            "type": "carpet"
           }
          ],
          "choropleth": [
           {
            "colorbar": {
             "outlinewidth": 0,
             "ticks": ""
            },
            "type": "choropleth"
           }
          ],
          "contour": [
           {
            "colorbar": {
             "outlinewidth": 0,
             "ticks": ""
            },
            "colorscale": [
             [
              0,
              "#0d0887"
             ],
             [
              0.1111111111111111,
              "#46039f"
             ],
             [
              0.2222222222222222,
              "#7201a8"
             ],
             [
              0.3333333333333333,
              "#9c179e"
             ],
             [
              0.4444444444444444,
              "#bd3786"
             ],
             [
              0.5555555555555556,
              "#d8576b"
             ],
             [
              0.6666666666666666,
              "#ed7953"
             ],
             [
              0.7777777777777778,
              "#fb9f3a"
             ],
             [
              0.8888888888888888,
              "#fdca26"
             ],
             [
              1,
              "#f0f921"
             ]
            ],
            "type": "contour"
           }
          ],
          "contourcarpet": [
           {
            "colorbar": {
             "outlinewidth": 0,
             "ticks": ""
            },
            "type": "contourcarpet"
           }
          ],
          "heatmap": [
           {
            "colorbar": {
             "outlinewidth": 0,
             "ticks": ""
            },
            "colorscale": [
             [
              0,
              "#0d0887"
             ],
             [
              0.1111111111111111,
              "#46039f"
             ],
             [
              0.2222222222222222,
              "#7201a8"
             ],
             [
              0.3333333333333333,
              "#9c179e"
             ],
             [
              0.4444444444444444,
              "#bd3786"
             ],
             [
              0.5555555555555556,
              "#d8576b"
             ],
             [
              0.6666666666666666,
              "#ed7953"
             ],
             [
              0.7777777777777778,
              "#fb9f3a"
             ],
             [
              0.8888888888888888,
              "#fdca26"
             ],
             [
              1,
              "#f0f921"
             ]
            ],
            "type": "heatmap"
           }
          ],
          "heatmapgl": [
           {
            "colorbar": {
             "outlinewidth": 0,
             "ticks": ""
            },
            "colorscale": [
             [
              0,
              "#0d0887"
             ],
             [
              0.1111111111111111,
              "#46039f"
             ],
             [
              0.2222222222222222,
              "#7201a8"
             ],
             [
              0.3333333333333333,
              "#9c179e"
             ],
             [
              0.4444444444444444,
              "#bd3786"
             ],
             [
              0.5555555555555556,
              "#d8576b"
             ],
             [
              0.6666666666666666,
              "#ed7953"
             ],
             [
              0.7777777777777778,
              "#fb9f3a"
             ],
             [
              0.8888888888888888,
              "#fdca26"
             ],
             [
              1,
              "#f0f921"
             ]
            ],
            "type": "heatmapgl"
           }
          ],
          "histogram": [
           {
            "marker": {
             "pattern": {
              "fillmode": "overlay",
              "size": 10,
              "solidity": 0.2
             }
            },
            "type": "histogram"
           }
          ],
          "histogram2d": [
           {
            "colorbar": {
             "outlinewidth": 0,
             "ticks": ""
            },
            "colorscale": [
             [
              0,
              "#0d0887"
             ],
             [
              0.1111111111111111,
              "#46039f"
             ],
             [
              0.2222222222222222,
              "#7201a8"
             ],
             [
              0.3333333333333333,
              "#9c179e"
             ],
             [
              0.4444444444444444,
              "#bd3786"
             ],
             [
              0.5555555555555556,
              "#d8576b"
             ],
             [
              0.6666666666666666,
              "#ed7953"
             ],
             [
              0.7777777777777778,
              "#fb9f3a"
             ],
             [
              0.8888888888888888,
              "#fdca26"
             ],
             [
              1,
              "#f0f921"
             ]
            ],
            "type": "histogram2d"
           }
          ],
          "histogram2dcontour": [
           {
            "colorbar": {
             "outlinewidth": 0,
             "ticks": ""
            },
            "colorscale": [
             [
              0,
              "#0d0887"
             ],
             [
              0.1111111111111111,
              "#46039f"
             ],
             [
              0.2222222222222222,
              "#7201a8"
             ],
             [
              0.3333333333333333,
              "#9c179e"
             ],
             [
              0.4444444444444444,
              "#bd3786"
             ],
             [
              0.5555555555555556,
              "#d8576b"
             ],
             [
              0.6666666666666666,
              "#ed7953"
             ],
             [
              0.7777777777777778,
              "#fb9f3a"
             ],
             [
              0.8888888888888888,
              "#fdca26"
             ],
             [
              1,
              "#f0f921"
             ]
            ],
            "type": "histogram2dcontour"
           }
          ],
          "mesh3d": [
           {
            "colorbar": {
             "outlinewidth": 0,
             "ticks": ""
            },
            "type": "mesh3d"
           }
          ],
          "parcoords": [
           {
            "line": {
             "colorbar": {
              "outlinewidth": 0,
              "ticks": ""
             }
            },
            "type": "parcoords"
           }
          ],
          "pie": [
           {
            "automargin": true,
            "type": "pie"
           }
          ],
          "scatter": [
           {
            "fillpattern": {
             "fillmode": "overlay",
             "size": 10,
             "solidity": 0.2
            },
            "type": "scatter"
           }
          ],
          "scatter3d": [
           {
            "line": {
             "colorbar": {
              "outlinewidth": 0,
              "ticks": ""
             }
            },
            "marker": {
             "colorbar": {
              "outlinewidth": 0,
              "ticks": ""
             }
            },
            "type": "scatter3d"
           }
          ],
          "scattercarpet": [
           {
            "marker": {
             "colorbar": {
              "outlinewidth": 0,
              "ticks": ""
             }
            },
            "type": "scattercarpet"
           }
          ],
          "scattergeo": [
           {
            "marker": {
             "colorbar": {
              "outlinewidth": 0,
              "ticks": ""
             }
            },
            "type": "scattergeo"
           }
          ],
          "scattergl": [
           {
            "marker": {
             "colorbar": {
              "outlinewidth": 0,
              "ticks": ""
             }
            },
            "type": "scattergl"
           }
          ],
          "scattermapbox": [
           {
            "marker": {
             "colorbar": {
              "outlinewidth": 0,
              "ticks": ""
             }
            },
            "type": "scattermapbox"
           }
          ],
          "scatterpolar": [
           {
            "marker": {
             "colorbar": {
              "outlinewidth": 0,
              "ticks": ""
             }
            },
            "type": "scatterpolar"
           }
          ],
          "scatterpolargl": [
           {
            "marker": {
             "colorbar": {
              "outlinewidth": 0,
              "ticks": ""
             }
            },
            "type": "scatterpolargl"
           }
          ],
          "scatterternary": [
           {
            "marker": {
             "colorbar": {
              "outlinewidth": 0,
              "ticks": ""
             }
            },
            "type": "scatterternary"
           }
          ],
          "surface": [
           {
            "colorbar": {
             "outlinewidth": 0,
             "ticks": ""
            },
            "colorscale": [
             [
              0,
              "#0d0887"
             ],
             [
              0.1111111111111111,
              "#46039f"
             ],
             [
              0.2222222222222222,
              "#7201a8"
             ],
             [
              0.3333333333333333,
              "#9c179e"
             ],
             [
              0.4444444444444444,
              "#bd3786"
             ],
             [
              0.5555555555555556,
              "#d8576b"
             ],
             [
              0.6666666666666666,
              "#ed7953"
             ],
             [
              0.7777777777777778,
              "#fb9f3a"
             ],
             [
              0.8888888888888888,
              "#fdca26"
             ],
             [
              1,
              "#f0f921"
             ]
            ],
            "type": "surface"
           }
          ],
          "table": [
           {
            "cells": {
             "fill": {
              "color": "#EBF0F8"
             },
             "line": {
              "color": "white"
             }
            },
            "header": {
             "fill": {
              "color": "#C8D4E3"
             },
             "line": {
              "color": "white"
             }
            },
            "type": "table"
           }
          ]
         },
         "layout": {
          "annotationdefaults": {
           "arrowcolor": "#2a3f5f",
           "arrowhead": 0,
           "arrowwidth": 1
          },
          "autotypenumbers": "strict",
          "coloraxis": {
           "colorbar": {
            "outlinewidth": 0,
            "ticks": ""
           }
          },
          "colorscale": {
           "diverging": [
            [
             0,
             "#8e0152"
            ],
            [
             0.1,
             "#c51b7d"
            ],
            [
             0.2,
             "#de77ae"
            ],
            [
             0.3,
             "#f1b6da"
            ],
            [
             0.4,
             "#fde0ef"
            ],
            [
             0.5,
             "#f7f7f7"
            ],
            [
             0.6,
             "#e6f5d0"
            ],
            [
             0.7,
             "#b8e186"
            ],
            [
             0.8,
             "#7fbc41"
            ],
            [
             0.9,
             "#4d9221"
            ],
            [
             1,
             "#276419"
            ]
           ],
           "sequential": [
            [
             0,
             "#0d0887"
            ],
            [
             0.1111111111111111,
             "#46039f"
            ],
            [
             0.2222222222222222,
             "#7201a8"
            ],
            [
             0.3333333333333333,
             "#9c179e"
            ],
            [
             0.4444444444444444,
             "#bd3786"
            ],
            [
             0.5555555555555556,
             "#d8576b"
            ],
            [
             0.6666666666666666,
             "#ed7953"
            ],
            [
             0.7777777777777778,
             "#fb9f3a"
            ],
            [
             0.8888888888888888,
             "#fdca26"
            ],
            [
             1,
             "#f0f921"
            ]
           ],
           "sequentialminus": [
            [
             0,
             "#0d0887"
            ],
            [
             0.1111111111111111,
             "#46039f"
            ],
            [
             0.2222222222222222,
             "#7201a8"
            ],
            [
             0.3333333333333333,
             "#9c179e"
            ],
            [
             0.4444444444444444,
             "#bd3786"
            ],
            [
             0.5555555555555556,
             "#d8576b"
            ],
            [
             0.6666666666666666,
             "#ed7953"
            ],
            [
             0.7777777777777778,
             "#fb9f3a"
            ],
            [
             0.8888888888888888,
             "#fdca26"
            ],
            [
             1,
             "#f0f921"
            ]
           ]
          },
          "colorway": [
           "#636efa",
           "#EF553B",
           "#00cc96",
           "#ab63fa",
           "#FFA15A",
           "#19d3f3",
           "#FF6692",
           "#B6E880",
           "#FF97FF",
           "#FECB52"
          ],
          "font": {
           "color": "#2a3f5f"
          },
          "geo": {
           "bgcolor": "white",
           "lakecolor": "white",
           "landcolor": "#E5ECF6",
           "showlakes": true,
           "showland": true,
           "subunitcolor": "white"
          },
          "hoverlabel": {
           "align": "left"
          },
          "hovermode": "closest",
          "mapbox": {
           "style": "light"
          },
          "paper_bgcolor": "white",
          "plot_bgcolor": "#E5ECF6",
          "polar": {
           "angularaxis": {
            "gridcolor": "white",
            "linecolor": "white",
            "ticks": ""
           },
           "bgcolor": "#E5ECF6",
           "radialaxis": {
            "gridcolor": "white",
            "linecolor": "white",
            "ticks": ""
           }
          },
          "scene": {
           "xaxis": {
            "backgroundcolor": "#E5ECF6",
            "gridcolor": "white",
            "gridwidth": 2,
            "linecolor": "white",
            "showbackground": true,
            "ticks": "",
            "zerolinecolor": "white"
           },
           "yaxis": {
            "backgroundcolor": "#E5ECF6",
            "gridcolor": "white",
            "gridwidth": 2,
            "linecolor": "white",
            "showbackground": true,
            "ticks": "",
            "zerolinecolor": "white"
           },
           "zaxis": {
            "backgroundcolor": "#E5ECF6",
            "gridcolor": "white",
            "gridwidth": 2,
            "linecolor": "white",
            "showbackground": true,
            "ticks": "",
            "zerolinecolor": "white"
           }
          },
          "shapedefaults": {
           "line": {
            "color": "#2a3f5f"
           }
          },
          "ternary": {
           "aaxis": {
            "gridcolor": "white",
            "linecolor": "white",
            "ticks": ""
           },
           "baxis": {
            "gridcolor": "white",
            "linecolor": "white",
            "ticks": ""
           },
           "bgcolor": "#E5ECF6",
           "caxis": {
            "gridcolor": "white",
            "linecolor": "white",
            "ticks": ""
           }
          },
          "title": {
           "x": 0.05
          },
          "xaxis": {
           "automargin": true,
           "gridcolor": "white",
           "linecolor": "white",
           "ticks": "",
           "title": {
            "standoff": 15
           },
           "zerolinecolor": "white",
           "zerolinewidth": 2
          },
          "yaxis": {
           "automargin": true,
           "gridcolor": "white",
           "linecolor": "white",
           "ticks": "",
           "title": {
            "standoff": 15
           },
           "zerolinecolor": "white",
           "zerolinewidth": 2
          }
         }
        },
        "title": {
         "text": "TSL vs RMSE, mean: 100 | stddev: 20 | iter. 1000<br><sup>higher RMSE means parametric performs better</sup>"
        },
        "xaxis": {
         "anchor": "y",
         "domain": [
          0,
          1
         ],
         "title": {
          "text": "Target Service Level"
         }
        },
        "yaxis": {
         "anchor": "x",
         "domain": [
          0,
          1
         ],
         "title": {
          "text": "RMSE Ratio"
         }
        }
       }
      }
     },
     "metadata": {},
     "output_type": "display_data"
    },
    {
     "data": {
      "application/vnd.plotly.v1+json": {
       "config": {
        "plotlyServerURL": "https://plot.ly"
       },
       "data": [
        {
         "hovertemplate": "Target Service Level=%{x}<br>EPLR=%{y}<br>Sample Size=%{marker.color}<extra></extra>",
         "legendgroup": "",
         "marker": {
          "color": [
           10,
           50,
           100,
           200,
           10,
           50,
           100,
           200,
           10,
           50,
           100,
           200,
           10,
           50,
           100,
           200,
           10,
           50,
           100,
           200,
           10,
           50,
           100,
           200,
           10,
           50,
           100,
           200,
           10,
           50,
           100,
           200,
           10,
           50,
           100,
           200
          ],
          "coloraxis": "coloraxis",
          "symbol": "circle"
         },
         "mode": "markers",
         "name": "",
         "orientation": "v",
         "showlegend": false,
         "type": "scatter",
         "x": [
          0.01,
          0.01,
          0.01,
          0.01,
          0.05,
          0.05,
          0.05,
          0.05,
          0.1,
          0.1,
          0.1,
          0.1,
          0.3,
          0.3,
          0.3,
          0.3,
          0.5,
          0.5,
          0.5,
          0.5,
          0.7,
          0.7,
          0.7,
          0.7,
          0.9,
          0.9,
          0.9,
          0.9,
          0.95,
          0.95,
          0.95,
          0.95,
          0.99,
          0.99,
          0.99,
          0.99
         ],
         "xaxis": "x",
         "y": [
          1.7467455060793307,
          1.6979201934575059,
          1.9097080986805997,
          1.9345019509347685,
          1.2125821970589683,
          1.3071923042052795,
          1.3194474124188817,
          1.289563576056919,
          1.1875428467922262,
          1.2742295812543225,
          1.2705484813713386,
          1.2728050695300928,
          1.1581390824219489,
          1.1522142430859128,
          1.2340432205588907,
          1.2748140314545167,
          1.1836121483002813,
          1.2432749177948272,
          1.2745467776733812,
          1.2427337400830831,
          1.0293134427521007,
          1.0514034663056742,
          1.044649046839494,
          1.0438587291785222,
          1.0065305776534912,
          1.011563329217044,
          1.0051650124130787,
          1.0071320080327775,
          1.001281678560139,
          1.0031354683709135,
          1.0066897883898938,
          1.0020995380120672,
          0.9993551093259789,
          0.9993882903418706,
          0.999509624091798,
          1.0028986573256646
         ],
         "yaxis": "y"
        }
       ],
       "layout": {
        "coloraxis": {
         "colorbar": {
          "title": {
           "text": "Sample Size"
          }
         },
         "colorscale": [
          [
           0,
           "#0d0887"
          ],
          [
           0.1111111111111111,
           "#46039f"
          ],
          [
           0.2222222222222222,
           "#7201a8"
          ],
          [
           0.3333333333333333,
           "#9c179e"
          ],
          [
           0.4444444444444444,
           "#bd3786"
          ],
          [
           0.5555555555555556,
           "#d8576b"
          ],
          [
           0.6666666666666666,
           "#ed7953"
          ],
          [
           0.7777777777777778,
           "#fb9f3a"
          ],
          [
           0.8888888888888888,
           "#fdca26"
          ],
          [
           1,
           "#f0f921"
          ]
         ]
        },
        "font": {
         "size": 15
        },
        "legend": {
         "tracegroupgap": 0
        },
        "template": {
         "data": {
          "bar": [
           {
            "error_x": {
             "color": "#2a3f5f"
            },
            "error_y": {
             "color": "#2a3f5f"
            },
            "marker": {
             "line": {
              "color": "#E5ECF6",
              "width": 0.5
             },
             "pattern": {
              "fillmode": "overlay",
              "size": 10,
              "solidity": 0.2
             }
            },
            "type": "bar"
           }
          ],
          "barpolar": [
           {
            "marker": {
             "line": {
              "color": "#E5ECF6",
              "width": 0.5
             },
             "pattern": {
              "fillmode": "overlay",
              "size": 10,
              "solidity": 0.2
             }
            },
            "type": "barpolar"
           }
          ],
          "carpet": [
           {
            "aaxis": {
             "endlinecolor": "#2a3f5f",
             "gridcolor": "white",
             "linecolor": "white",
             "minorgridcolor": "white",
             "startlinecolor": "#2a3f5f"
            },
            "baxis": {
             "endlinecolor": "#2a3f5f",
             "gridcolor": "white",
             "linecolor": "white",
             "minorgridcolor": "white",
             "startlinecolor": "#2a3f5f"
            },
            "type": "carpet"
           }
          ],
          "choropleth": [
           {
            "colorbar": {
             "outlinewidth": 0,
             "ticks": ""
            },
            "type": "choropleth"
           }
          ],
          "contour": [
           {
            "colorbar": {
             "outlinewidth": 0,
             "ticks": ""
            },
            "colorscale": [
             [
              0,
              "#0d0887"
             ],
             [
              0.1111111111111111,
              "#46039f"
             ],
             [
              0.2222222222222222,
              "#7201a8"
             ],
             [
              0.3333333333333333,
              "#9c179e"
             ],
             [
              0.4444444444444444,
              "#bd3786"
             ],
             [
              0.5555555555555556,
              "#d8576b"
             ],
             [
              0.6666666666666666,
              "#ed7953"
             ],
             [
              0.7777777777777778,
              "#fb9f3a"
             ],
             [
              0.8888888888888888,
              "#fdca26"
             ],
             [
              1,
              "#f0f921"
             ]
            ],
            "type": "contour"
           }
          ],
          "contourcarpet": [
           {
            "colorbar": {
             "outlinewidth": 0,
             "ticks": ""
            },
            "type": "contourcarpet"
           }
          ],
          "heatmap": [
           {
            "colorbar": {
             "outlinewidth": 0,
             "ticks": ""
            },
            "colorscale": [
             [
              0,
              "#0d0887"
             ],
             [
              0.1111111111111111,
              "#46039f"
             ],
             [
              0.2222222222222222,
              "#7201a8"
             ],
             [
              0.3333333333333333,
              "#9c179e"
             ],
             [
              0.4444444444444444,
              "#bd3786"
             ],
             [
              0.5555555555555556,
              "#d8576b"
             ],
             [
              0.6666666666666666,
              "#ed7953"
             ],
             [
              0.7777777777777778,
              "#fb9f3a"
             ],
             [
              0.8888888888888888,
              "#fdca26"
             ],
             [
              1,
              "#f0f921"
             ]
            ],
            "type": "heatmap"
           }
          ],
          "heatmapgl": [
           {
            "colorbar": {
             "outlinewidth": 0,
             "ticks": ""
            },
            "colorscale": [
             [
              0,
              "#0d0887"
             ],
             [
              0.1111111111111111,
              "#46039f"
             ],
             [
              0.2222222222222222,
              "#7201a8"
             ],
             [
              0.3333333333333333,
              "#9c179e"
             ],
             [
              0.4444444444444444,
              "#bd3786"
             ],
             [
              0.5555555555555556,
              "#d8576b"
             ],
             [
              0.6666666666666666,
              "#ed7953"
             ],
             [
              0.7777777777777778,
              "#fb9f3a"
             ],
             [
              0.8888888888888888,
              "#fdca26"
             ],
             [
              1,
              "#f0f921"
             ]
            ],
            "type": "heatmapgl"
           }
          ],
          "histogram": [
           {
            "marker": {
             "pattern": {
              "fillmode": "overlay",
              "size": 10,
              "solidity": 0.2
             }
            },
            "type": "histogram"
           }
          ],
          "histogram2d": [
           {
            "colorbar": {
             "outlinewidth": 0,
             "ticks": ""
            },
            "colorscale": [
             [
              0,
              "#0d0887"
             ],
             [
              0.1111111111111111,
              "#46039f"
             ],
             [
              0.2222222222222222,
              "#7201a8"
             ],
             [
              0.3333333333333333,
              "#9c179e"
             ],
             [
              0.4444444444444444,
              "#bd3786"
             ],
             [
              0.5555555555555556,
              "#d8576b"
             ],
             [
              0.6666666666666666,
              "#ed7953"
             ],
             [
              0.7777777777777778,
              "#fb9f3a"
             ],
             [
              0.8888888888888888,
              "#fdca26"
             ],
             [
              1,
              "#f0f921"
             ]
            ],
            "type": "histogram2d"
           }
          ],
          "histogram2dcontour": [
           {
            "colorbar": {
             "outlinewidth": 0,
             "ticks": ""
            },
            "colorscale": [
             [
              0,
              "#0d0887"
             ],
             [
              0.1111111111111111,
              "#46039f"
             ],
             [
              0.2222222222222222,
              "#7201a8"
             ],
             [
              0.3333333333333333,
              "#9c179e"
             ],
             [
              0.4444444444444444,
              "#bd3786"
             ],
             [
              0.5555555555555556,
              "#d8576b"
             ],
             [
              0.6666666666666666,
              "#ed7953"
             ],
             [
              0.7777777777777778,
              "#fb9f3a"
             ],
             [
              0.8888888888888888,
              "#fdca26"
             ],
             [
              1,
              "#f0f921"
             ]
            ],
            "type": "histogram2dcontour"
           }
          ],
          "mesh3d": [
           {
            "colorbar": {
             "outlinewidth": 0,
             "ticks": ""
            },
            "type": "mesh3d"
           }
          ],
          "parcoords": [
           {
            "line": {
             "colorbar": {
              "outlinewidth": 0,
              "ticks": ""
             }
            },
            "type": "parcoords"
           }
          ],
          "pie": [
           {
            "automargin": true,
            "type": "pie"
           }
          ],
          "scatter": [
           {
            "fillpattern": {
             "fillmode": "overlay",
             "size": 10,
             "solidity": 0.2
            },
            "type": "scatter"
           }
          ],
          "scatter3d": [
           {
            "line": {
             "colorbar": {
              "outlinewidth": 0,
              "ticks": ""
             }
            },
            "marker": {
             "colorbar": {
              "outlinewidth": 0,
              "ticks": ""
             }
            },
            "type": "scatter3d"
           }
          ],
          "scattercarpet": [
           {
            "marker": {
             "colorbar": {
              "outlinewidth": 0,
              "ticks": ""
             }
            },
            "type": "scattercarpet"
           }
          ],
          "scattergeo": [
           {
            "marker": {
             "colorbar": {
              "outlinewidth": 0,
              "ticks": ""
             }
            },
            "type": "scattergeo"
           }
          ],
          "scattergl": [
           {
            "marker": {
             "colorbar": {
              "outlinewidth": 0,
              "ticks": ""
             }
            },
            "type": "scattergl"
           }
          ],
          "scattermapbox": [
           {
            "marker": {
             "colorbar": {
              "outlinewidth": 0,
              "ticks": ""
             }
            },
            "type": "scattermapbox"
           }
          ],
          "scatterpolar": [
           {
            "marker": {
             "colorbar": {
              "outlinewidth": 0,
              "ticks": ""
             }
            },
            "type": "scatterpolar"
           }
          ],
          "scatterpolargl": [
           {
            "marker": {
             "colorbar": {
              "outlinewidth": 0,
              "ticks": ""
             }
            },
            "type": "scatterpolargl"
           }
          ],
          "scatterternary": [
           {
            "marker": {
             "colorbar": {
              "outlinewidth": 0,
              "ticks": ""
             }
            },
            "type": "scatterternary"
           }
          ],
          "surface": [
           {
            "colorbar": {
             "outlinewidth": 0,
             "ticks": ""
            },
            "colorscale": [
             [
              0,
              "#0d0887"
             ],
             [
              0.1111111111111111,
              "#46039f"
             ],
             [
              0.2222222222222222,
              "#7201a8"
             ],
             [
              0.3333333333333333,
              "#9c179e"
             ],
             [
              0.4444444444444444,
              "#bd3786"
             ],
             [
              0.5555555555555556,
              "#d8576b"
             ],
             [
              0.6666666666666666,
              "#ed7953"
             ],
             [
              0.7777777777777778,
              "#fb9f3a"
             ],
             [
              0.8888888888888888,
              "#fdca26"
             ],
             [
              1,
              "#f0f921"
             ]
            ],
            "type": "surface"
           }
          ],
          "table": [
           {
            "cells": {
             "fill": {
              "color": "#EBF0F8"
             },
             "line": {
              "color": "white"
             }
            },
            "header": {
             "fill": {
              "color": "#C8D4E3"
             },
             "line": {
              "color": "white"
             }
            },
            "type": "table"
           }
          ]
         },
         "layout": {
          "annotationdefaults": {
           "arrowcolor": "#2a3f5f",
           "arrowhead": 0,
           "arrowwidth": 1
          },
          "autotypenumbers": "strict",
          "coloraxis": {
           "colorbar": {
            "outlinewidth": 0,
            "ticks": ""
           }
          },
          "colorscale": {
           "diverging": [
            [
             0,
             "#8e0152"
            ],
            [
             0.1,
             "#c51b7d"
            ],
            [
             0.2,
             "#de77ae"
            ],
            [
             0.3,
             "#f1b6da"
            ],
            [
             0.4,
             "#fde0ef"
            ],
            [
             0.5,
             "#f7f7f7"
            ],
            [
             0.6,
             "#e6f5d0"
            ],
            [
             0.7,
             "#b8e186"
            ],
            [
             0.8,
             "#7fbc41"
            ],
            [
             0.9,
             "#4d9221"
            ],
            [
             1,
             "#276419"
            ]
           ],
           "sequential": [
            [
             0,
             "#0d0887"
            ],
            [
             0.1111111111111111,
             "#46039f"
            ],
            [
             0.2222222222222222,
             "#7201a8"
            ],
            [
             0.3333333333333333,
             "#9c179e"
            ],
            [
             0.4444444444444444,
             "#bd3786"
            ],
            [
             0.5555555555555556,
             "#d8576b"
            ],
            [
             0.6666666666666666,
             "#ed7953"
            ],
            [
             0.7777777777777778,
             "#fb9f3a"
            ],
            [
             0.8888888888888888,
             "#fdca26"
            ],
            [
             1,
             "#f0f921"
            ]
           ],
           "sequentialminus": [
            [
             0,
             "#0d0887"
            ],
            [
             0.1111111111111111,
             "#46039f"
            ],
            [
             0.2222222222222222,
             "#7201a8"
            ],
            [
             0.3333333333333333,
             "#9c179e"
            ],
            [
             0.4444444444444444,
             "#bd3786"
            ],
            [
             0.5555555555555556,
             "#d8576b"
            ],
            [
             0.6666666666666666,
             "#ed7953"
            ],
            [
             0.7777777777777778,
             "#fb9f3a"
            ],
            [
             0.8888888888888888,
             "#fdca26"
            ],
            [
             1,
             "#f0f921"
            ]
           ]
          },
          "colorway": [
           "#636efa",
           "#EF553B",
           "#00cc96",
           "#ab63fa",
           "#FFA15A",
           "#19d3f3",
           "#FF6692",
           "#B6E880",
           "#FF97FF",
           "#FECB52"
          ],
          "font": {
           "color": "#2a3f5f"
          },
          "geo": {
           "bgcolor": "white",
           "lakecolor": "white",
           "landcolor": "#E5ECF6",
           "showlakes": true,
           "showland": true,
           "subunitcolor": "white"
          },
          "hoverlabel": {
           "align": "left"
          },
          "hovermode": "closest",
          "mapbox": {
           "style": "light"
          },
          "paper_bgcolor": "white",
          "plot_bgcolor": "#E5ECF6",
          "polar": {
           "angularaxis": {
            "gridcolor": "white",
            "linecolor": "white",
            "ticks": ""
           },
           "bgcolor": "#E5ECF6",
           "radialaxis": {
            "gridcolor": "white",
            "linecolor": "white",
            "ticks": ""
           }
          },
          "scene": {
           "xaxis": {
            "backgroundcolor": "#E5ECF6",
            "gridcolor": "white",
            "gridwidth": 2,
            "linecolor": "white",
            "showbackground": true,
            "ticks": "",
            "zerolinecolor": "white"
           },
           "yaxis": {
            "backgroundcolor": "#E5ECF6",
            "gridcolor": "white",
            "gridwidth": 2,
            "linecolor": "white",
            "showbackground": true,
            "ticks": "",
            "zerolinecolor": "white"
           },
           "zaxis": {
            "backgroundcolor": "#E5ECF6",
            "gridcolor": "white",
            "gridwidth": 2,
            "linecolor": "white",
            "showbackground": true,
            "ticks": "",
            "zerolinecolor": "white"
           }
          },
          "shapedefaults": {
           "line": {
            "color": "#2a3f5f"
           }
          },
          "ternary": {
           "aaxis": {
            "gridcolor": "white",
            "linecolor": "white",
            "ticks": ""
           },
           "baxis": {
            "gridcolor": "white",
            "linecolor": "white",
            "ticks": ""
           },
           "bgcolor": "#E5ECF6",
           "caxis": {
            "gridcolor": "white",
            "linecolor": "white",
            "ticks": ""
           }
          },
          "title": {
           "x": 0.05
          },
          "xaxis": {
           "automargin": true,
           "gridcolor": "white",
           "linecolor": "white",
           "ticks": "",
           "title": {
            "standoff": 15
           },
           "zerolinecolor": "white",
           "zerolinewidth": 2
          },
          "yaxis": {
           "automargin": true,
           "gridcolor": "white",
           "linecolor": "white",
           "ticks": "",
           "title": {
            "standoff": 15
           },
           "zerolinecolor": "white",
           "zerolinewidth": 2
          }
         }
        },
        "title": {
         "text": "TSL vs EPLR, mean: 100 | stddev: 20 | iter. 1000<br><sup>higher EPLR means parametric performs better</sup>"
        },
        "xaxis": {
         "anchor": "y",
         "domain": [
          0,
          1
         ],
         "title": {
          "text": "Target Service Level"
         }
        },
        "yaxis": {
         "anchor": "x",
         "domain": [
          0,
          1
         ],
         "title": {
          "text": "EPLR"
         }
        }
       }
      }
     },
     "metadata": {},
     "output_type": "display_data"
    }
   ],
   "source": [
    "fig = px.scatter(df, x='Target Service Level', y='RMSE Ratio', color=\"Sample Size\", title=\"TSL vs RMSE, mean: {0} | stddev: {1} | iter. {2}<br><sup>higher RMSE means parametric performs better</sup>\".format(meanDemand, stdevDemand, numberOfMontecarloIterations))\n",
    "fig.update_layout(font_size = 15)\n",
    "#fig.write_image(\"Excercise part 3/RMSE-{0}-{1}.pdf\".format(meanDemand, stdevDemand))\n",
    "fig.show()\n",
    "\n",
    "fig = px.scatter(df, x='Target Service Level', y='EPLR', color=\"Sample Size\", title=\"TSL vs EPLR, mean: {0} | stddev: {1} | iter. {2}<br><sup>higher EPLR means parametric performs better</sup>\".format(meanDemand, stdevDemand, numberOfMontecarloIterations))\n",
    "fig.update_layout(font_size = 15)\n",
    "#fig.write_image(\"Excercise part 3/EPLR-{0}-{1}.pdf\".format(meanDemand, stdevDemand))\n",
    "fig.show()"
   ]
  }
 ],
 "metadata": {
  "kernelspec": {
   "display_name": "Python 3",
   "language": "python",
   "name": "python3"
  },
  "language_info": {
   "codemirror_mode": {
    "name": "ipython",
    "version": 3
   },
   "file_extension": ".py",
   "mimetype": "text/x-python",
   "name": "python",
   "nbconvert_exporter": "python",
   "pygments_lexer": "ipython3",
   "version": "3.11.4"
  },
  "orig_nbformat": 4
 },
 "nbformat": 4,
 "nbformat_minor": 2
}
