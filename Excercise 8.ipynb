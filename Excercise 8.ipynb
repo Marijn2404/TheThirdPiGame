{
 "cells": [
  {
   "cell_type": "code",
   "execution_count": 4,
   "metadata": {},
   "outputs": [
    {
     "ename": "TypeError",
     "evalue": "unsupported format string passed to Series.__format__",
     "output_type": "error",
     "traceback": [
      "\u001b[1;31m---------------------------------------------------------------------------\u001b[0m",
      "\u001b[1;31mTypeError\u001b[0m                                 Traceback (most recent call last)",
      "Cell \u001b[1;32mIn[4], line 30\u001b[0m\n\u001b[0;32m     27\u001b[0m z_score \u001b[39m=\u001b[39m np\u001b[39m.\u001b[39mabs(np\u001b[39m.\u001b[39mpercentile(demand_samples[:, \u001b[39m0\u001b[39m], (\u001b[39m1\u001b[39m \u001b[39m-\u001b[39m target_service_level) \u001b[39m*\u001b[39m \u001b[39m100\u001b[39m))\n\u001b[0;32m     28\u001b[0m order_quantity \u001b[39m=\u001b[39m forecast \u001b[39m+\u001b[39m z_score \u001b[39m*\u001b[39m std_demand\n\u001b[1;32m---> 30\u001b[0m \u001b[39mprint\u001b[39m(\u001b[39mf\u001b[39m\u001b[39m\"\u001b[39m\u001b[39mThe forecasted demand for the next period is \u001b[39m\u001b[39m{\u001b[39;00mforecast\u001b[39m:\u001b[39;00m\u001b[39m.2f\u001b[39m\u001b[39m}\u001b[39;00m\u001b[39m.\u001b[39m\u001b[39m\"\u001b[39m)\n\u001b[0;32m     31\u001b[0m \u001b[39mprint\u001b[39m(\u001b[39mf\u001b[39m\u001b[39m\"\u001b[39m\u001b[39mThe recommended order quantity to achieve a \u001b[39m\u001b[39m{\u001b[39;00mtarget_service_level\u001b[39m \u001b[39m\u001b[39m*\u001b[39m\u001b[39m \u001b[39m\u001b[39m100\u001b[39m\u001b[39m}\u001b[39;00m\u001b[39m% service level is \u001b[39m\u001b[39m{\u001b[39;00morder_quantity[\u001b[39m0\u001b[39m]\u001b[39m:\u001b[39;00m\u001b[39m.2f\u001b[39m\u001b[39m}\u001b[39;00m\u001b[39m.\u001b[39m\u001b[39m\"\u001b[39m)\n",
      "\u001b[1;31mTypeError\u001b[0m: unsupported format string passed to Series.__format__"
     ]
    }
   ],
   "source": [
    "import numpy as np\n",
    "import pandas as pd\n",
    "from statsmodels.tsa.arima.model import ARIMA\n",
    "\n",
    "# Generate synthetic correlated demand data\n",
    "np.random.seed(0)\n",
    "n_periods = 20  # Number of periods\n",
    "correlation = 0.8  # Correlation coefficient\n",
    "mean_demand = 50  # Mean demand per period\n",
    "std_demand = 10  # Standard deviation of demand per period\n",
    "\n",
    "# Generate correlated demand samples\n",
    "cov_matrix = [[std_demand ** 2, correlation * std_demand ** 2],\n",
    "              [correlation * std_demand ** 2, std_demand ** 2]]\n",
    "demand_samples = np.random.multivariate_normal([mean_demand, mean_demand], cov_matrix, size=n_periods)\n",
    "\n",
    "historical_demand = pd.Series(demand_samples[:, 0])"
   ]
  },
  {
   "cell_type": "code",
   "execution_count": 5,
   "metadata": {},
   "outputs": [
    {
     "data": {
      "text/plain": [
       "array([[31.99932182, 34.53013823],\n",
       "       [33.62854971, 47.80120272],\n",
       "       [35.37321327, 29.19236526],\n",
       "       [41.46530338, 40.50803635],\n",
       "       [49.68079354, 52.27764648],\n",
       "       [44.03466608, 53.23229932],\n",
       "       [42.39539202, 43.1649324 ],\n",
       "       [44.73397277, 46.84431452],\n",
       "       [36.47468877, 35.17715398],\n",
       "       [49.73086688, 44.32909113],\n",
       "       [72.1528645 , 76.28671147],\n",
       "       [44.14617002, 39.45230629],\n",
       "       [33.06632506, 23.86810889],\n",
       "       [50.1578239 , 48.97396928],\n",
       "       [30.81225918, 40.10530001],\n",
       "       [47.33418476, 49.72589454],\n",
       "       [64.68610353, 52.15844669],\n",
       "       [52.8061656 , 53.7950033 ],\n",
       "       [34.52617886, 42.13069673],\n",
       "       [54.63047006, 52.71853959]])"
      ]
     },
     "execution_count": 5,
     "metadata": {},
     "output_type": "execute_result"
    }
   ],
   "source": [
    "demand_samples"
   ]
  }
 ],
 "metadata": {
  "kernelspec": {
   "display_name": "Python 3",
   "language": "python",
   "name": "python3"
  },
  "language_info": {
   "codemirror_mode": {
    "name": "ipython",
    "version": 3
   },
   "file_extension": ".py",
   "mimetype": "text/x-python",
   "name": "python",
   "nbconvert_exporter": "python",
   "pygments_lexer": "ipython3",
   "version": "3.11.4"
  },
  "orig_nbformat": 4
 },
 "nbformat": 4,
 "nbformat_minor": 2
}
