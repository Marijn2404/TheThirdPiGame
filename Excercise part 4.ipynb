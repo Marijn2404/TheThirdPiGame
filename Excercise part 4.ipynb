{
 "cells": [
  {
   "cell_type": "code",
   "execution_count": 7,
   "metadata": {},
   "outputs": [],
   "source": [
    "import scipy.stats as sts\n",
    "import numpy as np\n",
    "import pandas as pd\n",
    "import plotly.express as px\n",
    "from scipy.integrate import quad\n",
    "from time import time\n",
    "from numba import njit\n",
    "import matplotlib.pyplot as plt\n",
    "\n",
    "\n",
    "np.random.seed(0)\n",
    "def timer_func(func):\n",
    "    # This function shows the execution time of \n",
    "    # the function object passed\n",
    "    def wrap_func(*args, **kwargs):\n",
    "        t1 = time()\n",
    "        result = func(*args, **kwargs)\n",
    "        t2 = time()\n",
    "        print(f'Function {func.__name__!r} executed in {(t2-t1):.4f}s')\n",
    "        return result\n",
    "    return wrap_func\n",
    "\n",
    "# Estimators\n",
    "def nonParametricOptimalQuantity(distributionData, tau):\n",
    "    optimalQuantity = np.quantile(distributionData,tau)\n",
    "    return optimalQuantity\n",
    "\n",
    "def parametricOptimalQuantity(tau, dist, parameters):\n",
    "    optimalQuantity = dist.ppf(tau, *parameters)\n",
    "    return optimalQuantity\n",
    "\n",
    "def realParamatricOptimalQuantity(tau, realDist):\n",
    "    optimalQuantity = realDist.ppf(tau)\n",
    "    return optimalQuantity\n",
    "\n",
    "# Optimized code for integrating the lognormal distribution (very quickly), @njit is compiling the python code to C\n",
    "\n",
    "@njit\n",
    "def lognormal_pdf(x, shape, location, scale):\n",
    "    mu = np.log(scale)\n",
    "    sigma = shape\n",
    "    if x <= 0:\n",
    "        return 0\n",
    "    exponent = -(np.log(x) - mu)**2 / (2 * sigma**2)\n",
    "    coefficient = 1 / (x * sigma * np.sqrt(2 * np.pi))\n",
    "    return x * coefficient * np.exp(exponent)\n",
    "\n",
    "def integrate_normal(Q_star,parameters):\n",
    "    return quad(lognormal_pdf,0,Q_star,args=(parameters[0], parameters[1],parameters[2]))[0]\n",
    "\n",
    "############################################################\n",
    "\n",
    "def calculateOptimalProfit(tau,Q_star,dist, paramaters):\n",
    "    price = 1\n",
    "    cost = 1 - tau\n",
    "\n",
    "    integral_value = integrate_normal(Q_star, paramaters)\n",
    "    t1 = price * integral_value\n",
    "    t2 = price * Q_star * dist.sf(Q_star)\n",
    "    t3 = cost * Q_star\n",
    "    return t1 + t2 - t3\n",
    "\n",
    "# Evaluation of test statistics functions\n",
    "def empericalRootMeanSquaredError(m, optimalQuantities, realOptimalQuantity):\n",
    "    rmse = np.sqrt(1/m * np.sum((optimalQuantities - realOptimalQuantity)**2))\n",
    "    return rmse\n",
    "\n",
    "def empericalRootMeanSquaredErrorRatio(m, parametricOptimalQuantitys, nonParametricOptimalQuantitys, realOptimalQuantity):\n",
    "    return empericalRootMeanSquaredError(m, nonParametricOptimalQuantitys, realOptimalQuantity) / empericalRootMeanSquaredError(m, parametricOptimalQuantitys, realOptimalQuantity)\n",
    "\n",
    "def empericalProfitLoss(m, profitEstimator, profitReal):\n",
    "    return 1 / m * np.sum(np.abs((profitReal - profitEstimator) /  profitReal))\n",
    "\n",
    "def empericalProfitLossRatio(m, parametricExpectedProfit, nonParametricExpectedProfit, realExpectedProfit):\n",
    "    return empericalProfitLoss(m, nonParametricExpectedProfit, realExpectedProfit) / empericalProfitLoss(m, parametricExpectedProfit, realExpectedProfit)\n",
    "\n",
    "def empericalServiceLevel(m, optimalQuantities, demand):\n",
    "    indicatorFunction = np.where(optimalQuantities.T >= demand.T, 1, 0)\n",
    "    return 1 / m * np.sum(indicatorFunction)\n",
    "\n",
    "def fit(feature):\n",
    "    return np.mean(feature), np.std(feature)\n",
    "\n",
    "def monteCarlo(m, tau, n, params):\n",
    "    # Distribution that the paramatric estimator will be using\n",
    "    dist = sts.norm\n",
    "    # How the data is really distributed, when changing remember to change the PDF for the @njit precompiled function.\n",
    "    distReal = sts.lognorm(*params)\n",
    "\n",
    "    demand = np.empty((m,1))\n",
    "    realOptimalQuantity = np.empty((m,1))\n",
    "    parametricOptimalQuantitys = np.empty((m,1))\n",
    "    nonParametricOptimalQuantitys = np.empty((m,1))\n",
    "    allParameters = np.empty((m,2))\n",
    "    parametricExpectedProfits = np.empty((m,1))\n",
    "    nonParametricExpectedProfits = np.empty((m,1))\n",
    "    empericalServiceLevelData = np.empty((m,1))\n",
    "\n",
    "    # Compute estimators and optimal quantities\n",
    "    for j in range(m):\n",
    "        distributionData = sts.lognorm.rvs(*params, size = n)\n",
    "        empericalServiceLevelData[j] = distributionData[-1]\n",
    "\n",
    "        allParameters[j] = parameters = fit(distributionData)\n",
    "        demand[j] = parameters[0] # in case of a normal distribution\n",
    "        parametricOptimalQuantitys[j] = parametricOptimalQuantity(tau, dist, parameters)\n",
    "        nonParametricOptimalQuantitys[j] = nonParametricOptimalQuantity(distributionData, tau)\n",
    "    \n",
    "        # We use Numba to compile the python code to C, this operation usually takes a lot of time.\n",
    "        parametricExpectedProfits[j] = calculateOptimalProfit(tau, parametricOptimalQuantitys[j], distReal, params)\n",
    "        nonParametricExpectedProfits[j] = calculateOptimalProfit(tau, nonParametricOptimalQuantitys[j], distReal, params)\n",
    "    \n",
    "    \n",
    "    realOptimalQuantity = realParamatricOptimalQuantity(tau, distReal)\n",
    "    realExpectedProfit = calculateOptimalProfit(tau, realOptimalQuantity, distReal, params)\n",
    "\n",
    "    eplr = empericalProfitLossRatio(m, parametricExpectedProfits, nonParametricExpectedProfits, realExpectedProfit)\n",
    "\n",
    "    # Compute evaluation statistics\n",
    "    rmse = empericalRootMeanSquaredErrorRatio(m, parametricOptimalQuantitys, nonParametricOptimalQuantitys, realOptimalQuantity)\n",
    "    eslParametric = empericalServiceLevel(m, parametricOptimalQuantitys, empericalServiceLevelData)\n",
    "    eslNonParametric = empericalServiceLevel(m, nonParametricOptimalQuantitys, empericalServiceLevelData)\n",
    "    \n",
    "    result = {\n",
    "                    'MonteCarlo iterations' : m,\n",
    "                    'Sample Size': n,\n",
    "                    'Target Service Level': tau,\n",
    "                    'Param Values': np.mean(allParameters, axis=0),\n",
    "                    #'real optimal quantity' : realOptimalQuantity,\n",
    "                    #'Parm optimal quantity': np.mean(parametricOptimalQuantitys),\n",
    "                    #'nonParm optimal quantity': np.mean(nonParametricOptimalQuantitys),\n",
    "                    #'real optimal profit' : realExpectedProfit,\n",
    "                    #'Parm optimal profit': np.mean(parametricExpectedProfits),\n",
    "                    #'nonParm optimal profit': np.mean(nonParametricExpectedProfits),\n",
    "                    'RMSE Ratio': rmse,\n",
    "                    'SL nonParam': eslParametric,\n",
    "                    'SL Param': eslNonParametric,\n",
    "                    'EPLR': eplr\n",
    "                }\n",
    "    return result"
   ]
  },
  {
   "attachments": {},
   "cell_type": "markdown",
   "metadata": {},
   "source": [
    "Here we are plotting the lognormal distribution used here against the distribution from part 3"
   ]
  },
  {
   "cell_type": "code",
   "execution_count": 8,
   "metadata": {},
   "outputs": [
    {
     "name": "stdout",
     "output_type": "stream",
     "text": [
      "Lognorm normal parameters: mu: 4.8283137373023015, sigma: 0.2\n"
     ]
    },
    {
     "data": {
      "image/png": "[encoded data removed]",
      "text/plain": [
       "<Figure size 640x480 with 1 Axes>"
      ]
     },
     "metadata": {},
     "output_type": "display_data"
    }
   ],
   "source": [
    "params = [0.2, 0, 125]\n",
    "print(\"Lognorm normal parameters: mu: {0}, sigma: {1}\".format(np.log(params[2]),params[0]))\n",
    "\n",
    "dist = sts.lognorm(s=params[0], loc=params[1], scale=params[2])\n",
    "normdist = sts.norm(loc=120, scale=15)\n",
    "\n",
    "data = dist.rvs(size=10000)\n",
    "data2 = normdist.rvs(size=10000)\n",
    "\n",
    "plt.hist(data, bins=100, density=True, alpha=0.5, color='b', label='Histogram lognorm')\n",
    "plt.hist(data2, bins=100, density=True, alpha=0.5, color='g', label='Histogram norm')\n",
    "\n",
    "x = np.linspace(0, 300, 100)\n",
    "pdf_lognorm = dist.pdf(x)\n",
    "pdf_norm = normdist.pdf(x)\n",
    "plt.plot(x, pdf_lognorm, 'b', linewidth=2, label='PDF lognorm')\n",
    "plt.plot(x, pdf_norm, 'g', linewidth=2, label='PDF norm')\n",
    "\n",
    "plt.title('Lognormal Distribution and Part 3 distribution')\n",
    "plt.xlabel('Value')\n",
    "plt.ylabel('Probability Density')\n",
    "plt.xlim([0, 300])\n",
    "\n",
    "plt.legend()\n",
    "#plt.savefig(\"Excercise part 4/excercise4.pdf\")\n",
    "plt.show()"
   ]
  },
  {
   "cell_type": "code",
   "execution_count": 9,
   "metadata": {},
   "outputs": [
    {
     "ename": "UnboundLocalError",
     "evalue": "cannot access local variable 'distributionData' where it is not associated with a value",
     "output_type": "error",
     "traceback": [
      "\u001b[1;31m---------------------------------------------------------------------------\u001b[0m",
      "\u001b[1;31mUnboundLocalError\u001b[0m                         Traceback (most recent call last)",
      "Cell \u001b[1;32mIn[9], line 10\u001b[0m\n\u001b[0;32m      8\u001b[0m \u001b[39mfor\u001b[39;00m tau \u001b[39min\u001b[39;00m tauArray:\n\u001b[0;32m      9\u001b[0m     \u001b[39mfor\u001b[39;00m n \u001b[39min\u001b[39;00m nArray:\n\u001b[1;32m---> 10\u001b[0m         result \u001b[39m=\u001b[39m monteCarlo(numberOfMontecarloIterations, tau, n, params)\n\u001b[0;32m     11\u001b[0m         results\u001b[39m.\u001b[39mappend(result)\n",
      "Cell \u001b[1;32mIn[7], line 97\u001b[0m, in \u001b[0;36mmonteCarlo\u001b[1;34m(m, tau, n, params)\u001b[0m\n\u001b[0;32m     95\u001b[0m parametricExpectedProfits \u001b[39m=\u001b[39m np\u001b[39m.\u001b[39mempty((m,\u001b[39m1\u001b[39m))\n\u001b[0;32m     96\u001b[0m nonParametricExpectedProfits \u001b[39m=\u001b[39m np\u001b[39m.\u001b[39mempty((m,\u001b[39m1\u001b[39m))\n\u001b[1;32m---> 97\u001b[0m empericalServiceLevelData[j] \u001b[39m=\u001b[39m distributionData[\u001b[39m-\u001b[39m\u001b[39m1\u001b[39m]\n\u001b[0;32m     99\u001b[0m \u001b[39m# Compute estimators and optimal quantities\u001b[39;00m\n\u001b[0;32m    100\u001b[0m \u001b[39mfor\u001b[39;00m j \u001b[39min\u001b[39;00m \u001b[39mrange\u001b[39m(m):\n",
      "\u001b[1;31mUnboundLocalError\u001b[0m: cannot access local variable 'distributionData' where it is not associated with a value"
     ]
    }
   ],
   "source": [
    "numberOfMontecarloIterations = 1000\n",
    "params = [0.2, 0, 125]\n",
    "\n",
    "tauArray = [0.01, 0.05, 0.1, 0.3, 0.5, 0.7, 0.9, 0.95, 0.99]\n",
    "nArray = [10, 50, 100, 200]\n",
    "\n",
    "results = []\n",
    "for tau in tauArray:\n",
    "    for n in nArray:\n",
    "        result = monteCarlo(numberOfMontecarloIterations, tau, n, params)\n",
    "        results.append(result)\n"
   ]
  },
  {
   "cell_type": "code",
   "execution_count": null,
   "metadata": {},
   "outputs": [
    {
     "data": {
      "text/html": [
       "<div>\n",
       "<style scoped>\n",
       "    .dataframe tbody tr th:only-of-type {\n",
       "        vertical-align: middle;\n",
       "    }\n",
       "\n",
       "    .dataframe tbody tr th {\n",
       "        vertical-align: top;\n",
       "    }\n",
       "\n",
       "    .dataframe thead th {\n",
       "        text-align: right;\n",
       "    }\n",
       "</style>\n",
       "<table border=\"1\" class=\"dataframe\">\n",
       "  <thead>\n",
       "    <tr style=\"text-align: right;\">\n",
       "      <th></th>\n",
       "      <th>MonteCarlo iterations</th>\n",
       "      <th>Sample Size</th>\n",
       "      <th>Target Service Level</th>\n",
       "      <th>Param Values</th>\n",
       "      <th>RMSE Ratio</th>\n",
       "      <th>SL nonParam</th>\n",
       "      <th>SL Param</th>\n",
       "      <th>EPLR</th>\n",
       "    </tr>\n",
       "  </thead>\n",
       "  <tbody>\n",
       "    <tr>\n",
       "      <th>0</th>\n",
       "      <td>1000</td>\n",
       "      <td>10</td>\n",
       "      <td>0.01</td>\n",
       "      <td>[127.36080321029412, 23.49388969511495]</td>\n",
       "      <td>1.209935</td>\n",
       "      <td>0.0</td>\n",
       "      <td>0.000</td>\n",
       "      <td>5.469719</td>\n",
       "    </tr>\n",
       "    <tr>\n",
       "      <th>1</th>\n",
       "      <td>1000</td>\n",
       "      <td>50</td>\n",
       "      <td>0.01</td>\n",
       "      <td>[127.49146564093148, 25.245083057452888]</td>\n",
       "      <td>0.659671</td>\n",
       "      <td>0.0</td>\n",
       "      <td>0.000</td>\n",
       "      <td>1.350387</td>\n",
       "    </tr>\n",
       "    <tr>\n",
       "      <th>2</th>\n",
       "      <td>1000</td>\n",
       "      <td>100</td>\n",
       "      <td>0.01</td>\n",
       "      <td>[127.77429548232526, 25.561922724589472]</td>\n",
       "      <td>0.520076</td>\n",
       "      <td>0.0</td>\n",
       "      <td>0.000</td>\n",
       "      <td>0.671840</td>\n",
       "    </tr>\n",
       "    <tr>\n",
       "      <th>3</th>\n",
       "      <td>1000</td>\n",
       "      <td>200</td>\n",
       "      <td>0.01</td>\n",
       "      <td>[127.53874411549678, 25.666672163156587]</td>\n",
       "      <td>0.367807</td>\n",
       "      <td>0.0</td>\n",
       "      <td>0.000</td>\n",
       "      <td>0.272444</td>\n",
       "    </tr>\n",
       "    <tr>\n",
       "      <th>4</th>\n",
       "      <td>1000</td>\n",
       "      <td>10</td>\n",
       "      <td>0.05</td>\n",
       "      <td>[127.65471439187664, 23.68437532548774]</td>\n",
       "      <td>1.092239</td>\n",
       "      <td>0.0</td>\n",
       "      <td>0.000</td>\n",
       "      <td>1.885508</td>\n",
       "    </tr>\n",
       "    <tr>\n",
       "      <th>5</th>\n",
       "      <td>1000</td>\n",
       "      <td>50</td>\n",
       "      <td>0.05</td>\n",
       "      <td>[127.57374969330489, 25.313219584309717]</td>\n",
       "      <td>0.857707</td>\n",
       "      <td>0.0</td>\n",
       "      <td>0.000</td>\n",
       "      <td>1.082942</td>\n",
       "    </tr>\n",
       "    <tr>\n",
       "      <th>6</th>\n",
       "      <td>1000</td>\n",
       "      <td>100</td>\n",
       "      <td>0.05</td>\n",
       "      <td>[127.66301458825494, 25.600855304334452]</td>\n",
       "      <td>0.667075</td>\n",
       "      <td>0.0</td>\n",
       "      <td>0.000</td>\n",
       "      <td>0.599604</td>\n",
       "    </tr>\n",
       "    <tr>\n",
       "      <th>7</th>\n",
       "      <td>1000</td>\n",
       "      <td>200</td>\n",
       "      <td>0.05</td>\n",
       "      <td>[127.53766545263895, 25.657291790492742]</td>\n",
       "      <td>0.506071</td>\n",
       "      <td>0.0</td>\n",
       "      <td>0.000</td>\n",
       "      <td>0.314910</td>\n",
       "    </tr>\n",
       "    <tr>\n",
       "      <th>8</th>\n",
       "      <td>1000</td>\n",
       "      <td>10</td>\n",
       "      <td>0.10</td>\n",
       "      <td>[127.25556719788759, 23.52801542823624]</td>\n",
       "      <td>1.132533</td>\n",
       "      <td>0.0</td>\n",
       "      <td>0.000</td>\n",
       "      <td>1.535822</td>\n",
       "    </tr>\n",
       "    <tr>\n",
       "      <th>9</th>\n",
       "      <td>1000</td>\n",
       "      <td>50</td>\n",
       "      <td>0.10</td>\n",
       "      <td>[127.58953999593064, 25.244480582490468]</td>\n",
       "      <td>1.097311</td>\n",
       "      <td>0.0</td>\n",
       "      <td>0.000</td>\n",
       "      <td>1.396166</td>\n",
       "    </tr>\n",
       "    <tr>\n",
       "      <th>10</th>\n",
       "      <td>1000</td>\n",
       "      <td>100</td>\n",
       "      <td>0.10</td>\n",
       "      <td>[127.46731478982139, 25.534410075319673]</td>\n",
       "      <td>0.930112</td>\n",
       "      <td>0.0</td>\n",
       "      <td>0.000</td>\n",
       "      <td>0.973412</td>\n",
       "    </tr>\n",
       "    <tr>\n",
       "      <th>11</th>\n",
       "      <td>1000</td>\n",
       "      <td>200</td>\n",
       "      <td>0.10</td>\n",
       "      <td>[127.48955337570693, 25.68159759513826]</td>\n",
       "      <td>0.757235</td>\n",
       "      <td>0.0</td>\n",
       "      <td>0.000</td>\n",
       "      <td>0.630279</td>\n",
       "    </tr>\n",
       "    <tr>\n",
       "      <th>12</th>\n",
       "      <td>1000</td>\n",
       "      <td>10</td>\n",
       "      <td>0.30</td>\n",
       "      <td>[127.46006180818198, 23.28726288328671]</td>\n",
       "      <td>1.109817</td>\n",
       "      <td>0.0</td>\n",
       "      <td>0.004</td>\n",
       "      <td>1.218315</td>\n",
       "    </tr>\n",
       "    <tr>\n",
       "      <th>13</th>\n",
       "      <td>1000</td>\n",
       "      <td>50</td>\n",
       "      <td>0.30</td>\n",
       "      <td>[127.44899188865311, 25.35599268248991]</td>\n",
       "      <td>1.085380</td>\n",
       "      <td>0.0</td>\n",
       "      <td>0.000</td>\n",
       "      <td>1.158407</td>\n",
       "    </tr>\n",
       "    <tr>\n",
       "      <th>14</th>\n",
       "      <td>1000</td>\n",
       "      <td>100</td>\n",
       "      <td>0.30</td>\n",
       "      <td>[127.62123486462015, 25.467149627557827]</td>\n",
       "      <td>1.006586</td>\n",
       "      <td>0.0</td>\n",
       "      <td>0.000</td>\n",
       "      <td>0.998382</td>\n",
       "    </tr>\n",
       "    <tr>\n",
       "      <th>15</th>\n",
       "      <td>1000</td>\n",
       "      <td>200</td>\n",
       "      <td>0.30</td>\n",
       "      <td>[127.52612313614321, 25.608180701089687]</td>\n",
       "      <td>0.913047</td>\n",
       "      <td>0.0</td>\n",
       "      <td>0.000</td>\n",
       "      <td>0.821245</td>\n",
       "    </tr>\n",
       "    <tr>\n",
       "      <th>16</th>\n",
       "      <td>1000</td>\n",
       "      <td>10</td>\n",
       "      <td>0.50</td>\n",
       "      <td>[127.526623175209, 23.609808482567225]</td>\n",
       "      <td>1.087667</td>\n",
       "      <td>1.0</td>\n",
       "      <td>0.338</td>\n",
       "      <td>1.188738</td>\n",
       "    </tr>\n",
       "    <tr>\n",
       "      <th>17</th>\n",
       "      <td>1000</td>\n",
       "      <td>50</td>\n",
       "      <td>0.50</td>\n",
       "      <td>[127.4206772323288, 25.27614341805692]</td>\n",
       "      <td>1.030690</td>\n",
       "      <td>1.0</td>\n",
       "      <td>0.181</td>\n",
       "      <td>1.077919</td>\n",
       "    </tr>\n",
       "    <tr>\n",
       "      <th>18</th>\n",
       "      <td>1000</td>\n",
       "      <td>100</td>\n",
       "      <td>0.50</td>\n",
       "      <td>[127.55641435750478, 25.452247393193907]</td>\n",
       "      <td>0.850180</td>\n",
       "      <td>1.0</td>\n",
       "      <td>0.097</td>\n",
       "      <td>0.732440</td>\n",
       "    </tr>\n",
       "    <tr>\n",
       "      <th>19</th>\n",
       "      <td>1000</td>\n",
       "      <td>200</td>\n",
       "      <td>0.50</td>\n",
       "      <td>[127.44240954862765, 25.668887711611255]</td>\n",
       "      <td>0.702128</td>\n",
       "      <td>1.0</td>\n",
       "      <td>0.024</td>\n",
       "      <td>0.499548</td>\n",
       "    </tr>\n",
       "    <tr>\n",
       "      <th>20</th>\n",
       "      <td>1000</td>\n",
       "      <td>10</td>\n",
       "      <td>0.70</td>\n",
       "      <td>[127.87966428988669, 23.725823240016467]</td>\n",
       "      <td>1.083976</td>\n",
       "      <td>1.0</td>\n",
       "      <td>0.976</td>\n",
       "      <td>1.244959</td>\n",
       "    </tr>\n",
       "    <tr>\n",
       "      <th>21</th>\n",
       "      <td>1000</td>\n",
       "      <td>50</td>\n",
       "      <td>0.70</td>\n",
       "      <td>[127.61063554764915, 25.339180038455737]</td>\n",
       "      <td>1.010377</td>\n",
       "      <td>1.0</td>\n",
       "      <td>1.000</td>\n",
       "      <td>1.081665</td>\n",
       "    </tr>\n",
       "    <tr>\n",
       "      <th>22</th>\n",
       "      <td>1000</td>\n",
       "      <td>100</td>\n",
       "      <td>0.70</td>\n",
       "      <td>[127.6908573481834, 25.61581485705433]</td>\n",
       "      <td>0.947991</td>\n",
       "      <td>1.0</td>\n",
       "      <td>1.000</td>\n",
       "      <td>0.936025</td>\n",
       "    </tr>\n",
       "    <tr>\n",
       "      <th>23</th>\n",
       "      <td>1000</td>\n",
       "      <td>200</td>\n",
       "      <td>0.70</td>\n",
       "      <td>[127.51181152077028, 25.7046294620635]</td>\n",
       "      <td>0.831111</td>\n",
       "      <td>1.0</td>\n",
       "      <td>1.000</td>\n",
       "      <td>0.718967</td>\n",
       "    </tr>\n",
       "    <tr>\n",
       "      <th>24</th>\n",
       "      <td>1000</td>\n",
       "      <td>10</td>\n",
       "      <td>0.90</td>\n",
       "      <td>[127.52928303223436, 23.90772838683695]</td>\n",
       "      <td>1.116170</td>\n",
       "      <td>1.0</td>\n",
       "      <td>1.000</td>\n",
       "      <td>1.350892</td>\n",
       "    </tr>\n",
       "    <tr>\n",
       "      <th>25</th>\n",
       "      <td>1000</td>\n",
       "      <td>50</td>\n",
       "      <td>0.90</td>\n",
       "      <td>[127.60660818187633, 25.358258400410655]</td>\n",
       "      <td>1.183470</td>\n",
       "      <td>1.0</td>\n",
       "      <td>1.000</td>\n",
       "      <td>1.378356</td>\n",
       "    </tr>\n",
       "    <tr>\n",
       "      <th>26</th>\n",
       "      <td>1000</td>\n",
       "      <td>100</td>\n",
       "      <td>0.90</td>\n",
       "      <td>[127.52092213261427, 25.483145304829225]</td>\n",
       "      <td>1.176299</td>\n",
       "      <td>1.0</td>\n",
       "      <td>1.000</td>\n",
       "      <td>1.346689</td>\n",
       "    </tr>\n",
       "    <tr>\n",
       "      <th>27</th>\n",
       "      <td>1000</td>\n",
       "      <td>200</td>\n",
       "      <td>0.90</td>\n",
       "      <td>[127.38104432838094, 25.69188343088071]</td>\n",
       "      <td>1.153386</td>\n",
       "      <td>1.0</td>\n",
       "      <td>1.000</td>\n",
       "      <td>1.287299</td>\n",
       "    </tr>\n",
       "    <tr>\n",
       "      <th>28</th>\n",
       "      <td>1000</td>\n",
       "      <td>10</td>\n",
       "      <td>0.95</td>\n",
       "      <td>[127.44386083240649, 23.487959466657237]</td>\n",
       "      <td>1.129782</td>\n",
       "      <td>1.0</td>\n",
       "      <td>1.000</td>\n",
       "      <td>1.375709</td>\n",
       "    </tr>\n",
       "    <tr>\n",
       "      <th>29</th>\n",
       "      <td>1000</td>\n",
       "      <td>50</td>\n",
       "      <td>0.95</td>\n",
       "      <td>[127.45886146619885, 25.31019486120224]</td>\n",
       "      <td>1.165668</td>\n",
       "      <td>1.0</td>\n",
       "      <td>1.000</td>\n",
       "      <td>1.261128</td>\n",
       "    </tr>\n",
       "    <tr>\n",
       "      <th>30</th>\n",
       "      <td>1000</td>\n",
       "      <td>100</td>\n",
       "      <td>0.95</td>\n",
       "      <td>[127.60965556963887, 25.474276844065752]</td>\n",
       "      <td>1.104754</td>\n",
       "      <td>1.0</td>\n",
       "      <td>1.000</td>\n",
       "      <td>1.096198</td>\n",
       "    </tr>\n",
       "    <tr>\n",
       "      <th>31</th>\n",
       "      <td>1000</td>\n",
       "      <td>200</td>\n",
       "      <td>0.95</td>\n",
       "      <td>[127.53221520500801, 25.655007448284294]</td>\n",
       "      <td>0.968050</td>\n",
       "      <td>1.0</td>\n",
       "      <td>1.000</td>\n",
       "      <td>0.840617</td>\n",
       "    </tr>\n",
       "    <tr>\n",
       "      <th>32</th>\n",
       "      <td>1000</td>\n",
       "      <td>10</td>\n",
       "      <td>0.99</td>\n",
       "      <td>[127.39587942262776, 23.380291299355086]</td>\n",
       "      <td>1.411670</td>\n",
       "      <td>1.0</td>\n",
       "      <td>1.000</td>\n",
       "      <td>2.576080</td>\n",
       "    </tr>\n",
       "    <tr>\n",
       "      <th>33</th>\n",
       "      <td>1000</td>\n",
       "      <td>50</td>\n",
       "      <td>0.99</td>\n",
       "      <td>[127.4969149700304, 25.354301699904326]</td>\n",
       "      <td>1.121990</td>\n",
       "      <td>1.0</td>\n",
       "      <td>1.000</td>\n",
       "      <td>1.267762</td>\n",
       "    </tr>\n",
       "    <tr>\n",
       "      <th>34</th>\n",
       "      <td>1000</td>\n",
       "      <td>100</td>\n",
       "      <td>0.99</td>\n",
       "      <td>[127.49673239041198, 25.453233155038173]</td>\n",
       "      <td>1.011997</td>\n",
       "      <td>1.0</td>\n",
       "      <td>1.000</td>\n",
       "      <td>0.952620</td>\n",
       "    </tr>\n",
       "    <tr>\n",
       "      <th>35</th>\n",
       "      <td>1000</td>\n",
       "      <td>200</td>\n",
       "      <td>0.99</td>\n",
       "      <td>[127.50966806346945, 25.564826545113903]</td>\n",
       "      <td>0.804185</td>\n",
       "      <td>1.0</td>\n",
       "      <td>1.000</td>\n",
       "      <td>0.561697</td>\n",
       "    </tr>\n",
       "  </tbody>\n",
       "</table>\n",
       "</div>"
      ],
      "text/plain": [
       "    MonteCarlo iterations  Sample Size  Target Service Level  \\\n",
       "0                    1000           10                  0.01   \n",
       "1                    1000           50                  0.01   \n",
       "2                    1000          100                  0.01   \n",
       "3                    1000          200                  0.01   \n",
       "4                    1000           10                  0.05   \n",
       "5                    1000           50                  0.05   \n",
       "6                    1000          100                  0.05   \n",
       "7                    1000          200                  0.05   \n",
       "8                    1000           10                  0.10   \n",
       "9                    1000           50                  0.10   \n",
       "10                   1000          100                  0.10   \n",
       "11                   1000          200                  0.10   \n",
       "12                   1000           10                  0.30   \n",
       "13                   1000           50                  0.30   \n",
       "14                   1000          100                  0.30   \n",
       "15                   1000          200                  0.30   \n",
       "16                   1000           10                  0.50   \n",
       "17                   1000           50                  0.50   \n",
       "18                   1000          100                  0.50   \n",
       "19                   1000          200                  0.50   \n",
       "20                   1000           10                  0.70   \n",
       "21                   1000           50                  0.70   \n",
       "22                   1000          100                  0.70   \n",
       "23                   1000          200                  0.70   \n",
       "24                   1000           10                  0.90   \n",
       "25                   1000           50                  0.90   \n",
       "26                   1000          100                  0.90   \n",
       "27                   1000          200                  0.90   \n",
       "28                   1000           10                  0.95   \n",
       "29                   1000           50                  0.95   \n",
       "30                   1000          100                  0.95   \n",
       "31                   1000          200                  0.95   \n",
       "32                   1000           10                  0.99   \n",
       "33                   1000           50                  0.99   \n",
       "34                   1000          100                  0.99   \n",
       "35                   1000          200                  0.99   \n",
       "\n",
       "                                Param Values  RMSE Ratio  SL nonParam  \\\n",
       "0    [127.36080321029412, 23.49388969511495]    1.209935          0.0   \n",
       "1   [127.49146564093148, 25.245083057452888]    0.659671          0.0   \n",
       "2   [127.77429548232526, 25.561922724589472]    0.520076          0.0   \n",
       "3   [127.53874411549678, 25.666672163156587]    0.367807          0.0   \n",
       "4    [127.65471439187664, 23.68437532548774]    1.092239          0.0   \n",
       "5   [127.57374969330489, 25.313219584309717]    0.857707          0.0   \n",
       "6   [127.66301458825494, 25.600855304334452]    0.667075          0.0   \n",
       "7   [127.53766545263895, 25.657291790492742]    0.506071          0.0   \n",
       "8    [127.25556719788759, 23.52801542823624]    1.132533          0.0   \n",
       "9   [127.58953999593064, 25.244480582490468]    1.097311          0.0   \n",
       "10  [127.46731478982139, 25.534410075319673]    0.930112          0.0   \n",
       "11   [127.48955337570693, 25.68159759513826]    0.757235          0.0   \n",
       "12   [127.46006180818198, 23.28726288328671]    1.109817          0.0   \n",
       "13   [127.44899188865311, 25.35599268248991]    1.085380          0.0   \n",
       "14  [127.62123486462015, 25.467149627557827]    1.006586          0.0   \n",
       "15  [127.52612313614321, 25.608180701089687]    0.913047          0.0   \n",
       "16    [127.526623175209, 23.609808482567225]    1.087667          1.0   \n",
       "17    [127.4206772323288, 25.27614341805692]    1.030690          1.0   \n",
       "18  [127.55641435750478, 25.452247393193907]    0.850180          1.0   \n",
       "19  [127.44240954862765, 25.668887711611255]    0.702128          1.0   \n",
       "20  [127.87966428988669, 23.725823240016467]    1.083976          1.0   \n",
       "21  [127.61063554764915, 25.339180038455737]    1.010377          1.0   \n",
       "22    [127.6908573481834, 25.61581485705433]    0.947991          1.0   \n",
       "23    [127.51181152077028, 25.7046294620635]    0.831111          1.0   \n",
       "24   [127.52928303223436, 23.90772838683695]    1.116170          1.0   \n",
       "25  [127.60660818187633, 25.358258400410655]    1.183470          1.0   \n",
       "26  [127.52092213261427, 25.483145304829225]    1.176299          1.0   \n",
       "27   [127.38104432838094, 25.69188343088071]    1.153386          1.0   \n",
       "28  [127.44386083240649, 23.487959466657237]    1.129782          1.0   \n",
       "29   [127.45886146619885, 25.31019486120224]    1.165668          1.0   \n",
       "30  [127.60965556963887, 25.474276844065752]    1.104754          1.0   \n",
       "31  [127.53221520500801, 25.655007448284294]    0.968050          1.0   \n",
       "32  [127.39587942262776, 23.380291299355086]    1.411670          1.0   \n",
       "33   [127.4969149700304, 25.354301699904326]    1.121990          1.0   \n",
       "34  [127.49673239041198, 25.453233155038173]    1.011997          1.0   \n",
       "35  [127.50966806346945, 25.564826545113903]    0.804185          1.0   \n",
       "\n",
       "    SL Param      EPLR  \n",
       "0      0.000  5.469719  \n",
       "1      0.000  1.350387  \n",
       "2      0.000  0.671840  \n",
       "3      0.000  0.272444  \n",
       "4      0.000  1.885508  \n",
       "5      0.000  1.082942  \n",
       "6      0.000  0.599604  \n",
       "7      0.000  0.314910  \n",
       "8      0.000  1.535822  \n",
       "9      0.000  1.396166  \n",
       "10     0.000  0.973412  \n",
       "11     0.000  0.630279  \n",
       "12     0.004  1.218315  \n",
       "13     0.000  1.158407  \n",
       "14     0.000  0.998382  \n",
       "15     0.000  0.821245  \n",
       "16     0.338  1.188738  \n",
       "17     0.181  1.077919  \n",
       "18     0.097  0.732440  \n",
       "19     0.024  0.499548  \n",
       "20     0.976  1.244959  \n",
       "21     1.000  1.081665  \n",
       "22     1.000  0.936025  \n",
       "23     1.000  0.718967  \n",
       "24     1.000  1.350892  \n",
       "25     1.000  1.378356  \n",
       "26     1.000  1.346689  \n",
       "27     1.000  1.287299  \n",
       "28     1.000  1.375709  \n",
       "29     1.000  1.261128  \n",
       "30     1.000  1.096198  \n",
       "31     1.000  0.840617  \n",
       "32     1.000  2.576080  \n",
       "33     1.000  1.267762  \n",
       "34     1.000  0.952620  \n",
       "35     1.000  0.561697  "
      ]
     },
     "execution_count": 5,
     "metadata": {},
     "output_type": "execute_result"
    }
   ],
   "source": [
    "df = pd.DataFrame(results)\n",
    "df"
   ]
  },
  {
   "attachments": {},
   "cell_type": "markdown",
   "metadata": {},
   "source": []
  },
  {
   "cell_type": "code",
   "execution_count": null,
   "metadata": {},
   "outputs": [
    {
     "data": {
      "application/vnd.plotly.v1+json": {
       "config": {
        "plotlyServerURL": "https://plot.ly"
       },
       "data": [
        {
         "hovertemplate": "Target Service Level=%{x}<br>RMSE Ratio=%{y}<br>Sample Size=%{marker.color}<extra></extra>",
         "legendgroup": "",
         "marker": {
          "color": [
           10,
           50,
           100,
           200,
           10,
           50,
           100,
           200,
           10,
           50,
           100,
           200,
           10,
           50,
           100,
           200,
           10,
           50,
           100,
           200,
           10,
           50,
           100,
           200,
           10,
           50,
           100,
           200,
           10,
           50,
           100,
           200,
           10,
           50,
           100,
           200
          ],
          "coloraxis": "coloraxis",
          "symbol": "circle"
         },
         "mode": "markers",
         "name": "",
         "orientation": "v",
         "showlegend": false,
         "type": "scatter",
         "x": [
          0.01,
          0.01,
          0.01,
          0.01,
          0.05,
          0.05,
          0.05,
          0.05,
          0.1,
          0.1,
          0.1,
          0.1,
          0.3,
          0.3,
          0.3,
          0.3,
          0.5,
          0.5,
          0.5,
          0.5,
          0.7,
          0.7,
          0.7,
          0.7,
          0.9,
          0.9,
          0.9,
          0.9,
          0.95,
          0.95,
          0.95,
          0.95,
          0.99,
          0.99,
          0.99,
          0.99
         ],
         "xaxis": "x",
         "y": [
          1.2099350081889888,
          0.6596708364963368,
          0.52007637025223,
          0.3678071317083481,
          1.0922387535255345,
          0.857707467727149,
          0.6670745319279224,
          0.5060705732376111,
          1.132532640794404,
          1.0973105030865116,
          0.9301123053373046,
          0.7572347628651357,
          1.1098165762870582,
          1.0853799512186915,
          1.0065861904681903,
          0.913047213752349,
          1.087666707713179,
          1.030690094991596,
          0.8501797282386508,
          0.7021284677374535,
          1.0839761133811059,
          1.0103768600545402,
          0.9479914374247365,
          0.831110966345009,
          1.1161698181430593,
          1.1834703865007317,
          1.1762988432055521,
          1.153386025173091,
          1.129781822567879,
          1.165668025260976,
          1.1047535381145879,
          0.9680500011254713,
          1.4116699918204803,
          1.1219896052199383,
          1.0119969962130007,
          0.8041848415711554
         ],
         "yaxis": "y"
        }
       ],
       "layout": {
        "coloraxis": {
         "colorbar": {
          "title": {
           "text": "Sample Size"
          }
         },
         "colorscale": [
          [
           0,
           "#0d0887"
          ],
          [
           0.1111111111111111,
           "#46039f"
          ],
          [
           0.2222222222222222,
           "#7201a8"
          ],
          [
           0.3333333333333333,
           "#9c179e"
          ],
          [
           0.4444444444444444,
           "#bd3786"
          ],
          [
           0.5555555555555556,
           "#d8576b"
          ],
          [
           0.6666666666666666,
           "#ed7953"
          ],
          [
           0.7777777777777778,
           "#fb9f3a"
          ],
          [
           0.8888888888888888,
           "#fdca26"
          ],
          [
           1,
           "#f0f921"
          ]
         ]
        },
        "font": {
         "size": 15
        },
        "legend": {
         "tracegroupgap": 0
        },
        "template": {
         "data": {
          "bar": [
           {
            "error_x": {
             "color": "#2a3f5f"
            },
            "error_y": {
             "color": "#2a3f5f"
            },
            "marker": {
             "line": {
              "color": "#E5ECF6",
              "width": 0.5
             },
             "pattern": {
              "fillmode": "overlay",
              "size": 10,
              "solidity": 0.2
             }
            },
            "type": "bar"
           }
          ],
          "barpolar": [
           {
            "marker": {
             "line": {
              "color": "#E5ECF6",
              "width": 0.5
             },
             "pattern": {
              "fillmode": "overlay",
              "size": 10,
              "solidity": 0.2
             }
            },
            "type": "barpolar"
           }
          ],
          "carpet": [
           {
            "aaxis": {
             "endlinecolor": "#2a3f5f",
             "gridcolor": "white",
             "linecolor": "white",
             "minorgridcolor": "white",
             "startlinecolor": "#2a3f5f"
            },
            "baxis": {
             "endlinecolor": "#2a3f5f",
             "gridcolor": "white",
             "linecolor": "white",
             "minorgridcolor": "white",
             "startlinecolor": "#2a3f5f"
            },
            "type": "carpet"
           }
          ],
          "choropleth": [
           {
            "colorbar": {
             "outlinewidth": 0,
             "ticks": ""
            },
            "type": "choropleth"
           }
          ],
          "contour": [
           {
            "colorbar": {
             "outlinewidth": 0,
             "ticks": ""
            },
            "colorscale": [
             [
              0,
              "#0d0887"
             ],
             [
              0.1111111111111111,
              "#46039f"
             ],
             [
              0.2222222222222222,
              "#7201a8"
             ],
             [
              0.3333333333333333,
              "#9c179e"
             ],
             [
              0.4444444444444444,
              "#bd3786"
             ],
             [
              0.5555555555555556,
              "#d8576b"
             ],
             [
              0.6666666666666666,
              "#ed7953"
             ],
             [
              0.7777777777777778,
              "#fb9f3a"
             ],
             [
              0.8888888888888888,
              "#fdca26"
             ],
             [
              1,
              "#f0f921"
             ]
            ],
            "type": "contour"
           }
          ],
          "contourcarpet": [
           {
            "colorbar": {
             "outlinewidth": 0,
             "ticks": ""
            },
            "type": "contourcarpet"
           }
          ],
          "heatmap": [
           {
            "colorbar": {
             "outlinewidth": 0,
             "ticks": ""
            },
            "colorscale": [
             [
              0,
              "#0d0887"
             ],
             [
              0.1111111111111111,
              "#46039f"
             ],
             [
              0.2222222222222222,
              "#7201a8"
             ],
             [
              0.3333333333333333,
              "#9c179e"
             ],
             [
              0.4444444444444444,
              "#bd3786"
             ],
             [
              0.5555555555555556,
              "#d8576b"
             ],
             [
              0.6666666666666666,
              "#ed7953"
             ],
             [
              0.7777777777777778,
              "#fb9f3a"
             ],
             [
              0.8888888888888888,
              "#fdca26"
             ],
             [
              1,
              "#f0f921"
             ]
            ],
            "type": "heatmap"
           }
          ],
          "heatmapgl": [
           {
            "colorbar": {
             "outlinewidth": 0,
             "ticks": ""
            },
            "colorscale": [
             [
              0,
              "#0d0887"
             ],
             [
              0.1111111111111111,
              "#46039f"
             ],
             [
              0.2222222222222222,
              "#7201a8"
             ],
             [
              0.3333333333333333,
              "#9c179e"
             ],
             [
              0.4444444444444444,
              "#bd3786"
             ],
             [
              0.5555555555555556,
              "#d8576b"
             ],
             [
              0.6666666666666666,
              "#ed7953"
             ],
             [
              0.7777777777777778,
              "#fb9f3a"
             ],
             [
              0.8888888888888888,
              "#fdca26"
             ],
             [
              1,
              "#f0f921"
             ]
            ],
            "type": "heatmapgl"
           }
          ],
          "histogram": [
           {
            "marker": {
             "pattern": {
              "fillmode": "overlay",
              "size": 10,
              "solidity": 0.2
             }
            },
            "type": "histogram"
           }
          ],
          "histogram2d": [
           {
            "colorbar": {
             "outlinewidth": 0,
             "ticks": ""
            },
            "colorscale": [
             [
              0,
              "#0d0887"
             ],
             [
              0.1111111111111111,
              "#46039f"
             ],
             [
              0.2222222222222222,
              "#7201a8"
             ],
             [
              0.3333333333333333,
              "#9c179e"
             ],
             [
              0.4444444444444444,
              "#bd3786"
             ],
             [
              0.5555555555555556,
              "#d8576b"
             ],
             [
              0.6666666666666666,
              "#ed7953"
             ],
             [
              0.7777777777777778,
              "#fb9f3a"
             ],
             [
              0.8888888888888888,
              "#fdca26"
             ],
             [
              1,
              "#f0f921"
             ]
            ],
            "type": "histogram2d"
           }
          ],
          "histogram2dcontour": [
           {
            "colorbar": {
             "outlinewidth": 0,
             "ticks": ""
            },
            "colorscale": [
             [
              0,
              "#0d0887"
             ],
             [
              0.1111111111111111,
              "#46039f"
             ],
             [
              0.2222222222222222,
              "#7201a8"
             ],
             [
              0.3333333333333333,
              "#9c179e"
             ],
             [
              0.4444444444444444,
              "#bd3786"
             ],
             [
              0.5555555555555556,
              "#d8576b"
             ],
             [
              0.6666666666666666,
              "#ed7953"
             ],
             [
              0.7777777777777778,
              "#fb9f3a"
             ],
             [
              0.8888888888888888,
              "#fdca26"
             ],
             [
              1,
              "#f0f921"
             ]
            ],
            "type": "histogram2dcontour"
           }
          ],
          "mesh3d": [
           {
            "colorbar": {
             "outlinewidth": 0,
             "ticks": ""
            },
            "type": "mesh3d"
           }
          ],
          "parcoords": [
           {
            "line": {
             "colorbar": {
              "outlinewidth": 0,
              "ticks": ""
             }
            },
            "type": "parcoords"
           }
          ],
          "pie": [
           {
            "automargin": true,
            "type": "pie"
           }
          ],
          "scatter": [
           {
            "fillpattern": {
             "fillmode": "overlay",
             "size": 10,
             "solidity": 0.2
            },
            "type": "scatter"
           }
          ],
          "scatter3d": [
           {
            "line": {
             "colorbar": {
              "outlinewidth": 0,
              "ticks": ""
             }
            },
            "marker": {
             "colorbar": {
              "outlinewidth": 0,
              "ticks": ""
             }
            },
            "type": "scatter3d"
           }
          ],
          "scattercarpet": [
           {
            "marker": {
             "colorbar": {
              "outlinewidth": 0,
              "ticks": ""
             }
            },
            "type": "scattercarpet"
           }
          ],
          "scattergeo": [
           {
            "marker": {
             "colorbar": {
              "outlinewidth": 0,
              "ticks": ""
             }
            },
            "type": "scattergeo"
           }
          ],
          "scattergl": [
           {
            "marker": {
             "colorbar": {
              "outlinewidth": 0,
              "ticks": ""
             }
            },
            "type": "scattergl"
           }
          ],
          "scattermapbox": [
           {
            "marker": {
             "colorbar": {
              "outlinewidth": 0,
              "ticks": ""
             }
            },
            "type": "scattermapbox"
           }
          ],
          "scatterpolar": [
           {
            "marker": {
             "colorbar": {
              "outlinewidth": 0,
              "ticks": ""
             }
            },
            "type": "scatterpolar"
           }
          ],
          "scatterpolargl": [
           {
            "marker": {
             "colorbar": {
              "outlinewidth": 0,
              "ticks": ""
             }
            },
            "type": "scatterpolargl"
           }
          ],
          "scatterternary": [
           {
            "marker": {
             "colorbar": {
              "outlinewidth": 0,
              "ticks": ""
             }
            },
            "type": "scatterternary"
           }
          ],
          "surface": [
           {
            "colorbar": {
             "outlinewidth": 0,
             "ticks": ""
            },
            "colorscale": [
             [
              0,
              "#0d0887"
             ],
             [
              0.1111111111111111,
              "#46039f"
             ],
             [
              0.2222222222222222,
              "#7201a8"
             ],
             [
              0.3333333333333333,
              "#9c179e"
             ],
             [
              0.4444444444444444,
              "#bd3786"
             ],
             [
              0.5555555555555556,
              "#d8576b"
             ],
             [
              0.6666666666666666,
              "#ed7953"
             ],
             [
              0.7777777777777778,
              "#fb9f3a"
             ],
             [
              0.8888888888888888,
              "#fdca26"
             ],
             [
              1,
              "#f0f921"
             ]
            ],
            "type": "surface"
           }
          ],
          "table": [
           {
            "cells": {
             "fill": {
              "color": "#EBF0F8"
             },
             "line": {
              "color": "white"
             }
            },
            "header": {
             "fill": {
              "color": "#C8D4E3"
             },
             "line": {
              "color": "white"
             }
            },
            "type": "table"
           }
          ]
         },
         "layout": {
          "annotationdefaults": {
           "arrowcolor": "#2a3f5f",
           "arrowhead": 0,
           "arrowwidth": 1
          },
          "autotypenumbers": "strict",
          "coloraxis": {
           "colorbar": {
            "outlinewidth": 0,
            "ticks": ""
           }
          },
          "colorscale": {
           "diverging": [
            [
             0,
             "#8e0152"
            ],
            [
             0.1,
             "#c51b7d"
            ],
            [
             0.2,
             "#de77ae"
            ],
            [
             0.3,
             "#f1b6da"
            ],
            [
             0.4,
             "#fde0ef"
            ],
            [
             0.5,
             "#f7f7f7"
            ],
            [
             0.6,
             "#e6f5d0"
            ],
            [
             0.7,
             "#b8e186"
            ],
            [
             0.8,
             "#7fbc41"
            ],
            [
             0.9,
             "#4d9221"
            ],
            [
             1,
             "#276419"
            ]
           ],
           "sequential": [
            [
             0,
             "#0d0887"
            ],
            [
             0.1111111111111111,
             "#46039f"
            ],
            [
             0.2222222222222222,
             "#7201a8"
            ],
            [
             0.3333333333333333,
             "#9c179e"
            ],
            [
             0.4444444444444444,
             "#bd3786"
            ],
            [
             0.5555555555555556,
             "#d8576b"
            ],
            [
             0.6666666666666666,
             "#ed7953"
            ],
            [
             0.7777777777777778,
             "#fb9f3a"
            ],
            [
             0.8888888888888888,
             "#fdca26"
            ],
            [
             1,
             "#f0f921"
            ]
           ],
           "sequentialminus": [
            [
             0,
             "#0d0887"
            ],
            [
             0.1111111111111111,
             "#46039f"
            ],
            [
             0.2222222222222222,
             "#7201a8"
            ],
            [
             0.3333333333333333,
             "#9c179e"
            ],
            [
             0.4444444444444444,
             "#bd3786"
            ],
            [
             0.5555555555555556,
             "#d8576b"
            ],
            [
             0.6666666666666666,
             "#ed7953"
            ],
            [
             0.7777777777777778,
             "#fb9f3a"
            ],
            [
             0.8888888888888888,
             "#fdca26"
            ],
            [
             1,
             "#f0f921"
            ]
           ]
          },
          "colorway": [
           "#636efa",
           "#EF553B",
           "#00cc96",
           "#ab63fa",
           "#FFA15A",
           "#19d3f3",
           "#FF6692",
           "#B6E880",
           "#FF97FF",
           "#FECB52"
          ],
          "font": {
           "color": "#2a3f5f"
          },
          "geo": {
           "bgcolor": "white",
           "lakecolor": "white",
           "landcolor": "#E5ECF6",
           "showlakes": true,
           "showland": true,
           "subunitcolor": "white"
          },
          "hoverlabel": {
           "align": "left"
          },
          "hovermode": "closest",
          "mapbox": {
           "style": "light"
          },
          "paper_bgcolor": "white",
          "plot_bgcolor": "#E5ECF6",
          "polar": {
           "angularaxis": {
            "gridcolor": "white",
            "linecolor": "white",
            "ticks": ""
           },
           "bgcolor": "#E5ECF6",
           "radialaxis": {
            "gridcolor": "white",
            "linecolor": "white",
            "ticks": ""
           }
          },
          "scene": {
           "xaxis": {
            "backgroundcolor": "#E5ECF6",
            "gridcolor": "white",
            "gridwidth": 2,
            "linecolor": "white",
            "showbackground": true,
            "ticks": "",
            "zerolinecolor": "white"
           },
           "yaxis": {
            "backgroundcolor": "#E5ECF6",
            "gridcolor": "white",
            "gridwidth": 2,
            "linecolor": "white",
            "showbackground": true,
            "ticks": "",
            "zerolinecolor": "white"
           },
           "zaxis": {
            "backgroundcolor": "#E5ECF6",
            "gridcolor": "white",
            "gridwidth": 2,
            "linecolor": "white",
            "showbackground": true,
            "ticks": "",
            "zerolinecolor": "white"
           }
          },
          "shapedefaults": {
           "line": {
            "color": "#2a3f5f"
           }
          },
          "ternary": {
           "aaxis": {
            "gridcolor": "white",
            "linecolor": "white",
            "ticks": ""
           },
           "baxis": {
            "gridcolor": "white",
            "linecolor": "white",
            "ticks": ""
           },
           "bgcolor": "#E5ECF6",
           "caxis": {
            "gridcolor": "white",
            "linecolor": "white",
            "ticks": ""
           }
          },
          "title": {
           "x": 0.05
          },
          "xaxis": {
           "automargin": true,
           "gridcolor": "white",
           "linecolor": "white",
           "ticks": "",
           "title": {
            "standoff": 15
           },
           "zerolinecolor": "white",
           "zerolinewidth": 2
          },
          "yaxis": {
           "automargin": true,
           "gridcolor": "white",
           "linecolor": "white",
           "ticks": "",
           "title": {
            "standoff": 15
           },
           "zerolinecolor": "white",
           "zerolinewidth": 2
          }
         }
        },
        "title": {
         "text": "TSL vs RMSE, m = 1000,incorrectly specified model<br><sup>higher RMSE means parametric performs better</sup>"
        },
        "xaxis": {
         "anchor": "y",
         "domain": [
          0,
          1
         ],
         "title": {
          "text": "Target Service Level"
         }
        },
        "yaxis": {
         "anchor": "x",
         "domain": [
          0,
          1
         ],
         "title": {
          "text": "RMSE Ratio"
         }
        }
       }
      }
     },
     "metadata": {},
     "output_type": "display_data"
    },
    {
     "data": {
      "application/vnd.plotly.v1+json": {
       "config": {
        "plotlyServerURL": "https://plot.ly"
       },
       "data": [
        {
         "hovertemplate": "Target Service Level=%{x}<br>EPLR=%{y}<br>Sample Size=%{marker.color}<extra></extra>",
         "legendgroup": "",
         "marker": {
          "color": [
           10,
           50,
           100,
           200,
           10,
           50,
           100,
           200,
           10,
           50,
           100,
           200,
           10,
           50,
           100,
           200,
           10,
           50,
           100,
           200,
           10,
           50,
           100,
           200,
           10,
           50,
           100,
           200,
           10,
           50,
           100,
           200,
           10,
           50,
           100,
           200
          ],
          "coloraxis": "coloraxis",
          "symbol": "circle"
         },
         "mode": "markers",
         "name": "",
         "orientation": "v",
         "showlegend": false,
         "type": "scatter",
         "x": [
          0.01,
          0.01,
          0.01,
          0.01,
          0.05,
          0.05,
          0.05,
          0.05,
          0.1,
          0.1,
          0.1,
          0.1,
          0.3,
          0.3,
          0.3,
          0.3,
          0.5,
          0.5,
          0.5,
          0.5,
          0.7,
          0.7,
          0.7,
          0.7,
          0.9,
          0.9,
          0.9,
          0.9,
          0.95,
          0.95,
          0.95,
          0.95,
          0.99,
          0.99,
          0.99,
          0.99
         ],
         "xaxis": "x",
         "y": [
          5.469719204780144,
          1.3503873672188917,
          0.6718398629976798,
          0.2724437294654857,
          1.8855084061089138,
          1.0829422318465478,
          0.5996044752684531,
          0.31491032615027376,
          1.535822060601738,
          1.3961660952691513,
          0.9734124324532443,
          0.6302793467607899,
          1.218315243471447,
          1.1584066271571334,
          0.9983823368601442,
          0.8212447422442664,
          1.1887380842030995,
          1.0779193522008694,
          0.7324398287641937,
          0.49954785412827724,
          1.2449590788485154,
          1.0816645094368464,
          0.9360254519136207,
          0.7189674208387092,
          1.3508919316812888,
          1.378355501486836,
          1.346688946738919,
          1.2872987137422216,
          1.3757085958932842,
          1.2611280205319682,
          1.0961976275959497,
          0.8406168414121177,
          2.5760801349902223,
          1.267762215763221,
          0.9526203981012124,
          0.5616974994266494
         ],
         "yaxis": "y"
        }
       ],
       "layout": {
        "coloraxis": {
         "colorbar": {
          "title": {
           "text": "Sample Size"
          }
         },
         "colorscale": [
          [
           0,
           "#0d0887"
          ],
          [
           0.1111111111111111,
           "#46039f"
          ],
          [
           0.2222222222222222,
           "#7201a8"
          ],
          [
           0.3333333333333333,
           "#9c179e"
          ],
          [
           0.4444444444444444,
           "#bd3786"
          ],
          [
           0.5555555555555556,
           "#d8576b"
          ],
          [
           0.6666666666666666,
           "#ed7953"
          ],
          [
           0.7777777777777778,
           "#fb9f3a"
          ],
          [
           0.8888888888888888,
           "#fdca26"
          ],
          [
           1,
           "#f0f921"
          ]
         ]
        },
        "font": {
         "size": 15
        },
        "legend": {
         "tracegroupgap": 0
        },
        "template": {
         "data": {
          "bar": [
           {
            "error_x": {
             "color": "#2a3f5f"
            },
            "error_y": {
             "color": "#2a3f5f"
            },
            "marker": {
             "line": {
              "color": "#E5ECF6",
              "width": 0.5
             },
             "pattern": {
              "fillmode": "overlay",
              "size": 10,
              "solidity": 0.2
             }
            },
            "type": "bar"
           }
          ],
          "barpolar": [
           {
            "marker": {
             "line": {
              "color": "#E5ECF6",
              "width": 0.5
             },
             "pattern": {
              "fillmode": "overlay",
              "size": 10,
              "solidity": 0.2
             }
            },
            "type": "barpolar"
           }
          ],
          "carpet": [
           {
            "aaxis": {
             "endlinecolor": "#2a3f5f",
             "gridcolor": "white",
             "linecolor": "white",
             "minorgridcolor": "white",
             "startlinecolor": "#2a3f5f"
            },
            "baxis": {
             "endlinecolor": "#2a3f5f",
             "gridcolor": "white",
             "linecolor": "white",
             "minorgridcolor": "white",
             "startlinecolor": "#2a3f5f"
            },
            "type": "carpet"
           }
          ],
          "choropleth": [
           {
            "colorbar": {
             "outlinewidth": 0,
             "ticks": ""
            },
            "type": "choropleth"
           }
          ],
          "contour": [
           {
            "colorbar": {
             "outlinewidth": 0,
             "ticks": ""
            },
            "colorscale": [
             [
              0,
              "#0d0887"
             ],
             [
              0.1111111111111111,
              "#46039f"
             ],
             [
              0.2222222222222222,
              "#7201a8"
             ],
             [
              0.3333333333333333,
              "#9c179e"
             ],
             [
              0.4444444444444444,
              "#bd3786"
             ],
             [
              0.5555555555555556,
              "#d8576b"
             ],
             [
              0.6666666666666666,
              "#ed7953"
             ],
             [
              0.7777777777777778,
              "#fb9f3a"
             ],
             [
              0.8888888888888888,
              "#fdca26"
             ],
             [
              1,
              "#f0f921"
             ]
            ],
            "type": "contour"
           }
          ],
          "contourcarpet": [
           {
            "colorbar": {
             "outlinewidth": 0,
             "ticks": ""
            },
            "type": "contourcarpet"
           }
          ],
          "heatmap": [
           {
            "colorbar": {
             "outlinewidth": 0,
             "ticks": ""
            },
            "colorscale": [
             [
              0,
              "#0d0887"
             ],
             [
              0.1111111111111111,
              "#46039f"
             ],
             [
              0.2222222222222222,
              "#7201a8"
             ],
             [
              0.3333333333333333,
              "#9c179e"
             ],
             [
              0.4444444444444444,
              "#bd3786"
             ],
             [
              0.5555555555555556,
              "#d8576b"
             ],
             [
              0.6666666666666666,
              "#ed7953"
             ],
             [
              0.7777777777777778,
              "#fb9f3a"
             ],
             [
              0.8888888888888888,
              "#fdca26"
             ],
             [
              1,
              "#f0f921"
             ]
            ],
            "type": "heatmap"
           }
          ],
          "heatmapgl": [
           {
            "colorbar": {
             "outlinewidth": 0,
             "ticks": ""
            },
            "colorscale": [
             [
              0,
              "#0d0887"
             ],
             [
              0.1111111111111111,
              "#46039f"
             ],
             [
              0.2222222222222222,
              "#7201a8"
             ],
             [
              0.3333333333333333,
              "#9c179e"
             ],
             [
              0.4444444444444444,
              "#bd3786"
             ],
             [
              0.5555555555555556,
              "#d8576b"
             ],
             [
              0.6666666666666666,
              "#ed7953"
             ],
             [
              0.7777777777777778,
              "#fb9f3a"
             ],
             [
              0.8888888888888888,
              "#fdca26"
             ],
             [
              1,
              "#f0f921"
             ]
            ],
            "type": "heatmapgl"
           }
          ],
          "histogram": [
           {
            "marker": {
             "pattern": {
              "fillmode": "overlay",
              "size": 10,
              "solidity": 0.2
             }
            },
            "type": "histogram"
           }
          ],
          "histogram2d": [
           {
            "colorbar": {
             "outlinewidth": 0,
             "ticks": ""
            },
            "colorscale": [
             [
              0,
              "#0d0887"
             ],
             [
              0.1111111111111111,
              "#46039f"
             ],
             [
              0.2222222222222222,
              "#7201a8"
             ],
             [
              0.3333333333333333,
              "#9c179e"
             ],
             [
              0.4444444444444444,
              "#bd3786"
             ],
             [
              0.5555555555555556,
              "#d8576b"
             ],
             [
              0.6666666666666666,
              "#ed7953"
             ],
             [
              0.7777777777777778,
              "#fb9f3a"
             ],
             [
              0.8888888888888888,
              "#fdca26"
             ],
             [
              1,
              "#f0f921"
             ]
            ],
            "type": "histogram2d"
           }
          ],
          "histogram2dcontour": [
           {
            "colorbar": {
             "outlinewidth": 0,
             "ticks": ""
            },
            "colorscale": [
             [
              0,
              "#0d0887"
             ],
             [
              0.1111111111111111,
              "#46039f"
             ],
             [
              0.2222222222222222,
              "#7201a8"
             ],
             [
              0.3333333333333333,
              "#9c179e"
             ],
             [
              0.4444444444444444,
              "#bd3786"
             ],
             [
              0.5555555555555556,
              "#d8576b"
             ],
             [
              0.6666666666666666,
              "#ed7953"
             ],
             [
              0.7777777777777778,
              "#fb9f3a"
             ],
             [
              0.8888888888888888,
              "#fdca26"
             ],
             [
              1,
              "#f0f921"
             ]
            ],
            "type": "histogram2dcontour"
           }
          ],
          "mesh3d": [
           {
            "colorbar": {
             "outlinewidth": 0,
             "ticks": ""
            },
            "type": "mesh3d"
           }
          ],
          "parcoords": [
           {
            "line": {
             "colorbar": {
              "outlinewidth": 0,
              "ticks": ""
             }
            },
            "type": "parcoords"
           }
          ],
          "pie": [
           {
            "automargin": true,
            "type": "pie"
           }
          ],
          "scatter": [
           {
            "fillpattern": {
             "fillmode": "overlay",
             "size": 10,
             "solidity": 0.2
            },
            "type": "scatter"
           }
          ],
          "scatter3d": [
           {
            "line": {
             "colorbar": {
              "outlinewidth": 0,
              "ticks": ""
             }
            },
            "marker": {
             "colorbar": {
              "outlinewidth": 0,
              "ticks": ""
             }
            },
            "type": "scatter3d"
           }
          ],
          "scattercarpet": [
           {
            "marker": {
             "colorbar": {
              "outlinewidth": 0,
              "ticks": ""
             }
            },
            "type": "scattercarpet"
           }
          ],
          "scattergeo": [
           {
            "marker": {
             "colorbar": {
              "outlinewidth": 0,
              "ticks": ""
             }
            },
            "type": "scattergeo"
           }
          ],
          "scattergl": [
           {
            "marker": {
             "colorbar": {
              "outlinewidth": 0,
              "ticks": ""
             }
            },
            "type": "scattergl"
           }
          ],
          "scattermapbox": [
           {
            "marker": {
             "colorbar": {
              "outlinewidth": 0,
              "ticks": ""
             }
            },
            "type": "scattermapbox"
           }
          ],
          "scatterpolar": [
           {
            "marker": {
             "colorbar": {
              "outlinewidth": 0,
              "ticks": ""
             }
            },
            "type": "scatterpolar"
           }
          ],
          "scatterpolargl": [
           {
            "marker": {
             "colorbar": {
              "outlinewidth": 0,
              "ticks": ""
             }
            },
            "type": "scatterpolargl"
           }
          ],
          "scatterternary": [
           {
            "marker": {
             "colorbar": {
              "outlinewidth": 0,
              "ticks": ""
             }
            },
            "type": "scatterternary"
           }
          ],
          "surface": [
           {
            "colorbar": {
             "outlinewidth": 0,
             "ticks": ""
            },
            "colorscale": [
             [
              0,
              "#0d0887"
             ],
             [
              0.1111111111111111,
              "#46039f"
             ],
             [
              0.2222222222222222,
              "#7201a8"
             ],
             [
              0.3333333333333333,
              "#9c179e"
             ],
             [
              0.4444444444444444,
              "#bd3786"
             ],
             [
              0.5555555555555556,
              "#d8576b"
             ],
             [
              0.6666666666666666,
              "#ed7953"
             ],
             [
              0.7777777777777778,
              "#fb9f3a"
             ],
             [
              0.8888888888888888,
              "#fdca26"
             ],
             [
              1,
              "#f0f921"
             ]
            ],
            "type": "surface"
           }
          ],
          "table": [
           {
            "cells": {
             "fill": {
              "color": "#EBF0F8"
             },
             "line": {
              "color": "white"
             }
            },
            "header": {
             "fill": {
              "color": "#C8D4E3"
             },
             "line": {
              "color": "white"
             }
            },
            "type": "table"
           }
          ]
         },
         "layout": {
          "annotationdefaults": {
           "arrowcolor": "#2a3f5f",
           "arrowhead": 0,
           "arrowwidth": 1
          },
          "autotypenumbers": "strict",
          "coloraxis": {
           "colorbar": {
            "outlinewidth": 0,
            "ticks": ""
           }
          },
          "colorscale": {
           "diverging": [
            [
             0,
             "#8e0152"
            ],
            [
             0.1,
             "#c51b7d"
            ],
            [
             0.2,
             "#de77ae"
            ],
            [
             0.3,
             "#f1b6da"
            ],
            [
             0.4,
             "#fde0ef"
            ],
            [
             0.5,
             "#f7f7f7"
            ],
            [
             0.6,
             "#e6f5d0"
            ],
            [
             0.7,
             "#b8e186"
            ],
            [
             0.8,
             "#7fbc41"
            ],
            [
             0.9,
             "#4d9221"
            ],
            [
             1,
             "#276419"
            ]
           ],
           "sequential": [
            [
             0,
             "#0d0887"
            ],
            [
             0.1111111111111111,
             "#46039f"
            ],
            [
             0.2222222222222222,
             "#7201a8"
            ],
            [
             0.3333333333333333,
             "#9c179e"
            ],
            [
             0.4444444444444444,
             "#bd3786"
            ],
            [
             0.5555555555555556,
             "#d8576b"
            ],
            [
             0.6666666666666666,
             "#ed7953"
            ],
            [
             0.7777777777777778,
             "#fb9f3a"
            ],
            [
             0.8888888888888888,
             "#fdca26"
            ],
            [
             1,
             "#f0f921"
            ]
           ],
           "sequentialminus": [
            [
             0,
             "#0d0887"
            ],
            [
             0.1111111111111111,
             "#46039f"
            ],
            [
             0.2222222222222222,
             "#7201a8"
            ],
            [
             0.3333333333333333,
             "#9c179e"
            ],
            [
             0.4444444444444444,
             "#bd3786"
            ],
            [
             0.5555555555555556,
             "#d8576b"
            ],
            [
             0.6666666666666666,
             "#ed7953"
            ],
            [
             0.7777777777777778,
             "#fb9f3a"
            ],
            [
             0.8888888888888888,
             "#fdca26"
            ],
            [
             1,
             "#f0f921"
            ]
           ]
          },
          "colorway": [
           "#636efa",
           "#EF553B",
           "#00cc96",
           "#ab63fa",
           "#FFA15A",
           "#19d3f3",
           "#FF6692",
           "#B6E880",
           "#FF97FF",
           "#FECB52"
          ],
          "font": {
           "color": "#2a3f5f"
          },
          "geo": {
           "bgcolor": "white",
           "lakecolor": "white",
           "landcolor": "#E5ECF6",
           "showlakes": true,
           "showland": true,
           "subunitcolor": "white"
          },
          "hoverlabel": {
           "align": "left"
          },
          "hovermode": "closest",
          "mapbox": {
           "style": "light"
          },
          "paper_bgcolor": "white",
          "plot_bgcolor": "#E5ECF6",
          "polar": {
           "angularaxis": {
            "gridcolor": "white",
            "linecolor": "white",
            "ticks": ""
           },
           "bgcolor": "#E5ECF6",
           "radialaxis": {
            "gridcolor": "white",
            "linecolor": "white",
            "ticks": ""
           }
          },
          "scene": {
           "xaxis": {
            "backgroundcolor": "#E5ECF6",
            "gridcolor": "white",
            "gridwidth": 2,
            "linecolor": "white",
            "showbackground": true,
            "ticks": "",
            "zerolinecolor": "white"
           },
           "yaxis": {
            "backgroundcolor": "#E5ECF6",
            "gridcolor": "white",
            "gridwidth": 2,
            "linecolor": "white",
            "showbackground": true,
            "ticks": "",
            "zerolinecolor": "white"
           },
           "zaxis": {
            "backgroundcolor": "#E5ECF6",
            "gridcolor": "white",
            "gridwidth": 2,
            "linecolor": "white",
            "showbackground": true,
            "ticks": "",
            "zerolinecolor": "white"
           }
          },
          "shapedefaults": {
           "line": {
            "color": "#2a3f5f"
           }
          },
          "ternary": {
           "aaxis": {
            "gridcolor": "white",
            "linecolor": "white",
            "ticks": ""
           },
           "baxis": {
            "gridcolor": "white",
            "linecolor": "white",
            "ticks": ""
           },
           "bgcolor": "#E5ECF6",
           "caxis": {
            "gridcolor": "white",
            "linecolor": "white",
            "ticks": ""
           }
          },
          "title": {
           "x": 0.05
          },
          "xaxis": {
           "automargin": true,
           "gridcolor": "white",
           "linecolor": "white",
           "ticks": "",
           "title": {
            "standoff": 15
           },
           "zerolinecolor": "white",
           "zerolinewidth": 2
          },
          "yaxis": {
           "automargin": true,
           "gridcolor": "white",
           "linecolor": "white",
           "ticks": "",
           "title": {
            "standoff": 15
           },
           "zerolinecolor": "white",
           "zerolinewidth": 2
          }
         }
        },
        "title": {
         "text": "TSL vs EPLR, m = 1000, incorrectly specified model<br><sup>higher EPLR means parametric performs better</sup>"
        },
        "xaxis": {
         "anchor": "y",
         "domain": [
          0,
          1
         ],
         "title": {
          "text": "Target Service Level"
         }
        },
        "yaxis": {
         "anchor": "x",
         "domain": [
          0,
          1
         ],
         "title": {
          "text": "EPLR"
         }
        }
       }
      }
     },
     "metadata": {},
     "output_type": "display_data"
    }
   ],
   "source": [
    "import plotly.express as px\n",
    "fig = px.scatter(df, x='Target Service Level', y='RMSE Ratio', color=\"Sample Size\", title=\"TSL vs RMSE, m = {0},incorrectly specified model<br><sup>higher RMSE means parametric performs better</sup>\".format(numberOfMontecarloIterations))\n",
    "fig.update_layout(font_size = 15)\n",
    "#fig.write_image(\"Excercise part 4/RMSE-lognorm.pdf\")\n",
    "fig.show()\n",
    "\n",
    "fig = px.scatter(df, x='Target Service Level', y='EPLR', color=\"Sample Size\", title=\"TSL vs EPLR, m = {0}, incorrectly specified model<br><sup>higher EPLR means parametric performs better</sup>\".format(numberOfMontecarloIterations))\n",
    "fig.update_layout(font_size = 15)\n",
    "#fig.write_image(\"Excercise part 4/EPLR-lognorm.pdf\")\n",
    "fig.show()"
   ]
  }
 ],
 "metadata": {
  "kernelspec": {
   "display_name": "Python 3",
   "language": "python",
   "name": "python3"
  },
  "language_info": {
   "codemirror_mode": {
    "name": "ipython",
    "version": 3
   },
   "file_extension": ".py",
   "mimetype": "text/x-python",
   "name": "python",
   "nbconvert_exporter": "python",
   "pygments_lexer": "ipython3",
   "version": "3.11.4"
  },
  "orig_nbformat": 4
 },
 "nbformat": 4,
 "nbformat_minor": 2
}
