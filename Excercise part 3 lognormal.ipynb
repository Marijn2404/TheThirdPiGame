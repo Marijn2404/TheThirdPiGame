{
 "cells": [
  {
   "cell_type": "code",
   "execution_count": 48,
   "metadata": {},
   "outputs": [],
   "source": [
    "import scipy.stats as sts\n",
    "import numpy as np\n",
    "import pandas as pd\n",
    "import plotly.express as px\n",
    "from scipy.integrate import quad\n",
    "from time import time\n",
    "from numba import njit\n",
    "\n",
    "\n",
    "np.random.seed(0)\n",
    "def timer_func(func):\n",
    "    # This function shows the execution time of \n",
    "    # the function object passed\n",
    "    def wrap_func(*args, **kwargs):\n",
    "        t1 = time()\n",
    "        result = func(*args, **kwargs)\n",
    "        t2 = time()\n",
    "        print(f'Function {func.__name__!r} executed in {(t2-t1):.4f}s')\n",
    "        return result\n",
    "    return wrap_func\n",
    "\n",
    "# Estimators\n",
    "def nonParametricOptimalQuantity(distributionData, tau):\n",
    "    optimalQuantity = np.quantile(distributionData,tau)\n",
    "    return optimalQuantity\n",
    "\n",
    "def parametricOptimalQuantity(tau, dist, parameters):\n",
    "    optimalQuantity = dist.ppf(tau, *parameters)\n",
    "    return optimalQuantity\n",
    "\n",
    "def realParamatricOptimalQuantity(tau, realDist):\n",
    "    optimalQuantity = realDist.ppf(tau)\n",
    "    return optimalQuantity\n",
    "\n",
    "# Optimized code for integrating the lognormal distribution (very quickly), @njit is compiling the python code to C\n",
    "\n",
    "@njit\n",
    "def lognormal_pdf(x, shape, location, scale):\n",
    "    mu = np.log(scale)\n",
    "    sigma = shape\n",
    "    if x <= 0:\n",
    "        return 0\n",
    "    exponent = -(np.log(x) - mu)**2 / (2 * sigma**2)\n",
    "    coefficient = 1 / (x * sigma * np.sqrt(2 * np.pi))\n",
    "    return x * coefficient * np.exp(exponent)\n",
    "\n",
    "def integrate_lognormal(Q_star,parameters):\n",
    "    return quad(lognormal_pdf,0,Q_star,args=(parameters[0], parameters[1],parameters[2]))[0]\n",
    "\n",
    "#####################################################################################################################\n",
    "\n",
    "def calculateOptimalProfit(tau,Q_star,dist, paramaters):\n",
    "    price = 1\n",
    "    cost = 1 - tau\n",
    "\n",
    "    integral_value = integrate_lognormal(Q_star, paramaters)\n",
    "    t1 = price * integral_value\n",
    "    t2 = price * Q_star * dist.sf(Q_star)\n",
    "    t3 = cost * Q_star\n",
    "    return t1 + t2 - t3\n",
    "\n",
    "# Evaluation of test statistics functions\n",
    "def empericalRootMeanSquaredError(m, optimalQuantities, realOptimalQuantity):\n",
    "    rmse = np.sqrt(1/m * np.sum((optimalQuantities - realOptimalQuantity)**2))\n",
    "    return rmse\n",
    "\n",
    "def empericalRootMeanSquaredErrorRatio(m, parametricOptimalQuantitys, nonParametricOptimalQuantitys, realOptimalQuantity):\n",
    "    return empericalRootMeanSquaredError(m, nonParametricOptimalQuantitys, realOptimalQuantity) / empericalRootMeanSquaredError(m, parametricOptimalQuantitys, realOptimalQuantity)\n",
    "\n",
    "def empericalProfitLoss(m, profitEstimator, profitReal):\n",
    "    return 1 / m * np.sum(np.abs((profitReal - profitEstimator) /  profitReal))\n",
    "\n",
    "def empericalProfitLossRatio(m, parametricExpectedProfit, nonParametricExpectedProfit, realExpectedProfit):\n",
    "    return empericalProfitLoss(m, nonParametricExpectedProfit, realExpectedProfit) / empericalProfitLoss(m, parametricExpectedProfit, realExpectedProfit)\n",
    "\n",
    "def empericalServiceLevel(m, optimalQuantities, demand):\n",
    "    indicatorFunction = np.where(optimalQuantities.T >= demand.T, 1, 0)\n",
    "    return 1 / m * np.sum(indicatorFunction)\n",
    "\n",
    "#@timer_func\n",
    "def monteCarlo(m, tau, n, params):\n",
    "    '''\n",
    "    When changing distribution make sure to:\n",
    "    1. change parmeter array to hold x parameters (the same as fit function)\n",
    "    2. change dist and distreal\n",
    "    3. change function that will be used for integration\n",
    "    '''\n",
    "    \n",
    "    # Distribution that the paramatric estimator will be using\n",
    "    dist = sts.lognorm\n",
    "    # How the data is really distributed, when changing remember to change the PDF for the precompiled function.\n",
    "    distReal = sts.lognorm(*params)\n",
    "\n",
    "    demand = np.empty((m,1))\n",
    "    realOptimalQuantity = np.empty((m,1))\n",
    "    parametricOptimalQuantitys = np.empty((m,1))\n",
    "    nonParametricOptimalQuantitys = np.empty((m,1))\n",
    "    allParameters = np.empty((m,2))\n",
    "    parametricExpectedProfits = np.empty((m,1))\n",
    "    nonParametricExpectedProfits = np.empty((m,1))\n",
    "    empericalServiceLevelData = np.empty((m,1))\n",
    "\n",
    "    # change param array to contain the right amount of paramaters when changing distribution\n",
    "    allParameters = np.empty((m,3))\n",
    "\n",
    "    # Compute estimators and optimal quantities\n",
    "    for j in range(m):\n",
    "        distributionData = distReal.rvs(size = n)\n",
    "        # make sure to change the fit function for different distributions\n",
    "        allParameters[j] = parameters = dist.fit(distributionData, floc=0)\n",
    "        demand[j] = parameters[0] # in case of a normal distribution\n",
    "        parametricOptimalQuantitys[j] = parametricOptimalQuantity(tau, dist, parameters)\n",
    "        nonParametricOptimalQuantitys[j] = nonParametricOptimalQuantity(distributionData, tau)\n",
    "        empericalServiceLevelData[j] = distributionData[-1]\n",
    "    \n",
    "    # We use Numba to compile the python code to C\n",
    "        parametricExpectedProfits[j] = calculateOptimalProfit(tau, parametricOptimalQuantitys[j], distReal, params)\n",
    "        nonParametricExpectedProfits[j] = calculateOptimalProfit(tau, nonParametricOptimalQuantitys[j], distReal, params)\n",
    "    \n",
    "    realOptimalQuantity = realParamatricOptimalQuantity(tau, distReal)\n",
    "    realExpectedProfit = calculateOptimalProfit(tau, realOptimalQuantity, distReal, params)\n",
    "\n",
    "    eplr = empericalProfitLossRatio(m, parametricExpectedProfits, nonParametricExpectedProfits, realExpectedProfit)\n",
    "\n",
    "    # Compute evaluation statistics\n",
    "    rmse = empericalRootMeanSquaredErrorRatio(m, parametricOptimalQuantitys, nonParametricOptimalQuantitys, realOptimalQuantity)\n",
    "    eslParametric = empericalServiceLevel(m, parametricOptimalQuantitys, empericalServiceLevelData)\n",
    "    eslNonParametric = empericalServiceLevel(m, nonParametricOptimalQuantitys, empericalServiceLevelData)\n",
    "    \n",
    "    result = {\n",
    "                    'MonteCarlo iterations' : m,\n",
    "                    'Sample Size': n,\n",
    "                    'Target Service Level': tau,\n",
    "                    'Param Values': np.mean(allParameters, axis=0),\n",
    "                    #'real optimal quantity' : realOptimalQuantity,\n",
    "                    #'Parm optimal quantity': np.mean(parametricOptimalQuantitys),\n",
    "                    #'nonParm optimal quantity': np.mean(nonParametricOptimalQuantitys),\n",
    "                    #'real optimal profit' : realExpectedProfit,\n",
    "                    #'Parm optimal profit': np.mean(parametricExpectedProfits),\n",
    "                    #'nonParm optimal profit': np.mean(nonParametricExpectedProfits),\n",
    "                    'RMSE Ratio': rmse,\n",
    "                    'SL nonParam': eslParametric,\n",
    "                    'SL Param': eslNonParametric,\n",
    "                    'EPLR': eplr\n",
    "                }\n",
    "    return result"
   ]
  },
  {
   "cell_type": "code",
   "execution_count": 49,
   "metadata": {},
   "outputs": [],
   "source": [
    "numberOfMontecarloIterations = 1000\n",
    "sigma = 0.6\n",
    "mu = 6\n",
    "\n",
    "tauArray = [0.01, 0.05, 0.1, 0.3, 0.5, 0.7, 0.9, 0.95, 0.99]\n",
    "nArray = [10, 50, 100, 200]\n",
    "\n",
    "results = []\n",
    "for tau in tauArray:\n",
    "    for n in nArray:\n",
    "        result = monteCarlo(numberOfMontecarloIterations, tau, n, [sigma, 0, np.exp(mu)])\n",
    "        results.append(result)\n"
   ]
  },
  {
   "cell_type": "code",
   "execution_count": 54,
   "metadata": {},
   "outputs": [
    {
     "data": {
      "text/html": [
       "<div>\n",
       "<style scoped>\n",
       "    .dataframe tbody tr th:only-of-type {\n",
       "        vertical-align: middle;\n",
       "    }\n",
       "\n",
       "    .dataframe tbody tr th {\n",
       "        vertical-align: top;\n",
       "    }\n",
       "\n",
       "    .dataframe thead th {\n",
       "        text-align: right;\n",
       "    }\n",
       "</style>\n",
       "<table border=\"1\" class=\"dataframe\">\n",
       "  <thead>\n",
       "    <tr style=\"text-align: right;\">\n",
       "      <th></th>\n",
       "      <th>MonteCarlo iterations</th>\n",
       "      <th>Sample Size</th>\n",
       "      <th>Target Service Level</th>\n",
       "      <th>Param Values</th>\n",
       "      <th>RMSE Ratio</th>\n",
       "      <th>SL nonParam</th>\n",
       "      <th>SL Param</th>\n",
       "      <th>EPLR</th>\n",
       "    </tr>\n",
       "  </thead>\n",
       "  <tbody>\n",
       "    <tr>\n",
       "      <th>0</th>\n",
       "      <td>1000</td>\n",
       "      <td>10</td>\n",
       "      <td>0.01</td>\n",
       "      <td>[0.5488145097421433, 0.0, 405.6534371550081]</td>\n",
       "      <td>2.036058</td>\n",
       "      <td>0.003</td>\n",
       "      <td>0.093</td>\n",
       "      <td>5.306869</td>\n",
       "    </tr>\n",
       "    <tr>\n",
       "      <th>1</th>\n",
       "      <td>1000</td>\n",
       "      <td>50</td>\n",
       "      <td>0.01</td>\n",
       "      <td>[0.5896302923936928, 0.0, 405.254013787701]</td>\n",
       "      <td>1.917783</td>\n",
       "      <td>0.011</td>\n",
       "      <td>0.027</td>\n",
       "      <td>4.856302</td>\n",
       "    </tr>\n",
       "    <tr>\n",
       "      <th>2</th>\n",
       "      <td>1000</td>\n",
       "      <td>100</td>\n",
       "      <td>0.01</td>\n",
       "      <td>[0.594341639303287, 0.0, 406.40406557639267]</td>\n",
       "      <td>2.070199</td>\n",
       "      <td>0.013</td>\n",
       "      <td>0.010</td>\n",
       "      <td>5.252255</td>\n",
       "    </tr>\n",
       "    <tr>\n",
       "      <th>3</th>\n",
       "      <td>1000</td>\n",
       "      <td>200</td>\n",
       "      <td>0.01</td>\n",
       "      <td>[0.5979010697159988, 0.0, 403.56979040305015]</td>\n",
       "      <td>1.984877</td>\n",
       "      <td>0.015</td>\n",
       "      <td>0.017</td>\n",
       "      <td>4.388735</td>\n",
       "    </tr>\n",
       "    <tr>\n",
       "      <th>4</th>\n",
       "      <td>1000</td>\n",
       "      <td>10</td>\n",
       "      <td>0.05</td>\n",
       "      <td>[0.5497123302746572, 0.0, 412.68547490578794]</td>\n",
       "      <td>1.376578</td>\n",
       "      <td>0.052</td>\n",
       "      <td>0.105</td>\n",
       "      <td>2.039442</td>\n",
       "    </tr>\n",
       "    <tr>\n",
       "      <th>5</th>\n",
       "      <td>1000</td>\n",
       "      <td>50</td>\n",
       "      <td>0.05</td>\n",
       "      <td>[0.590476677086653, 0.0, 407.0828507118977]</td>\n",
       "      <td>1.379938</td>\n",
       "      <td>0.048</td>\n",
       "      <td>0.051</td>\n",
       "      <td>2.029532</td>\n",
       "    </tr>\n",
       "    <tr>\n",
       "      <th>6</th>\n",
       "      <td>1000</td>\n",
       "      <td>100</td>\n",
       "      <td>0.05</td>\n",
       "      <td>[0.5963025366140522, 0.0, 404.61337325726214]</td>\n",
       "      <td>1.345436</td>\n",
       "      <td>0.044</td>\n",
       "      <td>0.043</td>\n",
       "      <td>1.885966</td>\n",
       "    </tr>\n",
       "    <tr>\n",
       "      <th>7</th>\n",
       "      <td>1000</td>\n",
       "      <td>200</td>\n",
       "      <td>0.05</td>\n",
       "      <td>[0.5976388315571219, 0.0, 404.3851312382248]</td>\n",
       "      <td>1.367413</td>\n",
       "      <td>0.054</td>\n",
       "      <td>0.057</td>\n",
       "      <td>1.887126</td>\n",
       "    </tr>\n",
       "    <tr>\n",
       "      <th>8</th>\n",
       "      <td>1000</td>\n",
       "      <td>10</td>\n",
       "      <td>0.10</td>\n",
       "      <td>[0.5544548932942619, 0.0, 408.2772906202946]</td>\n",
       "      <td>1.303247</td>\n",
       "      <td>0.122</td>\n",
       "      <td>0.118</td>\n",
       "      <td>1.754797</td>\n",
       "    </tr>\n",
       "    <tr>\n",
       "      <th>9</th>\n",
       "      <td>1000</td>\n",
       "      <td>50</td>\n",
       "      <td>0.10</td>\n",
       "      <td>[0.590296449297828, 0.0, 404.5664120373448]</td>\n",
       "      <td>1.286320</td>\n",
       "      <td>0.105</td>\n",
       "      <td>0.106</td>\n",
       "      <td>1.685652</td>\n",
       "    </tr>\n",
       "    <tr>\n",
       "      <th>10</th>\n",
       "      <td>1000</td>\n",
       "      <td>100</td>\n",
       "      <td>0.10</td>\n",
       "      <td>[0.5951805115657398, 0.0, 404.0004145366485]</td>\n",
       "      <td>1.268065</td>\n",
       "      <td>0.105</td>\n",
       "      <td>0.106</td>\n",
       "      <td>1.623727</td>\n",
       "    </tr>\n",
       "    <tr>\n",
       "      <th>11</th>\n",
       "      <td>1000</td>\n",
       "      <td>200</td>\n",
       "      <td>0.10</td>\n",
       "      <td>[0.5985979356565836, 0.0, 403.2782504117938]</td>\n",
       "      <td>1.256166</td>\n",
       "      <td>0.100</td>\n",
       "      <td>0.098</td>\n",
       "      <td>1.590697</td>\n",
       "    </tr>\n",
       "    <tr>\n",
       "      <th>12</th>\n",
       "      <td>1000</td>\n",
       "      <td>10</td>\n",
       "      <td>0.30</td>\n",
       "      <td>[0.5480603373212302, 0.0, 408.3754345061872]</td>\n",
       "      <td>1.195008</td>\n",
       "      <td>0.341</td>\n",
       "      <td>0.322</td>\n",
       "      <td>1.413615</td>\n",
       "    </tr>\n",
       "    <tr>\n",
       "      <th>13</th>\n",
       "      <td>1000</td>\n",
       "      <td>50</td>\n",
       "      <td>0.30</td>\n",
       "      <td>[0.5900230863704076, 0.0, 405.77145719393235]</td>\n",
       "      <td>1.191449</td>\n",
       "      <td>0.316</td>\n",
       "      <td>0.315</td>\n",
       "      <td>1.415459</td>\n",
       "    </tr>\n",
       "    <tr>\n",
       "      <th>14</th>\n",
       "      <td>1000</td>\n",
       "      <td>100</td>\n",
       "      <td>0.30</td>\n",
       "      <td>[0.5948180097615351, 0.0, 404.7820864084118]</td>\n",
       "      <td>1.218737</td>\n",
       "      <td>0.308</td>\n",
       "      <td>0.307</td>\n",
       "      <td>1.482534</td>\n",
       "    </tr>\n",
       "    <tr>\n",
       "      <th>15</th>\n",
       "      <td>1000</td>\n",
       "      <td>200</td>\n",
       "      <td>0.30</td>\n",
       "      <td>[0.597228030926146, 0.0, 403.799229250733]</td>\n",
       "      <td>1.235085</td>\n",
       "      <td>0.324</td>\n",
       "      <td>0.320</td>\n",
       "      <td>1.524565</td>\n",
       "    </tr>\n",
       "    <tr>\n",
       "      <th>16</th>\n",
       "      <td>1000</td>\n",
       "      <td>10</td>\n",
       "      <td>0.50</td>\n",
       "      <td>[0.5395427727184041, 0.0, 409.37006092570607]</td>\n",
       "      <td>1.184300</td>\n",
       "      <td>0.495</td>\n",
       "      <td>0.496</td>\n",
       "      <td>1.377111</td>\n",
       "    </tr>\n",
       "    <tr>\n",
       "      <th>17</th>\n",
       "      <td>1000</td>\n",
       "      <td>50</td>\n",
       "      <td>0.50</td>\n",
       "      <td>[0.5906861316403096, 0.0, 405.4219986691279]</td>\n",
       "      <td>1.295287</td>\n",
       "      <td>0.499</td>\n",
       "      <td>0.506</td>\n",
       "      <td>1.672084</td>\n",
       "    </tr>\n",
       "    <tr>\n",
       "      <th>18</th>\n",
       "      <td>1000</td>\n",
       "      <td>100</td>\n",
       "      <td>0.50</td>\n",
       "      <td>[0.594426109211169, 0.0, 403.9690559988303]</td>\n",
       "      <td>1.233600</td>\n",
       "      <td>0.491</td>\n",
       "      <td>0.485</td>\n",
       "      <td>1.518044</td>\n",
       "    </tr>\n",
       "    <tr>\n",
       "      <th>19</th>\n",
       "      <td>1000</td>\n",
       "      <td>200</td>\n",
       "      <td>0.50</td>\n",
       "      <td>[0.5977343024220846, 0.0, 403.0262949632303]</td>\n",
       "      <td>1.238412</td>\n",
       "      <td>0.488</td>\n",
       "      <td>0.480</td>\n",
       "      <td>1.536378</td>\n",
       "    </tr>\n",
       "    <tr>\n",
       "      <th>20</th>\n",
       "      <td>1000</td>\n",
       "      <td>10</td>\n",
       "      <td>0.70</td>\n",
       "      <td>[0.5550717723797294, 0.0, 411.05573941411325]</td>\n",
       "      <td>1.150457</td>\n",
       "      <td>0.695</td>\n",
       "      <td>0.715</td>\n",
       "      <td>1.304442</td>\n",
       "    </tr>\n",
       "    <tr>\n",
       "      <th>21</th>\n",
       "      <td>1000</td>\n",
       "      <td>50</td>\n",
       "      <td>0.70</td>\n",
       "      <td>[0.5905834343076241, 0.0, 405.999911683048]</td>\n",
       "      <td>1.215799</td>\n",
       "      <td>0.716</td>\n",
       "      <td>0.714</td>\n",
       "      <td>1.470195</td>\n",
       "    </tr>\n",
       "    <tr>\n",
       "      <th>22</th>\n",
       "      <td>1000</td>\n",
       "      <td>100</td>\n",
       "      <td>0.70</td>\n",
       "      <td>[0.5958564139530816, 0.0, 405.5014165504686]</td>\n",
       "      <td>1.230308</td>\n",
       "      <td>0.664</td>\n",
       "      <td>0.665</td>\n",
       "      <td>1.506718</td>\n",
       "    </tr>\n",
       "    <tr>\n",
       "      <th>23</th>\n",
       "      <td>1000</td>\n",
       "      <td>200</td>\n",
       "      <td>0.70</td>\n",
       "      <td>[0.5992210085536845, 0.0, 403.7259602679342]</td>\n",
       "      <td>1.225045</td>\n",
       "      <td>0.697</td>\n",
       "      <td>0.695</td>\n",
       "      <td>1.501117</td>\n",
       "    </tr>\n",
       "    <tr>\n",
       "      <th>24</th>\n",
       "      <td>1000</td>\n",
       "      <td>10</td>\n",
       "      <td>0.90</td>\n",
       "      <td>[0.5493775154552191, 0.0, 407.91946123640963]</td>\n",
       "      <td>1.105232</td>\n",
       "      <td>0.890</td>\n",
       "      <td>0.899</td>\n",
       "      <td>1.364098</td>\n",
       "    </tr>\n",
       "    <tr>\n",
       "      <th>25</th>\n",
       "      <td>1000</td>\n",
       "      <td>50</td>\n",
       "      <td>0.90</td>\n",
       "      <td>[0.5937065496493503, 0.0, 405.225021920327]</td>\n",
       "      <td>1.208228</td>\n",
       "      <td>0.896</td>\n",
       "      <td>0.901</td>\n",
       "      <td>1.523562</td>\n",
       "    </tr>\n",
       "    <tr>\n",
       "      <th>26</th>\n",
       "      <td>1000</td>\n",
       "      <td>100</td>\n",
       "      <td>0.90</td>\n",
       "      <td>[0.594355283932889, 0.0, 404.4040849632687]</td>\n",
       "      <td>1.250695</td>\n",
       "      <td>0.884</td>\n",
       "      <td>0.885</td>\n",
       "      <td>1.581732</td>\n",
       "    </tr>\n",
       "    <tr>\n",
       "      <th>27</th>\n",
       "      <td>1000</td>\n",
       "      <td>200</td>\n",
       "      <td>0.90</td>\n",
       "      <td>[0.5989886855669879, 0.0, 402.5210274844195]</td>\n",
       "      <td>1.223989</td>\n",
       "      <td>0.901</td>\n",
       "      <td>0.900</td>\n",
       "      <td>1.504293</td>\n",
       "    </tr>\n",
       "    <tr>\n",
       "      <th>28</th>\n",
       "      <td>1000</td>\n",
       "      <td>10</td>\n",
       "      <td>0.95</td>\n",
       "      <td>[0.5446130367184724, 0.0, 409.99616331401205]</td>\n",
       "      <td>1.081207</td>\n",
       "      <td>0.957</td>\n",
       "      <td>0.904</td>\n",
       "      <td>1.466289</td>\n",
       "    </tr>\n",
       "    <tr>\n",
       "      <th>29</th>\n",
       "      <td>1000</td>\n",
       "      <td>50</td>\n",
       "      <td>0.95</td>\n",
       "      <td>[0.5877192327938867, 0.0, 404.91070965165426]</td>\n",
       "      <td>1.272571</td>\n",
       "      <td>0.947</td>\n",
       "      <td>0.950</td>\n",
       "      <td>1.712478</td>\n",
       "    </tr>\n",
       "    <tr>\n",
       "      <th>30</th>\n",
       "      <td>1000</td>\n",
       "      <td>100</td>\n",
       "      <td>0.95</td>\n",
       "      <td>[0.5943896342142635, 0.0, 403.96174538459746]</td>\n",
       "      <td>1.350204</td>\n",
       "      <td>0.956</td>\n",
       "      <td>0.952</td>\n",
       "      <td>1.918288</td>\n",
       "    </tr>\n",
       "    <tr>\n",
       "      <th>31</th>\n",
       "      <td>1000</td>\n",
       "      <td>200</td>\n",
       "      <td>0.95</td>\n",
       "      <td>[0.5975406667544183, 0.0, 403.9780747200928]</td>\n",
       "      <td>1.390972</td>\n",
       "      <td>0.957</td>\n",
       "      <td>0.956</td>\n",
       "      <td>1.938719</td>\n",
       "    </tr>\n",
       "    <tr>\n",
       "      <th>32</th>\n",
       "      <td>1000</td>\n",
       "      <td>10</td>\n",
       "      <td>0.99</td>\n",
       "      <td>[0.5545674239233408, 0.0, 412.22972224360376]</td>\n",
       "      <td>1.149864</td>\n",
       "      <td>0.997</td>\n",
       "      <td>0.889</td>\n",
       "      <td>3.203828</td>\n",
       "    </tr>\n",
       "    <tr>\n",
       "      <th>33</th>\n",
       "      <td>1000</td>\n",
       "      <td>50</td>\n",
       "      <td>0.99</td>\n",
       "      <td>[0.5918118336244833, 0.0, 404.7929758408628]</td>\n",
       "      <td>1.498438</td>\n",
       "      <td>0.985</td>\n",
       "      <td>0.978</td>\n",
       "      <td>3.272088</td>\n",
       "    </tr>\n",
       "    <tr>\n",
       "      <th>34</th>\n",
       "      <td>1000</td>\n",
       "      <td>100</td>\n",
       "      <td>0.99</td>\n",
       "      <td>[0.5933332332145731, 0.0, 404.13246574840804]</td>\n",
       "      <td>1.723521</td>\n",
       "      <td>0.989</td>\n",
       "      <td>0.987</td>\n",
       "      <td>3.891725</td>\n",
       "    </tr>\n",
       "    <tr>\n",
       "      <th>35</th>\n",
       "      <td>1000</td>\n",
       "      <td>200</td>\n",
       "      <td>0.99</td>\n",
       "      <td>[0.5966096987808934, 0.0, 403.73112718028113]</td>\n",
       "      <td>1.916267</td>\n",
       "      <td>0.990</td>\n",
       "      <td>0.991</td>\n",
       "      <td>4.157581</td>\n",
       "    </tr>\n",
       "  </tbody>\n",
       "</table>\n",
       "</div>"
      ],
      "text/plain": [
       "    MonteCarlo iterations  Sample Size  Target Service Level  \\\n",
       "0                    1000           10                  0.01   \n",
       "1                    1000           50                  0.01   \n",
       "2                    1000          100                  0.01   \n",
       "3                    1000          200                  0.01   \n",
       "4                    1000           10                  0.05   \n",
       "5                    1000           50                  0.05   \n",
       "6                    1000          100                  0.05   \n",
       "7                    1000          200                  0.05   \n",
       "8                    1000           10                  0.10   \n",
       "9                    1000           50                  0.10   \n",
       "10                   1000          100                  0.10   \n",
       "11                   1000          200                  0.10   \n",
       "12                   1000           10                  0.30   \n",
       "13                   1000           50                  0.30   \n",
       "14                   1000          100                  0.30   \n",
       "15                   1000          200                  0.30   \n",
       "16                   1000           10                  0.50   \n",
       "17                   1000           50                  0.50   \n",
       "18                   1000          100                  0.50   \n",
       "19                   1000          200                  0.50   \n",
       "20                   1000           10                  0.70   \n",
       "21                   1000           50                  0.70   \n",
       "22                   1000          100                  0.70   \n",
       "23                   1000          200                  0.70   \n",
       "24                   1000           10                  0.90   \n",
       "25                   1000           50                  0.90   \n",
       "26                   1000          100                  0.90   \n",
       "27                   1000          200                  0.90   \n",
       "28                   1000           10                  0.95   \n",
       "29                   1000           50                  0.95   \n",
       "30                   1000          100                  0.95   \n",
       "31                   1000          200                  0.95   \n",
       "32                   1000           10                  0.99   \n",
       "33                   1000           50                  0.99   \n",
       "34                   1000          100                  0.99   \n",
       "35                   1000          200                  0.99   \n",
       "\n",
       "                                     Param Values  RMSE Ratio  SL nonParam  \\\n",
       "0    [0.5488145097421433, 0.0, 405.6534371550081]    2.036058        0.003   \n",
       "1     [0.5896302923936928, 0.0, 405.254013787701]    1.917783        0.011   \n",
       "2    [0.594341639303287, 0.0, 406.40406557639267]    2.070199        0.013   \n",
       "3   [0.5979010697159988, 0.0, 403.56979040305015]    1.984877        0.015   \n",
       "4   [0.5497123302746572, 0.0, 412.68547490578794]    1.376578        0.052   \n",
       "5     [0.590476677086653, 0.0, 407.0828507118977]    1.379938        0.048   \n",
       "6   [0.5963025366140522, 0.0, 404.61337325726214]    1.345436        0.044   \n",
       "7    [0.5976388315571219, 0.0, 404.3851312382248]    1.367413        0.054   \n",
       "8    [0.5544548932942619, 0.0, 408.2772906202946]    1.303247        0.122   \n",
       "9     [0.590296449297828, 0.0, 404.5664120373448]    1.286320        0.105   \n",
       "10   [0.5951805115657398, 0.0, 404.0004145366485]    1.268065        0.105   \n",
       "11   [0.5985979356565836, 0.0, 403.2782504117938]    1.256166        0.100   \n",
       "12   [0.5480603373212302, 0.0, 408.3754345061872]    1.195008        0.341   \n",
       "13  [0.5900230863704076, 0.0, 405.77145719393235]    1.191449        0.316   \n",
       "14   [0.5948180097615351, 0.0, 404.7820864084118]    1.218737        0.308   \n",
       "15     [0.597228030926146, 0.0, 403.799229250733]    1.235085        0.324   \n",
       "16  [0.5395427727184041, 0.0, 409.37006092570607]    1.184300        0.495   \n",
       "17   [0.5906861316403096, 0.0, 405.4219986691279]    1.295287        0.499   \n",
       "18    [0.594426109211169, 0.0, 403.9690559988303]    1.233600        0.491   \n",
       "19   [0.5977343024220846, 0.0, 403.0262949632303]    1.238412        0.488   \n",
       "20  [0.5550717723797294, 0.0, 411.05573941411325]    1.150457        0.695   \n",
       "21    [0.5905834343076241, 0.0, 405.999911683048]    1.215799        0.716   \n",
       "22   [0.5958564139530816, 0.0, 405.5014165504686]    1.230308        0.664   \n",
       "23   [0.5992210085536845, 0.0, 403.7259602679342]    1.225045        0.697   \n",
       "24  [0.5493775154552191, 0.0, 407.91946123640963]    1.105232        0.890   \n",
       "25    [0.5937065496493503, 0.0, 405.225021920327]    1.208228        0.896   \n",
       "26    [0.594355283932889, 0.0, 404.4040849632687]    1.250695        0.884   \n",
       "27   [0.5989886855669879, 0.0, 402.5210274844195]    1.223989        0.901   \n",
       "28  [0.5446130367184724, 0.0, 409.99616331401205]    1.081207        0.957   \n",
       "29  [0.5877192327938867, 0.0, 404.91070965165426]    1.272571        0.947   \n",
       "30  [0.5943896342142635, 0.0, 403.96174538459746]    1.350204        0.956   \n",
       "31   [0.5975406667544183, 0.0, 403.9780747200928]    1.390972        0.957   \n",
       "32  [0.5545674239233408, 0.0, 412.22972224360376]    1.149864        0.997   \n",
       "33   [0.5918118336244833, 0.0, 404.7929758408628]    1.498438        0.985   \n",
       "34  [0.5933332332145731, 0.0, 404.13246574840804]    1.723521        0.989   \n",
       "35  [0.5966096987808934, 0.0, 403.73112718028113]    1.916267        0.990   \n",
       "\n",
       "    SL Param      EPLR  \n",
       "0      0.093  5.306869  \n",
       "1      0.027  4.856302  \n",
       "2      0.010  5.252255  \n",
       "3      0.017  4.388735  \n",
       "4      0.105  2.039442  \n",
       "5      0.051  2.029532  \n",
       "6      0.043  1.885966  \n",
       "7      0.057  1.887126  \n",
       "8      0.118  1.754797  \n",
       "9      0.106  1.685652  \n",
       "10     0.106  1.623727  \n",
       "11     0.098  1.590697  \n",
       "12     0.322  1.413615  \n",
       "13     0.315  1.415459  \n",
       "14     0.307  1.482534  \n",
       "15     0.320  1.524565  \n",
       "16     0.496  1.377111  \n",
       "17     0.506  1.672084  \n",
       "18     0.485  1.518044  \n",
       "19     0.480  1.536378  \n",
       "20     0.715  1.304442  \n",
       "21     0.714  1.470195  \n",
       "22     0.665  1.506718  \n",
       "23     0.695  1.501117  \n",
       "24     0.899  1.364098  \n",
       "25     0.901  1.523562  \n",
       "26     0.885  1.581732  \n",
       "27     0.900  1.504293  \n",
       "28     0.904  1.466289  \n",
       "29     0.950  1.712478  \n",
       "30     0.952  1.918288  \n",
       "31     0.956  1.938719  \n",
       "32     0.889  3.203828  \n",
       "33     0.978  3.272088  \n",
       "34     0.987  3.891725  \n",
       "35     0.991  4.157581  "
      ]
     },
     "execution_count": 54,
     "metadata": {},
     "output_type": "execute_result"
    }
   ],
   "source": [
    "df = pd.DataFrame(results)\n",
    "df"
   ]
  },
  {
   "attachments": {},
   "cell_type": "markdown",
   "metadata": {},
   "source": []
  },
  {
   "cell_type": "code",
   "execution_count": 53,
   "metadata": {},
   "outputs": [
    {
     "data": {
      "application/vnd.plotly.v1+json": {
       "config": {
        "plotlyServerURL": "https://plot.ly"
       },
       "data": [
        {
         "hovertemplate": "Target Service Level=%{x}<br>RMSE Ratio=%{y}<br>Sample Size=%{marker.color}<extra></extra>",
         "legendgroup": "",
         "marker": {
          "color": [
           10,
           50,
           100,
           200,
           10,
           50,
           100,
           200,
           10,
           50,
           100,
           200,
           10,
           50,
           100,
           200,
           10,
           50,
           100,
           200,
           10,
           50,
           100,
           200,
           10,
           50,
           100,
           200,
           10,
           50,
           100,
           200,
           10,
           50,
           100,
           200
          ],
          "coloraxis": "coloraxis",
          "symbol": "circle"
         },
         "mode": "markers",
         "name": "",
         "orientation": "v",
         "showlegend": false,
         "type": "scatter",
         "x": [
          0.01,
          0.01,
          0.01,
          0.01,
          0.05,
          0.05,
          0.05,
          0.05,
          0.1,
          0.1,
          0.1,
          0.1,
          0.3,
          0.3,
          0.3,
          0.3,
          0.5,
          0.5,
          0.5,
          0.5,
          0.7,
          0.7,
          0.7,
          0.7,
          0.9,
          0.9,
          0.9,
          0.9,
          0.95,
          0.95,
          0.95,
          0.95,
          0.99,
          0.99,
          0.99,
          0.99
         ],
         "xaxis": "x",
         "y": [
          2.03605776202931,
          1.9177827561472807,
          2.0701991191399776,
          1.9848768701124293,
          1.3765781089430793,
          1.3799380744641336,
          1.3454356514375976,
          1.367413242337001,
          1.3032466579212172,
          1.2863197481424666,
          1.2680646119071053,
          1.2561663893200665,
          1.1950075563243745,
          1.1914486748868107,
          1.2187366425703714,
          1.2350852564736619,
          1.1842998700106613,
          1.295286900785852,
          1.2335996932151256,
          1.2384119057543286,
          1.1504565977676757,
          1.2157990607891005,
          1.230308007809242,
          1.225045191360412,
          1.1052316268298024,
          1.2082283637708744,
          1.2506945238473062,
          1.2239890710233192,
          1.0812072537883737,
          1.2725708012406405,
          1.3502037542354697,
          1.3909722047309871,
          1.149864378124967,
          1.4984377258584296,
          1.7235206848122504,
          1.9162674042859105
         ],
         "yaxis": "y"
        }
       ],
       "layout": {
        "coloraxis": {
         "colorbar": {
          "title": {
           "text": "Sample Size"
          }
         },
         "colorscale": [
          [
           0,
           "#0d0887"
          ],
          [
           0.1111111111111111,
           "#46039f"
          ],
          [
           0.2222222222222222,
           "#7201a8"
          ],
          [
           0.3333333333333333,
           "#9c179e"
          ],
          [
           0.4444444444444444,
           "#bd3786"
          ],
          [
           0.5555555555555556,
           "#d8576b"
          ],
          [
           0.6666666666666666,
           "#ed7953"
          ],
          [
           0.7777777777777778,
           "#fb9f3a"
          ],
          [
           0.8888888888888888,
           "#fdca26"
          ],
          [
           1,
           "#f0f921"
          ]
         ]
        },
        "font": {
         "size": 15
        },
        "legend": {
         "tracegroupgap": 0
        },
        "template": {
         "data": {
          "bar": [
           {
            "error_x": {
             "color": "#2a3f5f"
            },
            "error_y": {
             "color": "#2a3f5f"
            },
            "marker": {
             "line": {
              "color": "#E5ECF6",
              "width": 0.5
             },
             "pattern": {
              "fillmode": "overlay",
              "size": 10,
              "solidity": 0.2
             }
            },
            "type": "bar"
           }
          ],
          "barpolar": [
           {
            "marker": {
             "line": {
              "color": "#E5ECF6",
              "width": 0.5
             },
             "pattern": {
              "fillmode": "overlay",
              "size": 10,
              "solidity": 0.2
             }
            },
            "type": "barpolar"
           }
          ],
          "carpet": [
           {
            "aaxis": {
             "endlinecolor": "#2a3f5f",
             "gridcolor": "white",
             "linecolor": "white",
             "minorgridcolor": "white",
             "startlinecolor": "#2a3f5f"
            },
            "baxis": {
             "endlinecolor": "#2a3f5f",
             "gridcolor": "white",
             "linecolor": "white",
             "minorgridcolor": "white",
             "startlinecolor": "#2a3f5f"
            },
            "type": "carpet"
           }
          ],
          "choropleth": [
           {
            "colorbar": {
             "outlinewidth": 0,
             "ticks": ""
            },
            "type": "choropleth"
           }
          ],
          "contour": [
           {
            "colorbar": {
             "outlinewidth": 0,
             "ticks": ""
            },
            "colorscale": [
             [
              0,
              "#0d0887"
             ],
             [
              0.1111111111111111,
              "#46039f"
             ],
             [
              0.2222222222222222,
              "#7201a8"
             ],
             [
              0.3333333333333333,
              "#9c179e"
             ],
             [
              0.4444444444444444,
              "#bd3786"
             ],
             [
              0.5555555555555556,
              "#d8576b"
             ],
             [
              0.6666666666666666,
              "#ed7953"
             ],
             [
              0.7777777777777778,
              "#fb9f3a"
             ],
             [
              0.8888888888888888,
              "#fdca26"
             ],
             [
              1,
              "#f0f921"
             ]
            ],
            "type": "contour"
           }
          ],
          "contourcarpet": [
           {
            "colorbar": {
             "outlinewidth": 0,
             "ticks": ""
            },
            "type": "contourcarpet"
           }
          ],
          "heatmap": [
           {
            "colorbar": {
             "outlinewidth": 0,
             "ticks": ""
            },
            "colorscale": [
             [
              0,
              "#0d0887"
             ],
             [
              0.1111111111111111,
              "#46039f"
             ],
             [
              0.2222222222222222,
              "#7201a8"
             ],
             [
              0.3333333333333333,
              "#9c179e"
             ],
             [
              0.4444444444444444,
              "#bd3786"
             ],
             [
              0.5555555555555556,
              "#d8576b"
             ],
             [
              0.6666666666666666,
              "#ed7953"
             ],
             [
              0.7777777777777778,
              "#fb9f3a"
             ],
             [
              0.8888888888888888,
              "#fdca26"
             ],
             [
              1,
              "#f0f921"
             ]
            ],
            "type": "heatmap"
           }
          ],
          "heatmapgl": [
           {
            "colorbar": {
             "outlinewidth": 0,
             "ticks": ""
            },
            "colorscale": [
             [
              0,
              "#0d0887"
             ],
             [
              0.1111111111111111,
              "#46039f"
             ],
             [
              0.2222222222222222,
              "#7201a8"
             ],
             [
              0.3333333333333333,
              "#9c179e"
             ],
             [
              0.4444444444444444,
              "#bd3786"
             ],
             [
              0.5555555555555556,
              "#d8576b"
             ],
             [
              0.6666666666666666,
              "#ed7953"
             ],
             [
              0.7777777777777778,
              "#fb9f3a"
             ],
             [
              0.8888888888888888,
              "#fdca26"
             ],
             [
              1,
              "#f0f921"
             ]
            ],
            "type": "heatmapgl"
           }
          ],
          "histogram": [
           {
            "marker": {
             "pattern": {
              "fillmode": "overlay",
              "size": 10,
              "solidity": 0.2
             }
            },
            "type": "histogram"
           }
          ],
          "histogram2d": [
           {
            "colorbar": {
             "outlinewidth": 0,
             "ticks": ""
            },
            "colorscale": [
             [
              0,
              "#0d0887"
             ],
             [
              0.1111111111111111,
              "#46039f"
             ],
             [
              0.2222222222222222,
              "#7201a8"
             ],
             [
              0.3333333333333333,
              "#9c179e"
             ],
             [
              0.4444444444444444,
              "#bd3786"
             ],
             [
              0.5555555555555556,
              "#d8576b"
             ],
             [
              0.6666666666666666,
              "#ed7953"
             ],
             [
              0.7777777777777778,
              "#fb9f3a"
             ],
             [
              0.8888888888888888,
              "#fdca26"
             ],
             [
              1,
              "#f0f921"
             ]
            ],
            "type": "histogram2d"
           }
          ],
          "histogram2dcontour": [
           {
            "colorbar": {
             "outlinewidth": 0,
             "ticks": ""
            },
            "colorscale": [
             [
              0,
              "#0d0887"
             ],
             [
              0.1111111111111111,
              "#46039f"
             ],
             [
              0.2222222222222222,
              "#7201a8"
             ],
             [
              0.3333333333333333,
              "#9c179e"
             ],
             [
              0.4444444444444444,
              "#bd3786"
             ],
             [
              0.5555555555555556,
              "#d8576b"
             ],
             [
              0.6666666666666666,
              "#ed7953"
             ],
             [
              0.7777777777777778,
              "#fb9f3a"
             ],
             [
              0.8888888888888888,
              "#fdca26"
             ],
             [
              1,
              "#f0f921"
             ]
            ],
            "type": "histogram2dcontour"
           }
          ],
          "mesh3d": [
           {
            "colorbar": {
             "outlinewidth": 0,
             "ticks": ""
            },
            "type": "mesh3d"
           }
          ],
          "parcoords": [
           {
            "line": {
             "colorbar": {
              "outlinewidth": 0,
              "ticks": ""
             }
            },
            "type": "parcoords"
           }
          ],
          "pie": [
           {
            "automargin": true,
            "type": "pie"
           }
          ],
          "scatter": [
           {
            "fillpattern": {
             "fillmode": "overlay",
             "size": 10,
             "solidity": 0.2
            },
            "type": "scatter"
           }
          ],
          "scatter3d": [
           {
            "line": {
             "colorbar": {
              "outlinewidth": 0,
              "ticks": ""
             }
            },
            "marker": {
             "colorbar": {
              "outlinewidth": 0,
              "ticks": ""
             }
            },
            "type": "scatter3d"
           }
          ],
          "scattercarpet": [
           {
            "marker": {
             "colorbar": {
              "outlinewidth": 0,
              "ticks": ""
             }
            },
            "type": "scattercarpet"
           }
          ],
          "scattergeo": [
           {
            "marker": {
             "colorbar": {
              "outlinewidth": 0,
              "ticks": ""
             }
            },
            "type": "scattergeo"
           }
          ],
          "scattergl": [
           {
            "marker": {
             "colorbar": {
              "outlinewidth": 0,
              "ticks": ""
             }
            },
            "type": "scattergl"
           }
          ],
          "scattermapbox": [
           {
            "marker": {
             "colorbar": {
              "outlinewidth": 0,
              "ticks": ""
             }
            },
            "type": "scattermapbox"
           }
          ],
          "scatterpolar": [
           {
            "marker": {
             "colorbar": {
              "outlinewidth": 0,
              "ticks": ""
             }
            },
            "type": "scatterpolar"
           }
          ],
          "scatterpolargl": [
           {
            "marker": {
             "colorbar": {
              "outlinewidth": 0,
              "ticks": ""
             }
            },
            "type": "scatterpolargl"
           }
          ],
          "scatterternary": [
           {
            "marker": {
             "colorbar": {
              "outlinewidth": 0,
              "ticks": ""
             }
            },
            "type": "scatterternary"
           }
          ],
          "surface": [
           {
            "colorbar": {
             "outlinewidth": 0,
             "ticks": ""
            },
            "colorscale": [
             [
              0,
              "#0d0887"
             ],
             [
              0.1111111111111111,
              "#46039f"
             ],
             [
              0.2222222222222222,
              "#7201a8"
             ],
             [
              0.3333333333333333,
              "#9c179e"
             ],
             [
              0.4444444444444444,
              "#bd3786"
             ],
             [
              0.5555555555555556,
              "#d8576b"
             ],
             [
              0.6666666666666666,
              "#ed7953"
             ],
             [
              0.7777777777777778,
              "#fb9f3a"
             ],
             [
              0.8888888888888888,
              "#fdca26"
             ],
             [
              1,
              "#f0f921"
             ]
            ],
            "type": "surface"
           }
          ],
          "table": [
           {
            "cells": {
             "fill": {
              "color": "#EBF0F8"
             },
             "line": {
              "color": "white"
             }
            },
            "header": {
             "fill": {
              "color": "#C8D4E3"
             },
             "line": {
              "color": "white"
             }
            },
            "type": "table"
           }
          ]
         },
         "layout": {
          "annotationdefaults": {
           "arrowcolor": "#2a3f5f",
           "arrowhead": 0,
           "arrowwidth": 1
          },
          "autotypenumbers": "strict",
          "coloraxis": {
           "colorbar": {
            "outlinewidth": 0,
            "ticks": ""
           }
          },
          "colorscale": {
           "diverging": [
            [
             0,
             "#8e0152"
            ],
            [
             0.1,
             "#c51b7d"
            ],
            [
             0.2,
             "#de77ae"
            ],
            [
             0.3,
             "#f1b6da"
            ],
            [
             0.4,
             "#fde0ef"
            ],
            [
             0.5,
             "#f7f7f7"
            ],
            [
             0.6,
             "#e6f5d0"
            ],
            [
             0.7,
             "#b8e186"
            ],
            [
             0.8,
             "#7fbc41"
            ],
            [
             0.9,
             "#4d9221"
            ],
            [
             1,
             "#276419"
            ]
           ],
           "sequential": [
            [
             0,
             "#0d0887"
            ],
            [
             0.1111111111111111,
             "#46039f"
            ],
            [
             0.2222222222222222,
             "#7201a8"
            ],
            [
             0.3333333333333333,
             "#9c179e"
            ],
            [
             0.4444444444444444,
             "#bd3786"
            ],
            [
             0.5555555555555556,
             "#d8576b"
            ],
            [
             0.6666666666666666,
             "#ed7953"
            ],
            [
             0.7777777777777778,
             "#fb9f3a"
            ],
            [
             0.8888888888888888,
             "#fdca26"
            ],
            [
             1,
             "#f0f921"
            ]
           ],
           "sequentialminus": [
            [
             0,
             "#0d0887"
            ],
            [
             0.1111111111111111,
             "#46039f"
            ],
            [
             0.2222222222222222,
             "#7201a8"
            ],
            [
             0.3333333333333333,
             "#9c179e"
            ],
            [
             0.4444444444444444,
             "#bd3786"
            ],
            [
             0.5555555555555556,
             "#d8576b"
            ],
            [
             0.6666666666666666,
             "#ed7953"
            ],
            [
             0.7777777777777778,
             "#fb9f3a"
            ],
            [
             0.8888888888888888,
             "#fdca26"
            ],
            [
             1,
             "#f0f921"
            ]
           ]
          },
          "colorway": [
           "#636efa",
           "#EF553B",
           "#00cc96",
           "#ab63fa",
           "#FFA15A",
           "#19d3f3",
           "#FF6692",
           "#B6E880",
           "#FF97FF",
           "#FECB52"
          ],
          "font": {
           "color": "#2a3f5f"
          },
          "geo": {
           "bgcolor": "white",
           "lakecolor": "white",
           "landcolor": "#E5ECF6",
           "showlakes": true,
           "showland": true,
           "subunitcolor": "white"
          },
          "hoverlabel": {
           "align": "left"
          },
          "hovermode": "closest",
          "mapbox": {
           "style": "light"
          },
          "paper_bgcolor": "white",
          "plot_bgcolor": "#E5ECF6",
          "polar": {
           "angularaxis": {
            "gridcolor": "white",
            "linecolor": "white",
            "ticks": ""
           },
           "bgcolor": "#E5ECF6",
           "radialaxis": {
            "gridcolor": "white",
            "linecolor": "white",
            "ticks": ""
           }
          },
          "scene": {
           "xaxis": {
            "backgroundcolor": "#E5ECF6",
            "gridcolor": "white",
            "gridwidth": 2,
            "linecolor": "white",
            "showbackground": true,
            "ticks": "",
            "zerolinecolor": "white"
           },
           "yaxis": {
            "backgroundcolor": "#E5ECF6",
            "gridcolor": "white",
            "gridwidth": 2,
            "linecolor": "white",
            "showbackground": true,
            "ticks": "",
            "zerolinecolor": "white"
           },
           "zaxis": {
            "backgroundcolor": "#E5ECF6",
            "gridcolor": "white",
            "gridwidth": 2,
            "linecolor": "white",
            "showbackground": true,
            "ticks": "",
            "zerolinecolor": "white"
           }
          },
          "shapedefaults": {
           "line": {
            "color": "#2a3f5f"
           }
          },
          "ternary": {
           "aaxis": {
            "gridcolor": "white",
            "linecolor": "white",
            "ticks": ""
           },
           "baxis": {
            "gridcolor": "white",
            "linecolor": "white",
            "ticks": ""
           },
           "bgcolor": "#E5ECF6",
           "caxis": {
            "gridcolor": "white",
            "linecolor": "white",
            "ticks": ""
           }
          },
          "title": {
           "x": 0.05
          },
          "xaxis": {
           "automargin": true,
           "gridcolor": "white",
           "linecolor": "white",
           "ticks": "",
           "title": {
            "standoff": 15
           },
           "zerolinecolor": "white",
           "zerolinewidth": 2
          },
          "yaxis": {
           "automargin": true,
           "gridcolor": "white",
           "linecolor": "white",
           "ticks": "",
           "title": {
            "standoff": 15
           },
           "zerolinecolor": "white",
           "zerolinewidth": 2
          }
         }
        },
        "title": {
         "text": "TSL vs RMSE, Lognormal mu: 6 | sigma: 0.6 | m = 1000<br><sup>higher RMSE means parametric performs better</sup>"
        },
        "xaxis": {
         "anchor": "y",
         "domain": [
          0,
          1
         ],
         "title": {
          "text": "Target Service Level"
         }
        },
        "yaxis": {
         "anchor": "x",
         "domain": [
          0,
          1
         ],
         "title": {
          "text": "RMSE Ratio"
         }
        }
       }
      }
     },
     "metadata": {},
     "output_type": "display_data"
    },
    {
     "data": {
      "application/vnd.plotly.v1+json": {
       "config": {
        "plotlyServerURL": "https://plot.ly"
       },
       "data": [
        {
         "hovertemplate": "Target Service Level=%{x}<br>EPLR=%{y}<br>Sample Size=%{marker.color}<extra></extra>",
         "legendgroup": "",
         "marker": {
          "color": [
           10,
           50,
           100,
           200,
           10,
           50,
           100,
           200,
           10,
           50,
           100,
           200,
           10,
           50,
           100,
           200,
           10,
           50,
           100,
           200,
           10,
           50,
           100,
           200,
           10,
           50,
           100,
           200,
           10,
           50,
           100,
           200,
           10,
           50,
           100,
           200
          ],
          "coloraxis": "coloraxis",
          "symbol": "circle"
         },
         "mode": "markers",
         "name": "",
         "orientation": "v",
         "showlegend": false,
         "type": "scatter",
         "x": [
          0.01,
          0.01,
          0.01,
          0.01,
          0.05,
          0.05,
          0.05,
          0.05,
          0.1,
          0.1,
          0.1,
          0.1,
          0.3,
          0.3,
          0.3,
          0.3,
          0.5,
          0.5,
          0.5,
          0.5,
          0.7,
          0.7,
          0.7,
          0.7,
          0.9,
          0.9,
          0.9,
          0.9,
          0.95,
          0.95,
          0.95,
          0.95,
          0.99,
          0.99,
          0.99,
          0.99
         ],
         "xaxis": "x",
         "y": [
          5.306869090315811,
          4.8563018796397595,
          5.252254643322517,
          4.388734774523422,
          2.0394420993860765,
          2.0295324196174396,
          1.8859662610574996,
          1.8871259334208008,
          1.75479737491788,
          1.6856523510173305,
          1.6237268133837561,
          1.5906971503928815,
          1.4136149928210915,
          1.4154589841128784,
          1.4825340750629123,
          1.5245652625072486,
          1.3771113013293867,
          1.672083595596318,
          1.5180439011821223,
          1.5363780867078456,
          1.3044420393184246,
          1.4701954608298338,
          1.506718021045784,
          1.501116779459204,
          1.3640982075294719,
          1.5235624664975889,
          1.5817322603150148,
          1.5042928060074674,
          1.4662892593711785,
          1.7124784895680958,
          1.9182884467241479,
          1.9387186121756126,
          3.2038280402801727,
          3.2720879599042667,
          3.8917247998729803,
          4.157580945176752
         ],
         "yaxis": "y"
        }
       ],
       "layout": {
        "coloraxis": {
         "colorbar": {
          "title": {
           "text": "Sample Size"
          }
         },
         "colorscale": [
          [
           0,
           "#0d0887"
          ],
          [
           0.1111111111111111,
           "#46039f"
          ],
          [
           0.2222222222222222,
           "#7201a8"
          ],
          [
           0.3333333333333333,
           "#9c179e"
          ],
          [
           0.4444444444444444,
           "#bd3786"
          ],
          [
           0.5555555555555556,
           "#d8576b"
          ],
          [
           0.6666666666666666,
           "#ed7953"
          ],
          [
           0.7777777777777778,
           "#fb9f3a"
          ],
          [
           0.8888888888888888,
           "#fdca26"
          ],
          [
           1,
           "#f0f921"
          ]
         ]
        },
        "font": {
         "size": 15
        },
        "legend": {
         "tracegroupgap": 0
        },
        "template": {
         "data": {
          "bar": [
           {
            "error_x": {
             "color": "#2a3f5f"
            },
            "error_y": {
             "color": "#2a3f5f"
            },
            "marker": {
             "line": {
              "color": "#E5ECF6",
              "width": 0.5
             },
             "pattern": {
              "fillmode": "overlay",
              "size": 10,
              "solidity": 0.2
             }
            },
            "type": "bar"
           }
          ],
          "barpolar": [
           {
            "marker": {
             "line": {
              "color": "#E5ECF6",
              "width": 0.5
             },
             "pattern": {
              "fillmode": "overlay",
              "size": 10,
              "solidity": 0.2
             }
            },
            "type": "barpolar"
           }
          ],
          "carpet": [
           {
            "aaxis": {
             "endlinecolor": "#2a3f5f",
             "gridcolor": "white",
             "linecolor": "white",
             "minorgridcolor": "white",
             "startlinecolor": "#2a3f5f"
            },
            "baxis": {
             "endlinecolor": "#2a3f5f",
             "gridcolor": "white",
             "linecolor": "white",
             "minorgridcolor": "white",
             "startlinecolor": "#2a3f5f"
            },
            "type": "carpet"
           }
          ],
          "choropleth": [
           {
            "colorbar": {
             "outlinewidth": 0,
             "ticks": ""
            },
            "type": "choropleth"
           }
          ],
          "contour": [
           {
            "colorbar": {
             "outlinewidth": 0,
             "ticks": ""
            },
            "colorscale": [
             [
              0,
              "#0d0887"
             ],
             [
              0.1111111111111111,
              "#46039f"
             ],
             [
              0.2222222222222222,
              "#7201a8"
             ],
             [
              0.3333333333333333,
              "#9c179e"
             ],
             [
              0.4444444444444444,
              "#bd3786"
             ],
             [
              0.5555555555555556,
              "#d8576b"
             ],
             [
              0.6666666666666666,
              "#ed7953"
             ],
             [
              0.7777777777777778,
              "#fb9f3a"
             ],
             [
              0.8888888888888888,
              "#fdca26"
             ],
             [
              1,
              "#f0f921"
             ]
            ],
            "type": "contour"
           }
          ],
          "contourcarpet": [
           {
            "colorbar": {
             "outlinewidth": 0,
             "ticks": ""
            },
            "type": "contourcarpet"
           }
          ],
          "heatmap": [
           {
            "colorbar": {
             "outlinewidth": 0,
             "ticks": ""
            },
            "colorscale": [
             [
              0,
              "#0d0887"
             ],
             [
              0.1111111111111111,
              "#46039f"
             ],
             [
              0.2222222222222222,
              "#7201a8"
             ],
             [
              0.3333333333333333,
              "#9c179e"
             ],
             [
              0.4444444444444444,
              "#bd3786"
             ],
             [
              0.5555555555555556,
              "#d8576b"
             ],
             [
              0.6666666666666666,
              "#ed7953"
             ],
             [
              0.7777777777777778,
              "#fb9f3a"
             ],
             [
              0.8888888888888888,
              "#fdca26"
             ],
             [
              1,
              "#f0f921"
             ]
            ],
            "type": "heatmap"
           }
          ],
          "heatmapgl": [
           {
            "colorbar": {
             "outlinewidth": 0,
             "ticks": ""
            },
            "colorscale": [
             [
              0,
              "#0d0887"
             ],
             [
              0.1111111111111111,
              "#46039f"
             ],
             [
              0.2222222222222222,
              "#7201a8"
             ],
             [
              0.3333333333333333,
              "#9c179e"
             ],
             [
              0.4444444444444444,
              "#bd3786"
             ],
             [
              0.5555555555555556,
              "#d8576b"
             ],
             [
              0.6666666666666666,
              "#ed7953"
             ],
             [
              0.7777777777777778,
              "#fb9f3a"
             ],
             [
              0.8888888888888888,
              "#fdca26"
             ],
             [
              1,
              "#f0f921"
             ]
            ],
            "type": "heatmapgl"
           }
          ],
          "histogram": [
           {
            "marker": {
             "pattern": {
              "fillmode": "overlay",
              "size": 10,
              "solidity": 0.2
             }
            },
            "type": "histogram"
           }
          ],
          "histogram2d": [
           {
            "colorbar": {
             "outlinewidth": 0,
             "ticks": ""
            },
            "colorscale": [
             [
              0,
              "#0d0887"
             ],
             [
              0.1111111111111111,
              "#46039f"
             ],
             [
              0.2222222222222222,
              "#7201a8"
             ],
             [
              0.3333333333333333,
              "#9c179e"
             ],
             [
              0.4444444444444444,
              "#bd3786"
             ],
             [
              0.5555555555555556,
              "#d8576b"
             ],
             [
              0.6666666666666666,
              "#ed7953"
             ],
             [
              0.7777777777777778,
              "#fb9f3a"
             ],
             [
              0.8888888888888888,
              "#fdca26"
             ],
             [
              1,
              "#f0f921"
             ]
            ],
            "type": "histogram2d"
           }
          ],
          "histogram2dcontour": [
           {
            "colorbar": {
             "outlinewidth": 0,
             "ticks": ""
            },
            "colorscale": [
             [
              0,
              "#0d0887"
             ],
             [
              0.1111111111111111,
              "#46039f"
             ],
             [
              0.2222222222222222,
              "#7201a8"
             ],
             [
              0.3333333333333333,
              "#9c179e"
             ],
             [
              0.4444444444444444,
              "#bd3786"
             ],
             [
              0.5555555555555556,
              "#d8576b"
             ],
             [
              0.6666666666666666,
              "#ed7953"
             ],
             [
              0.7777777777777778,
              "#fb9f3a"
             ],
             [
              0.8888888888888888,
              "#fdca26"
             ],
             [
              1,
              "#f0f921"
             ]
            ],
            "type": "histogram2dcontour"
           }
          ],
          "mesh3d": [
           {
            "colorbar": {
             "outlinewidth": 0,
             "ticks": ""
            },
            "type": "mesh3d"
           }
          ],
          "parcoords": [
           {
            "line": {
             "colorbar": {
              "outlinewidth": 0,
              "ticks": ""
             }
            },
            "type": "parcoords"
           }
          ],
          "pie": [
           {
            "automargin": true,
            "type": "pie"
           }
          ],
          "scatter": [
           {
            "fillpattern": {
             "fillmode": "overlay",
             "size": 10,
             "solidity": 0.2
            },
            "type": "scatter"
           }
          ],
          "scatter3d": [
           {
            "line": {
             "colorbar": {
              "outlinewidth": 0,
              "ticks": ""
             }
            },
            "marker": {
             "colorbar": {
              "outlinewidth": 0,
              "ticks": ""
             }
            },
            "type": "scatter3d"
           }
          ],
          "scattercarpet": [
           {
            "marker": {
             "colorbar": {
              "outlinewidth": 0,
              "ticks": ""
             }
            },
            "type": "scattercarpet"
           }
          ],
          "scattergeo": [
           {
            "marker": {
             "colorbar": {
              "outlinewidth": 0,
              "ticks": ""
             }
            },
            "type": "scattergeo"
           }
          ],
          "scattergl": [
           {
            "marker": {
             "colorbar": {
              "outlinewidth": 0,
              "ticks": ""
             }
            },
            "type": "scattergl"
           }
          ],
          "scattermapbox": [
           {
            "marker": {
             "colorbar": {
              "outlinewidth": 0,
              "ticks": ""
             }
            },
            "type": "scattermapbox"
           }
          ],
          "scatterpolar": [
           {
            "marker": {
             "colorbar": {
              "outlinewidth": 0,
              "ticks": ""
             }
            },
            "type": "scatterpolar"
           }
          ],
          "scatterpolargl": [
           {
            "marker": {
             "colorbar": {
              "outlinewidth": 0,
              "ticks": ""
             }
            },
            "type": "scatterpolargl"
           }
          ],
          "scatterternary": [
           {
            "marker": {
             "colorbar": {
              "outlinewidth": 0,
              "ticks": ""
             }
            },
            "type": "scatterternary"
           }
          ],
          "surface": [
           {
            "colorbar": {
             "outlinewidth": 0,
             "ticks": ""
            },
            "colorscale": [
             [
              0,
              "#0d0887"
             ],
             [
              0.1111111111111111,
              "#46039f"
             ],
             [
              0.2222222222222222,
              "#7201a8"
             ],
             [
              0.3333333333333333,
              "#9c179e"
             ],
             [
              0.4444444444444444,
              "#bd3786"
             ],
             [
              0.5555555555555556,
              "#d8576b"
             ],
             [
              0.6666666666666666,
              "#ed7953"
             ],
             [
              0.7777777777777778,
              "#fb9f3a"
             ],
             [
              0.8888888888888888,
              "#fdca26"
             ],
             [
              1,
              "#f0f921"
             ]
            ],
            "type": "surface"
           }
          ],
          "table": [
           {
            "cells": {
             "fill": {
              "color": "#EBF0F8"
             },
             "line": {
              "color": "white"
             }
            },
            "header": {
             "fill": {
              "color": "#C8D4E3"
             },
             "line": {
              "color": "white"
             }
            },
            "type": "table"
           }
          ]
         },
         "layout": {
          "annotationdefaults": {
           "arrowcolor": "#2a3f5f",
           "arrowhead": 0,
           "arrowwidth": 1
          },
          "autotypenumbers": "strict",
          "coloraxis": {
           "colorbar": {
            "outlinewidth": 0,
            "ticks": ""
           }
          },
          "colorscale": {
           "diverging": [
            [
             0,
             "#8e0152"
            ],
            [
             0.1,
             "#c51b7d"
            ],
            [
             0.2,
             "#de77ae"
            ],
            [
             0.3,
             "#f1b6da"
            ],
            [
             0.4,
             "#fde0ef"
            ],
            [
             0.5,
             "#f7f7f7"
            ],
            [
             0.6,
             "#e6f5d0"
            ],
            [
             0.7,
             "#b8e186"
            ],
            [
             0.8,
             "#7fbc41"
            ],
            [
             0.9,
             "#4d9221"
            ],
            [
             1,
             "#276419"
            ]
           ],
           "sequential": [
            [
             0,
             "#0d0887"
            ],
            [
             0.1111111111111111,
             "#46039f"
            ],
            [
             0.2222222222222222,
             "#7201a8"
            ],
            [
             0.3333333333333333,
             "#9c179e"
            ],
            [
             0.4444444444444444,
             "#bd3786"
            ],
            [
             0.5555555555555556,
             "#d8576b"
            ],
            [
             0.6666666666666666,
             "#ed7953"
            ],
            [
             0.7777777777777778,
             "#fb9f3a"
            ],
            [
             0.8888888888888888,
             "#fdca26"
            ],
            [
             1,
             "#f0f921"
            ]
           ],
           "sequentialminus": [
            [
             0,
             "#0d0887"
            ],
            [
             0.1111111111111111,
             "#46039f"
            ],
            [
             0.2222222222222222,
             "#7201a8"
            ],
            [
             0.3333333333333333,
             "#9c179e"
            ],
            [
             0.4444444444444444,
             "#bd3786"
            ],
            [
             0.5555555555555556,
             "#d8576b"
            ],
            [
             0.6666666666666666,
             "#ed7953"
            ],
            [
             0.7777777777777778,
             "#fb9f3a"
            ],
            [
             0.8888888888888888,
             "#fdca26"
            ],
            [
             1,
             "#f0f921"
            ]
           ]
          },
          "colorway": [
           "#636efa",
           "#EF553B",
           "#00cc96",
           "#ab63fa",
           "#FFA15A",
           "#19d3f3",
           "#FF6692",
           "#B6E880",
           "#FF97FF",
           "#FECB52"
          ],
          "font": {
           "color": "#2a3f5f"
          },
          "geo": {
           "bgcolor": "white",
           "lakecolor": "white",
           "landcolor": "#E5ECF6",
           "showlakes": true,
           "showland": true,
           "subunitcolor": "white"
          },
          "hoverlabel": {
           "align": "left"
          },
          "hovermode": "closest",
          "mapbox": {
           "style": "light"
          },
          "paper_bgcolor": "white",
          "plot_bgcolor": "#E5ECF6",
          "polar": {
           "angularaxis": {
            "gridcolor": "white",
            "linecolor": "white",
            "ticks": ""
           },
           "bgcolor": "#E5ECF6",
           "radialaxis": {
            "gridcolor": "white",
            "linecolor": "white",
            "ticks": ""
           }
          },
          "scene": {
           "xaxis": {
            "backgroundcolor": "#E5ECF6",
            "gridcolor": "white",
            "gridwidth": 2,
            "linecolor": "white",
            "showbackground": true,
            "ticks": "",
            "zerolinecolor": "white"
           },
           "yaxis": {
            "backgroundcolor": "#E5ECF6",
            "gridcolor": "white",
            "gridwidth": 2,
            "linecolor": "white",
            "showbackground": true,
            "ticks": "",
            "zerolinecolor": "white"
           },
           "zaxis": {
            "backgroundcolor": "#E5ECF6",
            "gridcolor": "white",
            "gridwidth": 2,
            "linecolor": "white",
            "showbackground": true,
            "ticks": "",
            "zerolinecolor": "white"
           }
          },
          "shapedefaults": {
           "line": {
            "color": "#2a3f5f"
           }
          },
          "ternary": {
           "aaxis": {
            "gridcolor": "white",
            "linecolor": "white",
            "ticks": ""
           },
           "baxis": {
            "gridcolor": "white",
            "linecolor": "white",
            "ticks": ""
           },
           "bgcolor": "#E5ECF6",
           "caxis": {
            "gridcolor": "white",
            "linecolor": "white",
            "ticks": ""
           }
          },
          "title": {
           "x": 0.05
          },
          "xaxis": {
           "automargin": true,
           "gridcolor": "white",
           "linecolor": "white",
           "ticks": "",
           "title": {
            "standoff": 15
           },
           "zerolinecolor": "white",
           "zerolinewidth": 2
          },
          "yaxis": {
           "automargin": true,
           "gridcolor": "white",
           "linecolor": "white",
           "ticks": "",
           "title": {
            "standoff": 15
           },
           "zerolinecolor": "white",
           "zerolinewidth": 2
          }
         }
        },
        "title": {
         "text": "TSL vs EPLR, mu: 6 | sigma: 0.6 | m = 1000<br><sup>higher EPLR means parametric performs better</sup>"
        },
        "xaxis": {
         "anchor": "y",
         "domain": [
          0,
          1
         ],
         "title": {
          "text": "Target Service Level"
         }
        },
        "yaxis": {
         "anchor": "x",
         "domain": [
          0,
          1
         ],
         "title": {
          "text": "EPLR"
         }
        }
       }
      }
     },
     "metadata": {},
     "output_type": "display_data"
    }
   ],
   "source": [
    "fig = px.scatter(df, x='Target Service Level', y='RMSE Ratio', color=\"Sample Size\", title=\"TSL vs RMSE, Lognormal mu: {0} | sigma: {1} | m = {2}<br><sup>higher RMSE means parametric performs better</sup>\".format(mu, sigma, numberOfMontecarloIterations))\n",
    "fig.update_layout(font_size = 15)\n",
    "#fig.write_image(\"Excercise part 3/RMSE-lognorm-{0}-{1}.pdf\".format(mu, sigma))\n",
    "fig.show()\n",
    "\n",
    "fig = px.scatter(df, x='Target Service Level', y='EPLR', color=\"Sample Size\", title=\"TSL vs EPLR, mu: {0} | sigma: {1} | m = {2}<br><sup>higher EPLR means parametric performs better</sup>\".format(mu, sigma, numberOfMontecarloIterations))\n",
    "fig.update_layout(font_size = 15)\n",
    "#fig.write_image(\"Excercise part 3/EPLR-lognorm-{0}-{1}.pdf\".format(mu, sigma))\n",
    "fig.show()"
   ]
  }
 ],
 "metadata": {
  "kernelspec": {
   "display_name": "Python 3",
   "language": "python",
   "name": "python3"
  },
  "language_info": {
   "codemirror_mode": {
    "name": "ipython",
    "version": 3
   },
   "file_extension": ".py",
   "mimetype": "text/x-python",
   "name": "python",
   "nbconvert_exporter": "python",
   "pygments_lexer": "ipython3",
   "version": "3.11.4"
  },
  "orig_nbformat": 4
 },
 "nbformat": 4,
 "nbformat_minor": 2
}
