{
 "cells": [
  {
   "cell_type": "code",
   "execution_count": 3,
   "metadata": {},
   "outputs": [
    {
     "name": "stdout",
     "output_type": "stream",
     "text": [
      "            main street A predicted\n",
      "2022-03-02          15.10      None\n",
      "2022-03-03          21.19      None\n",
      "2022-03-04          52.61      None\n",
      "2022-03-05         144.23      None\n",
      "2022-03-06          15.38      None\n",
      "2023-06-01            NaN      None\n",
      "2023-06-02            NaN      None\n",
      "2023-06-03            NaN      None\n",
      "2023-06-04            NaN      None\n",
      "2023-06-05            NaN      None\n"
     ]
    }
   ],
   "source": [
    "import pandas as pd\n",
    "\n",
    "# Existing dataframe\n",
    "data = {\n",
    "    'main street A': [15.10, 21.19, 52.61, 144.23, 15.38],\n",
    "    'predicted': [None, None, None, None, None]\n",
    "}\n",
    "\n",
    "index = pd.date_range('2022-03-02', '2022-03-06', freq='D')\n",
    "\n",
    "df = pd.DataFrame(data, index=index)\n",
    "\n",
    "\n",
    "\n",
    "\n",
    "# Number of empty rows to add\n",
    "num_rows_to_add = 5\n",
    "\n",
    "# Create empty dataframe with the same columns\n",
    "empty_data = {\n",
    "    'main street A': [None] * num_rows_to_add,\n",
    "    'predicted': [None] * num_rows_to_add\n",
    "}\n",
    "\n",
    "empty_df = pd.DataFrame(empty_data)\n",
    "new_index = pd.date_range('2023-06-01', periods=num_rows_to_add, freq='D')\n",
    "empty_df.index = new_index\n",
    "df = pd.concat([df, empty_df])\n",
    "\n",
    "print(df)"
   ]
  }
 ],
 "metadata": {
  "kernelspec": {
   "display_name": "Python 3",
   "language": "python",
   "name": "python3"
  },
  "language_info": {
   "codemirror_mode": {
    "name": "ipython",
    "version": 3
   },
   "file_extension": ".py",
   "mimetype": "text/x-python",
   "name": "python",
   "nbconvert_exporter": "python",
   "pygments_lexer": "ipython3",
   "version": "3.11.4"
  },
  "orig_nbformat": 4
 },
 "nbformat": 4,
 "nbformat_minor": 2
}
