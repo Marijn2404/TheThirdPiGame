{
 "cells": [
  {
   "cell_type": "code",
   "execution_count": 14,
   "metadata": {},
   "outputs": [
    {
     "name": "stdout",
     "output_type": "stream",
     "text": [
      "The PLR-ratio is:  0.998305296085282\n"
     ]
    }
   ],
   "source": [
    "import numpy as np\n",
    "import scipy.stats as sts\n",
    "import scipy.integrate as ing\n",
    "\n",
    "def calculateExactQ(tau):\n",
    "    exactQ = sts.norm.ppf(tau,loc=120,scale=15)\n",
    "    return exactQ\n",
    "\n",
    "def int_normal(y):\n",
    "    f = sts.norm.pdf(y,loc=120,scale=15)\n",
    "    return y * f\n",
    "\n",
    "def calculateIntegrale(Q,c,p):\n",
    "    t1 = p * ing.quad(int_normal,0,Q)[0]   \n",
    "    t2 = p * Q * sts.norm.sf(Q,loc = 120,scale = 15)\n",
    "    t3 = c * Q\n",
    "    return t1 + t2 - t3\n",
    "\n",
    "def muhatAndSigma2hat(vY):\n",
    "    muhat = np.mean(vY)\n",
    "    sigma2hat = np.var(vY)\n",
    "    return muhat, sigma2hat\n",
    "\n",
    "def parameterEstimatedQ(tau,muhat,sigmahat):\n",
    "    estimatedQ = sts.norm.ppf(tau,loc=muhat,scale=sigmahat)\n",
    "    return estimatedQ\n",
    "\n",
    "def nonParameterEstimatedQ(tau,vY):\n",
    "    n = len(vY)\n",
    "    number = (int(np.ceil(tau * n))) - 1\n",
    "    vZ = np.sort(vY)\n",
    "    nonEstQ = vZ[number]\n",
    "    return nonEstQ\n",
    "\n",
    "def calcProfitNormal(Q,Y,c,p):\n",
    "    profit = p * min(Q,Y) - c * Q\n",
    "    return profit\n",
    "\n",
    "def calcProfitPNP(Q,c,p,vY):\n",
    "    sumProfit = 0\n",
    "    for i in range(len(vY)):\n",
    "        sumProfit += calcProfitNormal(Q,vY[i],c,p)\n",
    "    expectedProfit = sumProfit / len(vY)\n",
    "    return expectedProfit\n",
    "\n",
    "M = 1000\n",
    "n = 200\n",
    "tau = 0.5\n",
    "c = 1 - tau\n",
    "p = 1\n",
    "\n",
    "Qstar = calculateExactQ(tau)\n",
    "maxExpectedProfit = calculateIntegrale(Qstar,c,p)\n",
    "\n",
    "parM = np.zeros(M)\n",
    "nonParM = np.zeros(M)\n",
    "\n",
    "sumParPLR  = 0\n",
    "sumNonParPLR = 0\n",
    "\n",
    "for i in range(M):\n",
    "    vY = sts.norm.rvs(loc = 120,scale = 15,size = n)\n",
    "    muhat, sigma2hat = muhatAndSigma2hat(vY)\n",
    "    sigmahat = np.sqrt(sigma2hat)\n",
    "    parEstQ = parameterEstimatedQ(tau, muhat, sigmahat)\n",
    "    nonParEstQ = nonParameterEstimatedQ(tau, vY)\n",
    "    parExpProfit = calcProfitPNP(parEstQ,c,p,vY)\n",
    "    nonParExpProfit = calcProfitPNP(nonParEstQ,c,p,vY)\n",
    "    sumParPLR += np.abs((maxExpectedProfit - parExpProfit) / (maxExpectedProfit))\n",
    "    sumNonParPLR += np.abs((maxExpectedProfit - nonParExpProfit) / (maxExpectedProfit))\n",
    "parPLR = np.sqrt( (1 / M) * sumParPLR)\n",
    "nonParPLR = np.sqrt( (1 / M) * sumNonParPLR)\n",
    "ratioPLR = nonParPLR / parPLR\n",
    "print('The PLR-ratio is: ', ratioPLR)\n",
    "\n"
   ]
  }
 ],
 "metadata": {
  "kernelspec": {
   "display_name": "Python 3",
   "language": "python",
   "name": "python3"
  },
  "language_info": {
   "codemirror_mode": {
    "name": "ipython",
    "version": 3
   },
   "file_extension": ".py",
   "mimetype": "text/x-python",
   "name": "python",
   "nbconvert_exporter": "python",
   "pygments_lexer": "ipython3",
   "version": "3.11.4"
  },
  "orig_nbformat": 4
 },
 "nbformat": 4,
 "nbformat_minor": 2
}
