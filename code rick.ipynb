{
 "cells": [
  {
   "cell_type": "code",
   "execution_count": 14,
   "metadata": {},
   "outputs": [
    {
     "name": "stdout",
     "output_type": "stream",
     "text": [
      "The PLR-ratio is:  0.998305296085282\n"
     ]
    }
   ],
   "source": [
    "import numpy as np\n",
    "import scipy.stats as sts\n",
    "import scipy.integrate as ing\n",
    "\n",
    "def calculateExactQ(tau):\n",
    "    exactQ = sts.norm.ppf(tau,loc=120,scale=15)\n",
    "    return exactQ\n",
    "\n",
    "def int_normal(y):\n",
    "    f = sts.norm.pdf(y,loc=120,scale=15)\n",
    "    return y * f\n",
    "\n",
    "def calculateIntegrale(Q,c,p):\n",
    "    t1 = p * ing.quad(int_normal,0,Q)[0]   \n",
    "    t2 = p * Q * sts.norm.sf(Q,loc = 120,scale = 15)\n",
    "    t3 = c * Q\n",
    "    return t1 + t2 - t3\n",
    "\n",
    "def muhatAndSigma2hat(vY):\n",
    "    muhat = np.mean(vY)\n",
    "    sigma2hat = np.var(vY)\n",
    "    return muhat, sigma2hat\n",
    "\n",
    "def parameterEstimatedQ(tau,muhat,sigmahat):\n",
    "    estimatedQ = sts.norm.ppf(tau,loc=muhat,scale=sigmahat)\n",
    "    return estimatedQ\n",
    "\n",
    "def nonParameterEstimatedQ(tau,vY):\n",
    "    n = len(vY)\n",
    "    number = (int(np.ceil(tau * n))) - 1\n",
    "    vZ = np.sort(vY)\n",
    "    nonEstQ = vZ[number]\n",
    "    return nonEstQ\n",
    "\n",
    "def calcProfitNormal(Q,Y,c,p):\n",
    "    profit = p * min(Q,Y) - c * Q\n",
    "    return profit\n",
    "\n",
    "def calcProfitPNP(Q,c,p,vY):\n",
    "    sumProfit = 0\n",
    "    for i in range(len(vY)):\n",
    "        sumProfit += calcProfitNormal(Q,vY[i],c,p)\n",
    "    expectedProfit = sumProfit / len(vY)\n",
    "    return expectedProfit\n",
    "\n",
    "M = 1000\n",
    "n = 200\n",
    "tau = 0.5\n",
    "c = 1 - tau\n",
    "p = 1\n",
    "\n",
    "Qstar = calculateExactQ(tau)\n",
    "maxExpectedProfit = calculateIntegrale(Qstar,c,p)\n",
    "\n",
    "parM = np.zeros(M)\n",
    "nonParM = np.zeros(M)\n",
    "\n",
    "sumParPLR  = 0\n",
    "sumNonParPLR = 0\n",
    "\n",
    "for i in range(M):\n",
    "    vY = sts.norm.rvs(loc = 120,scale = 15,size = n)\n",
    "    muhat, sigma2hat = muhatAndSigma2hat(vY)\n",
    "    sigmahat = np.sqrt(sigma2hat)\n",
    "    parEstQ = parameterEstimatedQ(tau, muhat, sigmahat)\n",
    "    nonParEstQ = nonParameterEstimatedQ(tau, vY)\n",
    "    parExpProfit = calcProfitPNP(parEstQ,c,p,vY)\n",
    "    nonParExpProfit = calcProfitPNP(nonParEstQ,c,p,vY)\n",
    "    sumParPLR += np.abs((maxExpectedProfit - parExpProfit) / (maxExpectedProfit))\n",
    "    sumNonParPLR += np.abs((maxExpectedProfit - nonParExpProfit) / (maxExpectedProfit))\n",
    "parPLR = np.sqrt( (1 / M) * sumParPLR)\n",
    "nonParPLR = np.sqrt( (1 / M) * sumNonParPLR)\n",
    "ratioPLR = nonParPLR / parPLR\n",
    "print('The PLR-ratio is: ', ratioPLR)\n",
    "\n"
   ]
  },
  {
   "cell_type": "code",
   "execution_count": 8,
   "metadata": {},
   "outputs": [
    {
     "name": "stdout",
     "output_type": "stream",
     "text": [
      "5       12.19\n",
      "12       3.11\n",
      "19       7.75\n",
      "26       4.82\n",
      "33       5.51\n",
      "        ...  \n",
      "2546    72.22\n",
      "2553    45.59\n",
      "2560    55.54\n",
      "2567    39.70\n",
      "2574    64.11\n",
      "Name: main street A, Length: 315, dtype: float64\n"
     ]
    }
   ],
   "source": [
    "from datetime import datetime\n",
    "import pandas as pd\n",
    "\n",
    "\n",
    "df = pd.read_excel(\"BakeryData_Vilnius.xlsx\")\n",
    "df[\"date\"] = pd.to_datetime(df[\"date\"])\n",
    "\n",
    "begin = datetime(day = 31,month = 12,year = 2016)\n",
    "pre_covid = datetime(day = 1,month = 3,year = 2021)\n",
    "after_covid = datetime(day = 1,month = 3,year = 2022)\n",
    "df = df[((df[\"date\"] < pre_covid) | (df[\"date\"] > after_covid))]\n",
    "df[\"weekday_text\"] = df['date'].dt.strftime('%A')\n",
    "mainstreeta_weekday_row = df[df[\"weekday_text\"]==\"Monday\"][\"main street A\"]\n",
    "print(mainstreeta_weekday_row)"
   ]
  },
  {
   "cell_type": "code",
   "execution_count": 8,
   "metadata": {},
   "outputs": [
    {
     "data": {
      "image/png": "[encoded data removed]",
      "text/plain": [
       "<Figure size 640x480 with 1 Axes>"
      ]
     },
     "metadata": {},
     "output_type": "display_data"
    }
   ],
   "source": [
    "import pandas as pd\n",
    "import numpy as np\n",
    "import matplotlib.pyplot as plt\n",
    "import scipy.stats as sts\n",
    "import statsmodels.graphics.gofplots as sm \n",
    "\n",
    "def main():\n",
    "    df = pd.read_excel('BakeryData_Vilnius.xlsx')\n",
    "    \n",
    "    datalist = df[df[\"weekday\"]==5]\n",
    "    \n",
    "    datalist2 = np.array(datalist['main street A'])\n",
    "    datalist2Log = np.log(datalist2)\n",
    "    \n",
    "    muhat = np.mean(np.log(datalist2))\n",
    "    sigma2hat = np.var(np.log(datalist2))\n",
    "    sigmahat = np.sqrt(sigma2hat)\n",
    "\n",
    "    sm.qqplot(datalist2, sts.lognorm, distargs=(sigmahat,), loc=0, scale=np.exp(muhat), line='45')\n",
    "    plt.show()\n",
    "\n",
    "main()"
   ]
  }
 ],
 "metadata": {
  "kernelspec": {
   "display_name": "Python 3",
   "language": "python",
   "name": "python3"
  },
  "language_info": {
   "codemirror_mode": {
    "name": "ipython",
    "version": 3
   },
   "file_extension": ".py",
   "mimetype": "text/x-python",
   "name": "python",
   "nbconvert_exporter": "python",
   "pygments_lexer": "ipython3",
   "version": "3.11.4"
  },
  "orig_nbformat": 4
 },
 "nbformat": 4,
 "nbformat_minor": 2
}
